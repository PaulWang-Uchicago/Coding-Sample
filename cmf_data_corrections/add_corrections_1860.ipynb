{
 "cells": [
  {
   "cell_type": "code",
   "execution_count": 1,
   "metadata": {},
   "outputs": [],
   "source": [
    "import pandas as pd\n",
    "\n",
    "cmf = pd.read_stata(\"CMF/CMF_1860.dta\")\n",
    "\n",
    "avg_wage_female_check = pd.read_csv(\"check/1860/avg_wage_female_check_1860.csv\")\n",
    "avg_wage_female_output_check = pd.read_csv(\"check/1860/avg_wage_female&output_check_1860.csv\")\n",
    "avg_wage_male_check = pd.read_csv(\"check/1860/avg_wage_male_check_1860.csv\")\n",
    "avg_wage_male_output_check = pd.read_csv(\"check/1860/avg_wage_male&output_check_1860.csv\")\n",
    "capital_check = pd.read_csv(\"check/1860/capital_check_1860.csv\")\n",
    "capital_materials_value_check = pd.read_csv(\"check/1860/capital&materials_value_check_1860.csv\")\n",
    "capital_output_check = pd.read_csv(\"check/1860/capital&output_check_1860.csv\")\n",
    "hands_female_check = pd.read_csv(\"check/1860/hands_female_check_1860.csv\")\n",
    "hands_female_avg_wage_female_check = pd.read_csv(\"check/1860/hands_female&avg_wage_female_check_1860.csv\")\n",
    "hands_male_avg_wage_male_check = pd.read_csv(\"check/1860/hands_male&avg_wage_male_check_1860.csv\")\n",
    "hands_male_check = pd.read_csv(\"check/1860/hands_male_check_1860.csv\")\n",
    "materials_value_check = pd.read_csv(\"check/1860/materials_value_check_1860.csv\")\n",
    "materials_value_capital_check = pd.read_csv(\"check/1860/materials_value&capital_check_1860.csv\")\n",
    "materials_value_output_check = pd.read_csv(\"check/1860/materials_value&output_check_1860.csv\")\n",
    "output_check = pd.read_csv(\"check/1860/output_check_1860.csv\")\n",
    "output_capital_check = pd.read_csv(\"check/1860/output&capital_check_1860.csv\")\n",
    "output_materials_value_check = pd.read_csv(\"check/1860/output&materials_value_check_1860.csv\")"
   ]
  },
  {
   "cell_type": "code",
   "execution_count": 2,
   "metadata": {},
   "outputs": [],
   "source": [
    "# Set a multi-index on the DataFrame using 'file_name' and 'firm_number'\n",
    "cmf.set_index([\"file_name\", \"firm_number\"], inplace=True)"
   ]
  },
  {
   "cell_type": "code",
   "execution_count": 3,
   "metadata": {},
   "outputs": [],
   "source": [
    "def update_cmf(cmf, check_df, update_mapping, condition_col='transcription_error', condition_val=1):\n",
    "    \"\"\"\n",
    "    Update the target DataFrame (cmf) using the corrections in check_df.\n",
    "    \n",
    "    Parameters:\n",
    "      cmf (DataFrame): The DataFrame to update (with a multi-index of file_name and firm_number).\n",
    "      check_df (DataFrame): The DataFrame containing corrections.\n",
    "      update_mapping (dict): A dictionary mapping target column names in cmf to source column names in check_df.\n",
    "      condition_col (str): The column in check_df that must equal condition_val for the row to be processed.\n",
    "      condition_val: The value in condition_col that indicates a correction should be applied.\n",
    "    \"\"\"\n",
    "    # Filter for rows that need to be updated\n",
    "    updates = check_df[check_df[condition_col] == condition_val]\n",
    "    for _, row in updates.iterrows():\n",
    "        key = (row['file_name'], row['firm_number'])\n",
    "        for target_col, source_col in update_mapping.items():\n",
    "            value = row[source_col]\n",
    "            # Update only if the value is not NaN\n",
    "            if pd.notna(value):\n",
    "                cmf.loc[key, target_col] = value"
   ]
  },
  {
   "cell_type": "code",
   "execution_count": 4,
   "metadata": {},
   "outputs": [],
   "source": [
    "# List of base variables from filenames\n",
    "base_vars = [\n",
    "    \"avg_wage_female\", \"avg_wage_female&output\", \"avg_wage_male\", \"avg_wage_male&output\",\n",
    "    \"capital\", \"capital&materials_value\", \"capital&output\",\n",
    "    \"hands_female\", \"hands_female&avg_wage_female\", \"hands_male&avg_wage_male\", \"hands_male\",\n",
    "    \"materials_value\", \"materials_value&capital\", \"materials_value&output\",\n",
    "    \"output\", \"output&capital\", \"output&materials_value\"\n",
    "]\n",
    "\n",
    "# Loop and apply update_cmf\n",
    "for base in base_vars:\n",
    "    # Create DataFrame variable name, e.g. \"capital&output\" -> \"capital_output_check\"\n",
    "    df_var_name = base.replace(\"&\", \"_\") + \"_check\"\n",
    "    df = globals().get(df_var_name)\n",
    "    \n",
    "    if df is not None:\n",
    "        update_mapping = {col: f\"correct_{col}\" for col in base.split(\"&\")}\n",
    "        update_cmf(cmf, df, update_mapping)\n",
    "    else:\n",
    "        print(f\"Warning: {df_var_name} not found.\")"
   ]
  },
  {
   "cell_type": "code",
   "execution_count": null,
   "metadata": {},
   "outputs": [],
   "source": [
    "# save the updated DataFrame to a new Stata file\n",
    "cmf.reset_index(inplace=True)\n",
    "cmf.to_stata(\"CMF/CMF_1860_updated.dta\", write_index=False)"
   ]
  }
 ],
 "metadata": {
  "kernelspec": {
   "display_name": "base",
   "language": "python",
   "name": "python3"
  },
  "language_info": {
   "codemirror_mode": {
    "name": "ipython",
    "version": 3
   },
   "file_extension": ".py",
   "mimetype": "text/x-python",
   "name": "python",
   "nbconvert_exporter": "python",
   "pygments_lexer": "ipython3",
   "version": "3.12.2"
  }
 },
 "nbformat": 4,
 "nbformat_minor": 2
}
