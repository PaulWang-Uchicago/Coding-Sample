{
 "cells": [
  {
   "cell_type": "code",
   "execution_count": 100,
   "metadata": {},
   "outputs": [],
   "source": [
    "# Open the dataset CMF_1850.dta\n",
    "import pandas as pd\n",
    "# read .dta file\n",
    "cmf = pd.read_stata('CMF_1850.dta')\n",
    "# read .csv files\n",
    "hands_female_checking = pd.read_csv(\"hands_female_checking.csv\") #update_mapping1\n",
    "hands_male_avg_wage_male_checking = pd.read_csv(\"hands_male_avg_wage_male_checking.csv\") #update_mapping2\n",
    "capital_check = pd.read_csv(\"capital_check.csv\") #update_mapping3\n",
    "avg_wage_female_checking = pd.read_csv(\"avg_wage_female_checking.csv\") #update_mapping4\n",
    "avg_wage_female_output_checking = pd.read_csv(\"avg_wage_female_output_checking.csv\") #update_mapping5\n",
    "capital_materials_value_check = pd.read_csv(\"capital_materials_value_check.csv\") #update_mapping6\n",
    "output_capital_checking = pd.read_csv(\"output_capital_checking.csv\") #update_mapping7\n",
    "materials_value_check = pd.read_csv('materials_value_check.csv') #skip\n",
    "materials_value_output_check = pd.read_csv(\"materials_value_output_check.csv\") #skip\n",
    "output_checking = pd.read_csv(\"output_checking.csv\") #skip\n",
    "# read .xlsx files\n",
    "avg_wage_male_check_EL = pd.read_excel(\"avg_wage_male_check_EL.xlsx\") # No Transcription Error\n",
    "avg_wage_male_output_check_EL = pd.read_excel(\"avg_wage_male_output_check_EL.xlsx\") #update_mapping8"
   ]
  },
  {
   "cell_type": "code",
   "execution_count": 101,
   "metadata": {},
   "outputs": [],
   "source": [
    "# Set a multi-index on the DataFrame using 'file_name' and 'firm_number'\n",
    "cmf.set_index([\"file_name\", \"firm_number\"], inplace=True)"
   ]
  },
  {
   "cell_type": "code",
   "execution_count": 102,
   "metadata": {},
   "outputs": [],
   "source": [
    "def update_cmf(cmf, check_df, update_mapping, condition_col='transcription_error', condition_val=1):\n",
    "    \"\"\"\n",
    "    Update the target DataFrame (cmf) using the corrections in check_df.\n",
    "    \n",
    "    Parameters:\n",
    "      cmf (DataFrame): The DataFrame to update (with a multi-index of file_name and firm_number).\n",
    "      check_df (DataFrame): The DataFrame containing corrections.\n",
    "      update_mapping (dict): A dictionary mapping target column names in cmf to source column names in check_df.\n",
    "      condition_col (str): The column in check_df that must equal condition_val for the row to be processed.\n",
    "      condition_val: The value in condition_col that indicates a correction should be applied.\n",
    "    \"\"\"\n",
    "    # Filter for rows that need to be updated\n",
    "    updates = check_df[check_df[condition_col] == condition_val]\n",
    "    for _, row in updates.iterrows():\n",
    "        key = (row['file_name'], row['firm_number'])\n",
    "        for target_col, source_col in update_mapping.items():\n",
    "            value = row[source_col]\n",
    "            # Update only if the value is not NaN\n",
    "            if pd.notna(value):\n",
    "                cmf.loc[key, target_col] = value"
   ]
  },
  {
   "cell_type": "code",
   "execution_count": 103,
   "metadata": {},
   "outputs": [],
   "source": [
    "update_mapping1 = {\n",
    "    \"hands_female\": \"right_value_1\",\n",
    "    \"hands_male\": \"right_value_hands_male\",\n",
    "    \"avg_wage_male\": \"right_value_avg_wage_male\",\n",
    "    \"avg_wage_female\": \"right_value_avg_wage_female\"\n",
    "}\n",
    "\n",
    "update_cmf(cmf, hands_female_checking, update_mapping1)"
   ]
  },
  {
   "cell_type": "code",
   "execution_count": 104,
   "metadata": {},
   "outputs": [],
   "source": [
    "update_mapping2 = {\n",
    "    \"hands_male\": \"right_value_1\",\n",
    "    \"avg_wage_male\": \"right_value_2\",\n",
    "    \"avg_wage_female\": \"right_value_avg_wage_female\"\n",
    "}\n",
    "\n",
    "update_cmf(cmf, hands_male_avg_wage_male_checking, update_mapping2)"
   ]
  },
  {
   "cell_type": "code",
   "execution_count": 105,
   "metadata": {},
   "outputs": [],
   "source": [
    "update_mapping3 = {\n",
    "    \"capital\": \"right_value_1\",\n",
    "}\n",
    "update_cmf(cmf, capital_check, update_mapping3)\n"
   ]
  },
  {
   "cell_type": "code",
   "execution_count": 106,
   "metadata": {},
   "outputs": [],
   "source": [
    "update_mapping4 = {\n",
    "    \"avg_wage_female\": \"right_value_1\",\n",
    "    \"avg_wage_male\": \"right_value_male\"\n",
    "}\n",
    "\n",
    "update_cmf(cmf, avg_wage_female_checking, update_mapping4)"
   ]
  },
  {
   "cell_type": "code",
   "execution_count": 107,
   "metadata": {},
   "outputs": [],
   "source": [
    "update_mapping5 = {\n",
    "    \"avg_wage_female\": \"right_value_1\",\n",
    "    # skip the output\n",
    "    \"avg_wage_male\": \"right_value_male\"\n",
    "}\n",
    "\n",
    "update_cmf(cmf, avg_wage_female_output_checking, update_mapping5)"
   ]
  },
  {
   "cell_type": "code",
   "execution_count": 108,
   "metadata": {},
   "outputs": [],
   "source": [
    "update_mapping6 = {\n",
    "    \"capital\": \"right_value_1\"\n",
    "    # skip the materials value\n",
    "}\n",
    "\n",
    "update_cmf(cmf, capital_materials_value_check, update_mapping6)"
   ]
  },
  {
   "cell_type": "code",
   "execution_count": 109,
   "metadata": {},
   "outputs": [],
   "source": [
    "update_mapping7 = {\n",
    "    # skip the output\n",
    "    \"capital\": \"right_value_2\"\n",
    "}\n",
    "\n",
    "update_cmf(cmf, output_capital_checking, update_mapping7)"
   ]
  },
  {
   "cell_type": "code",
   "execution_count": 110,
   "metadata": {},
   "outputs": [],
   "source": [
    "update_mapping8 = {\n",
    "    \"avg_wage_male\": \"right_value_1\"\n",
    "    # skip the output\n",
    "}\n",
    "\n",
    "update_cmf(cmf, avg_wage_male_output_check_EL, update_mapping8)"
   ]
  },
  {
   "cell_type": "code",
   "execution_count": 111,
   "metadata": {},
   "outputs": [],
   "source": [
    "for col in cmf.select_dtypes(include='object').columns:\n",
    "    cmf[col] = cmf[col].astype(str)\n",
    "# Save with UTF-8 compatible version\n",
    "cmf.to_stata('CMF_1850_updated.dta', write_index=False, version=118)\n"
   ]
  }
 ],
 "metadata": {
  "kernelspec": {
   "display_name": "base",
   "language": "python",
   "name": "python3"
  },
  "language_info": {
   "codemirror_mode": {
    "name": "ipython",
    "version": 3
   },
   "file_extension": ".py",
   "mimetype": "text/x-python",
   "name": "python",
   "nbconvert_exporter": "python",
   "pygments_lexer": "ipython3",
   "version": "3.12.4"
  }
 },
 "nbformat": 4,
 "nbformat_minor": 2
}
