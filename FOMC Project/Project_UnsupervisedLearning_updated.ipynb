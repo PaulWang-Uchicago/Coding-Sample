{
 "cells": [
  {
   "cell_type": "markdown",
   "metadata": {},
   "source": [
    "# P3 Unsupervised Learning: Clustering FOMC Meeting Texts\n",
    "\n",
    "---\n",
    "\n",
    "## Overview\n",
    "In this jupyter notebook, I ingests a cleaned FOMC minutes dataset, transforms the text into numerical representations, discovers latent groups via multiple clustering methods, visualizes the resulting structures, enriches each document with sentiment and topic features, and finally evaluates how those clusters relate to the “new_orders_manufacturing” variable. Throughout, it alternates between TF–IDF, SVD, UMAP, K‐Means, HDBSCAN, and BERTopic embeddings, then assesses cluster stability, computes sentiment scores with FinBERT, and runs statistical tests to quantify performance."
   ]
  },
  {
   "cell_type": "markdown",
   "metadata": {},
   "source": [
    "### 1. Setup and Library Imports\n",
    "\n",
    "At the start we import pandas and NumPy for data handling, regular expressions and the string module for text cleaning, matplotlib and Plotly Express for visualization, scikit-learn classes for TF–IDF vectorization, dimensionality reduction, clustering, silhouette scoring, isolation forest, and local outlier factor. We also import BERTopic and SentenceTransformer for advanced topic modeling, HDBSCAN and UMAP for density‐based clustering and manifold learning, and extend scikit-learn’s English stopword list for domain‐specific text filtering. This prepares all the tools needed for the entire pipeline."
   ]
  },
  {
   "cell_type": "code",
   "execution_count": 1,
   "metadata": {},
   "outputs": [],
   "source": [
    "import pandas as pd, numpy as np, re, string, matplotlib.pyplot as plt, plotly.express as px\n",
    "from sklearn.feature_extraction.text import TfidfVectorizer\n",
    "from sklearn.decomposition import PCA, TruncatedSVD\n",
    "from sklearn.cluster import KMeans\n",
    "from sklearn.metrics import silhouette_score\n",
    "from bertopic import BERTopic\n",
    "from sentence_transformers import SentenceTransformer\n",
    "import hdbscan, umap\n",
    "from sklearn.feature_extraction.text import ENGLISH_STOP_WORDS"
   ]
  },
  {
   "cell_type": "markdown",
   "metadata": {},
   "source": [
    "### 2. Data Loading and Preprocessing"
   ]
  },
  {
   "cell_type": "code",
   "execution_count": 2,
   "metadata": {},
   "outputs": [],
   "source": [
    "df     = pd.read_csv(\"clean_data.csv\")\n",
    "# drop all empty rows in minute_text\n",
    "df     = df.dropna(subset=[\"minute_text\"])\n",
    "docs   = df[\"minute_text\"].astype(str).tolist()\n",
    "dates  = pd.to_datetime(df[\"Date\"])"
   ]
  },
  {
   "cell_type": "markdown",
   "metadata": {},
   "source": [
    "### 3. Custom Stopword Construction\n",
    "\n",
    "Next, I merge scikit-learn’s built-in English stopwords with a manually curated list of FOMC-specific terms that add noise—words such as “committee,” “meeting,” and various personal or year tokens. This composite list, stored in custom_stops, will be supplied to all my vectorizers so that I focus on the most informative phrases rather than boilerplate procedural language."
   ]
  },
  {
   "cell_type": "code",
   "execution_count": 3,
   "metadata": {},
   "outputs": [],
   "source": [
    "custom_stops = list(ENGLISH_STOP_WORDS) + [\"the\",\"of\",\"in\",\"and\",\"to\",\n",
    "    \"mr\",\"committee\",\"meeting\",\"minutes\",\"federal\",\n",
    "    \"ms\",\"fomc\",\"bank\",\"policy\",\"members\",\n",
    "    \"faster\",\"quarter\",\"previous\",\"fell\",\"august\",\n",
    "    \"balance\",\"year\",\"percent\",\"board\",\"term\", \"target\", \"range\", \"funds\", \n",
    "    \"messrs\", \"hoenig\", \"2000\", \"2001\", \"2002\", \"2003\", \"2004\", \"2005\", \"2006\",\n",
    "    \"2007\", \"2008\", \"2009\", \"2010\", \"2011\", \"2012\", \"2013\", \"2014\", \"2015\",\n",
    "    \"2016\", \"2017\", \"2018\", \"2019\", \"2020\", \"2021\", \"2022\", \"2023\",\n",
    "    \"2024\", \"2025\", \"forward\", \"guidance\", \"kohn\", \"mcdonough\", \"bernanke\",\n",
    "    \"al\", \"rrp\", \"poole\", \"minehan\", \"santomero\", \"january\", \"feburary\", \"march\",\n",
    "    \"april\", \"may\", \"june\", \"july\", \"august\", \"september\", \"october\", \"november\",\n",
    "    \"december\", \"subcommittee\", \"chairman\", \"first\", \"second\", \"third\", \"fourth\",\n",
    "    \"fifth\", \"sixth\", \"seventh\", \"eighth\", \"ninth\", \"tenth\", \"eleventh\"]"
   ]
  },
  {
   "cell_type": "markdown",
   "metadata": {},
   "source": [
    "### 4. TF–IDF Vectorization and Cluster-Number Search\n",
    "\n",
    "Using the custom stopwords, a TfidfVectorizer with up to 25,000 features, unigrams and bigrams, a minimum document frequency of five, and a maximum document frequency of 75% is fitted to the meeting texts. The resulting sparse matrix X has one row per document and one column per term. To select an appropriate number of clusters, we loop k from 2 to 14, fitting a K-Means model each time and recording the inertia (sum of squared errors) and the mean silhouette score. These metrics populate the lists SSE and SIL, while ks tracks each tested k value."
   ]
  },
  {
   "cell_type": "code",
   "execution_count": 4,
   "metadata": {},
   "outputs": [],
   "source": [
    "tfidf = TfidfVectorizer(\n",
    "    max_features=25_000,\n",
    "    ngram_range=(1,2),\n",
    "    stop_words=custom_stops,\n",
    "    min_df=5,\n",
    "    max_df=0.75\n",
    ")\n",
    "X = tfidf.fit_transform(docs)"
   ]
  },
  {
   "cell_type": "code",
   "execution_count": 5,
   "metadata": {},
   "outputs": [
    {
     "data": {
      "application/vnd.plotly.v1+json": {
       "config": {
        "plotlyServerURL": "https://plot.ly"
       },
       "data": [
        {
         "hovertemplate": "k (clusters)=%{x}<br>SSE=%{y}<extra></extra>",
         "legendgroup": "",
         "line": {
          "color": "#636efa",
          "dash": "solid"
         },
         "marker": {
          "symbol": "circle"
         },
         "mode": "lines+markers",
         "name": "",
         "orientation": "v",
         "showlegend": false,
         "type": "scatter",
         "x": [
          2,
          3,
          4,
          5,
          6,
          7,
          8,
          9,
          10,
          11,
          12,
          13,
          14
         ],
         "xaxis": "x",
         "y": [
          168.80120383850576,
          161.567652379522,
          155.254419244688,
          151.95223833361854,
          148.23881418993602,
          141.71744679211065,
          137.85533443122023,
          136.53292431652065,
          134.29509288279527,
          131.8396139432976,
          128.344510811507,
          124.65899495821239,
          123.05472137034059
         ],
         "yaxis": "y"
        }
       ],
       "layout": {
        "legend": {
         "tracegroupgap": 0
        },
        "template": {
         "data": {
          "bar": [
           {
            "error_x": {
             "color": "#2a3f5f"
            },
            "error_y": {
             "color": "#2a3f5f"
            },
            "marker": {
             "line": {
              "color": "#E5ECF6",
              "width": 0.5
             },
             "pattern": {
              "fillmode": "overlay",
              "size": 10,
              "solidity": 0.2
             }
            },
            "type": "bar"
           }
          ],
          "barpolar": [
           {
            "marker": {
             "line": {
              "color": "#E5ECF6",
              "width": 0.5
             },
             "pattern": {
              "fillmode": "overlay",
              "size": 10,
              "solidity": 0.2
             }
            },
            "type": "barpolar"
           }
          ],
          "carpet": [
           {
            "aaxis": {
             "endlinecolor": "#2a3f5f",
             "gridcolor": "white",
             "linecolor": "white",
             "minorgridcolor": "white",
             "startlinecolor": "#2a3f5f"
            },
            "baxis": {
             "endlinecolor": "#2a3f5f",
             "gridcolor": "white",
             "linecolor": "white",
             "minorgridcolor": "white",
             "startlinecolor": "#2a3f5f"
            },
            "type": "carpet"
           }
          ],
          "choropleth": [
           {
            "colorbar": {
             "outlinewidth": 0,
             "ticks": ""
            },
            "type": "choropleth"
           }
          ],
          "contour": [
           {
            "colorbar": {
             "outlinewidth": 0,
             "ticks": ""
            },
            "colorscale": [
             [
              0,
              "#0d0887"
             ],
             [
              0.1111111111111111,
              "#46039f"
             ],
             [
              0.2222222222222222,
              "#7201a8"
             ],
             [
              0.3333333333333333,
              "#9c179e"
             ],
             [
              0.4444444444444444,
              "#bd3786"
             ],
             [
              0.5555555555555556,
              "#d8576b"
             ],
             [
              0.6666666666666666,
              "#ed7953"
             ],
             [
              0.7777777777777778,
              "#fb9f3a"
             ],
             [
              0.8888888888888888,
              "#fdca26"
             ],
             [
              1,
              "#f0f921"
             ]
            ],
            "type": "contour"
           }
          ],
          "contourcarpet": [
           {
            "colorbar": {
             "outlinewidth": 0,
             "ticks": ""
            },
            "type": "contourcarpet"
           }
          ],
          "heatmap": [
           {
            "colorbar": {
             "outlinewidth": 0,
             "ticks": ""
            },
            "colorscale": [
             [
              0,
              "#0d0887"
             ],
             [
              0.1111111111111111,
              "#46039f"
             ],
             [
              0.2222222222222222,
              "#7201a8"
             ],
             [
              0.3333333333333333,
              "#9c179e"
             ],
             [
              0.4444444444444444,
              "#bd3786"
             ],
             [
              0.5555555555555556,
              "#d8576b"
             ],
             [
              0.6666666666666666,
              "#ed7953"
             ],
             [
              0.7777777777777778,
              "#fb9f3a"
             ],
             [
              0.8888888888888888,
              "#fdca26"
             ],
             [
              1,
              "#f0f921"
             ]
            ],
            "type": "heatmap"
           }
          ],
          "heatmapgl": [
           {
            "colorbar": {
             "outlinewidth": 0,
             "ticks": ""
            },
            "colorscale": [
             [
              0,
              "#0d0887"
             ],
             [
              0.1111111111111111,
              "#46039f"
             ],
             [
              0.2222222222222222,
              "#7201a8"
             ],
             [
              0.3333333333333333,
              "#9c179e"
             ],
             [
              0.4444444444444444,
              "#bd3786"
             ],
             [
              0.5555555555555556,
              "#d8576b"
             ],
             [
              0.6666666666666666,
              "#ed7953"
             ],
             [
              0.7777777777777778,
              "#fb9f3a"
             ],
             [
              0.8888888888888888,
              "#fdca26"
             ],
             [
              1,
              "#f0f921"
             ]
            ],
            "type": "heatmapgl"
           }
          ],
          "histogram": [
           {
            "marker": {
             "pattern": {
              "fillmode": "overlay",
              "size": 10,
              "solidity": 0.2
             }
            },
            "type": "histogram"
           }
          ],
          "histogram2d": [
           {
            "colorbar": {
             "outlinewidth": 0,
             "ticks": ""
            },
            "colorscale": [
             [
              0,
              "#0d0887"
             ],
             [
              0.1111111111111111,
              "#46039f"
             ],
             [
              0.2222222222222222,
              "#7201a8"
             ],
             [
              0.3333333333333333,
              "#9c179e"
             ],
             [
              0.4444444444444444,
              "#bd3786"
             ],
             [
              0.5555555555555556,
              "#d8576b"
             ],
             [
              0.6666666666666666,
              "#ed7953"
             ],
             [
              0.7777777777777778,
              "#fb9f3a"
             ],
             [
              0.8888888888888888,
              "#fdca26"
             ],
             [
              1,
              "#f0f921"
             ]
            ],
            "type": "histogram2d"
           }
          ],
          "histogram2dcontour": [
           {
            "colorbar": {
             "outlinewidth": 0,
             "ticks": ""
            },
            "colorscale": [
             [
              0,
              "#0d0887"
             ],
             [
              0.1111111111111111,
              "#46039f"
             ],
             [
              0.2222222222222222,
              "#7201a8"
             ],
             [
              0.3333333333333333,
              "#9c179e"
             ],
             [
              0.4444444444444444,
              "#bd3786"
             ],
             [
              0.5555555555555556,
              "#d8576b"
             ],
             [
              0.6666666666666666,
              "#ed7953"
             ],
             [
              0.7777777777777778,
              "#fb9f3a"
             ],
             [
              0.8888888888888888,
              "#fdca26"
             ],
             [
              1,
              "#f0f921"
             ]
            ],
            "type": "histogram2dcontour"
           }
          ],
          "mesh3d": [
           {
            "colorbar": {
             "outlinewidth": 0,
             "ticks": ""
            },
            "type": "mesh3d"
           }
          ],
          "parcoords": [
           {
            "line": {
             "colorbar": {
              "outlinewidth": 0,
              "ticks": ""
             }
            },
            "type": "parcoords"
           }
          ],
          "pie": [
           {
            "automargin": true,
            "type": "pie"
           }
          ],
          "scatter": [
           {
            "fillpattern": {
             "fillmode": "overlay",
             "size": 10,
             "solidity": 0.2
            },
            "type": "scatter"
           }
          ],
          "scatter3d": [
           {
            "line": {
             "colorbar": {
              "outlinewidth": 0,
              "ticks": ""
             }
            },
            "marker": {
             "colorbar": {
              "outlinewidth": 0,
              "ticks": ""
             }
            },
            "type": "scatter3d"
           }
          ],
          "scattercarpet": [
           {
            "marker": {
             "colorbar": {
              "outlinewidth": 0,
              "ticks": ""
             }
            },
            "type": "scattercarpet"
           }
          ],
          "scattergeo": [
           {
            "marker": {
             "colorbar": {
              "outlinewidth": 0,
              "ticks": ""
             }
            },
            "type": "scattergeo"
           }
          ],
          "scattergl": [
           {
            "marker": {
             "colorbar": {
              "outlinewidth": 0,
              "ticks": ""
             }
            },
            "type": "scattergl"
           }
          ],
          "scattermapbox": [
           {
            "marker": {
             "colorbar": {
              "outlinewidth": 0,
              "ticks": ""
             }
            },
            "type": "scattermapbox"
           }
          ],
          "scatterpolar": [
           {
            "marker": {
             "colorbar": {
              "outlinewidth": 0,
              "ticks": ""
             }
            },
            "type": "scatterpolar"
           }
          ],
          "scatterpolargl": [
           {
            "marker": {
             "colorbar": {
              "outlinewidth": 0,
              "ticks": ""
             }
            },
            "type": "scatterpolargl"
           }
          ],
          "scatterternary": [
           {
            "marker": {
             "colorbar": {
              "outlinewidth": 0,
              "ticks": ""
             }
            },
            "type": "scatterternary"
           }
          ],
          "surface": [
           {
            "colorbar": {
             "outlinewidth": 0,
             "ticks": ""
            },
            "colorscale": [
             [
              0,
              "#0d0887"
             ],
             [
              0.1111111111111111,
              "#46039f"
             ],
             [
              0.2222222222222222,
              "#7201a8"
             ],
             [
              0.3333333333333333,
              "#9c179e"
             ],
             [
              0.4444444444444444,
              "#bd3786"
             ],
             [
              0.5555555555555556,
              "#d8576b"
             ],
             [
              0.6666666666666666,
              "#ed7953"
             ],
             [
              0.7777777777777778,
              "#fb9f3a"
             ],
             [
              0.8888888888888888,
              "#fdca26"
             ],
             [
              1,
              "#f0f921"
             ]
            ],
            "type": "surface"
           }
          ],
          "table": [
           {
            "cells": {
             "fill": {
              "color": "#EBF0F8"
             },
             "line": {
              "color": "white"
             }
            },
            "header": {
             "fill": {
              "color": "#C8D4E3"
             },
             "line": {
              "color": "white"
             }
            },
            "type": "table"
           }
          ]
         },
         "layout": {
          "annotationdefaults": {
           "arrowcolor": "#2a3f5f",
           "arrowhead": 0,
           "arrowwidth": 1
          },
          "autotypenumbers": "strict",
          "coloraxis": {
           "colorbar": {
            "outlinewidth": 0,
            "ticks": ""
           }
          },
          "colorscale": {
           "diverging": [
            [
             0,
             "#8e0152"
            ],
            [
             0.1,
             "#c51b7d"
            ],
            [
             0.2,
             "#de77ae"
            ],
            [
             0.3,
             "#f1b6da"
            ],
            [
             0.4,
             "#fde0ef"
            ],
            [
             0.5,
             "#f7f7f7"
            ],
            [
             0.6,
             "#e6f5d0"
            ],
            [
             0.7,
             "#b8e186"
            ],
            [
             0.8,
             "#7fbc41"
            ],
            [
             0.9,
             "#4d9221"
            ],
            [
             1,
             "#276419"
            ]
           ],
           "sequential": [
            [
             0,
             "#0d0887"
            ],
            [
             0.1111111111111111,
             "#46039f"
            ],
            [
             0.2222222222222222,
             "#7201a8"
            ],
            [
             0.3333333333333333,
             "#9c179e"
            ],
            [
             0.4444444444444444,
             "#bd3786"
            ],
            [
             0.5555555555555556,
             "#d8576b"
            ],
            [
             0.6666666666666666,
             "#ed7953"
            ],
            [
             0.7777777777777778,
             "#fb9f3a"
            ],
            [
             0.8888888888888888,
             "#fdca26"
            ],
            [
             1,
             "#f0f921"
            ]
           ],
           "sequentialminus": [
            [
             0,
             "#0d0887"
            ],
            [
             0.1111111111111111,
             "#46039f"
            ],
            [
             0.2222222222222222,
             "#7201a8"
            ],
            [
             0.3333333333333333,
             "#9c179e"
            ],
            [
             0.4444444444444444,
             "#bd3786"
            ],
            [
             0.5555555555555556,
             "#d8576b"
            ],
            [
             0.6666666666666666,
             "#ed7953"
            ],
            [
             0.7777777777777778,
             "#fb9f3a"
            ],
            [
             0.8888888888888888,
             "#fdca26"
            ],
            [
             1,
             "#f0f921"
            ]
           ]
          },
          "colorway": [
           "#636efa",
           "#EF553B",
           "#00cc96",
           "#ab63fa",
           "#FFA15A",
           "#19d3f3",
           "#FF6692",
           "#B6E880",
           "#FF97FF",
           "#FECB52"
          ],
          "font": {
           "color": "#2a3f5f"
          },
          "geo": {
           "bgcolor": "white",
           "lakecolor": "white",
           "landcolor": "#E5ECF6",
           "showlakes": true,
           "showland": true,
           "subunitcolor": "white"
          },
          "hoverlabel": {
           "align": "left"
          },
          "hovermode": "closest",
          "mapbox": {
           "style": "light"
          },
          "paper_bgcolor": "white",
          "plot_bgcolor": "#E5ECF6",
          "polar": {
           "angularaxis": {
            "gridcolor": "white",
            "linecolor": "white",
            "ticks": ""
           },
           "bgcolor": "#E5ECF6",
           "radialaxis": {
            "gridcolor": "white",
            "linecolor": "white",
            "ticks": ""
           }
          },
          "scene": {
           "xaxis": {
            "backgroundcolor": "#E5ECF6",
            "gridcolor": "white",
            "gridwidth": 2,
            "linecolor": "white",
            "showbackground": true,
            "ticks": "",
            "zerolinecolor": "white"
           },
           "yaxis": {
            "backgroundcolor": "#E5ECF6",
            "gridcolor": "white",
            "gridwidth": 2,
            "linecolor": "white",
            "showbackground": true,
            "ticks": "",
            "zerolinecolor": "white"
           },
           "zaxis": {
            "backgroundcolor": "#E5ECF6",
            "gridcolor": "white",
            "gridwidth": 2,
            "linecolor": "white",
            "showbackground": true,
            "ticks": "",
            "zerolinecolor": "white"
           }
          },
          "shapedefaults": {
           "line": {
            "color": "#2a3f5f"
           }
          },
          "ternary": {
           "aaxis": {
            "gridcolor": "white",
            "linecolor": "white",
            "ticks": ""
           },
           "baxis": {
            "gridcolor": "white",
            "linecolor": "white",
            "ticks": ""
           },
           "bgcolor": "#E5ECF6",
           "caxis": {
            "gridcolor": "white",
            "linecolor": "white",
            "ticks": ""
           }
          },
          "title": {
           "x": 0.05
          },
          "xaxis": {
           "automargin": true,
           "gridcolor": "white",
           "linecolor": "white",
           "ticks": "",
           "title": {
            "standoff": 15
           },
           "zerolinecolor": "white",
           "zerolinewidth": 2
          },
          "yaxis": {
           "automargin": true,
           "gridcolor": "white",
           "linecolor": "white",
           "ticks": "",
           "title": {
            "standoff": 15
           },
           "zerolinecolor": "white",
           "zerolinewidth": 2
          }
         }
        },
        "title": {
         "text": "Elbow Plot"
        },
        "xaxis": {
         "anchor": "y",
         "domain": [
          0,
          1
         ],
         "title": {
          "text": "k (clusters)"
         }
        },
        "yaxis": {
         "anchor": "x",
         "domain": [
          0,
          1
         ],
         "title": {
          "text": "SSE"
         }
        }
       }
      }
     },
     "metadata": {},
     "output_type": "display_data"
    }
   ],
   "source": [
    "ks, sse, sil = [], [], []\n",
    "for k in range(2, 15):\n",
    "    km = KMeans(n_clusters=k, random_state=42, n_init=\"auto\").fit(X)\n",
    "    ks.append(k)\n",
    "    sse.append(km.inertia_)                       # Sum of squared errors\n",
    "    sil.append(silhouette_score(X, km.labels_))   # Mean silhouette coefficient\n",
    "\n",
    "# Elbow plot\n",
    "fig_elbow = px.line(\n",
    "    x=ks, y=sse, markers=True,\n",
    "    labels={\"x\":\"k (clusters)\", \"y\":\"SSE\"},\n",
    "    title=\"Elbow Plot\"\n",
    ")\n",
    "fig_elbow.show()"
   ]
  },
  {
   "cell_type": "code",
   "execution_count": 6,
   "metadata": {},
   "outputs": [
    {
     "data": {
      "application/vnd.plotly.v1+json": {
       "config": {
        "plotlyServerURL": "https://plot.ly"
       },
       "data": [
        {
         "hovertemplate": "k (clusters)=%{x}<br>Silhouette Score=%{y}<extra></extra>",
         "legendgroup": "",
         "line": {
          "color": "#636efa",
          "dash": "solid"
         },
         "marker": {
          "symbol": "circle"
         },
         "mode": "lines+markers",
         "name": "",
         "orientation": "v",
         "showlegend": false,
         "type": "scatter",
         "x": [
          2,
          3,
          4,
          5,
          6,
          7,
          8,
          9,
          10,
          11,
          12,
          13,
          14
         ],
         "xaxis": "x",
         "y": [
          0.05531615295123436,
          0.057633708011786945,
          0.06422772550345963,
          0.06512751329282045,
          0.06725759803510763,
          0.08245546333918753,
          0.08571916507859964,
          0.07747274812360917,
          0.08032044922301941,
          0.08000090895556553,
          0.0843323891508575,
          0.09327699753658503,
          0.09098232998041894
         ],
         "yaxis": "y"
        }
       ],
       "layout": {
        "legend": {
         "tracegroupgap": 0
        },
        "template": {
         "data": {
          "bar": [
           {
            "error_x": {
             "color": "#2a3f5f"
            },
            "error_y": {
             "color": "#2a3f5f"
            },
            "marker": {
             "line": {
              "color": "#E5ECF6",
              "width": 0.5
             },
             "pattern": {
              "fillmode": "overlay",
              "size": 10,
              "solidity": 0.2
             }
            },
            "type": "bar"
           }
          ],
          "barpolar": [
           {
            "marker": {
             "line": {
              "color": "#E5ECF6",
              "width": 0.5
             },
             "pattern": {
              "fillmode": "overlay",
              "size": 10,
              "solidity": 0.2
             }
            },
            "type": "barpolar"
           }
          ],
          "carpet": [
           {
            "aaxis": {
             "endlinecolor": "#2a3f5f",
             "gridcolor": "white",
             "linecolor": "white",
             "minorgridcolor": "white",
             "startlinecolor": "#2a3f5f"
            },
            "baxis": {
             "endlinecolor": "#2a3f5f",
             "gridcolor": "white",
             "linecolor": "white",
             "minorgridcolor": "white",
             "startlinecolor": "#2a3f5f"
            },
            "type": "carpet"
           }
          ],
          "choropleth": [
           {
            "colorbar": {
             "outlinewidth": 0,
             "ticks": ""
            },
            "type": "choropleth"
           }
          ],
          "contour": [
           {
            "colorbar": {
             "outlinewidth": 0,
             "ticks": ""
            },
            "colorscale": [
             [
              0,
              "#0d0887"
             ],
             [
              0.1111111111111111,
              "#46039f"
             ],
             [
              0.2222222222222222,
              "#7201a8"
             ],
             [
              0.3333333333333333,
              "#9c179e"
             ],
             [
              0.4444444444444444,
              "#bd3786"
             ],
             [
              0.5555555555555556,
              "#d8576b"
             ],
             [
              0.6666666666666666,
              "#ed7953"
             ],
             [
              0.7777777777777778,
              "#fb9f3a"
             ],
             [
              0.8888888888888888,
              "#fdca26"
             ],
             [
              1,
              "#f0f921"
             ]
            ],
            "type": "contour"
           }
          ],
          "contourcarpet": [
           {
            "colorbar": {
             "outlinewidth": 0,
             "ticks": ""
            },
            "type": "contourcarpet"
           }
          ],
          "heatmap": [
           {
            "colorbar": {
             "outlinewidth": 0,
             "ticks": ""
            },
            "colorscale": [
             [
              0,
              "#0d0887"
             ],
             [
              0.1111111111111111,
              "#46039f"
             ],
             [
              0.2222222222222222,
              "#7201a8"
             ],
             [
              0.3333333333333333,
              "#9c179e"
             ],
             [
              0.4444444444444444,
              "#bd3786"
             ],
             [
              0.5555555555555556,
              "#d8576b"
             ],
             [
              0.6666666666666666,
              "#ed7953"
             ],
             [
              0.7777777777777778,
              "#fb9f3a"
             ],
             [
              0.8888888888888888,
              "#fdca26"
             ],
             [
              1,
              "#f0f921"
             ]
            ],
            "type": "heatmap"
           }
          ],
          "heatmapgl": [
           {
            "colorbar": {
             "outlinewidth": 0,
             "ticks": ""
            },
            "colorscale": [
             [
              0,
              "#0d0887"
             ],
             [
              0.1111111111111111,
              "#46039f"
             ],
             [
              0.2222222222222222,
              "#7201a8"
             ],
             [
              0.3333333333333333,
              "#9c179e"
             ],
             [
              0.4444444444444444,
              "#bd3786"
             ],
             [
              0.5555555555555556,
              "#d8576b"
             ],
             [
              0.6666666666666666,
              "#ed7953"
             ],
             [
              0.7777777777777778,
              "#fb9f3a"
             ],
             [
              0.8888888888888888,
              "#fdca26"
             ],
             [
              1,
              "#f0f921"
             ]
            ],
            "type": "heatmapgl"
           }
          ],
          "histogram": [
           {
            "marker": {
             "pattern": {
              "fillmode": "overlay",
              "size": 10,
              "solidity": 0.2
             }
            },
            "type": "histogram"
           }
          ],
          "histogram2d": [
           {
            "colorbar": {
             "outlinewidth": 0,
             "ticks": ""
            },
            "colorscale": [
             [
              0,
              "#0d0887"
             ],
             [
              0.1111111111111111,
              "#46039f"
             ],
             [
              0.2222222222222222,
              "#7201a8"
             ],
             [
              0.3333333333333333,
              "#9c179e"
             ],
             [
              0.4444444444444444,
              "#bd3786"
             ],
             [
              0.5555555555555556,
              "#d8576b"
             ],
             [
              0.6666666666666666,
              "#ed7953"
             ],
             [
              0.7777777777777778,
              "#fb9f3a"
             ],
             [
              0.8888888888888888,
              "#fdca26"
             ],
             [
              1,
              "#f0f921"
             ]
            ],
            "type": "histogram2d"
           }
          ],
          "histogram2dcontour": [
           {
            "colorbar": {
             "outlinewidth": 0,
             "ticks": ""
            },
            "colorscale": [
             [
              0,
              "#0d0887"
             ],
             [
              0.1111111111111111,
              "#46039f"
             ],
             [
              0.2222222222222222,
              "#7201a8"
             ],
             [
              0.3333333333333333,
              "#9c179e"
             ],
             [
              0.4444444444444444,
              "#bd3786"
             ],
             [
              0.5555555555555556,
              "#d8576b"
             ],
             [
              0.6666666666666666,
              "#ed7953"
             ],
             [
              0.7777777777777778,
              "#fb9f3a"
             ],
             [
              0.8888888888888888,
              "#fdca26"
             ],
             [
              1,
              "#f0f921"
             ]
            ],
            "type": "histogram2dcontour"
           }
          ],
          "mesh3d": [
           {
            "colorbar": {
             "outlinewidth": 0,
             "ticks": ""
            },
            "type": "mesh3d"
           }
          ],
          "parcoords": [
           {
            "line": {
             "colorbar": {
              "outlinewidth": 0,
              "ticks": ""
             }
            },
            "type": "parcoords"
           }
          ],
          "pie": [
           {
            "automargin": true,
            "type": "pie"
           }
          ],
          "scatter": [
           {
            "fillpattern": {
             "fillmode": "overlay",
             "size": 10,
             "solidity": 0.2
            },
            "type": "scatter"
           }
          ],
          "scatter3d": [
           {
            "line": {
             "colorbar": {
              "outlinewidth": 0,
              "ticks": ""
             }
            },
            "marker": {
             "colorbar": {
              "outlinewidth": 0,
              "ticks": ""
             }
            },
            "type": "scatter3d"
           }
          ],
          "scattercarpet": [
           {
            "marker": {
             "colorbar": {
              "outlinewidth": 0,
              "ticks": ""
             }
            },
            "type": "scattercarpet"
           }
          ],
          "scattergeo": [
           {
            "marker": {
             "colorbar": {
              "outlinewidth": 0,
              "ticks": ""
             }
            },
            "type": "scattergeo"
           }
          ],
          "scattergl": [
           {
            "marker": {
             "colorbar": {
              "outlinewidth": 0,
              "ticks": ""
             }
            },
            "type": "scattergl"
           }
          ],
          "scattermapbox": [
           {
            "marker": {
             "colorbar": {
              "outlinewidth": 0,
              "ticks": ""
             }
            },
            "type": "scattermapbox"
           }
          ],
          "scatterpolar": [
           {
            "marker": {
             "colorbar": {
              "outlinewidth": 0,
              "ticks": ""
             }
            },
            "type": "scatterpolar"
           }
          ],
          "scatterpolargl": [
           {
            "marker": {
             "colorbar": {
              "outlinewidth": 0,
              "ticks": ""
             }
            },
            "type": "scatterpolargl"
           }
          ],
          "scatterternary": [
           {
            "marker": {
             "colorbar": {
              "outlinewidth": 0,
              "ticks": ""
             }
            },
            "type": "scatterternary"
           }
          ],
          "surface": [
           {
            "colorbar": {
             "outlinewidth": 0,
             "ticks": ""
            },
            "colorscale": [
             [
              0,
              "#0d0887"
             ],
             [
              0.1111111111111111,
              "#46039f"
             ],
             [
              0.2222222222222222,
              "#7201a8"
             ],
             [
              0.3333333333333333,
              "#9c179e"
             ],
             [
              0.4444444444444444,
              "#bd3786"
             ],
             [
              0.5555555555555556,
              "#d8576b"
             ],
             [
              0.6666666666666666,
              "#ed7953"
             ],
             [
              0.7777777777777778,
              "#fb9f3a"
             ],
             [
              0.8888888888888888,
              "#fdca26"
             ],
             [
              1,
              "#f0f921"
             ]
            ],
            "type": "surface"
           }
          ],
          "table": [
           {
            "cells": {
             "fill": {
              "color": "#EBF0F8"
             },
             "line": {
              "color": "white"
             }
            },
            "header": {
             "fill": {
              "color": "#C8D4E3"
             },
             "line": {
              "color": "white"
             }
            },
            "type": "table"
           }
          ]
         },
         "layout": {
          "annotationdefaults": {
           "arrowcolor": "#2a3f5f",
           "arrowhead": 0,
           "arrowwidth": 1
          },
          "autotypenumbers": "strict",
          "coloraxis": {
           "colorbar": {
            "outlinewidth": 0,
            "ticks": ""
           }
          },
          "colorscale": {
           "diverging": [
            [
             0,
             "#8e0152"
            ],
            [
             0.1,
             "#c51b7d"
            ],
            [
             0.2,
             "#de77ae"
            ],
            [
             0.3,
             "#f1b6da"
            ],
            [
             0.4,
             "#fde0ef"
            ],
            [
             0.5,
             "#f7f7f7"
            ],
            [
             0.6,
             "#e6f5d0"
            ],
            [
             0.7,
             "#b8e186"
            ],
            [
             0.8,
             "#7fbc41"
            ],
            [
             0.9,
             "#4d9221"
            ],
            [
             1,
             "#276419"
            ]
           ],
           "sequential": [
            [
             0,
             "#0d0887"
            ],
            [
             0.1111111111111111,
             "#46039f"
            ],
            [
             0.2222222222222222,
             "#7201a8"
            ],
            [
             0.3333333333333333,
             "#9c179e"
            ],
            [
             0.4444444444444444,
             "#bd3786"
            ],
            [
             0.5555555555555556,
             "#d8576b"
            ],
            [
             0.6666666666666666,
             "#ed7953"
            ],
            [
             0.7777777777777778,
             "#fb9f3a"
            ],
            [
             0.8888888888888888,
             "#fdca26"
            ],
            [
             1,
             "#f0f921"
            ]
           ],
           "sequentialminus": [
            [
             0,
             "#0d0887"
            ],
            [
             0.1111111111111111,
             "#46039f"
            ],
            [
             0.2222222222222222,
             "#7201a8"
            ],
            [
             0.3333333333333333,
             "#9c179e"
            ],
            [
             0.4444444444444444,
             "#bd3786"
            ],
            [
             0.5555555555555556,
             "#d8576b"
            ],
            [
             0.6666666666666666,
             "#ed7953"
            ],
            [
             0.7777777777777778,
             "#fb9f3a"
            ],
            [
             0.8888888888888888,
             "#fdca26"
            ],
            [
             1,
             "#f0f921"
            ]
           ]
          },
          "colorway": [
           "#636efa",
           "#EF553B",
           "#00cc96",
           "#ab63fa",
           "#FFA15A",
           "#19d3f3",
           "#FF6692",
           "#B6E880",
           "#FF97FF",
           "#FECB52"
          ],
          "font": {
           "color": "#2a3f5f"
          },
          "geo": {
           "bgcolor": "white",
           "lakecolor": "white",
           "landcolor": "#E5ECF6",
           "showlakes": true,
           "showland": true,
           "subunitcolor": "white"
          },
          "hoverlabel": {
           "align": "left"
          },
          "hovermode": "closest",
          "mapbox": {
           "style": "light"
          },
          "paper_bgcolor": "white",
          "plot_bgcolor": "#E5ECF6",
          "polar": {
           "angularaxis": {
            "gridcolor": "white",
            "linecolor": "white",
            "ticks": ""
           },
           "bgcolor": "#E5ECF6",
           "radialaxis": {
            "gridcolor": "white",
            "linecolor": "white",
            "ticks": ""
           }
          },
          "scene": {
           "xaxis": {
            "backgroundcolor": "#E5ECF6",
            "gridcolor": "white",
            "gridwidth": 2,
            "linecolor": "white",
            "showbackground": true,
            "ticks": "",
            "zerolinecolor": "white"
           },
           "yaxis": {
            "backgroundcolor": "#E5ECF6",
            "gridcolor": "white",
            "gridwidth": 2,
            "linecolor": "white",
            "showbackground": true,
            "ticks": "",
            "zerolinecolor": "white"
           },
           "zaxis": {
            "backgroundcolor": "#E5ECF6",
            "gridcolor": "white",
            "gridwidth": 2,
            "linecolor": "white",
            "showbackground": true,
            "ticks": "",
            "zerolinecolor": "white"
           }
          },
          "shapedefaults": {
           "line": {
            "color": "#2a3f5f"
           }
          },
          "ternary": {
           "aaxis": {
            "gridcolor": "white",
            "linecolor": "white",
            "ticks": ""
           },
           "baxis": {
            "gridcolor": "white",
            "linecolor": "white",
            "ticks": ""
           },
           "bgcolor": "#E5ECF6",
           "caxis": {
            "gridcolor": "white",
            "linecolor": "white",
            "ticks": ""
           }
          },
          "title": {
           "x": 0.05
          },
          "xaxis": {
           "automargin": true,
           "gridcolor": "white",
           "linecolor": "white",
           "ticks": "",
           "title": {
            "standoff": 15
           },
           "zerolinecolor": "white",
           "zerolinewidth": 2
          },
          "yaxis": {
           "automargin": true,
           "gridcolor": "white",
           "linecolor": "white",
           "ticks": "",
           "title": {
            "standoff": 15
           },
           "zerolinecolor": "white",
           "zerolinewidth": 2
          }
         }
        },
        "title": {
         "text": "Silhouette Scores"
        },
        "xaxis": {
         "anchor": "y",
         "domain": [
          0,
          1
         ],
         "title": {
          "text": "k (clusters)"
         }
        },
        "yaxis": {
         "anchor": "x",
         "domain": [
          0,
          1
         ],
         "title": {
          "text": "Silhouette Score"
         }
        }
       }
      }
     },
     "metadata": {},
     "output_type": "display_data"
    }
   ],
   "source": [
    "# Silhouette plot\n",
    "fig_sil = px.line(\n",
    "    x=ks, y=sil, markers=True,\n",
    "    labels={\"x\":\"k (clusters)\", \"y\":\"Silhouette Score\"},\n",
    "    title=\"Silhouette Scores\"\n",
    ")\n",
    "fig_sil.show()"
   ]
  },
  {
   "cell_type": "markdown",
   "metadata": {},
   "source": [
    "When I plot the sum of SSE against increasing k, the rate of decline in SSE is steep up through $k = 8$ but begins to flatten thereafter.  At the same time, the average silhouette coefficient (which measures how well each point lies within its assigned cluster versus its nearest neighbor cluster) achieves one of its highest values at $k = 8$, suggesting that eight groups strike the best balance between internal cohesion and separation across clusters.  Finally, inspection of the resulting cluster sizes shows no overly small or overly large segment at $k = 8$, which supports interpretability: each cluster contains enough meetings to yield stable term–weight profiles and meaningful aggregate statistics without diluting distinct rhetorical regimes. Taken together, the elbow in SSE, the peak in silhouette score, and the practical balance of cluster cardinalities all point to $k = 8$ as the most judicious choice for our K-Means partitioning of FOMC texts."
   ]
  },
  {
   "cell_type": "markdown",
   "metadata": {},
   "source": [
    "### 6. K-Means Clustering and Label Assignment\n",
    "\n",
    "Choosing `best_k = 8`, the script fits a final K-Means model on the TF–IDF matrix and writes the resulting integer labels into a new column k8_cluster in df. A quick printout of the value counts by cluster confirms how many meetings fall into each of the eight groups, preparing the data for downstream analysis."
   ]
  },
  {
   "cell_type": "code",
   "execution_count": 7,
   "metadata": {},
   "outputs": [
    {
     "name": "stdout",
     "output_type": "stream",
     "text": [
      "Cluster sizes (k=8):\n",
      "0    26\n",
      "1    26\n",
      "2    31\n",
      "3    35\n",
      "4    24\n",
      "5    33\n",
      "6    14\n",
      "7    23\n",
      "Name: count, dtype: int64\n"
     ]
    }
   ],
   "source": [
    "best_k = 8\n",
    "km8 = KMeans(\n",
    "    n_clusters=best_k,\n",
    "    random_state=42,\n",
    "    n_init=\"auto\"\n",
    ").fit(X)\n",
    "\n",
    "# Attach labels & cluster sizes\n",
    "labels8 = km8.labels_\n",
    "df[\"k8_cluster\"] = labels8\n",
    "\n",
    "print(\"Cluster sizes (k=8):\")\n",
    "print(pd.Series(labels8).value_counts().sort_index())"
   ]
  },
  {
   "cell_type": "markdown",
   "metadata": {},
   "source": [
    "### 7. Extracting Top Terms per Cluster\n",
    "\n",
    "To understand what each K-Means cluster represents, I retrieve the TF–IDF feature names and the 8×p cluster centroid array from the fitted model. For each cluster index from zero to seven, the ten highest-weight feature indices are identified and mapped back to their corresponding terms. These are then assembled into a DataFrame top_terms_df whose rows correspond to clusters and whose columns list the top ten defining terms in descending order of weight."
   ]
  },
  {
   "cell_type": "code",
   "execution_count": 8,
   "metadata": {},
   "outputs": [
    {
     "data": {
      "text/html": [
       "<div>\n",
       "<style scoped>\n",
       "    .dataframe tbody tr th:only-of-type {\n",
       "        vertical-align: middle;\n",
       "    }\n",
       "\n",
       "    .dataframe tbody tr th {\n",
       "        vertical-align: top;\n",
       "    }\n",
       "\n",
       "    .dataframe thead th {\n",
       "        text-align: right;\n",
       "    }\n",
       "</style>\n",
       "<table border=\"1\" class=\"dataframe\">\n",
       "  <thead>\n",
       "    <tr style=\"text-align: right;\">\n",
       "      <th></th>\n",
       "      <th>Term 1</th>\n",
       "      <th>Term 2</th>\n",
       "      <th>Term 3</th>\n",
       "      <th>Term 4</th>\n",
       "      <th>Term 5</th>\n",
       "      <th>Term 6</th>\n",
       "      <th>Term 7</th>\n",
       "      <th>Term 8</th>\n",
       "      <th>Term 9</th>\n",
       "      <th>Term 10</th>\n",
       "    </tr>\n",
       "    <tr>\n",
       "      <th>Cluster</th>\n",
       "      <th></th>\n",
       "      <th></th>\n",
       "      <th></th>\n",
       "      <th></th>\n",
       "      <th></th>\n",
       "      <th></th>\n",
       "      <th></th>\n",
       "      <th></th>\n",
       "      <th></th>\n",
       "      <th></th>\n",
       "    </tr>\n",
       "  </thead>\n",
       "  <tbody>\n",
       "    <tr>\n",
       "      <th>0</th>\n",
       "      <td>shall</td>\n",
       "      <td>foreign currency</td>\n",
       "      <td>currency</td>\n",
       "      <td>currency operations</td>\n",
       "      <td>authorization</td>\n",
       "      <td>arrangements</td>\n",
       "      <td>paragraph</td>\n",
       "      <td>selected</td>\n",
       "      <td>accounts</td>\n",
       "      <td>authorized</td>\n",
       "    </tr>\n",
       "    <tr>\n",
       "      <th>1</th>\n",
       "      <td>objective</td>\n",
       "      <td>symmetric</td>\n",
       "      <td>longer run</td>\n",
       "      <td>based measures</td>\n",
       "      <td>reserves</td>\n",
       "      <td>desk</td>\n",
       "      <td>global</td>\n",
       "      <td>month basis</td>\n",
       "      <td>elb</td>\n",
       "      <td>repo</td>\n",
       "    </tr>\n",
       "    <tr>\n",
       "      <th>2</th>\n",
       "      <td>weakness</td>\n",
       "      <td>inventory</td>\n",
       "      <td>productivity</td>\n",
       "      <td>anecdotal</td>\n",
       "      <td>easing</td>\n",
       "      <td>foreseeable</td>\n",
       "      <td>foreseeable future</td>\n",
       "      <td>greenspan</td>\n",
       "      <td>gramlich</td>\n",
       "      <td>indications</td>\n",
       "    </tr>\n",
       "    <tr>\n",
       "      <th>3</th>\n",
       "      <td>pandemic</td>\n",
       "      <td>supply</td>\n",
       "      <td>goals</td>\n",
       "      <td>special adviser</td>\n",
       "      <td>restrictive</td>\n",
       "      <td>remarked</td>\n",
       "      <td>participants observed</td>\n",
       "      <td>pre pandemic</td>\n",
       "      <td>holdings</td>\n",
       "      <td>covid</td>\n",
       "    </tr>\n",
       "    <tr>\n",
       "      <th>4</th>\n",
       "      <td>½s</td>\n",
       "      <td>core inflation</td>\n",
       "      <td>hurricane</td>\n",
       "      <td>february</td>\n",
       "      <td>contained</td>\n",
       "      <td>sustainable</td>\n",
       "      <td>geithner</td>\n",
       "      <td>likely measured</td>\n",
       "      <td>inventories</td>\n",
       "      <td>accommodation removed</td>\n",
       "    </tr>\n",
       "    <tr>\n",
       "      <th>5</th>\n",
       "      <td>asset</td>\n",
       "      <td>recovery</td>\n",
       "      <td>program</td>\n",
       "      <td>mbs</td>\n",
       "      <td>economic recovery</td>\n",
       "      <td>backed</td>\n",
       "      <td>february</td>\n",
       "      <td>mandate</td>\n",
       "      <td>purchase</td>\n",
       "      <td>asset purchases</td>\n",
       "    </tr>\n",
       "    <tr>\n",
       "      <th>6</th>\n",
       "      <td>liquidity</td>\n",
       "      <td>risks growth</td>\n",
       "      <td>strains</td>\n",
       "      <td>credit conditions</td>\n",
       "      <td>headline</td>\n",
       "      <td>institutions</td>\n",
       "      <td>taf</td>\n",
       "      <td>facility</td>\n",
       "      <td>coming quarters</td>\n",
       "      <td>mortgages</td>\n",
       "    </tr>\n",
       "    <tr>\n",
       "      <th>7</th>\n",
       "      <td>longer run</td>\n",
       "      <td>objective</td>\n",
       "      <td>normalization</td>\n",
       "      <td>run objective</td>\n",
       "      <td>declines energy</td>\n",
       "      <td>backed securities</td>\n",
       "      <td>asset</td>\n",
       "      <td>backed</td>\n",
       "      <td>mortgage backed</td>\n",
       "      <td>based measures</td>\n",
       "    </tr>\n",
       "  </tbody>\n",
       "</table>\n",
       "</div>"
      ],
      "text/plain": [
       "             Term 1            Term 2         Term 3               Term 4  \\\n",
       "Cluster                                                                     \n",
       "0             shall  foreign currency       currency  currency operations   \n",
       "1         objective         symmetric     longer run       based measures   \n",
       "2          weakness         inventory   productivity            anecdotal   \n",
       "3          pandemic            supply          goals      special adviser   \n",
       "4                ½s    core inflation      hurricane             february   \n",
       "5             asset          recovery        program                  mbs   \n",
       "6         liquidity      risks growth        strains    credit conditions   \n",
       "7        longer run         objective  normalization        run objective   \n",
       "\n",
       "                    Term 5             Term 6                 Term 7  \\\n",
       "Cluster                                                                \n",
       "0            authorization       arrangements              paragraph   \n",
       "1                 reserves               desk                 global   \n",
       "2                   easing        foreseeable     foreseeable future   \n",
       "3              restrictive           remarked  participants observed   \n",
       "4                contained        sustainable               geithner   \n",
       "5        economic recovery             backed               february   \n",
       "6                 headline       institutions                    taf   \n",
       "7          declines energy  backed securities                  asset   \n",
       "\n",
       "                  Term 8           Term 9                Term 10  \n",
       "Cluster                                                           \n",
       "0               selected         accounts             authorized  \n",
       "1            month basis              elb                   repo  \n",
       "2              greenspan         gramlich            indications  \n",
       "3           pre pandemic         holdings                  covid  \n",
       "4        likely measured      inventories  accommodation removed  \n",
       "5                mandate         purchase        asset purchases  \n",
       "6               facility  coming quarters              mortgages  \n",
       "7                 backed  mortgage backed         based measures  "
      ]
     },
     "execution_count": 8,
     "metadata": {},
     "output_type": "execute_result"
    }
   ],
   "source": [
    "import pandas as pd\n",
    "\n",
    "# 1. Get feature names from the TF-IDF vectorizer\n",
    "terms = tfidf.get_feature_names_out()   # shape (p,)\n",
    "\n",
    "# 2. Extract the cluster centers (k x p array)\n",
    "centroids = km8.cluster_centers_\n",
    "\n",
    "# 3. For each cluster, find the top N terms\n",
    "top_n = 10\n",
    "top_terms = {}\n",
    "for cluster_idx in range(best_k):\n",
    "    # argsort descending gives indices of highest-weight features\n",
    "    best_feat_idxs = centroids[cluster_idx].argsort()[::-1][:top_n]\n",
    "    top_terms[cluster_idx] = [terms[i] for i in best_feat_idxs]\n",
    "\n",
    "# 4. Build a DataFrame for easy viewing\n",
    "top_terms_df = pd.DataFrame.from_dict(\n",
    "    top_terms, orient=\"index\",\n",
    "    columns=[f\"Term {i+1}\" for i in range(top_n)]\n",
    ")\n",
    "top_terms_df.index.name = \"Cluster\"\n",
    "top_terms_df"
   ]
  },
  {
   "cell_type": "markdown",
   "metadata": {},
   "source": [
    "I find that this raw list of top TF–IDF terms per cluster doesn’t coalesce into clear, coherent topics on its own. I’ll need to dig deeper—perhaps by experimenting with alternative clustering methods and running a BERTopic analysis—to surface more meaningful thematic structure."
   ]
  },
  {
   "cell_type": "markdown",
   "metadata": {},
   "source": [
    "### 8. Dimensionality Reduction and UMAP Visualization\n",
    "\n",
    "Because the TF–IDF space is high-dimensional, I first apply TruncatedSVD to reduce it to 100 dimensions, yielding a dense array X100. We then project these 100-dimensional vectors into two dimensions via UMAP with a cosine metric. Plotting the resulting 2D coordinates with Plotly, each meeting is colored by its K-Means cluster label, allowing visual inspection of how well the groups separate in manifold space and how they relate over time via hoverable date annotations."
   ]
  },
  {
   "cell_type": "code",
   "execution_count": 9,
   "metadata": {},
   "outputs": [
    {
     "data": {
      "application/vnd.plotly.v1+json": {
       "config": {
        "plotlyServerURL": "https://plot.ly"
       },
       "data": [
        {
         "customdata": [
          [
           "2000-02-01T00:00:00",
           "Minutes of the Federal Open Market Committee\n\n\nFebruary 1-2, 2000\n\n\n\n\n\nA meeting of the Federal Open"
          ],
          [
           "2001-02-01T00:00:00",
           "Minutes of the Federal Open Market Committee\n\n\nJanuary 30-31, 2001\n\n\n\n\n\tA meeting of the Federal Ope"
          ],
          [
           "2002-02-01T00:00:00",
           "Minutes of the Federal Open Market Committee\n\n\nJanuary 29-30, 2002\n\n\n\n\nA meeting of the Federal Open"
          ],
          [
           "2003-02-01T00:00:00",
           "Minutes of the Federal Open Market Committee\n\n            January 28-29, 2003\n\n\nA meeting of the Fed"
          ],
          [
           "2004-02-01T00:00:00",
           "Minutes of the Federal Open Market Committee\n\n      January 27-28, 2004  A meeting of the Federal Op"
          ],
          [
           "2005-02-01T00:00:00",
           "Minutes of the Federal Open Market Committee\n\n      February 1-2, 2005 A meeting of the Federal Open"
          ],
          [
           "2006-02-01T00:00:00",
           "Minutes of the Federal Open Market Committee\n\n      January 31, 2006 \n      A meeting of the Federal"
          ],
          [
           "2007-02-01T00:00:00",
           "Minutes of the Federal Open Market Committee\n\n      January 30-31, 2007\n A meeting of the Federal Op"
          ],
          [
           "2008-01-01T00:00:00",
           "A meeting of the Federal Open Market Committee was held in the offices of the Board of Governors of "
          ],
          [
           "2008-02-01T00:00:00",
           "A meeting of the Federal Open Market Committee was held in the offices of the Board of Governors of "
          ],
          [
           "2009-01-01T00:00:00",
           "A meeting of the Federal Open Market Committee was held in the offices of the Board of Governors of "
          ],
          [
           "2009-02-01T00:00:00",
           "A meeting of the Federal Open Market Committee was held in the offices of the Board of Governors of "
          ],
          [
           "2010-01-01T00:00:00",
           "A joint meeting of the Federal Open Market Committee and the Board of Governors of the Federal Reser"
          ],
          [
           "2011-01-01T00:00:00",
           "A meeting of the Federal Open Market Committee was held in the offices of the Board of Governors in "
          ],
          [
           "2012-01-01T00:00:00",
           "Minutes of the Federal Open Market Committee\n                                                \n      "
          ],
          [
           "2013-02-01T00:00:00",
           "Minutes of the Federal Open Market Committee\n                                                \n      "
          ],
          [
           "2014-02-01T00:00:00",
           "Minutes of the Federal Open Market Committee\n                                                \n      "
          ],
          [
           "2015-02-01T00:00:00",
           "Minutes of the Federal Open Market Committee\n                                                \n      "
          ],
          [
           "2016-01-01T00:00:00",
           "Minutes of the Federal Open Market Committee\n                                                \n      "
          ],
          [
           "2016-09-01T00:00:00",
           "Minutes of the Federal Open Market Committee\n                                                \n      "
          ],
          [
           "2017-02-01T00:00:00",
           "Minutes of the Federal Open Market Committee\n                                                \n      "
          ],
          [
           "2018-02-01T00:00:00",
           "Minutes of the Federal Open Market Committee\n                                                \n      "
          ],
          [
           "2019-02-01T00:00:00",
           "Minutes of the Federal Open Market Committee\n                                                \n      "
          ],
          [
           "2020-02-01T00:00:00",
           "Minutes of the Federal Open Market Committee\n                                                \n      "
          ],
          [
           "2021-01-01T00:00:00",
           "Minutes of the Federal Open Market Committee\n                                                \n      "
          ],
          [
           "2022-01-01T00:00:00",
           "Minutes of the Federal Open Market Committee\n                                                \n      "
          ]
         ],
         "hovertemplate": "color=0<br>x=%{x}<br>y=%{y}<br>date=%{customdata[0]}<br>text=%{customdata[1]}<extra></extra>",
         "legendgroup": "0",
         "marker": {
          "color": "#636efa",
          "symbol": "circle"
         },
         "mode": "markers",
         "name": "0",
         "orientation": "v",
         "showlegend": true,
         "type": "scatter",
         "x": [
          2.525312662124634,
          2.4524271488189697,
          2.3682644367218018,
          2.4457576274871826,
          2.259807586669922,
          2.42081356048584,
          2.3802618980407715,
          2.428007125854492,
          2.495875358581543,
          2.4776077270507812,
          1.73636794090271,
          1.6600866317749023,
          1.6314085721969604,
          1.554161787033081,
          1.7073630094528198,
          1.6129904985427856,
          1.545693039894104,
          1.41415274143219,
          1.367153525352478,
          1.3845597505569458,
          1.4001926183700562,
          1.3993823528289795,
          1.3683384656906128,
          1.4634711742401123,
          1.4426783323287964,
          1.4880414009094238
         ],
         "xaxis": "x",
         "y": [
          7.523463726043701,
          7.6194233894348145,
          7.673252582550049,
          7.796726703643799,
          7.667796611785889,
          7.585537910461426,
          7.5691609382629395,
          7.388655662536621,
          7.328866958618164,
          7.3117780685424805,
          7.277209758758545,
          7.245795726776123,
          7.41272497177124,
          7.671993732452393,
          7.838229656219482,
          8.04354476928711,
          8.189556121826172,
          8.680438995361328,
          8.785046577453613,
          8.909318923950195,
          9.030891418457031,
          8.990008354187012,
          9.05612850189209,
          9.069887161254883,
          9.325014114379883,
          9.349151611328125
         ],
         "yaxis": "y"
        },
        {
         "customdata": [
          [
           "2000-03-01T00:00:00",
           "Minutes of the Federal Open Market Committee\n\n\nMarch 21, 2000\n\n\n\n\n\nA meeting of the Federal Open Mar"
          ],
          [
           "2000-05-01T00:00:00",
           "Minutes of the Federal Open Market Committee\n\n\nMay 16, 2000\n\n\n\n\n\nA meeting of the Federal Open Marke"
          ],
          [
           "2000-07-01T00:00:00",
           "Minutes of the Federal Open Market Committee\n\n\nJune 27-28, 2000\n\n\n\n\nA meeting of the Federal Open Ma"
          ],
          [
           "2000-08-01T00:00:00",
           "Minutes of the Federal Open Market Committee\n\n\nAugust 22, 2000\n\n\n\n\nA meeting of the Federal Open Mar"
          ],
          [
           "2000-10-01T00:00:00",
           "Minutes of the Federal Open Market Committee\n\n\nOctober 3, 2000\n\n\n\n\nA meeting of the Federal Open Mar"
          ],
          [
           "2000-11-01T00:00:00",
           "Minutes of the Federal Open Market Committee\n\n\nNovember 15, 2000\n\n\n\n\nA meeting of the Federal Open M"
          ],
          [
           "2000-12-01T00:00:00",
           "Minutes of the Federal Open Market Committee\n\n\nDecember 19, 2000\n\n\n\n\nA meeting of the Federal Open M"
          ],
          [
           "2001-01-01T00:00:00",
           "Minutes of the Federal Open Market Committee\n\n\nDecember 19, 2000\n\n\n\n\nA meeting of the Federal Open M"
          ],
          [
           "2001-03-01T00:00:00",
           "Minutes of the Federal Open Market Committee\n\n\nMarch 20, 2001\n\n\n\n\nA meeting of the Federal Open Mark"
          ],
          [
           "2001-04-01T00:00:00",
           "Minutes of the Federal Open Market Committee\n\n\nMarch 20, 2001\n\n\n\n\nA meeting of the Federal Open Mark"
          ],
          [
           "2001-05-01T00:00:00",
           "Minutes of the Federal Open Market Committee\n\n\nMay 15, 2001 \n\n\n\n\nA meeting of the Federal Open Marke"
          ],
          [
           "2001-06-01T00:00:00",
           "Minutes of the Federal Open Market Committee\n\n\nJune 26-27, 2001\n\n\n\n\nA meeting of the Federal Open Ma"
          ],
          [
           "2001-08-01T00:00:00",
           "Minutes of the Federal Open Market Committee\n\n\nAugust 21, 2001 \n\n\n\n\nA meeting of the Federal Open Ma"
          ],
          [
           "2001-09-01T00:00:00",
           "Minutes of the Federal Open Market Committee\n\n\nAugust 21, 2001 \n\n\n\n\nA meeting of the Federal Open Ma"
          ],
          [
           "2001-10-01T00:00:00",
           "Minutes of the Federal Open Market Committee\n\n\nOctober 2, 2001 \n\n\n\n\nA meeting of the Federal Open Ma"
          ],
          [
           "2001-11-01T00:00:00",
           "Minutes of the Federal Open Market Committee\n\n\nNovember 6, 2001 \n\n\n\n\nA meeting of the Federal Open M"
          ],
          [
           "2001-12-01T00:00:00",
           "Minutes of the Federal Open Market Committee\n\n\nDecember 11, 2001\n\n\n\n\n\nA meeting of the Federal Open "
          ],
          [
           "2002-03-01T00:00:00",
           "Minutes of the Federal Open Market Committee\n\n\nMarch 19, 2002\n\n\n\n\nA meeting of the Federal Open Mark"
          ],
          [
           "2002-05-01T00:00:00",
           "Minutes of the Federal Open Market Committee\n\n\nMay 7, 2002 \n\n\n\n\nA meeting of the Federal Open Market"
          ],
          [
           "2002-06-01T00:00:00",
           "Minutes of the Federal Open Market Committee\n\nJune 25-26, 2002 \n\nA meeting of the Federal Open Marke"
          ],
          [
           "2002-08-01T00:00:00",
           "Minutes of the Federal Open Market Committee\n\nAugust 13, 2002 \n\nA meeting of the Federal Open Market"
          ],
          [
           "2002-09-01T00:00:00",
           "Minutes of the Federal Open Market Committee\n\nSeptember 24, 2002 \n       A meeting of the Federal Op"
          ],
          [
           "2002-11-01T00:00:00",
           "Minutes of the Federal Open Market Committee\n\nNovember 6, 2002 \n       A meeting of the Federal Open"
          ],
          [
           "2002-12-01T00:00:00",
           "Minutes of the Federal Open Market Committee\n\nDecember 10, 2002 \n       A meeting of the Federal Ope"
          ],
          [
           "2003-03-01T00:00:00",
           "Minutes of the Federal Open Market Committee\n\n\nMarch 18, 2003\n\n\n\n\nA meeting of the Federal Open Mark"
          ],
          [
           "2003-04-01T00:00:00",
           "Minutes of the Federal Open Market Committee\n\n\nMarch 18, 2003\n\n\n\n\nA meeting of the Federal Open Mark"
          ],
          [
           "2003-05-01T00:00:00",
           "Minutes of the Federal Open Market Committee\n\n\nMay 6, 2003\n\n\n\n\nA meeting of the Federal Open Market "
          ],
          [
           "2003-06-01T00:00:00",
           "Minutes of the Federal Open Market Committee\n\n\nJune 24-25, 2003\n\n\n\nA meeting of the Federal Open Mar"
          ],
          [
           "2003-08-01T00:00:00",
           "Minutes of the Federal Open Market Committee\n\n\nAugust 12, 2003\n\n\n\nA meeting of the Federal Open Mark"
          ],
          [
           "2003-09-01T00:00:00",
           "Minutes of the Federal Open Market Committee\n\n\nAugust 12, 2003\n\n\n\nA meeting of the Federal Open Mark"
          ],
          [
           "2003-11-01T00:00:00",
           "Minutes of the Federal Open Market Committee\n\n\nOctober 28, 2003\n\n\n\nA meeting of the Federal Open Mar"
          ]
         ],
         "hovertemplate": "color=2<br>x=%{x}<br>y=%{y}<br>date=%{customdata[0]}<br>text=%{customdata[1]}<extra></extra>",
         "legendgroup": "2",
         "marker": {
          "color": "#EF553B",
          "symbol": "circle"
         },
         "mode": "markers",
         "name": "2",
         "orientation": "v",
         "showlegend": true,
         "type": "scatter",
         "x": [
          11.081323623657227,
          11.103548049926758,
          11.05976676940918,
          11.197894096374512,
          11.281004905700684,
          11.331875801086426,
          11.48947811126709,
          11.453383445739746,
          11.435811996459961,
          11.470294952392578,
          11.37839126586914,
          11.487320899963379,
          11.62169075012207,
          11.666064262390137,
          11.482622146606445,
          11.367864608764648,
          11.101358413696289,
          10.70217227935791,
          10.666638374328613,
          10.499139785766602,
          10.51086139678955,
          10.3916597366333,
          10.433794021606445,
          10.464954376220703,
          10.212969779968262,
          10.230904579162598,
          9.99427318572998,
          10.106133460998535,
          9.865579605102539,
          9.93901538848877,
          9.808713912963867
         ],
         "xaxis": "x",
         "y": [
          0.7764380574226379,
          0.8749770522117615,
          0.7857621908187866,
          0.7661057114601135,
          0.830662190914154,
          0.7737628817558289,
          0.9597092866897583,
          0.9172026515007019,
          1.3310743570327759,
          1.2896661758422852,
          1.404718041419983,
          1.3935920000076294,
          1.6573717594146729,
          1.5594861507415771,
          1.7165495157241821,
          1.608106255531311,
          1.564348578453064,
          1.3582797050476074,
          1.3951894044876099,
          1.503150224685669,
          1.5376849174499512,
          1.3974725008010864,
          1.3897356986999512,
          1.4897065162658691,
          1.4676676988601685,
          1.4558124542236328,
          1.5205782651901245,
          1.5907692909240723,
          1.78899085521698,
          1.8560322523117065,
          1.7342736721038818
         ],
         "yaxis": "y"
        },
        {
         "customdata": [
          [
           "2003-12-01T00:00:00",
           "Minutes of the Federal Open Market Committee\n\n\nDecember 9, 2003\n\n\n\nA meeting of the Federal Open Mar"
          ],
          [
           "2004-03-01T00:00:00",
           "Minutes of the Federal Open Market Committee\n\n      March 16, 2004  A meeting of the Federal Open Ma"
          ],
          [
           "2004-05-01T00:00:00",
           "Minutes of the Federal Open Market Committee\n\n      May 4, 2004 A meeting of the Federal Open Market"
          ],
          [
           "2004-07-01T00:00:00",
           "Minutes of the Federal Open Market Committee\n\n      June 29-30, 2004 A meeting of the Federal Open M"
          ],
          [
           "2004-08-01T00:00:00",
           "Minutes of the Federal Open Market Committee\n\n      August 10, 2004 A meeting of the Federal Open Ma"
          ],
          [
           "2004-09-01T00:00:00",
           "Minutes of the Federal Open Market Committee\n\n      September 21, 2004 A meeting of the Federal Open"
          ],
          [
           "2004-11-01T00:00:00",
           "Minutes of the Federal Open Market Committee\n\n      November 10, 2004 A meeting of the Federal Open "
          ],
          [
           "2004-12-01T00:00:00",
           "Minutes of the Federal Open Market Committee\n\n      December 14, 2004 A meeting of the Federal Open "
          ],
          [
           "2005-03-01T00:00:00",
           "Minutes of the Federal Open Market Committee\n\n      March 22, 2005 A meeting of the Federal Open Mar"
          ],
          [
           "2005-05-01T00:00:00",
           "Minutes of the Federal Open Market Committee\n\n      May 3, 2005 \n      A meeting of the Federal Open"
          ],
          [
           "2005-07-01T00:00:00",
           "Minutes of the Federal Open Market Committee\n\n      June 29-30, 2005 A meeting of the Federal Open M"
          ],
          [
           "2005-08-01T00:00:00",
           "Minutes of the Federal Open Market Committee\n\n      August 9, 2005 \n\nA meeting of the Federal Open M"
          ],
          [
           "2005-09-01T00:00:00",
           "Minutes of the Federal Open Market Committee\n\n      September 20, 2005 A meeting of the Federal Open"
          ],
          [
           "2005-11-01T00:00:00",
           "Minutes of the Federal Open Market Committee\n\n      November 1, 2005 A meeting of the Federal Open M"
          ],
          [
           "2005-12-01T00:00:00",
           "Minutes of the Federal Open Market Committee\n\n      December 13, 2005 \n      A meeting of the Federa"
          ],
          [
           "2006-04-01T00:00:00",
           "Minutes of the Federal Open Market Committee\n\n      March 27-28, 2006\n A meeting of the Federal Open"
          ],
          [
           "2006-05-01T00:00:00",
           "Minutes of the Federal Open Market Committee\n\n      May 10, 2006\n A meeting of the Federal Open Mark"
          ],
          [
           "2006-07-01T00:00:00",
           "Minutes of the Federal Open Market Committee\n\n      June 28-29, 2006\n A meeting of the Federal Open "
          ],
          [
           "2006-08-01T00:00:00",
           "Minutes of the Federal Open Market Committee\n\n      August 8, 2006\n A meeting of the Federal Open Ma"
          ],
          [
           "2006-09-01T00:00:00",
           "Minutes of the Federal Open Market Committee\n\n      September 20, 2006\n A meeting of the Federal Ope"
          ],
          [
           "2006-10-01T00:00:00",
           "Minutes of the Federal Open Market Committee\n\n      October 24-25, 2006\n A meeting of the Federal Op"
          ],
          [
           "2006-12-01T00:00:00",
           "Minutes of the Federal Open Market Committee\n\n      December 12, 2006\n A meeting of the Federal Open"
          ],
          [
           "2007-03-01T00:00:00",
           "Minutes of the Federal Open Market Committee\n\n      March 20-21, 2007\n A meeting of the Federal Open"
          ],
          [
           "2007-05-01T00:00:00",
           "Minutes of the Federal Open Market Committee\n\n      May 9, 2007\nA meeting of the Federal Open Market"
          ]
         ],
         "hovertemplate": "color=4<br>x=%{x}<br>y=%{y}<br>date=%{customdata[0]}<br>text=%{customdata[1]}<extra></extra>",
         "legendgroup": "4",
         "marker": {
          "color": "#00cc96",
          "symbol": "circle"
         },
         "mode": "markers",
         "name": "4",
         "orientation": "v",
         "showlegend": true,
         "type": "scatter",
         "x": [
          9.721243858337402,
          6.9554853439331055,
          6.845209121704102,
          6.6517229080200195,
          6.505918979644775,
          6.37608003616333,
          6.442647933959961,
          6.439510822296143,
          6.424587726593018,
          6.331565856933594,
          6.287479400634766,
          6.272895336151123,
          6.18278169631958,
          6.079522132873535,
          5.97850227355957,
          5.309686183929443,
          5.271329879760742,
          5.1625165939331055,
          5.0424485206604,
          4.928736686706543,
          4.86858606338501,
          4.749537944793701,
          4.952998638153076,
          4.472419738769531
         ],
         "xaxis": "x",
         "y": [
          1.9190490245819092,
          3.1165354251861572,
          3.1524600982666016,
          3.2782247066497803,
          3.3644216060638428,
          3.468315362930298,
          3.391526699066162,
          3.3979151248931885,
          3.107009172439575,
          3.304792642593384,
          3.4559578895568848,
          3.497006893157959,
          3.449150323867798,
          3.579145908355713,
          3.5449841022491455,
          3.846989631652832,
          3.8658251762390137,
          3.9289212226867676,
          3.963306188583374,
          4.099099636077881,
          4.068894863128662,
          4.155341625213623,
          3.976746082305908,
          4.28114128112793
         ],
         "yaxis": "y"
        },
        {
         "customdata": [
          [
           "2007-07-01T00:00:00",
           "Minutes of the Federal Open Market Committee\n\n      June 27-28, 2007\nA meeting of the Federal Open M"
          ],
          [
           "2007-08-01T00:00:00",
           "Minutes of the Federal Open Market Committee\n\n      August 7, 2007\n      A  meeting of the Federal O"
          ],
          [
           "2007-09-01T00:00:00",
           "Minutes of the Federal Open Market Committee\n\n      September 18, 2007\n      A meeting of the Federa"
          ],
          [
           "2007-11-01T00:00:00",
           "A meeting of the Federal Open Market Committee was held in the offices of the Board of Governors of "
          ],
          [
           "2007-12-01T00:00:00",
           "A meeting of the Federal Open Market Committee was held in the offices of the Board of Governors of "
          ],
          [
           "2008-03-01T00:00:00",
           "A meeting of the Federal Open Market Committee was held in the offices of the Board of Governors of "
          ],
          [
           "2008-05-01T00:00:00",
           "A meeting of the Federal Open Market Committee was held in the offices of the Board of Governors of "
          ],
          [
           "2008-06-01T00:00:00",
           "A meeting of the Federal Open Market Committee was held in the offices of the Board of Governors of "
          ],
          [
           "2008-07-01T00:00:00",
           "A meeting of the Federal Open Market Committee was held in the offices of the Board of Governors of "
          ],
          [
           "2008-08-01T00:00:00",
           "A meeting of the Federal Open Market Committee was held in the offices of the Board of Governors of "
          ],
          [
           "2008-09-01T00:00:00",
           "A meeting of the Federal Open Market Committee was held in the offices of the Board of Governors of "
          ],
          [
           "2008-10-01T00:00:00",
           "A meeting of the Federal Open Market Committee was held in the offices of the Board of Governors of "
          ],
          [
           "2008-11-01T00:00:00",
           "A meeting of the Federal Open Market Committee was held in the offices of the Board of Governors of "
          ],
          [
           "2008-12-01T00:00:00",
           "A meeting of the Federal Open Market Committee was held in the offices of the Board of Governors of "
          ]
         ],
         "hovertemplate": "color=6<br>x=%{x}<br>y=%{y}<br>date=%{customdata[0]}<br>text=%{customdata[1]}<extra></extra>",
         "legendgroup": "6",
         "marker": {
          "color": "#ab63fa",
          "symbol": "circle"
         },
         "mode": "markers",
         "name": "6",
         "orientation": "v",
         "showlegend": true,
         "type": "scatter",
         "x": [
          4.46164083480835,
          4.22648811340332,
          3.0924932956695557,
          3.007533073425293,
          2.905240297317505,
          2.659214735031128,
          2.618072271347046,
          2.7037410736083984,
          2.5572733879089355,
          2.6246230602264404,
          2.403975009918213,
          2.2955305576324463,
          2.2701544761657715,
          2.004744291305542
         ],
         "xaxis": "x",
         "y": [
          4.267960071563721,
          4.427632808685303,
          5.059157371520996,
          5.210203647613525,
          5.269267559051514,
          5.461612224578857,
          5.429227352142334,
          5.307445049285889,
          5.252266883850098,
          5.342248439788818,
          5.158009052276611,
          5.267870903015137,
          5.137496471405029,
          5.455300807952881
         ],
         "yaxis": "y"
        },
        {
         "customdata": [
          [
           "2009-03-01T00:00:00",
           "A meeting of the Federal Open Market Committee was held in the offices of the Board of Governors of "
          ],
          [
           "2009-05-01T00:00:00",
           "A joint meeting of the Federal Open Market Committee and the Board of Governors of the Federal Reser"
          ],
          [
           "2009-06-01T00:00:00",
           "A joint meeting of the Federal Open Market Committee and the Board of Governors of the Federal Reser"
          ],
          [
           "2009-08-01T00:00:00",
           "A joint meeting of the Federal Open Market Committee and the Board of Governors of the Federal Reser"
          ],
          [
           "2009-09-01T00:00:00",
           "A joint meeting of the Federal Open Market Committee and the Board of Governors of the Federal Reser"
          ],
          [
           "2009-11-01T00:00:00",
           "A joint meeting of the Federal Open Market Committee and the Board of Governors of the Federal Reser"
          ],
          [
           "2009-12-01T00:00:00",
           "A joint meeting of the Federal Open Market Committee and the Board of Governors of the Federal Reser"
          ],
          [
           "2010-03-01T00:00:00",
           "A joint meeting of the Federal Open Market Committee and the Board of Governors of the Federal Reser"
          ],
          [
           "2010-05-01T00:00:00",
           "A joint meeting of the Federal Open Market Committee and the Board of Governors of the Federal Reser"
          ],
          [
           "2010-06-01T00:00:00",
           "A joint meeting of the Federal Open Market Committee and the Board of Governors of the Federal Reser"
          ],
          [
           "2010-08-01T00:00:00",
           "A joint meeting of the Federal Open Market Committee and the Board of Governors of the Federal Reser"
          ],
          [
           "2010-09-01T00:00:00",
           "A joint meeting of the Federal Open Market Committee and the Board of Governors of the Federal Reser"
          ],
          [
           "2010-10-01T00:00:00",
           "A meeting of the Federal Open Market Committee was held in the offices of the Board of Governors in "
          ],
          [
           "2010-11-01T00:00:00",
           "A meeting of the Federal Open Market Committee was held in the offices of the Board of Governors in "
          ],
          [
           "2010-12-01T00:00:00",
           "A meeting of the Federal Open Market Committee was held in the offices of the Board of Governors in "
          ],
          [
           "2011-03-01T00:00:00",
           "A meeting of the Federal Open Market Committee was held in the offices of the Board of Governors in "
          ],
          [
           "2011-04-01T00:00:00",
           "A joint meeting of the Federal Open Market Committee and the Board of Governors of the Federal Reser"
          ],
          [
           "2011-06-01T00:00:00",
           "A joint meeting of the Federal Open Market Committee and the Board of Governors of the Federal Reser"
          ],
          [
           "2011-08-01T00:00:00",
           "A joint meeting of the Federal Open Market Committee and the Board of Governors of the Federal Reser"
          ],
          [
           "2011-09-01T00:00:00",
           "A joint meeting of the Federal Open Market Committee and the Board of Governors of the Federal Reser"
          ],
          [
           "2011-11-01T00:00:00",
           "A joint meeting of the Federal Open Market Committee and the Board of Governors of the Federal Reser"
          ],
          [
           "2011-12-01T00:00:00",
           "A joint meeting of the Federal Open Market Committee and the Board of Governors of the Federal Reser"
          ],
          [
           "2012-03-01T00:00:00",
           "Minutes of the Federal Open Market Committee\n                                                \n      "
          ],
          [
           "2012-04-01T00:00:00",
           "Minutes of the Federal Open Market Committee\n                                                \n      "
          ],
          [
           "2012-06-01T00:00:00",
           "Minutes of the Federal Open Market Committee\n                                                \n      "
          ],
          [
           "2012-08-01T00:00:00",
           "Minutes of the Federal Open Market Committee\n                                                \n      "
          ],
          [
           "2012-09-01T00:00:00",
           "Minutes of the Federal Open Market Committee\n                                                \n      "
          ],
          [
           "2012-10-01T00:00:00",
           "Minutes of the Federal Open Market Committee\n                                                \n      "
          ],
          [
           "2012-12-01T00:00:00",
           "Minutes of the Federal Open Market Committee\n                                                \n      "
          ],
          [
           "2013-03-01T00:00:00",
           "Minutes of the Federal Open Market Committee\n                                                \n      "
          ],
          [
           "2013-05-01T00:00:00",
           "Minutes of the Federal Open Market Committee\n                                                \n      "
          ],
          [
           "2013-06-01T00:00:00",
           "Minutes of the Federal Open Market Committee\n                                                \n      "
          ],
          [
           "2013-08-01T00:00:00",
           "Minutes of the Federal Open Market Committee\n                                                \n      "
          ]
         ],
         "hovertemplate": "color=5<br>x=%{x}<br>y=%{y}<br>date=%{customdata[0]}<br>text=%{customdata[1]}<extra></extra>",
         "legendgroup": "5",
         "marker": {
          "color": "#FFA15A",
          "symbol": "circle"
         },
         "mode": "markers",
         "name": "5",
         "orientation": "v",
         "showlegend": true,
         "type": "scatter",
         "x": [
          1.4999264478683472,
          1.3861585855484009,
          1.3364617824554443,
          1.2124645709991455,
          1.080815076828003,
          1.0003472566604614,
          0.9095191955566406,
          0.5874550342559814,
          0.3260052502155304,
          0.14611531794071198,
          0.1842382252216339,
          0.018222205340862274,
          -0.24706585705280304,
          -0.2045106589794159,
          -0.11700302362442017,
          -0.44536006450653076,
          -0.3704903721809387,
          -0.5196090936660767,
          -0.6618391871452332,
          -0.8399895429611206,
          -0.8674386739730835,
          -0.8753951787948608,
          -1.028281569480896,
          -1.1055485010147095,
          -1.1704728603363037,
          -1.2440952062606812,
          -1.3436381816864014,
          -1.404255986213684,
          -1.5383682250976562,
          -1.729274868965149,
          -1.8377951383590698,
          -1.7498199939727783,
          -1.8174716234207153
         ],
         "xaxis": "x",
         "y": [
          5.8665571212768555,
          5.960904598236084,
          5.829233169555664,
          5.95957612991333,
          6.047341823577881,
          5.992031574249268,
          6.176550388336182,
          6.399868488311768,
          6.561897277832031,
          6.700484752655029,
          6.668082237243652,
          6.755278587341309,
          6.931259632110596,
          6.968019485473633,
          7.082082748413086,
          7.248877048492432,
          7.18856954574585,
          7.282774448394775,
          7.369454383850098,
          7.5798516273498535,
          7.62268590927124,
          7.659626007080078,
          7.884281158447266,
          7.988586902618408,
          8.022139549255371,
          8.100855827331543,
          8.414287567138672,
          8.523355484008789,
          8.778694152832031,
          9.233702659606934,
          9.251124382019043,
          9.409294128417969,
          9.437105178833008
         ],
         "yaxis": "y"
        },
        {
         "customdata": [
          [
           "2013-09-01T00:00:00",
           "Minutes of the Federal Open Market Committee\n                                                \n      "
          ],
          [
           "2013-10-01T00:00:00",
           "Minutes of the Federal Open Market Committee\n                                                \n      "
          ],
          [
           "2013-11-01T00:00:00",
           "Minutes of the Federal Open Market Committee\n                                                \n      "
          ],
          [
           "2013-12-01T00:00:00",
           "Minutes of the Federal Open Market Committee\n                                                \n      "
          ],
          [
           "2014-03-01T00:00:00",
           "Minutes of the Federal Open Market Committee\n                                                \n      "
          ],
          [
           "2014-05-01T00:00:00",
           "Minutes of the Federal Open Market Committee\n                                                \n      "
          ],
          [
           "2014-06-01T00:00:00",
           "Minutes of the Federal Open Market Committee\n                                                \n      "
          ],
          [
           "2014-08-01T00:00:00",
           "Minutes of the Federal Open Market Committee\n                                                \n      "
          ],
          [
           "2014-09-01T00:00:00",
           "Minutes of the Federal Open Market Committee\n                                                \n      "
          ],
          [
           "2014-11-01T00:00:00",
           "Minutes of the Federal Open Market Committee\n                                                \n      "
          ],
          [
           "2014-12-01T00:00:00",
           "Minutes of the Federal Open Market Committee\n                                                \n      "
          ],
          [
           "2015-03-01T00:00:00",
           "Minutes of the Federal Open Market Committee\n                                                \n      "
          ],
          [
           "2015-05-01T00:00:00",
           "Minutes of the Federal Open Market Committee\n                                                \n      "
          ],
          [
           "2015-06-01T00:00:00",
           "Minutes of the Federal Open Market Committee\n                                                \n      "
          ],
          [
           "2015-08-01T00:00:00",
           "Minutes of the Federal Open Market Committee\n                                                \n      "
          ],
          [
           "2015-09-01T00:00:00",
           "Minutes of the Federal Open Market Committee\n                                                \n      "
          ],
          [
           "2015-11-01T00:00:00",
           "Minutes of the Federal Open Market Committee\n                                                \n      "
          ],
          [
           "2015-12-01T00:00:00",
           "Minutes of the Federal Open Market Committee\n                                                \n      "
          ],
          [
           "2016-03-01T00:00:00",
           "Minutes of the Federal Open Market Committee\n                                                \n      "
          ],
          [
           "2016-04-01T00:00:00",
           "Minutes of the Federal Open Market Committee\n                                                \n      "
          ],
          [
           "2016-06-01T00:00:00",
           "Minutes of the Federal Open Market Committee\n                                                \n      "
          ],
          [
           "2016-07-01T00:00:00",
           "Minutes of the Federal Open Market Committee\n                                                \n      "
          ],
          [
           "2016-12-01T00:00:00",
           "Minutes of the Federal Open Market Committee\n                                                \n      "
          ]
         ],
         "hovertemplate": "color=7<br>x=%{x}<br>y=%{y}<br>date=%{customdata[0]}<br>text=%{customdata[1]}<extra></extra>",
         "legendgroup": "7",
         "marker": {
          "color": "#19d3f3",
          "symbol": "circle"
         },
         "mode": "markers",
         "name": "7",
         "orientation": "v",
         "showlegend": true,
         "type": "scatter",
         "x": [
          -1.888930082321167,
          -1.8809517621994019,
          -1.8322720527648926,
          -1.943745732307434,
          -1.8755131959915161,
          -1.9205859899520874,
          -2.0259244441986084,
          -1.9699149131774902,
          -1.92576003074646,
          -1.9295072555541992,
          -1.9114471673965454,
          -1.9333512783050537,
          -1.8309985399246216,
          -1.914086103439331,
          -1.873270034790039,
          -1.8801463842391968,
          -1.8769584894180298,
          -1.7617526054382324,
          -1.6042091846466064,
          -1.6509294509887695,
          -1.733587622642517,
          -1.6650471687316895,
          -1.5571928024291992
         ],
         "xaxis": "x",
         "y": [
          9.512422561645508,
          9.545736312866211,
          9.585238456726074,
          9.739566802978516,
          10.104623794555664,
          10.181390762329102,
          10.383417129516602,
          10.51345157623291,
          10.724322319030762,
          10.989331245422363,
          11.196146965026855,
          11.393705368041992,
          11.695557594299316,
          11.63351058959961,
          11.691021919250488,
          11.814969062805176,
          11.860987663269043,
          12.1816987991333,
          12.478458404541016,
          12.388873100280762,
          12.397395133972168,
          12.48391056060791,
          12.930335998535156
         ],
         "yaxis": "y"
        },
        {
         "customdata": [
          [
           "2016-11-01T00:00:00",
           "Minutes of the Federal Open Market Committee\n                                                \n      "
          ],
          [
           "2017-03-01T00:00:00",
           "Minutes of the Federal Open Market Committee\n                                                \n      "
          ],
          [
           "2017-05-01T00:00:00",
           "Minutes of the Federal Open Market Committee\n                                                \n      "
          ],
          [
           "2017-06-01T00:00:00",
           "Minutes of the Federal Open Market Committee\n                                                \n      "
          ],
          [
           "2017-07-01T00:00:00",
           "Minutes of the Federal Open Market Committee\n                                                \n      "
          ],
          [
           "2017-09-01T00:00:00",
           "Minutes of the Federal Open Market Committee\n                                                \n      "
          ],
          [
           "2017-11-01T00:00:00",
           "Minutes of the Federal Open Market Committee\n                                                \n      "
          ],
          [
           "2017-12-01T00:00:00",
           "Minutes of the Federal Open Market Committee\n                                                \n      "
          ],
          [
           "2018-03-01T00:00:00",
           "Minutes of the Federal Open Market Committee\n                                                \n      "
          ],
          [
           "2018-05-01T00:00:00",
           "Minutes of the Federal Open Market Committee\n                                                \n      "
          ],
          [
           "2018-06-01T00:00:00",
           "Minutes of the Federal Open Market Committee\n                                                \n      "
          ],
          [
           "2018-08-01T00:00:00",
           "Minutes of the Federal Open Market Committee\n                                                \n      "
          ],
          [
           "2018-09-01T00:00:00",
           "Minutes of the Federal Open Market Committee\n                                                \n      "
          ],
          [
           "2018-11-01T00:00:00",
           "Minutes of the Federal Open Market Committee\n                                                \n      "
          ],
          [
           "2018-12-01T00:00:00",
           "Minutes of the Federal Open Market Committee\n                                                \n      "
          ],
          [
           "2019-03-01T00:00:00",
           "Minutes of the Federal Open Market Committee\n                                                \n      "
          ],
          [
           "2019-05-01T00:00:00",
           "Minutes of the Federal Open Market Committee\n                                                \n      "
          ],
          [
           "2019-06-01T00:00:00",
           "Minutes of the Federal Open Market Committee\n                                                \n      "
          ],
          [
           "2019-08-01T00:00:00",
           "Minutes of the Federal Open Market Committee\n                                                \n      "
          ],
          [
           "2019-09-01T00:00:00",
           "Minutes of the Federal Open Market Committee\n                                                \n      "
          ],
          [
           "2019-10-01T00:00:00",
           "Minutes of the Federal Open Market Committee\n                                                \n      "
          ],
          [
           "2019-11-01T00:00:00",
           "Minutes of the Federal Open Market Committee\n                                                \n      "
          ],
          [
           "2019-12-01T00:00:00",
           "Minutes of the Federal Open Market Committee\n                                                \n      "
          ],
          [
           "2020-03-01T00:00:00",
           "Minutes of the Federal Open Market Committee\n                                                \n      "
          ],
          [
           "2020-05-01T00:00:00",
           "Minutes of the Federal Open Market Committee\n                                                \n      "
          ],
          [
           "2020-06-01T00:00:00",
           "Minutes of the Federal Open Market Committee\n                                                \n      "
          ]
         ],
         "hovertemplate": "color=1<br>x=%{x}<br>y=%{y}<br>date=%{customdata[0]}<br>text=%{customdata[1]}<extra></extra>",
         "legendgroup": "1",
         "marker": {
          "color": "#FF6692",
          "symbol": "circle"
         },
         "mode": "markers",
         "name": "1",
         "orientation": "v",
         "showlegend": true,
         "type": "scatter",
         "x": [
          -1.5908772945404053,
          -1.5171585083007812,
          -1.4101684093475342,
          -1.477229356765747,
          -1.58525812625885,
          -1.2892193794250488,
          -1.383434534072876,
          -1.3087217807769775,
          -1.2867350578308105,
          -1.1025029420852661,
          -1.050512671470642,
          -0.9629356265068054,
          -1.1029309034347534,
          -0.8641930818557739,
          -0.8168325424194336,
          -0.8121603727340698,
          -0.7253497838973999,
          -0.6937695741653442,
          -0.5835002660751343,
          -0.5300480127334595,
          -0.42083245515823364,
          -0.43678784370422363,
          -0.3800378739833832,
          1.4530788660049438,
          1.5295374393463135,
          1.5996582508087158
         ],
         "xaxis": "x",
         "y": [
          12.7147216796875,
          13.053145408630371,
          13.171342849731445,
          13.250494956970215,
          13.327324867248535,
          13.312736511230469,
          13.459382057189941,
          13.499073028564453,
          13.558107376098633,
          13.794893264770508,
          13.852555274963379,
          13.978625297546387,
          13.793556213378906,
          14.05482006072998,
          14.134062767028809,
          14.182332038879395,
          14.220215797424316,
          14.146439552307129,
          14.28792667388916,
          14.23885440826416,
          14.111686706542969,
          14.163717269897461,
          14.142195701599121,
          11.870339393615723,
          11.868082046508789,
          11.928019523620605
         ],
         "yaxis": "y"
        },
        {
         "customdata": [
          [
           "2020-08-01T00:00:00",
           "Minutes of the Federal Open Market Committee\n                                                \n      "
          ],
          [
           "2020-09-01T00:00:00",
           "Minutes of the Federal Open Market Committee\n                                                \n      "
          ],
          [
           "2020-11-01T00:00:00",
           "Minutes of the Federal Open Market Committee\n                                                \n      "
          ],
          [
           "2020-12-01T00:00:00",
           "Minutes of the Federal Open Market Committee\n                                                \n      "
          ],
          [
           "2021-03-01T00:00:00",
           "Minutes of the Federal Open Market Committee\n                                                \n      "
          ],
          [
           "2021-05-01T00:00:00",
           "Minutes of the Federal Open Market Committee\n                                                \n      "
          ],
          [
           "2021-06-01T00:00:00",
           "Minutes of the Federal Open Market Committee\n                                                \n      "
          ],
          [
           "2021-08-01T00:00:00",
           "Minutes of the Federal Open Market Committee\n                                                \n      "
          ],
          [
           "2021-09-01T00:00:00",
           "Minutes of the Federal Open Market Committee\n                                                \n      "
          ],
          [
           "2021-11-01T00:00:00",
           "Minutes of the Federal Open Market Committee\n                                                \n      "
          ],
          [
           "2021-12-01T00:00:00",
           "Minutes of the Federal Open Market Committee\n                                                \n      "
          ],
          [
           "2022-03-01T00:00:00",
           "Minutes of the Federal Open Market Committee\n                                                \n      "
          ],
          [
           "2022-05-01T00:00:00",
           "Minutes of the Federal Open Market Committee\n                                                \n      "
          ],
          [
           "2022-06-01T00:00:00",
           "Minutes of the Federal Open Market Committee\n                                                \n      "
          ],
          [
           "2022-07-01T00:00:00",
           "Minutes of the Federal Open Market Committee\n                                                \n      "
          ],
          [
           "2022-09-01T00:00:00",
           "Minutes of the Federal Open Market Committee\n                                                \n      "
          ],
          [
           "2022-11-01T00:00:00",
           "Minutes of the Federal Open Market Committee\n                                                \n      "
          ],
          [
           "2022-12-01T00:00:00",
           "Minutes of the Federal Open Market Committee\n                                                \n      "
          ],
          [
           "2023-02-01T00:00:00",
           "Minutes of the Federal Open Market Committee\n                                                \n      "
          ],
          [
           "2023-03-01T00:00:00",
           "Minutes of the Federal Open Market Committee\n                                                \n      "
          ],
          [
           "2023-05-01T00:00:00",
           "Minutes of the Federal Open Market Committee\n                                                \n      "
          ],
          [
           "2023-06-01T00:00:00",
           "Minutes of the Federal Open Market Committee\n                                                \n      "
          ],
          [
           "2023-07-01T00:00:00",
           "Minutes of the Federal Open Market Committee\n                                                \n      "
          ],
          [
           "2023-09-01T00:00:00",
           "Minutes of the Federal Open Market Committee\n                                                \n      "
          ],
          [
           "2023-11-01T00:00:00",
           "Minutes of the Federal Open Market Committee\n                                                \n      "
          ],
          [
           "2023-12-01T00:00:00",
           "Minutes of the Federal Open Market Committee\n                                                \n      "
          ],
          [
           "2024-02-01T00:00:00",
           "Minutes of the Federal Open Market Committee\n                                                \n      "
          ],
          [
           "2024-03-01T00:00:00",
           "Minutes of the Federal Open Market Committee\n                                                \n      "
          ],
          [
           "2024-05-01T00:00:00",
           "Minutes of the Federal Open Market Committee\n                                                \n      "
          ],
          [
           "2024-06-01T00:00:00",
           "Minutes of the Federal Open Market Committee\n                                                \n      "
          ],
          [
           "2024-08-01T00:00:00",
           "Minutes of the Federal Open Market Committee\n                                                \n      "
          ],
          [
           "2024-09-01T00:00:00",
           "Minutes of the Federal Open Market Committee\n                                                \n      "
          ],
          [
           "2024-11-01T00:00:00",
           "Minutes of the Federal Open Market Committee\n                                                \n      "
          ],
          [
           "2024-12-01T00:00:00",
           "Minutes of the Federal Open Market Committee\n                                                \n      "
          ],
          [
           "2025-02-01T00:00:00",
           "Minutes of the Federal Open Market Committee\n                                                \n      "
          ]
         ],
         "hovertemplate": "color=3<br>x=%{x}<br>y=%{y}<br>date=%{customdata[0]}<br>text=%{customdata[1]}<extra></extra>",
         "legendgroup": "3",
         "marker": {
          "color": "#B6E880",
          "symbol": "circle"
         },
         "mode": "markers",
         "name": "3",
         "orientation": "v",
         "showlegend": true,
         "type": "scatter",
         "x": [
          1.7155978679656982,
          1.6970573663711548,
          1.9227720499038696,
          1.93563973903656,
          1.9270483255386353,
          2.0715689659118652,
          1.8972153663635254,
          2.1851744651794434,
          2.1925220489501953,
          2.097564458847046,
          2.2737979888916016,
          -1.1693682670593262,
          -1.1996831893920898,
          -1.286555290222168,
          -1.3545392751693726,
          -1.3505076169967651,
          -1.4434553384780884,
          -1.5472240447998047,
          -1.6558589935302734,
          -1.8280047178268433,
          -1.795331597328186,
          -1.9372040033340454,
          -2.0187721252441406,
          -2.0483622550964355,
          -1.9737074375152588,
          -1.9895391464233398,
          -2.1384897232055664,
          -2.104142189025879,
          -2.177640914916992,
          -2.2478907108306885,
          -2.270616292953491,
          -2.3537447452545166,
          -2.5015311241149902,
          -2.405916690826416,
          -2.498224973678589
         ],
         "xaxis": "x",
         "y": [
          12.00646686553955,
          12.1561279296875,
          12.159717559814453,
          12.192724227905273,
          12.31339168548584,
          12.310523986816406,
          12.230698585510254,
          12.119874954223633,
          12.204431533813477,
          12.252876281738281,
          12.028079986572266,
          17.9674129486084,
          18.003772735595703,
          18.095582962036133,
          18.17340850830078,
          18.17471694946289,
          18.270639419555664,
          18.378173828125,
          18.500988006591797,
          18.702259063720703,
          18.656021118164062,
          18.80923843383789,
          18.881669998168945,
          18.86498260498047,
          18.873746871948242,
          18.927501678466797,
          19.21795654296875,
          19.289981842041016,
          19.332273483276367,
          19.41629981994629,
          19.30641746520996,
          19.37685203552246,
          19.163545608520508,
          19.176721572875977,
          19.17955780029297
         ],
         "yaxis": "y"
        }
       ],
       "layout": {
        "legend": {
         "title": {
          "text": "Cluster"
         },
         "tracegroupgap": 0
        },
        "template": {
         "data": {
          "bar": [
           {
            "error_x": {
             "color": "#2a3f5f"
            },
            "error_y": {
             "color": "#2a3f5f"
            },
            "marker": {
             "line": {
              "color": "#E5ECF6",
              "width": 0.5
             },
             "pattern": {
              "fillmode": "overlay",
              "size": 10,
              "solidity": 0.2
             }
            },
            "type": "bar"
           }
          ],
          "barpolar": [
           {
            "marker": {
             "line": {
              "color": "#E5ECF6",
              "width": 0.5
             },
             "pattern": {
              "fillmode": "overlay",
              "size": 10,
              "solidity": 0.2
             }
            },
            "type": "barpolar"
           }
          ],
          "carpet": [
           {
            "aaxis": {
             "endlinecolor": "#2a3f5f",
             "gridcolor": "white",
             "linecolor": "white",
             "minorgridcolor": "white",
             "startlinecolor": "#2a3f5f"
            },
            "baxis": {
             "endlinecolor": "#2a3f5f",
             "gridcolor": "white",
             "linecolor": "white",
             "minorgridcolor": "white",
             "startlinecolor": "#2a3f5f"
            },
            "type": "carpet"
           }
          ],
          "choropleth": [
           {
            "colorbar": {
             "outlinewidth": 0,
             "ticks": ""
            },
            "type": "choropleth"
           }
          ],
          "contour": [
           {
            "colorbar": {
             "outlinewidth": 0,
             "ticks": ""
            },
            "colorscale": [
             [
              0,
              "#0d0887"
             ],
             [
              0.1111111111111111,
              "#46039f"
             ],
             [
              0.2222222222222222,
              "#7201a8"
             ],
             [
              0.3333333333333333,
              "#9c179e"
             ],
             [
              0.4444444444444444,
              "#bd3786"
             ],
             [
              0.5555555555555556,
              "#d8576b"
             ],
             [
              0.6666666666666666,
              "#ed7953"
             ],
             [
              0.7777777777777778,
              "#fb9f3a"
             ],
             [
              0.8888888888888888,
              "#fdca26"
             ],
             [
              1,
              "#f0f921"
             ]
            ],
            "type": "contour"
           }
          ],
          "contourcarpet": [
           {
            "colorbar": {
             "outlinewidth": 0,
             "ticks": ""
            },
            "type": "contourcarpet"
           }
          ],
          "heatmap": [
           {
            "colorbar": {
             "outlinewidth": 0,
             "ticks": ""
            },
            "colorscale": [
             [
              0,
              "#0d0887"
             ],
             [
              0.1111111111111111,
              "#46039f"
             ],
             [
              0.2222222222222222,
              "#7201a8"
             ],
             [
              0.3333333333333333,
              "#9c179e"
             ],
             [
              0.4444444444444444,
              "#bd3786"
             ],
             [
              0.5555555555555556,
              "#d8576b"
             ],
             [
              0.6666666666666666,
              "#ed7953"
             ],
             [
              0.7777777777777778,
              "#fb9f3a"
             ],
             [
              0.8888888888888888,
              "#fdca26"
             ],
             [
              1,
              "#f0f921"
             ]
            ],
            "type": "heatmap"
           }
          ],
          "heatmapgl": [
           {
            "colorbar": {
             "outlinewidth": 0,
             "ticks": ""
            },
            "colorscale": [
             [
              0,
              "#0d0887"
             ],
             [
              0.1111111111111111,
              "#46039f"
             ],
             [
              0.2222222222222222,
              "#7201a8"
             ],
             [
              0.3333333333333333,
              "#9c179e"
             ],
             [
              0.4444444444444444,
              "#bd3786"
             ],
             [
              0.5555555555555556,
              "#d8576b"
             ],
             [
              0.6666666666666666,
              "#ed7953"
             ],
             [
              0.7777777777777778,
              "#fb9f3a"
             ],
             [
              0.8888888888888888,
              "#fdca26"
             ],
             [
              1,
              "#f0f921"
             ]
            ],
            "type": "heatmapgl"
           }
          ],
          "histogram": [
           {
            "marker": {
             "pattern": {
              "fillmode": "overlay",
              "size": 10,
              "solidity": 0.2
             }
            },
            "type": "histogram"
           }
          ],
          "histogram2d": [
           {
            "colorbar": {
             "outlinewidth": 0,
             "ticks": ""
            },
            "colorscale": [
             [
              0,
              "#0d0887"
             ],
             [
              0.1111111111111111,
              "#46039f"
             ],
             [
              0.2222222222222222,
              "#7201a8"
             ],
             [
              0.3333333333333333,
              "#9c179e"
             ],
             [
              0.4444444444444444,
              "#bd3786"
             ],
             [
              0.5555555555555556,
              "#d8576b"
             ],
             [
              0.6666666666666666,
              "#ed7953"
             ],
             [
              0.7777777777777778,
              "#fb9f3a"
             ],
             [
              0.8888888888888888,
              "#fdca26"
             ],
             [
              1,
              "#f0f921"
             ]
            ],
            "type": "histogram2d"
           }
          ],
          "histogram2dcontour": [
           {
            "colorbar": {
             "outlinewidth": 0,
             "ticks": ""
            },
            "colorscale": [
             [
              0,
              "#0d0887"
             ],
             [
              0.1111111111111111,
              "#46039f"
             ],
             [
              0.2222222222222222,
              "#7201a8"
             ],
             [
              0.3333333333333333,
              "#9c179e"
             ],
             [
              0.4444444444444444,
              "#bd3786"
             ],
             [
              0.5555555555555556,
              "#d8576b"
             ],
             [
              0.6666666666666666,
              "#ed7953"
             ],
             [
              0.7777777777777778,
              "#fb9f3a"
             ],
             [
              0.8888888888888888,
              "#fdca26"
             ],
             [
              1,
              "#f0f921"
             ]
            ],
            "type": "histogram2dcontour"
           }
          ],
          "mesh3d": [
           {
            "colorbar": {
             "outlinewidth": 0,
             "ticks": ""
            },
            "type": "mesh3d"
           }
          ],
          "parcoords": [
           {
            "line": {
             "colorbar": {
              "outlinewidth": 0,
              "ticks": ""
             }
            },
            "type": "parcoords"
           }
          ],
          "pie": [
           {
            "automargin": true,
            "type": "pie"
           }
          ],
          "scatter": [
           {
            "fillpattern": {
             "fillmode": "overlay",
             "size": 10,
             "solidity": 0.2
            },
            "type": "scatter"
           }
          ],
          "scatter3d": [
           {
            "line": {
             "colorbar": {
              "outlinewidth": 0,
              "ticks": ""
             }
            },
            "marker": {
             "colorbar": {
              "outlinewidth": 0,
              "ticks": ""
             }
            },
            "type": "scatter3d"
           }
          ],
          "scattercarpet": [
           {
            "marker": {
             "colorbar": {
              "outlinewidth": 0,
              "ticks": ""
             }
            },
            "type": "scattercarpet"
           }
          ],
          "scattergeo": [
           {
            "marker": {
             "colorbar": {
              "outlinewidth": 0,
              "ticks": ""
             }
            },
            "type": "scattergeo"
           }
          ],
          "scattergl": [
           {
            "marker": {
             "colorbar": {
              "outlinewidth": 0,
              "ticks": ""
             }
            },
            "type": "scattergl"
           }
          ],
          "scattermapbox": [
           {
            "marker": {
             "colorbar": {
              "outlinewidth": 0,
              "ticks": ""
             }
            },
            "type": "scattermapbox"
           }
          ],
          "scatterpolar": [
           {
            "marker": {
             "colorbar": {
              "outlinewidth": 0,
              "ticks": ""
             }
            },
            "type": "scatterpolar"
           }
          ],
          "scatterpolargl": [
           {
            "marker": {
             "colorbar": {
              "outlinewidth": 0,
              "ticks": ""
             }
            },
            "type": "scatterpolargl"
           }
          ],
          "scatterternary": [
           {
            "marker": {
             "colorbar": {
              "outlinewidth": 0,
              "ticks": ""
             }
            },
            "type": "scatterternary"
           }
          ],
          "surface": [
           {
            "colorbar": {
             "outlinewidth": 0,
             "ticks": ""
            },
            "colorscale": [
             [
              0,
              "#0d0887"
             ],
             [
              0.1111111111111111,
              "#46039f"
             ],
             [
              0.2222222222222222,
              "#7201a8"
             ],
             [
              0.3333333333333333,
              "#9c179e"
             ],
             [
              0.4444444444444444,
              "#bd3786"
             ],
             [
              0.5555555555555556,
              "#d8576b"
             ],
             [
              0.6666666666666666,
              "#ed7953"
             ],
             [
              0.7777777777777778,
              "#fb9f3a"
             ],
             [
              0.8888888888888888,
              "#fdca26"
             ],
             [
              1,
              "#f0f921"
             ]
            ],
            "type": "surface"
           }
          ],
          "table": [
           {
            "cells": {
             "fill": {
              "color": "#EBF0F8"
             },
             "line": {
              "color": "white"
             }
            },
            "header": {
             "fill": {
              "color": "#C8D4E3"
             },
             "line": {
              "color": "white"
             }
            },
            "type": "table"
           }
          ]
         },
         "layout": {
          "annotationdefaults": {
           "arrowcolor": "#2a3f5f",
           "arrowhead": 0,
           "arrowwidth": 1
          },
          "autotypenumbers": "strict",
          "coloraxis": {
           "colorbar": {
            "outlinewidth": 0,
            "ticks": ""
           }
          },
          "colorscale": {
           "diverging": [
            [
             0,
             "#8e0152"
            ],
            [
             0.1,
             "#c51b7d"
            ],
            [
             0.2,
             "#de77ae"
            ],
            [
             0.3,
             "#f1b6da"
            ],
            [
             0.4,
             "#fde0ef"
            ],
            [
             0.5,
             "#f7f7f7"
            ],
            [
             0.6,
             "#e6f5d0"
            ],
            [
             0.7,
             "#b8e186"
            ],
            [
             0.8,
             "#7fbc41"
            ],
            [
             0.9,
             "#4d9221"
            ],
            [
             1,
             "#276419"
            ]
           ],
           "sequential": [
            [
             0,
             "#0d0887"
            ],
            [
             0.1111111111111111,
             "#46039f"
            ],
            [
             0.2222222222222222,
             "#7201a8"
            ],
            [
             0.3333333333333333,
             "#9c179e"
            ],
            [
             0.4444444444444444,
             "#bd3786"
            ],
            [
             0.5555555555555556,
             "#d8576b"
            ],
            [
             0.6666666666666666,
             "#ed7953"
            ],
            [
             0.7777777777777778,
             "#fb9f3a"
            ],
            [
             0.8888888888888888,
             "#fdca26"
            ],
            [
             1,
             "#f0f921"
            ]
           ],
           "sequentialminus": [
            [
             0,
             "#0d0887"
            ],
            [
             0.1111111111111111,
             "#46039f"
            ],
            [
             0.2222222222222222,
             "#7201a8"
            ],
            [
             0.3333333333333333,
             "#9c179e"
            ],
            [
             0.4444444444444444,
             "#bd3786"
            ],
            [
             0.5555555555555556,
             "#d8576b"
            ],
            [
             0.6666666666666666,
             "#ed7953"
            ],
            [
             0.7777777777777778,
             "#fb9f3a"
            ],
            [
             0.8888888888888888,
             "#fdca26"
            ],
            [
             1,
             "#f0f921"
            ]
           ]
          },
          "colorway": [
           "#636efa",
           "#EF553B",
           "#00cc96",
           "#ab63fa",
           "#FFA15A",
           "#19d3f3",
           "#FF6692",
           "#B6E880",
           "#FF97FF",
           "#FECB52"
          ],
          "font": {
           "color": "#2a3f5f"
          },
          "geo": {
           "bgcolor": "white",
           "lakecolor": "white",
           "landcolor": "#E5ECF6",
           "showlakes": true,
           "showland": true,
           "subunitcolor": "white"
          },
          "hoverlabel": {
           "align": "left"
          },
          "hovermode": "closest",
          "mapbox": {
           "style": "light"
          },
          "paper_bgcolor": "white",
          "plot_bgcolor": "#E5ECF6",
          "polar": {
           "angularaxis": {
            "gridcolor": "white",
            "linecolor": "white",
            "ticks": ""
           },
           "bgcolor": "#E5ECF6",
           "radialaxis": {
            "gridcolor": "white",
            "linecolor": "white",
            "ticks": ""
           }
          },
          "scene": {
           "xaxis": {
            "backgroundcolor": "#E5ECF6",
            "gridcolor": "white",
            "gridwidth": 2,
            "linecolor": "white",
            "showbackground": true,
            "ticks": "",
            "zerolinecolor": "white"
           },
           "yaxis": {
            "backgroundcolor": "#E5ECF6",
            "gridcolor": "white",
            "gridwidth": 2,
            "linecolor": "white",
            "showbackground": true,
            "ticks": "",
            "zerolinecolor": "white"
           },
           "zaxis": {
            "backgroundcolor": "#E5ECF6",
            "gridcolor": "white",
            "gridwidth": 2,
            "linecolor": "white",
            "showbackground": true,
            "ticks": "",
            "zerolinecolor": "white"
           }
          },
          "shapedefaults": {
           "line": {
            "color": "#2a3f5f"
           }
          },
          "ternary": {
           "aaxis": {
            "gridcolor": "white",
            "linecolor": "white",
            "ticks": ""
           },
           "baxis": {
            "gridcolor": "white",
            "linecolor": "white",
            "ticks": ""
           },
           "bgcolor": "#E5ECF6",
           "caxis": {
            "gridcolor": "white",
            "linecolor": "white",
            "ticks": ""
           }
          },
          "title": {
           "x": 0.05
          },
          "xaxis": {
           "automargin": true,
           "gridcolor": "white",
           "linecolor": "white",
           "ticks": "",
           "title": {
            "standoff": 15
           },
           "zerolinecolor": "white",
           "zerolinewidth": 2
          },
          "yaxis": {
           "automargin": true,
           "gridcolor": "white",
           "linecolor": "white",
           "ticks": "",
           "title": {
            "standoff": 15
           },
           "zerolinecolor": "white",
           "zerolinewidth": 2
          }
         }
        },
        "title": {
         "text": "K-Means (k=8) clusters in UMAP space"
        },
        "xaxis": {
         "anchor": "y",
         "domain": [
          0,
          1
         ],
         "title": {
          "text": "x"
         }
        },
        "yaxis": {
         "anchor": "x",
         "domain": [
          0,
          1
         ],
         "title": {
          "text": "y"
         }
        }
       }
      }
     },
     "metadata": {},
     "output_type": "display_data"
    }
   ],
   "source": [
    "svd   = TruncatedSVD(n_components=100, random_state=42)\n",
    "X100  = svd.fit_transform(X)\n",
    "\n",
    "umap2d = umap.UMAP(\n",
    "    n_neighbors=15,\n",
    "    min_dist=0.1,\n",
    "    metric=\"cosine\",\n",
    "    random_state=42\n",
    ").fit_transform(X100)\n",
    "\n",
    "fig = px.scatter(\n",
    "    x=umap2d[:,0], y=umap2d[:,1],\n",
    "    color=df[\"k8_cluster\"].astype(str),\n",
    "    hover_data={\"date\": dates, \"text\": [t[:100] for t in docs]},\n",
    "    title=\"K-Means (k=8) clusters in UMAP space\"\n",
    ")\n",
    "fig.update_layout(legend_title=\"Cluster\")\n",
    "fig.show()"
   ]
  },
  {
   "cell_type": "markdown",
   "metadata": {},
   "source": [
    "I observe that each cluster forms its own “island” or “arm” in the swirl. The red cluster on the far right stands entirely apart, which tells me those meetings share a markedly different vocabulary. Just to its left, the green cluster appears as a tight band at mid-height, with the purple cluster hovering just above it—suggesting two policy eras that are chronologically adjacent but linguistically distinct. Further left and upward, the orange, pink, and light-blue clusters trace out a smooth continuum, reflecting a gradual thematic shift over time. Finally, the lime-green cluster perched at the top is also isolated, indicating yet another discrete rhetorical regime.\n",
    "\n",
    "Because UMAP preserves local neighborhood relationships, I’m confident that points of the same color truly lie close in the original embedding space, and the clear gaps between colors confirm that k = 8 yields well-separated groups. When I hover over points, I can see meeting dates that often align with historical phases—pre-crisis, crisis, and post-crisis—explaining why the clusters follow a continuous curved trajectory rather than appearing randomly scattered."
   ]
  },
  {
   "cell_type": "markdown",
   "metadata": {},
   "source": [
    "### 9. HDBSCAN Clustering and Visualization\n",
    "\n",
    "An alternative density-based approach uses HDBSCAN on the same 100-dimensional SVD embeddings. After an initial run, I enable prediction data and refit with a smaller minimum cluster size of ten. The final string labels (with “–1” indicating noise) are stored in df[\"hdb_cluster\"]. A second UMAP scatter plot then shows these density clusters in the same manifold, highlighting any groups that K-Means may have missed or split differently."
   ]
  },
  {
   "cell_type": "code",
   "execution_count": 10,
   "metadata": {},
   "outputs": [],
   "source": [
    "clusterer = hdbscan.HDBSCAN(min_cluster_size=50,\n",
    "                            metric='euclidean',\n",
    "                            cluster_selection_method='eom')\n",
    "hdb_labels = clusterer.fit_predict(X100)\n",
    "df['hdb_cluster'] = hdb_labels"
   ]
  },
  {
   "cell_type": "code",
   "execution_count": 11,
   "metadata": {},
   "outputs": [],
   "source": [
    "import hdbscan\n",
    "\n",
    "# Fit HDBSCAN on 100-dim SVD embeddings\n",
    "clusterer = hdbscan.HDBSCAN(\n",
    "    min_cluster_size=10,\n",
    "    metric='euclidean',\n",
    "    cluster_selection_method='eom',\n",
    "    prediction_data=True\n",
    ")\n",
    "hdb_labels = clusterer.fit_predict(X100)\n",
    "\n",
    "# 2. Attach to DataFrame\n",
    "df['hdb_cluster'] = hdb_labels.astype(str)"
   ]
  },
  {
   "cell_type": "code",
   "execution_count": 12,
   "metadata": {},
   "outputs": [
    {
     "data": {
      "application/vnd.plotly.v1+json": {
       "config": {
        "plotlyServerURL": "https://plot.ly"
       },
       "data": [
        {
         "customdata": [
          [
           "2000-02-01T00:00:00",
           "Minutes of the Federal Open Market Committee\n\n\nFebruary 1-2, 2000\n\n\n\n\n\nA meeting of the Federal Open"
          ],
          [
           "2001-02-01T00:00:00",
           "Minutes of the Federal Open Market Committee\n\n\nJanuary 30-31, 2001\n\n\n\n\n\tA meeting of the Federal Ope"
          ],
          [
           "2002-02-01T00:00:00",
           "Minutes of the Federal Open Market Committee\n\n\nJanuary 29-30, 2002\n\n\n\n\nA meeting of the Federal Open"
          ],
          [
           "2003-02-01T00:00:00",
           "Minutes of the Federal Open Market Committee\n\n            January 28-29, 2003\n\n\nA meeting of the Fed"
          ],
          [
           "2004-02-01T00:00:00",
           "Minutes of the Federal Open Market Committee\n\n      January 27-28, 2004  A meeting of the Federal Op"
          ],
          [
           "2005-02-01T00:00:00",
           "Minutes of the Federal Open Market Committee\n\n      February 1-2, 2005 A meeting of the Federal Open"
          ],
          [
           "2006-02-01T00:00:00",
           "Minutes of the Federal Open Market Committee\n\n      January 31, 2006 \n      A meeting of the Federal"
          ],
          [
           "2007-02-01T00:00:00",
           "Minutes of the Federal Open Market Committee\n\n      January 30-31, 2007\n A meeting of the Federal Op"
          ],
          [
           "2008-01-01T00:00:00",
           "A meeting of the Federal Open Market Committee was held in the offices of the Board of Governors of "
          ],
          [
           "2008-02-01T00:00:00",
           "A meeting of the Federal Open Market Committee was held in the offices of the Board of Governors of "
          ],
          [
           "2009-01-01T00:00:00",
           "A meeting of the Federal Open Market Committee was held in the offices of the Board of Governors of "
          ],
          [
           "2009-02-01T00:00:00",
           "A meeting of the Federal Open Market Committee was held in the offices of the Board of Governors of "
          ],
          [
           "2010-01-01T00:00:00",
           "A joint meeting of the Federal Open Market Committee and the Board of Governors of the Federal Reser"
          ],
          [
           "2011-01-01T00:00:00",
           "A meeting of the Federal Open Market Committee was held in the offices of the Board of Governors in "
          ],
          [
           "2012-01-01T00:00:00",
           "Minutes of the Federal Open Market Committee\n                                                \n      "
          ],
          [
           "2012-09-01T00:00:00",
           "Minutes of the Federal Open Market Committee\n                                                \n      "
          ],
          [
           "2012-12-01T00:00:00",
           "Minutes of the Federal Open Market Committee\n                                                \n      "
          ],
          [
           "2013-02-01T00:00:00",
           "Minutes of the Federal Open Market Committee\n                                                \n      "
          ],
          [
           "2013-06-01T00:00:00",
           "Minutes of the Federal Open Market Committee\n                                                \n      "
          ],
          [
           "2013-08-01T00:00:00",
           "Minutes of the Federal Open Market Committee\n                                                \n      "
          ],
          [
           "2013-09-01T00:00:00",
           "Minutes of the Federal Open Market Committee\n                                                \n      "
          ],
          [
           "2013-12-01T00:00:00",
           "Minutes of the Federal Open Market Committee\n                                                \n      "
          ],
          [
           "2014-02-01T00:00:00",
           "Minutes of the Federal Open Market Committee\n                                                \n      "
          ],
          [
           "2014-05-01T00:00:00",
           "Minutes of the Federal Open Market Committee\n                                                \n      "
          ],
          [
           "2014-06-01T00:00:00",
           "Minutes of the Federal Open Market Committee\n                                                \n      "
          ],
          [
           "2014-08-01T00:00:00",
           "Minutes of the Federal Open Market Committee\n                                                \n      "
          ],
          [
           "2014-09-01T00:00:00",
           "Minutes of the Federal Open Market Committee\n                                                \n      "
          ],
          [
           "2014-11-01T00:00:00",
           "Minutes of the Federal Open Market Committee\n                                                \n      "
          ],
          [
           "2014-12-01T00:00:00",
           "Minutes of the Federal Open Market Committee\n                                                \n      "
          ],
          [
           "2015-02-01T00:00:00",
           "Minutes of the Federal Open Market Committee\n                                                \n      "
          ],
          [
           "2015-03-01T00:00:00",
           "Minutes of the Federal Open Market Committee\n                                                \n      "
          ],
          [
           "2015-05-01T00:00:00",
           "Minutes of the Federal Open Market Committee\n                                                \n      "
          ],
          [
           "2015-06-01T00:00:00",
           "Minutes of the Federal Open Market Committee\n                                                \n      "
          ],
          [
           "2015-08-01T00:00:00",
           "Minutes of the Federal Open Market Committee\n                                                \n      "
          ],
          [
           "2015-09-01T00:00:00",
           "Minutes of the Federal Open Market Committee\n                                                \n      "
          ],
          [
           "2015-11-01T00:00:00",
           "Minutes of the Federal Open Market Committee\n                                                \n      "
          ],
          [
           "2015-12-01T00:00:00",
           "Minutes of the Federal Open Market Committee\n                                                \n      "
          ],
          [
           "2016-01-01T00:00:00",
           "Minutes of the Federal Open Market Committee\n                                                \n      "
          ],
          [
           "2016-03-01T00:00:00",
           "Minutes of the Federal Open Market Committee\n                                                \n      "
          ],
          [
           "2016-04-01T00:00:00",
           "Minutes of the Federal Open Market Committee\n                                                \n      "
          ],
          [
           "2016-06-01T00:00:00",
           "Minutes of the Federal Open Market Committee\n                                                \n      "
          ],
          [
           "2016-07-01T00:00:00",
           "Minutes of the Federal Open Market Committee\n                                                \n      "
          ],
          [
           "2016-09-01T00:00:00",
           "Minutes of the Federal Open Market Committee\n                                                \n      "
          ],
          [
           "2016-12-01T00:00:00",
           "Minutes of the Federal Open Market Committee\n                                                \n      "
          ],
          [
           "2017-02-01T00:00:00",
           "Minutes of the Federal Open Market Committee\n                                                \n      "
          ],
          [
           "2017-03-01T00:00:00",
           "Minutes of the Federal Open Market Committee\n                                                \n      "
          ],
          [
           "2017-05-01T00:00:00",
           "Minutes of the Federal Open Market Committee\n                                                \n      "
          ],
          [
           "2017-06-01T00:00:00",
           "Minutes of the Federal Open Market Committee\n                                                \n      "
          ],
          [
           "2017-07-01T00:00:00",
           "Minutes of the Federal Open Market Committee\n                                                \n      "
          ],
          [
           "2017-12-01T00:00:00",
           "Minutes of the Federal Open Market Committee\n                                                \n      "
          ],
          [
           "2018-02-01T00:00:00",
           "Minutes of the Federal Open Market Committee\n                                                \n      "
          ],
          [
           "2018-03-01T00:00:00",
           "Minutes of the Federal Open Market Committee\n                                                \n      "
          ],
          [
           "2018-05-01T00:00:00",
           "Minutes of the Federal Open Market Committee\n                                                \n      "
          ],
          [
           "2018-06-01T00:00:00",
           "Minutes of the Federal Open Market Committee\n                                                \n      "
          ],
          [
           "2018-08-01T00:00:00",
           "Minutes of the Federal Open Market Committee\n                                                \n      "
          ],
          [
           "2018-09-01T00:00:00",
           "Minutes of the Federal Open Market Committee\n                                                \n      "
          ],
          [
           "2018-12-01T00:00:00",
           "Minutes of the Federal Open Market Committee\n                                                \n      "
          ],
          [
           "2019-02-01T00:00:00",
           "Minutes of the Federal Open Market Committee\n                                                \n      "
          ],
          [
           "2019-12-01T00:00:00",
           "Minutes of the Federal Open Market Committee\n                                                \n      "
          ],
          [
           "2020-02-01T00:00:00",
           "Minutes of the Federal Open Market Committee\n                                                \n      "
          ],
          [
           "2020-08-01T00:00:00",
           "Minutes of the Federal Open Market Committee\n                                                \n      "
          ],
          [
           "2020-09-01T00:00:00",
           "Minutes of the Federal Open Market Committee\n                                                \n      "
          ],
          [
           "2020-11-01T00:00:00",
           "Minutes of the Federal Open Market Committee\n                                                \n      "
          ],
          [
           "2020-12-01T00:00:00",
           "Minutes of the Federal Open Market Committee\n                                                \n      "
          ],
          [
           "2021-01-01T00:00:00",
           "Minutes of the Federal Open Market Committee\n                                                \n      "
          ],
          [
           "2021-03-01T00:00:00",
           "Minutes of the Federal Open Market Committee\n                                                \n      "
          ],
          [
           "2021-05-01T00:00:00",
           "Minutes of the Federal Open Market Committee\n                                                \n      "
          ],
          [
           "2021-06-01T00:00:00",
           "Minutes of the Federal Open Market Committee\n                                                \n      "
          ],
          [
           "2021-08-01T00:00:00",
           "Minutes of the Federal Open Market Committee\n                                                \n      "
          ],
          [
           "2021-09-01T00:00:00",
           "Minutes of the Federal Open Market Committee\n                                                \n      "
          ],
          [
           "2021-11-01T00:00:00",
           "Minutes of the Federal Open Market Committee\n                                                \n      "
          ],
          [
           "2021-12-01T00:00:00",
           "Minutes of the Federal Open Market Committee\n                                                \n      "
          ],
          [
           "2022-01-01T00:00:00",
           "Minutes of the Federal Open Market Committee\n                                                \n      "
          ]
         ],
         "hovertemplate": "color=0<br>x=%{x}<br>y=%{y}<br>date=%{customdata[0]}<br>text=%{customdata[1]}<extra></extra>",
         "legendgroup": "0",
         "marker": {
          "color": "#636efa",
          "symbol": "circle"
         },
         "mode": "markers",
         "name": "0",
         "orientation": "v",
         "showlegend": true,
         "type": "scatter",
         "x": [
          2.525312662124634,
          2.4524271488189697,
          2.3682644367218018,
          2.4457576274871826,
          2.259807586669922,
          2.42081356048584,
          2.3802618980407715,
          2.428007125854492,
          2.495875358581543,
          2.4776077270507812,
          1.73636794090271,
          1.6600866317749023,
          1.6314085721969604,
          1.554161787033081,
          1.7073630094528198,
          -1.3436381816864014,
          -1.5383682250976562,
          1.6129904985427856,
          -1.7498199939727783,
          -1.8174716234207153,
          -1.888930082321167,
          -1.943745732307434,
          1.545693039894104,
          -1.9205859899520874,
          -2.0259244441986084,
          -1.9699149131774902,
          -1.92576003074646,
          -1.9295072555541992,
          -1.9114471673965454,
          1.41415274143219,
          -1.9333512783050537,
          -1.8309985399246216,
          -1.914086103439331,
          -1.873270034790039,
          -1.8801463842391968,
          -1.8769584894180298,
          -1.7617526054382324,
          1.367153525352478,
          -1.6042091846466064,
          -1.6509294509887695,
          -1.733587622642517,
          -1.6650471687316895,
          1.3845597505569458,
          -1.5571928024291992,
          1.4001926183700562,
          -1.5171585083007812,
          -1.4101684093475342,
          -1.477229356765747,
          -1.58525812625885,
          -1.3087217807769775,
          1.3993823528289795,
          -1.2867350578308105,
          -1.1025029420852661,
          -1.050512671470642,
          -0.9629356265068054,
          -1.1029309034347534,
          -0.8168325424194336,
          1.3683384656906128,
          -0.3800378739833832,
          1.4634711742401123,
          1.7155978679656982,
          1.6970573663711548,
          1.9227720499038696,
          1.93563973903656,
          1.4426783323287964,
          1.9270483255386353,
          2.0715689659118652,
          1.8972153663635254,
          2.1851744651794434,
          2.1925220489501953,
          2.097564458847046,
          2.2737979888916016,
          1.4880414009094238
         ],
         "xaxis": "x",
         "y": [
          7.523463726043701,
          7.6194233894348145,
          7.673252582550049,
          7.796726703643799,
          7.667796611785889,
          7.585537910461426,
          7.5691609382629395,
          7.388655662536621,
          7.328866958618164,
          7.3117780685424805,
          7.277209758758545,
          7.245795726776123,
          7.41272497177124,
          7.671993732452393,
          7.838229656219482,
          8.414287567138672,
          8.778694152832031,
          8.04354476928711,
          9.409294128417969,
          9.437105178833008,
          9.512422561645508,
          9.739566802978516,
          8.189556121826172,
          10.181390762329102,
          10.383417129516602,
          10.51345157623291,
          10.724322319030762,
          10.989331245422363,
          11.196146965026855,
          8.680438995361328,
          11.393705368041992,
          11.695557594299316,
          11.63351058959961,
          11.691021919250488,
          11.814969062805176,
          11.860987663269043,
          12.1816987991333,
          8.785046577453613,
          12.478458404541016,
          12.388873100280762,
          12.397395133972168,
          12.48391056060791,
          8.909318923950195,
          12.930335998535156,
          9.030891418457031,
          13.053145408630371,
          13.171342849731445,
          13.250494956970215,
          13.327324867248535,
          13.499073028564453,
          8.990008354187012,
          13.558107376098633,
          13.794893264770508,
          13.852555274963379,
          13.978625297546387,
          13.793556213378906,
          14.134062767028809,
          9.05612850189209,
          14.142195701599121,
          9.069887161254883,
          12.00646686553955,
          12.1561279296875,
          12.159717559814453,
          12.192724227905273,
          9.325014114379883,
          12.31339168548584,
          12.310523986816406,
          12.230698585510254,
          12.119874954223633,
          12.204431533813477,
          12.252876281738281,
          12.028079986572266,
          9.349151611328125
         ],
         "yaxis": "y"
        },
        {
         "customdata": [
          [
           "2000-03-01T00:00:00",
           "Minutes of the Federal Open Market Committee\n\n\nMarch 21, 2000\n\n\n\n\n\nA meeting of the Federal Open Mar"
          ],
          [
           "2000-05-01T00:00:00",
           "Minutes of the Federal Open Market Committee\n\n\nMay 16, 2000\n\n\n\n\n\nA meeting of the Federal Open Marke"
          ],
          [
           "2000-07-01T00:00:00",
           "Minutes of the Federal Open Market Committee\n\n\nJune 27-28, 2000\n\n\n\n\nA meeting of the Federal Open Ma"
          ],
          [
           "2000-08-01T00:00:00",
           "Minutes of the Federal Open Market Committee\n\n\nAugust 22, 2000\n\n\n\n\nA meeting of the Federal Open Mar"
          ],
          [
           "2000-10-01T00:00:00",
           "Minutes of the Federal Open Market Committee\n\n\nOctober 3, 2000\n\n\n\n\nA meeting of the Federal Open Mar"
          ],
          [
           "2000-11-01T00:00:00",
           "Minutes of the Federal Open Market Committee\n\n\nNovember 15, 2000\n\n\n\n\nA meeting of the Federal Open M"
          ],
          [
           "2000-12-01T00:00:00",
           "Minutes of the Federal Open Market Committee\n\n\nDecember 19, 2000\n\n\n\n\nA meeting of the Federal Open M"
          ],
          [
           "2001-01-01T00:00:00",
           "Minutes of the Federal Open Market Committee\n\n\nDecember 19, 2000\n\n\n\n\nA meeting of the Federal Open M"
          ],
          [
           "2001-03-01T00:00:00",
           "Minutes of the Federal Open Market Committee\n\n\nMarch 20, 2001\n\n\n\n\nA meeting of the Federal Open Mark"
          ],
          [
           "2001-04-01T00:00:00",
           "Minutes of the Federal Open Market Committee\n\n\nMarch 20, 2001\n\n\n\n\nA meeting of the Federal Open Mark"
          ],
          [
           "2001-05-01T00:00:00",
           "Minutes of the Federal Open Market Committee\n\n\nMay 15, 2001 \n\n\n\n\nA meeting of the Federal Open Marke"
          ],
          [
           "2001-06-01T00:00:00",
           "Minutes of the Federal Open Market Committee\n\n\nJune 26-27, 2001\n\n\n\n\nA meeting of the Federal Open Ma"
          ],
          [
           "2001-08-01T00:00:00",
           "Minutes of the Federal Open Market Committee\n\n\nAugust 21, 2001 \n\n\n\n\nA meeting of the Federal Open Ma"
          ],
          [
           "2001-09-01T00:00:00",
           "Minutes of the Federal Open Market Committee\n\n\nAugust 21, 2001 \n\n\n\n\nA meeting of the Federal Open Ma"
          ],
          [
           "2001-10-01T00:00:00",
           "Minutes of the Federal Open Market Committee\n\n\nOctober 2, 2001 \n\n\n\n\nA meeting of the Federal Open Ma"
          ],
          [
           "2001-11-01T00:00:00",
           "Minutes of the Federal Open Market Committee\n\n\nNovember 6, 2001 \n\n\n\n\nA meeting of the Federal Open M"
          ],
          [
           "2001-12-01T00:00:00",
           "Minutes of the Federal Open Market Committee\n\n\nDecember 11, 2001\n\n\n\n\n\nA meeting of the Federal Open "
          ],
          [
           "2002-03-01T00:00:00",
           "Minutes of the Federal Open Market Committee\n\n\nMarch 19, 2002\n\n\n\n\nA meeting of the Federal Open Mark"
          ],
          [
           "2002-05-01T00:00:00",
           "Minutes of the Federal Open Market Committee\n\n\nMay 7, 2002 \n\n\n\n\nA meeting of the Federal Open Market"
          ],
          [
           "2002-06-01T00:00:00",
           "Minutes of the Federal Open Market Committee\n\nJune 25-26, 2002 \n\nA meeting of the Federal Open Marke"
          ],
          [
           "2002-08-01T00:00:00",
           "Minutes of the Federal Open Market Committee\n\nAugust 13, 2002 \n\nA meeting of the Federal Open Market"
          ],
          [
           "2002-09-01T00:00:00",
           "Minutes of the Federal Open Market Committee\n\nSeptember 24, 2002 \n       A meeting of the Federal Op"
          ],
          [
           "2002-11-01T00:00:00",
           "Minutes of the Federal Open Market Committee\n\nNovember 6, 2002 \n       A meeting of the Federal Open"
          ],
          [
           "2002-12-01T00:00:00",
           "Minutes of the Federal Open Market Committee\n\nDecember 10, 2002 \n       A meeting of the Federal Ope"
          ],
          [
           "2003-03-01T00:00:00",
           "Minutes of the Federal Open Market Committee\n\n\nMarch 18, 2003\n\n\n\n\nA meeting of the Federal Open Mark"
          ],
          [
           "2003-04-01T00:00:00",
           "Minutes of the Federal Open Market Committee\n\n\nMarch 18, 2003\n\n\n\n\nA meeting of the Federal Open Mark"
          ],
          [
           "2003-05-01T00:00:00",
           "Minutes of the Federal Open Market Committee\n\n\nMay 6, 2003\n\n\n\n\nA meeting of the Federal Open Market "
          ],
          [
           "2003-06-01T00:00:00",
           "Minutes of the Federal Open Market Committee\n\n\nJune 24-25, 2003\n\n\n\nA meeting of the Federal Open Mar"
          ],
          [
           "2003-08-01T00:00:00",
           "Minutes of the Federal Open Market Committee\n\n\nAugust 12, 2003\n\n\n\nA meeting of the Federal Open Mark"
          ],
          [
           "2003-09-01T00:00:00",
           "Minutes of the Federal Open Market Committee\n\n\nAugust 12, 2003\n\n\n\nA meeting of the Federal Open Mark"
          ],
          [
           "2003-11-01T00:00:00",
           "Minutes of the Federal Open Market Committee\n\n\nOctober 28, 2003\n\n\n\nA meeting of the Federal Open Mar"
          ],
          [
           "2003-12-01T00:00:00",
           "Minutes of the Federal Open Market Committee\n\n\nDecember 9, 2003\n\n\n\nA meeting of the Federal Open Mar"
          ],
          [
           "2004-03-01T00:00:00",
           "Minutes of the Federal Open Market Committee\n\n      March 16, 2004  A meeting of the Federal Open Ma"
          ],
          [
           "2004-05-01T00:00:00",
           "Minutes of the Federal Open Market Committee\n\n      May 4, 2004 A meeting of the Federal Open Market"
          ],
          [
           "2004-07-01T00:00:00",
           "Minutes of the Federal Open Market Committee\n\n      June 29-30, 2004 A meeting of the Federal Open M"
          ],
          [
           "2004-08-01T00:00:00",
           "Minutes of the Federal Open Market Committee\n\n      August 10, 2004 A meeting of the Federal Open Ma"
          ],
          [
           "2004-09-01T00:00:00",
           "Minutes of the Federal Open Market Committee\n\n      September 21, 2004 A meeting of the Federal Open"
          ],
          [
           "2004-11-01T00:00:00",
           "Minutes of the Federal Open Market Committee\n\n      November 10, 2004 A meeting of the Federal Open "
          ],
          [
           "2004-12-01T00:00:00",
           "Minutes of the Federal Open Market Committee\n\n      December 14, 2004 A meeting of the Federal Open "
          ],
          [
           "2005-03-01T00:00:00",
           "Minutes of the Federal Open Market Committee\n\n      March 22, 2005 A meeting of the Federal Open Mar"
          ],
          [
           "2005-05-01T00:00:00",
           "Minutes of the Federal Open Market Committee\n\n      May 3, 2005 \n      A meeting of the Federal Open"
          ],
          [
           "2005-07-01T00:00:00",
           "Minutes of the Federal Open Market Committee\n\n      June 29-30, 2005 A meeting of the Federal Open M"
          ],
          [
           "2005-08-01T00:00:00",
           "Minutes of the Federal Open Market Committee\n\n      August 9, 2005 \n\nA meeting of the Federal Open M"
          ],
          [
           "2005-09-01T00:00:00",
           "Minutes of the Federal Open Market Committee\n\n      September 20, 2005 A meeting of the Federal Open"
          ],
          [
           "2005-11-01T00:00:00",
           "Minutes of the Federal Open Market Committee\n\n      November 1, 2005 A meeting of the Federal Open M"
          ],
          [
           "2005-12-01T00:00:00",
           "Minutes of the Federal Open Market Committee\n\n      December 13, 2005 \n      A meeting of the Federa"
          ],
          [
           "2006-04-01T00:00:00",
           "Minutes of the Federal Open Market Committee\n\n      March 27-28, 2006\n A meeting of the Federal Open"
          ],
          [
           "2006-05-01T00:00:00",
           "Minutes of the Federal Open Market Committee\n\n      May 10, 2006\n A meeting of the Federal Open Mark"
          ],
          [
           "2006-07-01T00:00:00",
           "Minutes of the Federal Open Market Committee\n\n      June 28-29, 2006\n A meeting of the Federal Open "
          ],
          [
           "2006-08-01T00:00:00",
           "Minutes of the Federal Open Market Committee\n\n      August 8, 2006\n A meeting of the Federal Open Ma"
          ],
          [
           "2006-09-01T00:00:00",
           "Minutes of the Federal Open Market Committee\n\n      September 20, 2006\n A meeting of the Federal Ope"
          ],
          [
           "2006-10-01T00:00:00",
           "Minutes of the Federal Open Market Committee\n\n      October 24-25, 2006\n A meeting of the Federal Op"
          ],
          [
           "2006-12-01T00:00:00",
           "Minutes of the Federal Open Market Committee\n\n      December 12, 2006\n A meeting of the Federal Open"
          ],
          [
           "2007-03-01T00:00:00",
           "Minutes of the Federal Open Market Committee\n\n      March 20-21, 2007\n A meeting of the Federal Open"
          ],
          [
           "2007-05-01T00:00:00",
           "Minutes of the Federal Open Market Committee\n\n      May 9, 2007\nA meeting of the Federal Open Market"
          ],
          [
           "2007-07-01T00:00:00",
           "Minutes of the Federal Open Market Committee\n\n      June 27-28, 2007\nA meeting of the Federal Open M"
          ],
          [
           "2007-08-01T00:00:00",
           "Minutes of the Federal Open Market Committee\n\n      August 7, 2007\n      A  meeting of the Federal O"
          ],
          [
           "2007-09-01T00:00:00",
           "Minutes of the Federal Open Market Committee\n\n      September 18, 2007\n      A meeting of the Federa"
          ],
          [
           "2007-11-01T00:00:00",
           "A meeting of the Federal Open Market Committee was held in the offices of the Board of Governors of "
          ],
          [
           "2007-12-01T00:00:00",
           "A meeting of the Federal Open Market Committee was held in the offices of the Board of Governors of "
          ],
          [
           "2008-03-01T00:00:00",
           "A meeting of the Federal Open Market Committee was held in the offices of the Board of Governors of "
          ],
          [
           "2008-05-01T00:00:00",
           "A meeting of the Federal Open Market Committee was held in the offices of the Board of Governors of "
          ],
          [
           "2008-06-01T00:00:00",
           "A meeting of the Federal Open Market Committee was held in the offices of the Board of Governors of "
          ],
          [
           "2008-07-01T00:00:00",
           "A meeting of the Federal Open Market Committee was held in the offices of the Board of Governors of "
          ],
          [
           "2008-08-01T00:00:00",
           "A meeting of the Federal Open Market Committee was held in the offices of the Board of Governors of "
          ],
          [
           "2008-09-01T00:00:00",
           "A meeting of the Federal Open Market Committee was held in the offices of the Board of Governors of "
          ],
          [
           "2008-10-01T00:00:00",
           "A meeting of the Federal Open Market Committee was held in the offices of the Board of Governors of "
          ],
          [
           "2008-11-01T00:00:00",
           "A meeting of the Federal Open Market Committee was held in the offices of the Board of Governors of "
          ],
          [
           "2008-12-01T00:00:00",
           "A meeting of the Federal Open Market Committee was held in the offices of the Board of Governors of "
          ],
          [
           "2009-03-01T00:00:00",
           "A meeting of the Federal Open Market Committee was held in the offices of the Board of Governors of "
          ],
          [
           "2009-05-01T00:00:00",
           "A joint meeting of the Federal Open Market Committee and the Board of Governors of the Federal Reser"
          ],
          [
           "2009-06-01T00:00:00",
           "A joint meeting of the Federal Open Market Committee and the Board of Governors of the Federal Reser"
          ],
          [
           "2009-08-01T00:00:00",
           "A joint meeting of the Federal Open Market Committee and the Board of Governors of the Federal Reser"
          ],
          [
           "2009-09-01T00:00:00",
           "A joint meeting of the Federal Open Market Committee and the Board of Governors of the Federal Reser"
          ],
          [
           "2009-11-01T00:00:00",
           "A joint meeting of the Federal Open Market Committee and the Board of Governors of the Federal Reser"
          ],
          [
           "2009-12-01T00:00:00",
           "A joint meeting of the Federal Open Market Committee and the Board of Governors of the Federal Reser"
          ],
          [
           "2010-03-01T00:00:00",
           "A joint meeting of the Federal Open Market Committee and the Board of Governors of the Federal Reser"
          ],
          [
           "2010-05-01T00:00:00",
           "A joint meeting of the Federal Open Market Committee and the Board of Governors of the Federal Reser"
          ],
          [
           "2010-06-01T00:00:00",
           "A joint meeting of the Federal Open Market Committee and the Board of Governors of the Federal Reser"
          ],
          [
           "2010-08-01T00:00:00",
           "A joint meeting of the Federal Open Market Committee and the Board of Governors of the Federal Reser"
          ],
          [
           "2010-09-01T00:00:00",
           "A joint meeting of the Federal Open Market Committee and the Board of Governors of the Federal Reser"
          ],
          [
           "2010-10-01T00:00:00",
           "A meeting of the Federal Open Market Committee was held in the offices of the Board of Governors in "
          ],
          [
           "2010-11-01T00:00:00",
           "A meeting of the Federal Open Market Committee was held in the offices of the Board of Governors in "
          ],
          [
           "2010-12-01T00:00:00",
           "A meeting of the Federal Open Market Committee was held in the offices of the Board of Governors in "
          ],
          [
           "2011-03-01T00:00:00",
           "A meeting of the Federal Open Market Committee was held in the offices of the Board of Governors in "
          ],
          [
           "2011-04-01T00:00:00",
           "A joint meeting of the Federal Open Market Committee and the Board of Governors of the Federal Reser"
          ],
          [
           "2011-06-01T00:00:00",
           "A joint meeting of the Federal Open Market Committee and the Board of Governors of the Federal Reser"
          ],
          [
           "2011-08-01T00:00:00",
           "A joint meeting of the Federal Open Market Committee and the Board of Governors of the Federal Reser"
          ],
          [
           "2011-09-01T00:00:00",
           "A joint meeting of the Federal Open Market Committee and the Board of Governors of the Federal Reser"
          ],
          [
           "2011-11-01T00:00:00",
           "A joint meeting of the Federal Open Market Committee and the Board of Governors of the Federal Reser"
          ],
          [
           "2011-12-01T00:00:00",
           "A joint meeting of the Federal Open Market Committee and the Board of Governors of the Federal Reser"
          ],
          [
           "2012-03-01T00:00:00",
           "Minutes of the Federal Open Market Committee\n                                                \n      "
          ],
          [
           "2012-04-01T00:00:00",
           "Minutes of the Federal Open Market Committee\n                                                \n      "
          ],
          [
           "2012-06-01T00:00:00",
           "Minutes of the Federal Open Market Committee\n                                                \n      "
          ],
          [
           "2012-08-01T00:00:00",
           "Minutes of the Federal Open Market Committee\n                                                \n      "
          ],
          [
           "2012-10-01T00:00:00",
           "Minutes of the Federal Open Market Committee\n                                                \n      "
          ],
          [
           "2013-03-01T00:00:00",
           "Minutes of the Federal Open Market Committee\n                                                \n      "
          ],
          [
           "2013-05-01T00:00:00",
           "Minutes of the Federal Open Market Committee\n                                                \n      "
          ],
          [
           "2013-10-01T00:00:00",
           "Minutes of the Federal Open Market Committee\n                                                \n      "
          ],
          [
           "2013-11-01T00:00:00",
           "Minutes of the Federal Open Market Committee\n                                                \n      "
          ],
          [
           "2014-03-01T00:00:00",
           "Minutes of the Federal Open Market Committee\n                                                \n      "
          ],
          [
           "2016-11-01T00:00:00",
           "Minutes of the Federal Open Market Committee\n                                                \n      "
          ],
          [
           "2017-09-01T00:00:00",
           "Minutes of the Federal Open Market Committee\n                                                \n      "
          ],
          [
           "2017-11-01T00:00:00",
           "Minutes of the Federal Open Market Committee\n                                                \n      "
          ],
          [
           "2018-11-01T00:00:00",
           "Minutes of the Federal Open Market Committee\n                                                \n      "
          ],
          [
           "2019-03-01T00:00:00",
           "Minutes of the Federal Open Market Committee\n                                                \n      "
          ],
          [
           "2019-05-01T00:00:00",
           "Minutes of the Federal Open Market Committee\n                                                \n      "
          ],
          [
           "2019-06-01T00:00:00",
           "Minutes of the Federal Open Market Committee\n                                                \n      "
          ],
          [
           "2019-08-01T00:00:00",
           "Minutes of the Federal Open Market Committee\n                                                \n      "
          ],
          [
           "2019-09-01T00:00:00",
           "Minutes of the Federal Open Market Committee\n                                                \n      "
          ],
          [
           "2019-10-01T00:00:00",
           "Minutes of the Federal Open Market Committee\n                                                \n      "
          ],
          [
           "2019-11-01T00:00:00",
           "Minutes of the Federal Open Market Committee\n                                                \n      "
          ],
          [
           "2020-03-01T00:00:00",
           "Minutes of the Federal Open Market Committee\n                                                \n      "
          ],
          [
           "2020-05-01T00:00:00",
           "Minutes of the Federal Open Market Committee\n                                                \n      "
          ],
          [
           "2020-06-01T00:00:00",
           "Minutes of the Federal Open Market Committee\n                                                \n      "
          ],
          [
           "2022-03-01T00:00:00",
           "Minutes of the Federal Open Market Committee\n                                                \n      "
          ],
          [
           "2022-05-01T00:00:00",
           "Minutes of the Federal Open Market Committee\n                                                \n      "
          ],
          [
           "2023-03-01T00:00:00",
           "Minutes of the Federal Open Market Committee\n                                                \n      "
          ],
          [
           "2023-05-01T00:00:00",
           "Minutes of the Federal Open Market Committee\n                                                \n      "
          ]
         ],
         "hovertemplate": "color=-1<br>x=%{x}<br>y=%{y}<br>date=%{customdata[0]}<br>text=%{customdata[1]}<extra></extra>",
         "legendgroup": "-1",
         "marker": {
          "color": "#EF553B",
          "symbol": "circle"
         },
         "mode": "markers",
         "name": "-1",
         "orientation": "v",
         "showlegend": true,
         "type": "scatter",
         "x": [
          11.081323623657227,
          11.103548049926758,
          11.05976676940918,
          11.197894096374512,
          11.281004905700684,
          11.331875801086426,
          11.48947811126709,
          11.453383445739746,
          11.435811996459961,
          11.470294952392578,
          11.37839126586914,
          11.487320899963379,
          11.62169075012207,
          11.666064262390137,
          11.482622146606445,
          11.367864608764648,
          11.101358413696289,
          10.70217227935791,
          10.666638374328613,
          10.499139785766602,
          10.51086139678955,
          10.3916597366333,
          10.433794021606445,
          10.464954376220703,
          10.212969779968262,
          10.230904579162598,
          9.99427318572998,
          10.106133460998535,
          9.865579605102539,
          9.93901538848877,
          9.808713912963867,
          9.721243858337402,
          6.9554853439331055,
          6.845209121704102,
          6.6517229080200195,
          6.505918979644775,
          6.37608003616333,
          6.442647933959961,
          6.439510822296143,
          6.424587726593018,
          6.331565856933594,
          6.287479400634766,
          6.272895336151123,
          6.18278169631958,
          6.079522132873535,
          5.97850227355957,
          5.309686183929443,
          5.271329879760742,
          5.1625165939331055,
          5.0424485206604,
          4.928736686706543,
          4.86858606338501,
          4.749537944793701,
          4.952998638153076,
          4.472419738769531,
          4.46164083480835,
          4.22648811340332,
          3.0924932956695557,
          3.007533073425293,
          2.905240297317505,
          2.659214735031128,
          2.618072271347046,
          2.7037410736083984,
          2.5572733879089355,
          2.6246230602264404,
          2.403975009918213,
          2.2955305576324463,
          2.2701544761657715,
          2.004744291305542,
          1.4999264478683472,
          1.3861585855484009,
          1.3364617824554443,
          1.2124645709991455,
          1.080815076828003,
          1.0003472566604614,
          0.9095191955566406,
          0.5874550342559814,
          0.3260052502155304,
          0.14611531794071198,
          0.1842382252216339,
          0.018222205340862274,
          -0.24706585705280304,
          -0.2045106589794159,
          -0.11700302362442017,
          -0.44536006450653076,
          -0.3704903721809387,
          -0.5196090936660767,
          -0.6618391871452332,
          -0.8399895429611206,
          -0.8674386739730835,
          -0.8753951787948608,
          -1.028281569480896,
          -1.1055485010147095,
          -1.1704728603363037,
          -1.2440952062606812,
          -1.404255986213684,
          -1.729274868965149,
          -1.8377951383590698,
          -1.8809517621994019,
          -1.8322720527648926,
          -1.8755131959915161,
          -1.5908772945404053,
          -1.2892193794250488,
          -1.383434534072876,
          -0.8641930818557739,
          -0.8121603727340698,
          -0.7253497838973999,
          -0.6937695741653442,
          -0.5835002660751343,
          -0.5300480127334595,
          -0.42083245515823364,
          -0.43678784370422363,
          1.4530788660049438,
          1.5295374393463135,
          1.5996582508087158,
          -1.1693682670593262,
          -1.1996831893920898,
          -1.8280047178268433,
          -1.795331597328186
         ],
         "xaxis": "x",
         "y": [
          0.7764380574226379,
          0.8749770522117615,
          0.7857621908187866,
          0.7661057114601135,
          0.830662190914154,
          0.7737628817558289,
          0.9597092866897583,
          0.9172026515007019,
          1.3310743570327759,
          1.2896661758422852,
          1.404718041419983,
          1.3935920000076294,
          1.6573717594146729,
          1.5594861507415771,
          1.7165495157241821,
          1.608106255531311,
          1.564348578453064,
          1.3582797050476074,
          1.3951894044876099,
          1.503150224685669,
          1.5376849174499512,
          1.3974725008010864,
          1.3897356986999512,
          1.4897065162658691,
          1.4676676988601685,
          1.4558124542236328,
          1.5205782651901245,
          1.5907692909240723,
          1.78899085521698,
          1.8560322523117065,
          1.7342736721038818,
          1.9190490245819092,
          3.1165354251861572,
          3.1524600982666016,
          3.2782247066497803,
          3.3644216060638428,
          3.468315362930298,
          3.391526699066162,
          3.3979151248931885,
          3.107009172439575,
          3.304792642593384,
          3.4559578895568848,
          3.497006893157959,
          3.449150323867798,
          3.579145908355713,
          3.5449841022491455,
          3.846989631652832,
          3.8658251762390137,
          3.9289212226867676,
          3.963306188583374,
          4.099099636077881,
          4.068894863128662,
          4.155341625213623,
          3.976746082305908,
          4.28114128112793,
          4.267960071563721,
          4.427632808685303,
          5.059157371520996,
          5.210203647613525,
          5.269267559051514,
          5.461612224578857,
          5.429227352142334,
          5.307445049285889,
          5.252266883850098,
          5.342248439788818,
          5.158009052276611,
          5.267870903015137,
          5.137496471405029,
          5.455300807952881,
          5.8665571212768555,
          5.960904598236084,
          5.829233169555664,
          5.95957612991333,
          6.047341823577881,
          5.992031574249268,
          6.176550388336182,
          6.399868488311768,
          6.561897277832031,
          6.700484752655029,
          6.668082237243652,
          6.755278587341309,
          6.931259632110596,
          6.968019485473633,
          7.082082748413086,
          7.248877048492432,
          7.18856954574585,
          7.282774448394775,
          7.369454383850098,
          7.5798516273498535,
          7.62268590927124,
          7.659626007080078,
          7.884281158447266,
          7.988586902618408,
          8.022139549255371,
          8.100855827331543,
          8.523355484008789,
          9.233702659606934,
          9.251124382019043,
          9.545736312866211,
          9.585238456726074,
          10.104623794555664,
          12.7147216796875,
          13.312736511230469,
          13.459382057189941,
          14.05482006072998,
          14.182332038879395,
          14.220215797424316,
          14.146439552307129,
          14.28792667388916,
          14.23885440826416,
          14.111686706542969,
          14.163717269897461,
          11.870339393615723,
          11.868082046508789,
          11.928019523620605,
          17.9674129486084,
          18.003772735595703,
          18.702259063720703,
          18.656021118164062
         ],
         "yaxis": "y"
        },
        {
         "customdata": [
          [
           "2022-06-01T00:00:00",
           "Minutes of the Federal Open Market Committee\n                                                \n      "
          ],
          [
           "2022-07-01T00:00:00",
           "Minutes of the Federal Open Market Committee\n                                                \n      "
          ],
          [
           "2022-09-01T00:00:00",
           "Minutes of the Federal Open Market Committee\n                                                \n      "
          ],
          [
           "2022-11-01T00:00:00",
           "Minutes of the Federal Open Market Committee\n                                                \n      "
          ],
          [
           "2022-12-01T00:00:00",
           "Minutes of the Federal Open Market Committee\n                                                \n      "
          ],
          [
           "2023-02-01T00:00:00",
           "Minutes of the Federal Open Market Committee\n                                                \n      "
          ],
          [
           "2023-06-01T00:00:00",
           "Minutes of the Federal Open Market Committee\n                                                \n      "
          ],
          [
           "2023-07-01T00:00:00",
           "Minutes of the Federal Open Market Committee\n                                                \n      "
          ],
          [
           "2023-09-01T00:00:00",
           "Minutes of the Federal Open Market Committee\n                                                \n      "
          ],
          [
           "2023-11-01T00:00:00",
           "Minutes of the Federal Open Market Committee\n                                                \n      "
          ],
          [
           "2023-12-01T00:00:00",
           "Minutes of the Federal Open Market Committee\n                                                \n      "
          ],
          [
           "2024-02-01T00:00:00",
           "Minutes of the Federal Open Market Committee\n                                                \n      "
          ],
          [
           "2024-03-01T00:00:00",
           "Minutes of the Federal Open Market Committee\n                                                \n      "
          ],
          [
           "2024-05-01T00:00:00",
           "Minutes of the Federal Open Market Committee\n                                                \n      "
          ],
          [
           "2024-06-01T00:00:00",
           "Minutes of the Federal Open Market Committee\n                                                \n      "
          ],
          [
           "2024-08-01T00:00:00",
           "Minutes of the Federal Open Market Committee\n                                                \n      "
          ],
          [
           "2024-09-01T00:00:00",
           "Minutes of the Federal Open Market Committee\n                                                \n      "
          ],
          [
           "2024-11-01T00:00:00",
           "Minutes of the Federal Open Market Committee\n                                                \n      "
          ],
          [
           "2024-12-01T00:00:00",
           "Minutes of the Federal Open Market Committee\n                                                \n      "
          ],
          [
           "2025-02-01T00:00:00",
           "Minutes of the Federal Open Market Committee\n                                                \n      "
          ]
         ],
         "hovertemplate": "color=1<br>x=%{x}<br>y=%{y}<br>date=%{customdata[0]}<br>text=%{customdata[1]}<extra></extra>",
         "legendgroup": "1",
         "marker": {
          "color": "#00cc96",
          "symbol": "circle"
         },
         "mode": "markers",
         "name": "1",
         "orientation": "v",
         "showlegend": true,
         "type": "scatter",
         "x": [
          -1.286555290222168,
          -1.3545392751693726,
          -1.3505076169967651,
          -1.4434553384780884,
          -1.5472240447998047,
          -1.6558589935302734,
          -1.9372040033340454,
          -2.0187721252441406,
          -2.0483622550964355,
          -1.9737074375152588,
          -1.9895391464233398,
          -2.1384897232055664,
          -2.104142189025879,
          -2.177640914916992,
          -2.2478907108306885,
          -2.270616292953491,
          -2.3537447452545166,
          -2.5015311241149902,
          -2.405916690826416,
          -2.498224973678589
         ],
         "xaxis": "x",
         "y": [
          18.095582962036133,
          18.17340850830078,
          18.17471694946289,
          18.270639419555664,
          18.378173828125,
          18.500988006591797,
          18.80923843383789,
          18.881669998168945,
          18.86498260498047,
          18.873746871948242,
          18.927501678466797,
          19.21795654296875,
          19.289981842041016,
          19.332273483276367,
          19.41629981994629,
          19.30641746520996,
          19.37685203552246,
          19.163545608520508,
          19.176721572875977,
          19.17955780029297
         ],
         "yaxis": "y"
        }
       ],
       "layout": {
        "legend": {
         "title": {
          "text": "Cluster"
         },
         "tracegroupgap": 0
        },
        "template": {
         "data": {
          "bar": [
           {
            "error_x": {
             "color": "#2a3f5f"
            },
            "error_y": {
             "color": "#2a3f5f"
            },
            "marker": {
             "line": {
              "color": "#E5ECF6",
              "width": 0.5
             },
             "pattern": {
              "fillmode": "overlay",
              "size": 10,
              "solidity": 0.2
             }
            },
            "type": "bar"
           }
          ],
          "barpolar": [
           {
            "marker": {
             "line": {
              "color": "#E5ECF6",
              "width": 0.5
             },
             "pattern": {
              "fillmode": "overlay",
              "size": 10,
              "solidity": 0.2
             }
            },
            "type": "barpolar"
           }
          ],
          "carpet": [
           {
            "aaxis": {
             "endlinecolor": "#2a3f5f",
             "gridcolor": "white",
             "linecolor": "white",
             "minorgridcolor": "white",
             "startlinecolor": "#2a3f5f"
            },
            "baxis": {
             "endlinecolor": "#2a3f5f",
             "gridcolor": "white",
             "linecolor": "white",
             "minorgridcolor": "white",
             "startlinecolor": "#2a3f5f"
            },
            "type": "carpet"
           }
          ],
          "choropleth": [
           {
            "colorbar": {
             "outlinewidth": 0,
             "ticks": ""
            },
            "type": "choropleth"
           }
          ],
          "contour": [
           {
            "colorbar": {
             "outlinewidth": 0,
             "ticks": ""
            },
            "colorscale": [
             [
              0,
              "#0d0887"
             ],
             [
              0.1111111111111111,
              "#46039f"
             ],
             [
              0.2222222222222222,
              "#7201a8"
             ],
             [
              0.3333333333333333,
              "#9c179e"
             ],
             [
              0.4444444444444444,
              "#bd3786"
             ],
             [
              0.5555555555555556,
              "#d8576b"
             ],
             [
              0.6666666666666666,
              "#ed7953"
             ],
             [
              0.7777777777777778,
              "#fb9f3a"
             ],
             [
              0.8888888888888888,
              "#fdca26"
             ],
             [
              1,
              "#f0f921"
             ]
            ],
            "type": "contour"
           }
          ],
          "contourcarpet": [
           {
            "colorbar": {
             "outlinewidth": 0,
             "ticks": ""
            },
            "type": "contourcarpet"
           }
          ],
          "heatmap": [
           {
            "colorbar": {
             "outlinewidth": 0,
             "ticks": ""
            },
            "colorscale": [
             [
              0,
              "#0d0887"
             ],
             [
              0.1111111111111111,
              "#46039f"
             ],
             [
              0.2222222222222222,
              "#7201a8"
             ],
             [
              0.3333333333333333,
              "#9c179e"
             ],
             [
              0.4444444444444444,
              "#bd3786"
             ],
             [
              0.5555555555555556,
              "#d8576b"
             ],
             [
              0.6666666666666666,
              "#ed7953"
             ],
             [
              0.7777777777777778,
              "#fb9f3a"
             ],
             [
              0.8888888888888888,
              "#fdca26"
             ],
             [
              1,
              "#f0f921"
             ]
            ],
            "type": "heatmap"
           }
          ],
          "heatmapgl": [
           {
            "colorbar": {
             "outlinewidth": 0,
             "ticks": ""
            },
            "colorscale": [
             [
              0,
              "#0d0887"
             ],
             [
              0.1111111111111111,
              "#46039f"
             ],
             [
              0.2222222222222222,
              "#7201a8"
             ],
             [
              0.3333333333333333,
              "#9c179e"
             ],
             [
              0.4444444444444444,
              "#bd3786"
             ],
             [
              0.5555555555555556,
              "#d8576b"
             ],
             [
              0.6666666666666666,
              "#ed7953"
             ],
             [
              0.7777777777777778,
              "#fb9f3a"
             ],
             [
              0.8888888888888888,
              "#fdca26"
             ],
             [
              1,
              "#f0f921"
             ]
            ],
            "type": "heatmapgl"
           }
          ],
          "histogram": [
           {
            "marker": {
             "pattern": {
              "fillmode": "overlay",
              "size": 10,
              "solidity": 0.2
             }
            },
            "type": "histogram"
           }
          ],
          "histogram2d": [
           {
            "colorbar": {
             "outlinewidth": 0,
             "ticks": ""
            },
            "colorscale": [
             [
              0,
              "#0d0887"
             ],
             [
              0.1111111111111111,
              "#46039f"
             ],
             [
              0.2222222222222222,
              "#7201a8"
             ],
             [
              0.3333333333333333,
              "#9c179e"
             ],
             [
              0.4444444444444444,
              "#bd3786"
             ],
             [
              0.5555555555555556,
              "#d8576b"
             ],
             [
              0.6666666666666666,
              "#ed7953"
             ],
             [
              0.7777777777777778,
              "#fb9f3a"
             ],
             [
              0.8888888888888888,
              "#fdca26"
             ],
             [
              1,
              "#f0f921"
             ]
            ],
            "type": "histogram2d"
           }
          ],
          "histogram2dcontour": [
           {
            "colorbar": {
             "outlinewidth": 0,
             "ticks": ""
            },
            "colorscale": [
             [
              0,
              "#0d0887"
             ],
             [
              0.1111111111111111,
              "#46039f"
             ],
             [
              0.2222222222222222,
              "#7201a8"
             ],
             [
              0.3333333333333333,
              "#9c179e"
             ],
             [
              0.4444444444444444,
              "#bd3786"
             ],
             [
              0.5555555555555556,
              "#d8576b"
             ],
             [
              0.6666666666666666,
              "#ed7953"
             ],
             [
              0.7777777777777778,
              "#fb9f3a"
             ],
             [
              0.8888888888888888,
              "#fdca26"
             ],
             [
              1,
              "#f0f921"
             ]
            ],
            "type": "histogram2dcontour"
           }
          ],
          "mesh3d": [
           {
            "colorbar": {
             "outlinewidth": 0,
             "ticks": ""
            },
            "type": "mesh3d"
           }
          ],
          "parcoords": [
           {
            "line": {
             "colorbar": {
              "outlinewidth": 0,
              "ticks": ""
             }
            },
            "type": "parcoords"
           }
          ],
          "pie": [
           {
            "automargin": true,
            "type": "pie"
           }
          ],
          "scatter": [
           {
            "fillpattern": {
             "fillmode": "overlay",
             "size": 10,
             "solidity": 0.2
            },
            "type": "scatter"
           }
          ],
          "scatter3d": [
           {
            "line": {
             "colorbar": {
              "outlinewidth": 0,
              "ticks": ""
             }
            },
            "marker": {
             "colorbar": {
              "outlinewidth": 0,
              "ticks": ""
             }
            },
            "type": "scatter3d"
           }
          ],
          "scattercarpet": [
           {
            "marker": {
             "colorbar": {
              "outlinewidth": 0,
              "ticks": ""
             }
            },
            "type": "scattercarpet"
           }
          ],
          "scattergeo": [
           {
            "marker": {
             "colorbar": {
              "outlinewidth": 0,
              "ticks": ""
             }
            },
            "type": "scattergeo"
           }
          ],
          "scattergl": [
           {
            "marker": {
             "colorbar": {
              "outlinewidth": 0,
              "ticks": ""
             }
            },
            "type": "scattergl"
           }
          ],
          "scattermapbox": [
           {
            "marker": {
             "colorbar": {
              "outlinewidth": 0,
              "ticks": ""
             }
            },
            "type": "scattermapbox"
           }
          ],
          "scatterpolar": [
           {
            "marker": {
             "colorbar": {
              "outlinewidth": 0,
              "ticks": ""
             }
            },
            "type": "scatterpolar"
           }
          ],
          "scatterpolargl": [
           {
            "marker": {
             "colorbar": {
              "outlinewidth": 0,
              "ticks": ""
             }
            },
            "type": "scatterpolargl"
           }
          ],
          "scatterternary": [
           {
            "marker": {
             "colorbar": {
              "outlinewidth": 0,
              "ticks": ""
             }
            },
            "type": "scatterternary"
           }
          ],
          "surface": [
           {
            "colorbar": {
             "outlinewidth": 0,
             "ticks": ""
            },
            "colorscale": [
             [
              0,
              "#0d0887"
             ],
             [
              0.1111111111111111,
              "#46039f"
             ],
             [
              0.2222222222222222,
              "#7201a8"
             ],
             [
              0.3333333333333333,
              "#9c179e"
             ],
             [
              0.4444444444444444,
              "#bd3786"
             ],
             [
              0.5555555555555556,
              "#d8576b"
             ],
             [
              0.6666666666666666,
              "#ed7953"
             ],
             [
              0.7777777777777778,
              "#fb9f3a"
             ],
             [
              0.8888888888888888,
              "#fdca26"
             ],
             [
              1,
              "#f0f921"
             ]
            ],
            "type": "surface"
           }
          ],
          "table": [
           {
            "cells": {
             "fill": {
              "color": "#EBF0F8"
             },
             "line": {
              "color": "white"
             }
            },
            "header": {
             "fill": {
              "color": "#C8D4E3"
             },
             "line": {
              "color": "white"
             }
            },
            "type": "table"
           }
          ]
         },
         "layout": {
          "annotationdefaults": {
           "arrowcolor": "#2a3f5f",
           "arrowhead": 0,
           "arrowwidth": 1
          },
          "autotypenumbers": "strict",
          "coloraxis": {
           "colorbar": {
            "outlinewidth": 0,
            "ticks": ""
           }
          },
          "colorscale": {
           "diverging": [
            [
             0,
             "#8e0152"
            ],
            [
             0.1,
             "#c51b7d"
            ],
            [
             0.2,
             "#de77ae"
            ],
            [
             0.3,
             "#f1b6da"
            ],
            [
             0.4,
             "#fde0ef"
            ],
            [
             0.5,
             "#f7f7f7"
            ],
            [
             0.6,
             "#e6f5d0"
            ],
            [
             0.7,
             "#b8e186"
            ],
            [
             0.8,
             "#7fbc41"
            ],
            [
             0.9,
             "#4d9221"
            ],
            [
             1,
             "#276419"
            ]
           ],
           "sequential": [
            [
             0,
             "#0d0887"
            ],
            [
             0.1111111111111111,
             "#46039f"
            ],
            [
             0.2222222222222222,
             "#7201a8"
            ],
            [
             0.3333333333333333,
             "#9c179e"
            ],
            [
             0.4444444444444444,
             "#bd3786"
            ],
            [
             0.5555555555555556,
             "#d8576b"
            ],
            [
             0.6666666666666666,
             "#ed7953"
            ],
            [
             0.7777777777777778,
             "#fb9f3a"
            ],
            [
             0.8888888888888888,
             "#fdca26"
            ],
            [
             1,
             "#f0f921"
            ]
           ],
           "sequentialminus": [
            [
             0,
             "#0d0887"
            ],
            [
             0.1111111111111111,
             "#46039f"
            ],
            [
             0.2222222222222222,
             "#7201a8"
            ],
            [
             0.3333333333333333,
             "#9c179e"
            ],
            [
             0.4444444444444444,
             "#bd3786"
            ],
            [
             0.5555555555555556,
             "#d8576b"
            ],
            [
             0.6666666666666666,
             "#ed7953"
            ],
            [
             0.7777777777777778,
             "#fb9f3a"
            ],
            [
             0.8888888888888888,
             "#fdca26"
            ],
            [
             1,
             "#f0f921"
            ]
           ]
          },
          "colorway": [
           "#636efa",
           "#EF553B",
           "#00cc96",
           "#ab63fa",
           "#FFA15A",
           "#19d3f3",
           "#FF6692",
           "#B6E880",
           "#FF97FF",
           "#FECB52"
          ],
          "font": {
           "color": "#2a3f5f"
          },
          "geo": {
           "bgcolor": "white",
           "lakecolor": "white",
           "landcolor": "#E5ECF6",
           "showlakes": true,
           "showland": true,
           "subunitcolor": "white"
          },
          "hoverlabel": {
           "align": "left"
          },
          "hovermode": "closest",
          "mapbox": {
           "style": "light"
          },
          "paper_bgcolor": "white",
          "plot_bgcolor": "#E5ECF6",
          "polar": {
           "angularaxis": {
            "gridcolor": "white",
            "linecolor": "white",
            "ticks": ""
           },
           "bgcolor": "#E5ECF6",
           "radialaxis": {
            "gridcolor": "white",
            "linecolor": "white",
            "ticks": ""
           }
          },
          "scene": {
           "xaxis": {
            "backgroundcolor": "#E5ECF6",
            "gridcolor": "white",
            "gridwidth": 2,
            "linecolor": "white",
            "showbackground": true,
            "ticks": "",
            "zerolinecolor": "white"
           },
           "yaxis": {
            "backgroundcolor": "#E5ECF6",
            "gridcolor": "white",
            "gridwidth": 2,
            "linecolor": "white",
            "showbackground": true,
            "ticks": "",
            "zerolinecolor": "white"
           },
           "zaxis": {
            "backgroundcolor": "#E5ECF6",
            "gridcolor": "white",
            "gridwidth": 2,
            "linecolor": "white",
            "showbackground": true,
            "ticks": "",
            "zerolinecolor": "white"
           }
          },
          "shapedefaults": {
           "line": {
            "color": "#2a3f5f"
           }
          },
          "ternary": {
           "aaxis": {
            "gridcolor": "white",
            "linecolor": "white",
            "ticks": ""
           },
           "baxis": {
            "gridcolor": "white",
            "linecolor": "white",
            "ticks": ""
           },
           "bgcolor": "#E5ECF6",
           "caxis": {
            "gridcolor": "white",
            "linecolor": "white",
            "ticks": ""
           }
          },
          "title": {
           "x": 0.05
          },
          "xaxis": {
           "automargin": true,
           "gridcolor": "white",
           "linecolor": "white",
           "ticks": "",
           "title": {
            "standoff": 15
           },
           "zerolinecolor": "white",
           "zerolinewidth": 2
          },
          "yaxis": {
           "automargin": true,
           "gridcolor": "white",
           "linecolor": "white",
           "ticks": "",
           "title": {
            "standoff": 15
           },
           "zerolinecolor": "white",
           "zerolinewidth": 2
          }
         }
        },
        "title": {
         "text": "HDBSCAN clusters in UMAP space"
        },
        "xaxis": {
         "anchor": "y",
         "domain": [
          0,
          1
         ],
         "title": {
          "text": "x"
         }
        },
        "yaxis": {
         "anchor": "x",
         "domain": [
          0,
          1
         ],
         "title": {
          "text": "y"
         }
        }
       }
      }
     },
     "metadata": {},
     "output_type": "display_data"
    }
   ],
   "source": [
    "# visualize HDBSCAN clusters\n",
    "fig_hdb = px.scatter(\n",
    "    x=umap2d[:,0], y=umap2d[:,1],\n",
    "    color=df[\"hdb_cluster\"],\n",
    "    hover_data={\"date\": dates, \"text\": [t[:100] for t in docs]},\n",
    "    title=\"HDBSCAN clusters in UMAP space\"\n",
    ")\n",
    "fig_hdb.update_layout(legend_title=\"Cluster\")\n",
    "fig_hdb.show()"
   ]
  },
  {
   "cell_type": "markdown",
   "metadata": {},
   "source": [
    "I immediately notice it collapses the eight K-Means groups into just three dense islands (plus any scattered noise, if I were showing it). In the previous K-Means UMAP, I saw eight distinct “arms” fanning out—a red arm all the way on the right, a tight green band at mid-height, a purple cluster just above it, and then the orange, pink, light-blue, and lime-green branches each tracing their own curve. HDBSCAN, by contrast, has treated the long right-hand arm (formerly red, teal, and some of the mid-curve points) as one big cluster in red, it’s carved out the inner loop region as a compact blue cluster, and it’s kept the small top-branch points together in green. All of the transitional points that sat between those islands in the K-Means plot now either merge into the closest dense core or get labeled as noise (if they fell below the density threshold).\n",
    "\n",
    "In comparing the two, I see that K-Means enforces equal-sized partitions even in sparsely populated areas of the embedding, which gives me fine-grained splits but can force some meetings into clusters that aren’t actually well supported by text density. HDBSCAN, on the other hand, only flags the most tightly knit groups and effectively says “everything else is too diffuse” (or noise) or belongs to the nearest dense region. That means I get fewer, more cohesive clusters with HDBSCAN—which is great if I want to focus on the most salient rhetorical regimes—but I lose the finer thematic distinctions that K-Means uncovered along that continuous curved trajectory.\n",
    "\n",
    "For my research goal of mapping nuanced shifts in FOMC rhetoric to manufacturing orders, I prefer K-Means. Its eight equally sized clusters preserved the full continuum of thematic arms, whereas HDBSCAN collapsed many of those into a few dense cores or noise, losing the finer distinctions I need for detailed downstream analysis."
   ]
  },
  {
   "cell_type": "markdown",
   "metadata": {},
   "source": [
    "### 11. Custom BERTopic + K-Means Pipeline for FOMC Meeting Topic Extraction\n",
    "I plan to complement my K-Means results with a BERTopic analysis, hoping its integrated embedding will yield more coherent, human-interpretable topics for each cluster. By leveraging BERTopic’s dynamic topic modeling and built-in visualization tools, I expect to uncover clearer thematic structures that map more directly onto economic narratives.\n",
    "\n",
    "I build a custom CountVectorizer with your stopwords, and generate sentence embeddings via Sentence-Transformer plus UMAP. Then I fit BERTopic (without HDBSCAN), extract its embeddings, override its clustering with K-Means (k = 8), and write the final topic IDs and confidence scores back into the DataFrame for visualization."
   ]
  },
  {
   "cell_type": "code",
   "execution_count": 13,
   "metadata": {},
   "outputs": [
    {
     "name": "stderr",
     "output_type": "stream",
     "text": [
      "2025-05-21 09:04:41,611 - BERTopic - WARNING: Using a custom list of topic assignments may lead to errors if topic reduction techniques are used afterwards. Make sure that manually assigning topics is the last step in the pipeline.Note that topic embeddings will also be created through weightedc-TF-IDF embeddings instead of centroid embeddings.\n"
     ]
    },
    {
     "name": "stdout",
     "output_type": "stream",
     "text": [
      "   Topic  Count                                               Name  \\\n",
      "0      0     17      0_private credit_reserve sheet_agency mbs_bid   \n",
      "1      1     40  1_agency mortgage_normalization_couple_based m...   \n",
      "2      2     29  2_based measures_couple_inflation objective_ag...   \n",
      "3      3     18     3_press_wealth effects_tech equipment_stockton   \n",
      "4      4     42       4_inventory sales_nation_johnson_pace likely   \n",
      "5      5     37  5_asset purchases_based measures_agency mortga...   \n",
      "6      6     11  6_inflation moderate_moderate coming_tightenin...   \n",
      "7      7     18  7_asset purchases_purchase program_agency mort...   \n",
      "\n",
      "                                      Representation  \\\n",
      "0  [private credit, reserve sheet, agency mbs, bi...   \n",
      "1  [agency mortgage, normalization, couple, based...   \n",
      "2  [based measures, couple, inflation objective, ...   \n",
      "3  [press, wealth effects, tech equipment, stockt...   \n",
      "4  [inventory sales, nation, johnson, pace likely...   \n",
      "5  [asset purchases, based measures, agency mortg...   \n",
      "6  [inflation moderate, moderate coming, tighteni...   \n",
      "7  [asset purchases, purchase program, agency mor...   \n",
      "\n",
      "                                 Representative_Docs  \n",
      "0  [Minutes of the Federal Open Market Committee\\...  \n",
      "1  [Minutes of the Federal Open Market Committee\\...  \n",
      "2  [Minutes of the Federal Open Market Committee\\...  \n",
      "3  [Minutes of the Federal Open Market Committee\\...  \n",
      "4  [Minutes of the Federal Open Market Committee\\...  \n",
      "5  [Minutes of the Federal Open Market Committee\\...  \n",
      "6                                                NaN  \n",
      "7                                                NaN  \n"
     ]
    },
    {
     "data": {
      "application/vnd.plotly.v1+json": {
       "config": {
        "plotlyServerURL": "https://plot.ly"
       },
       "data": [
        {
         "marker": {
          "color": "#D55E00"
         },
         "orientation": "h",
         "type": "bar",
         "x": [
          0.014959064900957546,
          0.015041220272094808,
          0.015067345694619308,
          0.018478115656176068,
          0.01942767253499679
         ],
         "xaxis": "x",
         "y": [
          "tight credit  ",
          "bid  ",
          "agency mbs  ",
          "reserve sheet  ",
          "private credit  "
         ],
         "yaxis": "y"
        },
        {
         "marker": {
          "color": "#0072B2"
         },
         "orientation": "h",
         "type": "bar",
         "x": [
          0.014054527304317103,
          0.014856452631190994,
          0.016952643821039594,
          0.018004686783537373,
          0.019415861312220423
         ],
         "xaxis": "x2",
         "y": [
          "special adviser  ",
          "based measures  ",
          "couple  ",
          "normalization  ",
          "agency mortgage  "
         ],
         "yaxis": "y2"
        },
        {
         "marker": {
          "color": "#CC79A7"
         },
         "orientation": "h",
         "type": "bar",
         "x": [
          0.016731164537113017,
          0.017071436742202087,
          0.017470883122856867,
          0.024236315334457744,
          0.026241891406044528
         ],
         "xaxis": "x3",
         "y": [
          "market based  ",
          "agency mortgage  ",
          "inflation objective  ",
          "couple  ",
          "based measures  "
         ],
         "yaxis": "y3"
        },
        {
         "marker": {
          "color": "#E69F00"
         },
         "orientation": "h",
         "type": "bar",
         "x": [
          0.022021682166459583,
          0.022108196459566923,
          0.024250671993437452,
          0.02473597809037865,
          0.03460037964914949
         ],
         "xaxis": "x4",
         "y": [
          "labor resources  ",
          "stockton  ",
          "tech equipment  ",
          "wealth effects  ",
          "press  "
         ],
         "yaxis": "y4"
        },
        {
         "marker": {
          "color": "#56B4E9"
         },
         "orientation": "h",
         "type": "bar",
         "x": [
          0.01727563578603826,
          0.017293150331240507,
          0.01777994679252509,
          0.017857051672901192,
          0.019342844040678386
         ],
         "xaxis": "x5",
         "y": [
          "wilcox associate  ",
          "pace likely  ",
          "johnson  ",
          "nation  ",
          "inventory sales  "
         ],
         "yaxis": "y5"
        },
        {
         "marker": {
          "color": "#009E73"
         },
         "orientation": "h",
         "type": "bar",
         "x": [
          0.01669901100892012,
          0.01698500394329575,
          0.018244794432797536,
          0.01931384596834749,
          0.019705413005205386
         ],
         "xaxis": "x6",
         "y": [
          "normalization  ",
          "couple  ",
          "agency mortgage  ",
          "based measures  ",
          "asset purchases  "
         ],
         "yaxis": "y6"
        },
        {
         "marker": {
          "color": "#F0E442"
         },
         "orientation": "h",
         "type": "bar",
         "x": [
          0.02194252982499902,
          0.02351785953405173,
          0.023684930672757707,
          0.024569598366414428,
          0.03243678321956377
         ],
         "xaxis": "x7",
         "y": [
          "developments carefully  ",
          "warsh  ",
          "tightening credit  ",
          "moderate coming  ",
          "inflation moderate  "
         ],
         "yaxis": "y7"
        },
        {
         "marker": {
          "color": "#D55E00"
         },
         "orientation": "h",
         "type": "bar",
         "x": [
          0.017301121307544118,
          0.017740035382090777,
          0.021643183850990347,
          0.02342549199130659,
          0.043447513248810896
         ],
         "xaxis": "x8",
         "y": [
          "securities pace  ",
          "asset purchase  ",
          "agency mortgage  ",
          "purchase program  ",
          "asset purchases  "
         ],
         "yaxis": "y8"
        }
       ],
       "layout": {
        "annotations": [
         {
          "font": {
           "size": 16
          },
          "showarrow": false,
          "text": "Topic 0",
          "x": 0.0875,
          "xanchor": "center",
          "xref": "paper",
          "y": 1,
          "yanchor": "bottom",
          "yref": "paper"
         },
         {
          "font": {
           "size": 16
          },
          "showarrow": false,
          "text": "Topic 1",
          "x": 0.36250000000000004,
          "xanchor": "center",
          "xref": "paper",
          "y": 1,
          "yanchor": "bottom",
          "yref": "paper"
         },
         {
          "font": {
           "size": 16
          },
          "showarrow": false,
          "text": "Topic 2",
          "x": 0.6375000000000001,
          "xanchor": "center",
          "xref": "paper",
          "y": 1,
          "yanchor": "bottom",
          "yref": "paper"
         },
         {
          "font": {
           "size": 16
          },
          "showarrow": false,
          "text": "Topic 3",
          "x": 0.9125,
          "xanchor": "center",
          "xref": "paper",
          "y": 1,
          "yanchor": "bottom",
          "yref": "paper"
         },
         {
          "font": {
           "size": 16
          },
          "showarrow": false,
          "text": "Topic 4",
          "x": 0.0875,
          "xanchor": "center",
          "xref": "paper",
          "y": 0.4,
          "yanchor": "bottom",
          "yref": "paper"
         },
         {
          "font": {
           "size": 16
          },
          "showarrow": false,
          "text": "Topic 5",
          "x": 0.36250000000000004,
          "xanchor": "center",
          "xref": "paper",
          "y": 0.4,
          "yanchor": "bottom",
          "yref": "paper"
         },
         {
          "font": {
           "size": 16
          },
          "showarrow": false,
          "text": "Topic 6",
          "x": 0.6375000000000001,
          "xanchor": "center",
          "xref": "paper",
          "y": 0.4,
          "yanchor": "bottom",
          "yref": "paper"
         },
         {
          "font": {
           "size": 16
          },
          "showarrow": false,
          "text": "Topic 7",
          "x": 0.9125,
          "xanchor": "center",
          "xref": "paper",
          "y": 0.4,
          "yanchor": "bottom",
          "yref": "paper"
         }
        ],
        "height": 500,
        "hoverlabel": {
         "bgcolor": "white",
         "font": {
          "family": "Rockwell",
          "size": 16
         }
        },
        "showlegend": false,
        "template": {
         "data": {
          "bar": [
           {
            "error_x": {
             "color": "#2a3f5f"
            },
            "error_y": {
             "color": "#2a3f5f"
            },
            "marker": {
             "line": {
              "color": "white",
              "width": 0.5
             },
             "pattern": {
              "fillmode": "overlay",
              "size": 10,
              "solidity": 0.2
             }
            },
            "type": "bar"
           }
          ],
          "barpolar": [
           {
            "marker": {
             "line": {
              "color": "white",
              "width": 0.5
             },
             "pattern": {
              "fillmode": "overlay",
              "size": 10,
              "solidity": 0.2
             }
            },
            "type": "barpolar"
           }
          ],
          "carpet": [
           {
            "aaxis": {
             "endlinecolor": "#2a3f5f",
             "gridcolor": "#C8D4E3",
             "linecolor": "#C8D4E3",
             "minorgridcolor": "#C8D4E3",
             "startlinecolor": "#2a3f5f"
            },
            "baxis": {
             "endlinecolor": "#2a3f5f",
             "gridcolor": "#C8D4E3",
             "linecolor": "#C8D4E3",
             "minorgridcolor": "#C8D4E3",
             "startlinecolor": "#2a3f5f"
            },
            "type": "carpet"
           }
          ],
          "choropleth": [
           {
            "colorbar": {
             "outlinewidth": 0,
             "ticks": ""
            },
            "type": "choropleth"
           }
          ],
          "contour": [
           {
            "colorbar": {
             "outlinewidth": 0,
             "ticks": ""
            },
            "colorscale": [
             [
              0,
              "#0d0887"
             ],
             [
              0.1111111111111111,
              "#46039f"
             ],
             [
              0.2222222222222222,
              "#7201a8"
             ],
             [
              0.3333333333333333,
              "#9c179e"
             ],
             [
              0.4444444444444444,
              "#bd3786"
             ],
             [
              0.5555555555555556,
              "#d8576b"
             ],
             [
              0.6666666666666666,
              "#ed7953"
             ],
             [
              0.7777777777777778,
              "#fb9f3a"
             ],
             [
              0.8888888888888888,
              "#fdca26"
             ],
             [
              1,
              "#f0f921"
             ]
            ],
            "type": "contour"
           }
          ],
          "contourcarpet": [
           {
            "colorbar": {
             "outlinewidth": 0,
             "ticks": ""
            },
            "type": "contourcarpet"
           }
          ],
          "heatmap": [
           {
            "colorbar": {
             "outlinewidth": 0,
             "ticks": ""
            },
            "colorscale": [
             [
              0,
              "#0d0887"
             ],
             [
              0.1111111111111111,
              "#46039f"
             ],
             [
              0.2222222222222222,
              "#7201a8"
             ],
             [
              0.3333333333333333,
              "#9c179e"
             ],
             [
              0.4444444444444444,
              "#bd3786"
             ],
             [
              0.5555555555555556,
              "#d8576b"
             ],
             [
              0.6666666666666666,
              "#ed7953"
             ],
             [
              0.7777777777777778,
              "#fb9f3a"
             ],
             [
              0.8888888888888888,
              "#fdca26"
             ],
             [
              1,
              "#f0f921"
             ]
            ],
            "type": "heatmap"
           }
          ],
          "heatmapgl": [
           {
            "colorbar": {
             "outlinewidth": 0,
             "ticks": ""
            },
            "colorscale": [
             [
              0,
              "#0d0887"
             ],
             [
              0.1111111111111111,
              "#46039f"
             ],
             [
              0.2222222222222222,
              "#7201a8"
             ],
             [
              0.3333333333333333,
              "#9c179e"
             ],
             [
              0.4444444444444444,
              "#bd3786"
             ],
             [
              0.5555555555555556,
              "#d8576b"
             ],
             [
              0.6666666666666666,
              "#ed7953"
             ],
             [
              0.7777777777777778,
              "#fb9f3a"
             ],
             [
              0.8888888888888888,
              "#fdca26"
             ],
             [
              1,
              "#f0f921"
             ]
            ],
            "type": "heatmapgl"
           }
          ],
          "histogram": [
           {
            "marker": {
             "pattern": {
              "fillmode": "overlay",
              "size": 10,
              "solidity": 0.2
             }
            },
            "type": "histogram"
           }
          ],
          "histogram2d": [
           {
            "colorbar": {
             "outlinewidth": 0,
             "ticks": ""
            },
            "colorscale": [
             [
              0,
              "#0d0887"
             ],
             [
              0.1111111111111111,
              "#46039f"
             ],
             [
              0.2222222222222222,
              "#7201a8"
             ],
             [
              0.3333333333333333,
              "#9c179e"
             ],
             [
              0.4444444444444444,
              "#bd3786"
             ],
             [
              0.5555555555555556,
              "#d8576b"
             ],
             [
              0.6666666666666666,
              "#ed7953"
             ],
             [
              0.7777777777777778,
              "#fb9f3a"
             ],
             [
              0.8888888888888888,
              "#fdca26"
             ],
             [
              1,
              "#f0f921"
             ]
            ],
            "type": "histogram2d"
           }
          ],
          "histogram2dcontour": [
           {
            "colorbar": {
             "outlinewidth": 0,
             "ticks": ""
            },
            "colorscale": [
             [
              0,
              "#0d0887"
             ],
             [
              0.1111111111111111,
              "#46039f"
             ],
             [
              0.2222222222222222,
              "#7201a8"
             ],
             [
              0.3333333333333333,
              "#9c179e"
             ],
             [
              0.4444444444444444,
              "#bd3786"
             ],
             [
              0.5555555555555556,
              "#d8576b"
             ],
             [
              0.6666666666666666,
              "#ed7953"
             ],
             [
              0.7777777777777778,
              "#fb9f3a"
             ],
             [
              0.8888888888888888,
              "#fdca26"
             ],
             [
              1,
              "#f0f921"
             ]
            ],
            "type": "histogram2dcontour"
           }
          ],
          "mesh3d": [
           {
            "colorbar": {
             "outlinewidth": 0,
             "ticks": ""
            },
            "type": "mesh3d"
           }
          ],
          "parcoords": [
           {
            "line": {
             "colorbar": {
              "outlinewidth": 0,
              "ticks": ""
             }
            },
            "type": "parcoords"
           }
          ],
          "pie": [
           {
            "automargin": true,
            "type": "pie"
           }
          ],
          "scatter": [
           {
            "fillpattern": {
             "fillmode": "overlay",
             "size": 10,
             "solidity": 0.2
            },
            "type": "scatter"
           }
          ],
          "scatter3d": [
           {
            "line": {
             "colorbar": {
              "outlinewidth": 0,
              "ticks": ""
             }
            },
            "marker": {
             "colorbar": {
              "outlinewidth": 0,
              "ticks": ""
             }
            },
            "type": "scatter3d"
           }
          ],
          "scattercarpet": [
           {
            "marker": {
             "colorbar": {
              "outlinewidth": 0,
              "ticks": ""
             }
            },
            "type": "scattercarpet"
           }
          ],
          "scattergeo": [
           {
            "marker": {
             "colorbar": {
              "outlinewidth": 0,
              "ticks": ""
             }
            },
            "type": "scattergeo"
           }
          ],
          "scattergl": [
           {
            "marker": {
             "colorbar": {
              "outlinewidth": 0,
              "ticks": ""
             }
            },
            "type": "scattergl"
           }
          ],
          "scattermapbox": [
           {
            "marker": {
             "colorbar": {
              "outlinewidth": 0,
              "ticks": ""
             }
            },
            "type": "scattermapbox"
           }
          ],
          "scatterpolar": [
           {
            "marker": {
             "colorbar": {
              "outlinewidth": 0,
              "ticks": ""
             }
            },
            "type": "scatterpolar"
           }
          ],
          "scatterpolargl": [
           {
            "marker": {
             "colorbar": {
              "outlinewidth": 0,
              "ticks": ""
             }
            },
            "type": "scatterpolargl"
           }
          ],
          "scatterternary": [
           {
            "marker": {
             "colorbar": {
              "outlinewidth": 0,
              "ticks": ""
             }
            },
            "type": "scatterternary"
           }
          ],
          "surface": [
           {
            "colorbar": {
             "outlinewidth": 0,
             "ticks": ""
            },
            "colorscale": [
             [
              0,
              "#0d0887"
             ],
             [
              0.1111111111111111,
              "#46039f"
             ],
             [
              0.2222222222222222,
              "#7201a8"
             ],
             [
              0.3333333333333333,
              "#9c179e"
             ],
             [
              0.4444444444444444,
              "#bd3786"
             ],
             [
              0.5555555555555556,
              "#d8576b"
             ],
             [
              0.6666666666666666,
              "#ed7953"
             ],
             [
              0.7777777777777778,
              "#fb9f3a"
             ],
             [
              0.8888888888888888,
              "#fdca26"
             ],
             [
              1,
              "#f0f921"
             ]
            ],
            "type": "surface"
           }
          ],
          "table": [
           {
            "cells": {
             "fill": {
              "color": "#EBF0F8"
             },
             "line": {
              "color": "white"
             }
            },
            "header": {
             "fill": {
              "color": "#C8D4E3"
             },
             "line": {
              "color": "white"
             }
            },
            "type": "table"
           }
          ]
         },
         "layout": {
          "annotationdefaults": {
           "arrowcolor": "#2a3f5f",
           "arrowhead": 0,
           "arrowwidth": 1
          },
          "autotypenumbers": "strict",
          "coloraxis": {
           "colorbar": {
            "outlinewidth": 0,
            "ticks": ""
           }
          },
          "colorscale": {
           "diverging": [
            [
             0,
             "#8e0152"
            ],
            [
             0.1,
             "#c51b7d"
            ],
            [
             0.2,
             "#de77ae"
            ],
            [
             0.3,
             "#f1b6da"
            ],
            [
             0.4,
             "#fde0ef"
            ],
            [
             0.5,
             "#f7f7f7"
            ],
            [
             0.6,
             "#e6f5d0"
            ],
            [
             0.7,
             "#b8e186"
            ],
            [
             0.8,
             "#7fbc41"
            ],
            [
             0.9,
             "#4d9221"
            ],
            [
             1,
             "#276419"
            ]
           ],
           "sequential": [
            [
             0,
             "#0d0887"
            ],
            [
             0.1111111111111111,
             "#46039f"
            ],
            [
             0.2222222222222222,
             "#7201a8"
            ],
            [
             0.3333333333333333,
             "#9c179e"
            ],
            [
             0.4444444444444444,
             "#bd3786"
            ],
            [
             0.5555555555555556,
             "#d8576b"
            ],
            [
             0.6666666666666666,
             "#ed7953"
            ],
            [
             0.7777777777777778,
             "#fb9f3a"
            ],
            [
             0.8888888888888888,
             "#fdca26"
            ],
            [
             1,
             "#f0f921"
            ]
           ],
           "sequentialminus": [
            [
             0,
             "#0d0887"
            ],
            [
             0.1111111111111111,
             "#46039f"
            ],
            [
             0.2222222222222222,
             "#7201a8"
            ],
            [
             0.3333333333333333,
             "#9c179e"
            ],
            [
             0.4444444444444444,
             "#bd3786"
            ],
            [
             0.5555555555555556,
             "#d8576b"
            ],
            [
             0.6666666666666666,
             "#ed7953"
            ],
            [
             0.7777777777777778,
             "#fb9f3a"
            ],
            [
             0.8888888888888888,
             "#fdca26"
            ],
            [
             1,
             "#f0f921"
            ]
           ]
          },
          "colorway": [
           "#636efa",
           "#EF553B",
           "#00cc96",
           "#ab63fa",
           "#FFA15A",
           "#19d3f3",
           "#FF6692",
           "#B6E880",
           "#FF97FF",
           "#FECB52"
          ],
          "font": {
           "color": "#2a3f5f"
          },
          "geo": {
           "bgcolor": "white",
           "lakecolor": "white",
           "landcolor": "white",
           "showlakes": true,
           "showland": true,
           "subunitcolor": "#C8D4E3"
          },
          "hoverlabel": {
           "align": "left"
          },
          "hovermode": "closest",
          "mapbox": {
           "style": "light"
          },
          "paper_bgcolor": "white",
          "plot_bgcolor": "white",
          "polar": {
           "angularaxis": {
            "gridcolor": "#EBF0F8",
            "linecolor": "#EBF0F8",
            "ticks": ""
           },
           "bgcolor": "white",
           "radialaxis": {
            "gridcolor": "#EBF0F8",
            "linecolor": "#EBF0F8",
            "ticks": ""
           }
          },
          "scene": {
           "xaxis": {
            "backgroundcolor": "white",
            "gridcolor": "#DFE8F3",
            "gridwidth": 2,
            "linecolor": "#EBF0F8",
            "showbackground": true,
            "ticks": "",
            "zerolinecolor": "#EBF0F8"
           },
           "yaxis": {
            "backgroundcolor": "white",
            "gridcolor": "#DFE8F3",
            "gridwidth": 2,
            "linecolor": "#EBF0F8",
            "showbackground": true,
            "ticks": "",
            "zerolinecolor": "#EBF0F8"
           },
           "zaxis": {
            "backgroundcolor": "white",
            "gridcolor": "#DFE8F3",
            "gridwidth": 2,
            "linecolor": "#EBF0F8",
            "showbackground": true,
            "ticks": "",
            "zerolinecolor": "#EBF0F8"
           }
          },
          "shapedefaults": {
           "line": {
            "color": "#2a3f5f"
           }
          },
          "ternary": {
           "aaxis": {
            "gridcolor": "#DFE8F3",
            "linecolor": "#A2B1C6",
            "ticks": ""
           },
           "baxis": {
            "gridcolor": "#DFE8F3",
            "linecolor": "#A2B1C6",
            "ticks": ""
           },
           "bgcolor": "white",
           "caxis": {
            "gridcolor": "#DFE8F3",
            "linecolor": "#A2B1C6",
            "ticks": ""
           }
          },
          "title": {
           "x": 0.05
          },
          "xaxis": {
           "automargin": true,
           "gridcolor": "#EBF0F8",
           "linecolor": "#EBF0F8",
           "ticks": "",
           "title": {
            "standoff": 15
           },
           "zerolinecolor": "#EBF0F8",
           "zerolinewidth": 2
          },
          "yaxis": {
           "automargin": true,
           "gridcolor": "#EBF0F8",
           "linecolor": "#EBF0F8",
           "ticks": "",
           "title": {
            "standoff": 15
           },
           "zerolinecolor": "#EBF0F8",
           "zerolinewidth": 2
          }
         }
        },
        "title": {
         "font": {
          "color": "Black",
          "size": 22
         },
         "text": "Topic Word Scores",
         "x": 0.5,
         "xanchor": "center",
         "yanchor": "top"
        },
        "width": 1000,
        "xaxis": {
         "anchor": "y",
         "domain": [
          0,
          0.175
         ],
         "showgrid": true
        },
        "xaxis2": {
         "anchor": "y2",
         "domain": [
          0.275,
          0.45
         ],
         "showgrid": true
        },
        "xaxis3": {
         "anchor": "y3",
         "domain": [
          0.55,
          0.7250000000000001
         ],
         "showgrid": true
        },
        "xaxis4": {
         "anchor": "y4",
         "domain": [
          0.825,
          1
         ],
         "showgrid": true
        },
        "xaxis5": {
         "anchor": "y5",
         "domain": [
          0,
          0.175
         ],
         "showgrid": true
        },
        "xaxis6": {
         "anchor": "y6",
         "domain": [
          0.275,
          0.45
         ],
         "showgrid": true
        },
        "xaxis7": {
         "anchor": "y7",
         "domain": [
          0.55,
          0.7250000000000001
         ],
         "showgrid": true
        },
        "xaxis8": {
         "anchor": "y8",
         "domain": [
          0.825,
          1
         ],
         "showgrid": true
        },
        "yaxis": {
         "anchor": "x",
         "domain": [
          0.6000000000000001,
          1
         ],
         "showgrid": true
        },
        "yaxis2": {
         "anchor": "x2",
         "domain": [
          0.6000000000000001,
          1
         ],
         "showgrid": true
        },
        "yaxis3": {
         "anchor": "x3",
         "domain": [
          0.6000000000000001,
          1
         ],
         "showgrid": true
        },
        "yaxis4": {
         "anchor": "x4",
         "domain": [
          0.6000000000000001,
          1
         ],
         "showgrid": true
        },
        "yaxis5": {
         "anchor": "x5",
         "domain": [
          0,
          0.4
         ],
         "showgrid": true
        },
        "yaxis6": {
         "anchor": "x6",
         "domain": [
          0,
          0.4
         ],
         "showgrid": true
        },
        "yaxis7": {
         "anchor": "x7",
         "domain": [
          0,
          0.4
         ],
         "showgrid": true
        },
        "yaxis8": {
         "anchor": "x8",
         "domain": [
          0,
          0.4
         ],
         "showgrid": true
        }
       }
      }
     },
     "metadata": {},
     "output_type": "display_data"
    }
   ],
   "source": [
    "from sklearn.feature_extraction.text import CountVectorizer\n",
    "# Prepare CountVectorizer with custom stops\n",
    "vectorizer = CountVectorizer(\n",
    "    stop_words=custom_stops,\n",
    "    ngram_range=(1,2),\n",
    "    min_df=5,\n",
    "    max_df=0.75\n",
    ")\n",
    "\n",
    "# Set up embeddings + UMAP\n",
    "embedder   = SentenceTransformer(\"all-MiniLM-L6-v2\")\n",
    "umap_model = umap.UMAP(\n",
    "    n_neighbors=15,\n",
    "    min_dist=0.0,\n",
    "    metric=\"cosine\",\n",
    "    random_state=42\n",
    ")\n",
    "\n",
    "# Initialize BERTopic with custom vectorizer\n",
    "topic_model = BERTopic(\n",
    "    embedding_model    = embedder,\n",
    "    umap_model         = umap_model,\n",
    "    vectorizer_model   = vectorizer,\n",
    "    hdbscan_model      = None,\n",
    "    calculate_probabilities = True,\n",
    "    nr_topics          = \"auto\"\n",
    ")\n",
    "\n",
    "# Fit once to get embeddings\n",
    "initial_topics, initial_probs = topic_model.fit_transform(docs)\n",
    "embeddings = topic_model._extract_embeddings(docs)\n",
    "\n",
    "# Re-cluster embeddings with KMeans (k=8)\n",
    "k = 8\n",
    "kmeans = KMeans(n_clusters=k, random_state=42, n_init=\"auto\")\n",
    "kmeans_labels = kmeans.fit_predict(embeddings)\n",
    "\n",
    "# Update topics *and* re-apply the same vectorizer\n",
    "topic_model.update_topics(\n",
    "    docs,\n",
    "    initial_topics,\n",
    "    kmeans_labels,\n",
    "    vectorizer_model=vectorizer    # explicitly re-use your CountVectorizer here\n",
    ")\n",
    "\n",
    "# Write results back to df\n",
    "df[\"bertopic_km_topic\"]       = topic_model.topics_\n",
    "df[\"bertopic_km_probability\"] = [max(p) for p in topic_model.probabilities_]\n",
    "\n",
    "# Inspect & visualize\n",
    "print(topic_model.get_topic_info().head(10))\n",
    "topic_model.visualize_topics()\n",
    "topic_model.visualize_barchart(top_n_topics=8)"
   ]
  },
  {
   "cell_type": "markdown",
   "metadata": {},
   "source": [
    "Now that I’ve applied BERTopic, the top terms for each topic read more like coherent economic concepts instead of generic boilerplate. I can clearly infer meaningful labels directly from these terms, which makes the clusters far more interpretable for my downstream analysis:"
   ]
  },
  {
   "cell_type": "markdown",
   "metadata": {},
   "source": [
    "| Cluster | Top Terms (ex.)                                           | Proposed Topic Title                                | Reason                                                                                   |\n",
    "|:-------:|:----------------------------------------------------------|:----------------------------------------------------|:-----------------------------------------------------------------------------------------|\n",
    "| 0       | private credit, reserve sheet, agency mbs, tight credit   | **Credit Market Conditions**                        | I chose this because the dominant words all relate to the availability and cost of credit |\n",
    "| 1       | agency mortgage, normalization, based measures             | **Mortgage Markets & Policy Normalization**         | I saw repeated references to agency MBS and “normalization,” pointing to mortgage policy |\n",
    "| 2       | inflation objective, market based, based measures          | **Inflation Objectives & Market Measures**          | The top terms focus on the Fed’s inflation target and measurement approaches              |\n",
    "| 3       | press, wealth effects, tech equipment, labor resources     | **Communications & Wealth-Effect Analysis**         | “Press” and “wealth effects” suggest discussion of Fed communication and its market impact|\n",
    "| 4       | inventory sales, nation, pace likely, staff names          | **Economic Indicators & Staff Presentations**       | I saw both macro indicators (inventory, sales) and staff names, implying briefing reports |\n",
    "| 5       | inflation moderate, tightening credit, developments carefully | **Cautious Inflation Outlook & Credit Conditions** | The language is hedged (“moderate,” “carefully”) around inflation and credit tightening   |\n",
    "| 6       | asset purchases, purchase program, securities pace         | **Quantitative Easing & Asset-Purchase Operations** | These terms clearly describe the mechanics of the Fed’s asset-purchase (QE) programs      |\n",
    "| 7       | agency mortgage, asset purchase, securities pace           | **Agency-MBS & Mortgage-Backed Securities Operations** | The overlap of “agency mortgage” and “securities pace” signals discussion of agency MBS  |"
   ]
  },
  {
   "cell_type": "markdown",
   "metadata": {},
   "source": [
    "### 12. Sentiment Scoring with FinBERT\n",
    "\n",
    "Meeting texts often exceed transformer token limits, so I first split each document into chunks of at most 510 tokens based on sentence boundaries. Using the “yiyanghkust/finbert-tone” model, each chunk is scored for positive, neutral, and negative sentiment. I average these scores across chunks to produce four new columns per meeting: pos_score, neu_score, neg_score, and net_sent (positive minus negative). The sentiment pipeline thus enriches df with tone information."
   ]
  },
  {
   "cell_type": "code",
   "execution_count": 14,
   "metadata": {},
   "outputs": [
    {
     "name": "stderr",
     "output_type": "stream",
     "text": [
      "Device set to use mps:0\n"
     ]
    },
    {
     "name": "stdout",
     "output_type": "stream",
     "text": [
      "   k8_cluster  pos_score  neu_score  neg_score  net_sent\n",
      "0         0.0   0.198466   0.491742   0.309793 -0.111327\n",
      "1         1.0   0.231946   0.558757   0.209298  0.022648\n",
      "2         2.0   0.220870   0.382754   0.396376 -0.175506\n",
      "3         3.0   0.212771   0.607236   0.179992  0.032779\n",
      "4         4.0   0.368616   0.408714   0.222670  0.145945\n",
      "5         5.0   0.178239   0.411634   0.410127 -0.231888\n",
      "6         6.0   0.353112   0.477300   0.169588  0.183524\n",
      "7         7.0   0.222089   0.474575   0.303336 -0.081246\n"
     ]
    }
   ],
   "source": [
    "import pandas as pd\n",
    "import numpy as np\n",
    "import nltk\n",
    "from nltk.tokenize import sent_tokenize\n",
    "from transformers import AutoTokenizer, AutoModelForSequenceClassification, pipeline\n",
    "import plotly.express as px\n",
    "\n",
    "tokenizer = AutoTokenizer.from_pretrained(\"yiyanghkust/finbert-tone\")\n",
    "model     = AutoModelForSequenceClassification.from_pretrained(\"yiyanghkust/finbert-tone\")\n",
    "sent_pipeline = pipeline(\n",
    "    \"sentiment-analysis\",\n",
    "    model=model,\n",
    "    tokenizer=tokenizer,\n",
    "    return_all_scores=True,\n",
    "    device=0   # or device=-1 if you don’t have a GPU\n",
    ")\n",
    "\n",
    "# Helper: break a long doc into  ≤510‐token chunks\n",
    "def chunk_document(text, max_tokens=510):\n",
    "    sentences = sent_tokenize(text)\n",
    "    chunks, current = [], \"\"\n",
    "    for sent in sentences:\n",
    "        candidate = (current + \" \" + sent).strip() if current else sent\n",
    "        # count tokens (no special tokens)\n",
    "        if len(tokenizer.encode(candidate, add_special_tokens=False)) <= max_tokens:\n",
    "            current = candidate\n",
    "        else:\n",
    "            if current:\n",
    "                chunks.append(current)\n",
    "            current = sent\n",
    "    if current:\n",
    "        chunks.append(current)\n",
    "    return chunks\n",
    "\n",
    "# Score function: run FinBERT on each chunk and average\n",
    "def score_document(doc):\n",
    "    chunks = chunk_document(doc)\n",
    "    pos, neu, neg = [], [], []\n",
    "    for chunk in chunks:\n",
    "        res = sent_pipeline(chunk, truncation=True, max_length=512)[0]\n",
    "        scores = {r['label'].lower(): r['score'] for r in res}\n",
    "        pos.append(scores['positive'])\n",
    "        neu.append(scores['neutral'])\n",
    "        neg.append(scores['negative'])\n",
    "    return pd.Series({\n",
    "        'pos_score': np.mean(pos),\n",
    "        'neu_score': np.mean(neu),\n",
    "        'neg_score': np.mean(neg),\n",
    "        'net_sent': np.mean(pos) - np.mean(neg)\n",
    "    })\n",
    "\n",
    "# Apply to all documents\n",
    "sent_df = df[\"minute_text\"].apply(score_document)\n",
    "df = pd.concat([df.reset_index(drop=True), sent_df], axis=1)\n",
    "\n",
    "agg = df.groupby(\"k8_cluster\")[[\"pos_score\",\"neu_score\",\"neg_score\",\"net_sent\"]].mean().reset_index()\n",
    "print(agg)"
   ]
  },
  {
   "cell_type": "markdown",
   "metadata": {},
   "source": [
    "### 13. Sentiment by Cluster Visualization\n",
    "\n",
    "With net sentiment in hand, the script groups the DataFrame by k8_cluster and computes average sentiment scores for each group. A printed summary table shows the cluster-level means, and a Plotly bar chart plots average net sentiment against cluster number—revealing which clusters tend to use more positive or negative language."
   ]
  },
  {
   "cell_type": "code",
   "execution_count": 15,
   "metadata": {},
   "outputs": [
    {
     "data": {
      "application/vnd.plotly.v1+json": {
       "config": {
        "plotlyServerURL": "https://plot.ly"
       },
       "data": [
        {
         "alignmentgroup": "True",
         "hovertemplate": "Cluster=%{x}<br>Net Sentiment=%{y}<extra></extra>",
         "legendgroup": "",
         "marker": {
          "color": "#636efa",
          "pattern": {
           "shape": ""
          }
         },
         "name": "",
         "offsetgroup": "",
         "orientation": "v",
         "showlegend": false,
         "textposition": "auto",
         "type": "bar",
         "x": [
          0,
          1,
          2,
          3,
          4,
          5,
          6,
          7
         ],
         "xaxis": "x",
         "y": [
          -0.11132692955942544,
          0.022648090624095372,
          -0.17550574203716726,
          0.03277874184122064,
          0.14594528308099874,
          -0.23188772187324616,
          0.18352424984784416,
          -0.08124647785342616
         ],
         "yaxis": "y"
        }
       ],
       "layout": {
        "barmode": "relative",
        "legend": {
         "tracegroupgap": 0
        },
        "template": {
         "data": {
          "bar": [
           {
            "error_x": {
             "color": "#2a3f5f"
            },
            "error_y": {
             "color": "#2a3f5f"
            },
            "marker": {
             "line": {
              "color": "#E5ECF6",
              "width": 0.5
             },
             "pattern": {
              "fillmode": "overlay",
              "size": 10,
              "solidity": 0.2
             }
            },
            "type": "bar"
           }
          ],
          "barpolar": [
           {
            "marker": {
             "line": {
              "color": "#E5ECF6",
              "width": 0.5
             },
             "pattern": {
              "fillmode": "overlay",
              "size": 10,
              "solidity": 0.2
             }
            },
            "type": "barpolar"
           }
          ],
          "carpet": [
           {
            "aaxis": {
             "endlinecolor": "#2a3f5f",
             "gridcolor": "white",
             "linecolor": "white",
             "minorgridcolor": "white",
             "startlinecolor": "#2a3f5f"
            },
            "baxis": {
             "endlinecolor": "#2a3f5f",
             "gridcolor": "white",
             "linecolor": "white",
             "minorgridcolor": "white",
             "startlinecolor": "#2a3f5f"
            },
            "type": "carpet"
           }
          ],
          "choropleth": [
           {
            "colorbar": {
             "outlinewidth": 0,
             "ticks": ""
            },
            "type": "choropleth"
           }
          ],
          "contour": [
           {
            "colorbar": {
             "outlinewidth": 0,
             "ticks": ""
            },
            "colorscale": [
             [
              0,
              "#0d0887"
             ],
             [
              0.1111111111111111,
              "#46039f"
             ],
             [
              0.2222222222222222,
              "#7201a8"
             ],
             [
              0.3333333333333333,
              "#9c179e"
             ],
             [
              0.4444444444444444,
              "#bd3786"
             ],
             [
              0.5555555555555556,
              "#d8576b"
             ],
             [
              0.6666666666666666,
              "#ed7953"
             ],
             [
              0.7777777777777778,
              "#fb9f3a"
             ],
             [
              0.8888888888888888,
              "#fdca26"
             ],
             [
              1,
              "#f0f921"
             ]
            ],
            "type": "contour"
           }
          ],
          "contourcarpet": [
           {
            "colorbar": {
             "outlinewidth": 0,
             "ticks": ""
            },
            "type": "contourcarpet"
           }
          ],
          "heatmap": [
           {
            "colorbar": {
             "outlinewidth": 0,
             "ticks": ""
            },
            "colorscale": [
             [
              0,
              "#0d0887"
             ],
             [
              0.1111111111111111,
              "#46039f"
             ],
             [
              0.2222222222222222,
              "#7201a8"
             ],
             [
              0.3333333333333333,
              "#9c179e"
             ],
             [
              0.4444444444444444,
              "#bd3786"
             ],
             [
              0.5555555555555556,
              "#d8576b"
             ],
             [
              0.6666666666666666,
              "#ed7953"
             ],
             [
              0.7777777777777778,
              "#fb9f3a"
             ],
             [
              0.8888888888888888,
              "#fdca26"
             ],
             [
              1,
              "#f0f921"
             ]
            ],
            "type": "heatmap"
           }
          ],
          "heatmapgl": [
           {
            "colorbar": {
             "outlinewidth": 0,
             "ticks": ""
            },
            "colorscale": [
             [
              0,
              "#0d0887"
             ],
             [
              0.1111111111111111,
              "#46039f"
             ],
             [
              0.2222222222222222,
              "#7201a8"
             ],
             [
              0.3333333333333333,
              "#9c179e"
             ],
             [
              0.4444444444444444,
              "#bd3786"
             ],
             [
              0.5555555555555556,
              "#d8576b"
             ],
             [
              0.6666666666666666,
              "#ed7953"
             ],
             [
              0.7777777777777778,
              "#fb9f3a"
             ],
             [
              0.8888888888888888,
              "#fdca26"
             ],
             [
              1,
              "#f0f921"
             ]
            ],
            "type": "heatmapgl"
           }
          ],
          "histogram": [
           {
            "marker": {
             "pattern": {
              "fillmode": "overlay",
              "size": 10,
              "solidity": 0.2
             }
            },
            "type": "histogram"
           }
          ],
          "histogram2d": [
           {
            "colorbar": {
             "outlinewidth": 0,
             "ticks": ""
            },
            "colorscale": [
             [
              0,
              "#0d0887"
             ],
             [
              0.1111111111111111,
              "#46039f"
             ],
             [
              0.2222222222222222,
              "#7201a8"
             ],
             [
              0.3333333333333333,
              "#9c179e"
             ],
             [
              0.4444444444444444,
              "#bd3786"
             ],
             [
              0.5555555555555556,
              "#d8576b"
             ],
             [
              0.6666666666666666,
              "#ed7953"
             ],
             [
              0.7777777777777778,
              "#fb9f3a"
             ],
             [
              0.8888888888888888,
              "#fdca26"
             ],
             [
              1,
              "#f0f921"
             ]
            ],
            "type": "histogram2d"
           }
          ],
          "histogram2dcontour": [
           {
            "colorbar": {
             "outlinewidth": 0,
             "ticks": ""
            },
            "colorscale": [
             [
              0,
              "#0d0887"
             ],
             [
              0.1111111111111111,
              "#46039f"
             ],
             [
              0.2222222222222222,
              "#7201a8"
             ],
             [
              0.3333333333333333,
              "#9c179e"
             ],
             [
              0.4444444444444444,
              "#bd3786"
             ],
             [
              0.5555555555555556,
              "#d8576b"
             ],
             [
              0.6666666666666666,
              "#ed7953"
             ],
             [
              0.7777777777777778,
              "#fb9f3a"
             ],
             [
              0.8888888888888888,
              "#fdca26"
             ],
             [
              1,
              "#f0f921"
             ]
            ],
            "type": "histogram2dcontour"
           }
          ],
          "mesh3d": [
           {
            "colorbar": {
             "outlinewidth": 0,
             "ticks": ""
            },
            "type": "mesh3d"
           }
          ],
          "parcoords": [
           {
            "line": {
             "colorbar": {
              "outlinewidth": 0,
              "ticks": ""
             }
            },
            "type": "parcoords"
           }
          ],
          "pie": [
           {
            "automargin": true,
            "type": "pie"
           }
          ],
          "scatter": [
           {
            "fillpattern": {
             "fillmode": "overlay",
             "size": 10,
             "solidity": 0.2
            },
            "type": "scatter"
           }
          ],
          "scatter3d": [
           {
            "line": {
             "colorbar": {
              "outlinewidth": 0,
              "ticks": ""
             }
            },
            "marker": {
             "colorbar": {
              "outlinewidth": 0,
              "ticks": ""
             }
            },
            "type": "scatter3d"
           }
          ],
          "scattercarpet": [
           {
            "marker": {
             "colorbar": {
              "outlinewidth": 0,
              "ticks": ""
             }
            },
            "type": "scattercarpet"
           }
          ],
          "scattergeo": [
           {
            "marker": {
             "colorbar": {
              "outlinewidth": 0,
              "ticks": ""
             }
            },
            "type": "scattergeo"
           }
          ],
          "scattergl": [
           {
            "marker": {
             "colorbar": {
              "outlinewidth": 0,
              "ticks": ""
             }
            },
            "type": "scattergl"
           }
          ],
          "scattermapbox": [
           {
            "marker": {
             "colorbar": {
              "outlinewidth": 0,
              "ticks": ""
             }
            },
            "type": "scattermapbox"
           }
          ],
          "scatterpolar": [
           {
            "marker": {
             "colorbar": {
              "outlinewidth": 0,
              "ticks": ""
             }
            },
            "type": "scatterpolar"
           }
          ],
          "scatterpolargl": [
           {
            "marker": {
             "colorbar": {
              "outlinewidth": 0,
              "ticks": ""
             }
            },
            "type": "scatterpolargl"
           }
          ],
          "scatterternary": [
           {
            "marker": {
             "colorbar": {
              "outlinewidth": 0,
              "ticks": ""
             }
            },
            "type": "scatterternary"
           }
          ],
          "surface": [
           {
            "colorbar": {
             "outlinewidth": 0,
             "ticks": ""
            },
            "colorscale": [
             [
              0,
              "#0d0887"
             ],
             [
              0.1111111111111111,
              "#46039f"
             ],
             [
              0.2222222222222222,
              "#7201a8"
             ],
             [
              0.3333333333333333,
              "#9c179e"
             ],
             [
              0.4444444444444444,
              "#bd3786"
             ],
             [
              0.5555555555555556,
              "#d8576b"
             ],
             [
              0.6666666666666666,
              "#ed7953"
             ],
             [
              0.7777777777777778,
              "#fb9f3a"
             ],
             [
              0.8888888888888888,
              "#fdca26"
             ],
             [
              1,
              "#f0f921"
             ]
            ],
            "type": "surface"
           }
          ],
          "table": [
           {
            "cells": {
             "fill": {
              "color": "#EBF0F8"
             },
             "line": {
              "color": "white"
             }
            },
            "header": {
             "fill": {
              "color": "#C8D4E3"
             },
             "line": {
              "color": "white"
             }
            },
            "type": "table"
           }
          ]
         },
         "layout": {
          "annotationdefaults": {
           "arrowcolor": "#2a3f5f",
           "arrowhead": 0,
           "arrowwidth": 1
          },
          "autotypenumbers": "strict",
          "coloraxis": {
           "colorbar": {
            "outlinewidth": 0,
            "ticks": ""
           }
          },
          "colorscale": {
           "diverging": [
            [
             0,
             "#8e0152"
            ],
            [
             0.1,
             "#c51b7d"
            ],
            [
             0.2,
             "#de77ae"
            ],
            [
             0.3,
             "#f1b6da"
            ],
            [
             0.4,
             "#fde0ef"
            ],
            [
             0.5,
             "#f7f7f7"
            ],
            [
             0.6,
             "#e6f5d0"
            ],
            [
             0.7,
             "#b8e186"
            ],
            [
             0.8,
             "#7fbc41"
            ],
            [
             0.9,
             "#4d9221"
            ],
            [
             1,
             "#276419"
            ]
           ],
           "sequential": [
            [
             0,
             "#0d0887"
            ],
            [
             0.1111111111111111,
             "#46039f"
            ],
            [
             0.2222222222222222,
             "#7201a8"
            ],
            [
             0.3333333333333333,
             "#9c179e"
            ],
            [
             0.4444444444444444,
             "#bd3786"
            ],
            [
             0.5555555555555556,
             "#d8576b"
            ],
            [
             0.6666666666666666,
             "#ed7953"
            ],
            [
             0.7777777777777778,
             "#fb9f3a"
            ],
            [
             0.8888888888888888,
             "#fdca26"
            ],
            [
             1,
             "#f0f921"
            ]
           ],
           "sequentialminus": [
            [
             0,
             "#0d0887"
            ],
            [
             0.1111111111111111,
             "#46039f"
            ],
            [
             0.2222222222222222,
             "#7201a8"
            ],
            [
             0.3333333333333333,
             "#9c179e"
            ],
            [
             0.4444444444444444,
             "#bd3786"
            ],
            [
             0.5555555555555556,
             "#d8576b"
            ],
            [
             0.6666666666666666,
             "#ed7953"
            ],
            [
             0.7777777777777778,
             "#fb9f3a"
            ],
            [
             0.8888888888888888,
             "#fdca26"
            ],
            [
             1,
             "#f0f921"
            ]
           ]
          },
          "colorway": [
           "#636efa",
           "#EF553B",
           "#00cc96",
           "#ab63fa",
           "#FFA15A",
           "#19d3f3",
           "#FF6692",
           "#B6E880",
           "#FF97FF",
           "#FECB52"
          ],
          "font": {
           "color": "#2a3f5f"
          },
          "geo": {
           "bgcolor": "white",
           "lakecolor": "white",
           "landcolor": "#E5ECF6",
           "showlakes": true,
           "showland": true,
           "subunitcolor": "white"
          },
          "hoverlabel": {
           "align": "left"
          },
          "hovermode": "closest",
          "mapbox": {
           "style": "light"
          },
          "paper_bgcolor": "white",
          "plot_bgcolor": "#E5ECF6",
          "polar": {
           "angularaxis": {
            "gridcolor": "white",
            "linecolor": "white",
            "ticks": ""
           },
           "bgcolor": "#E5ECF6",
           "radialaxis": {
            "gridcolor": "white",
            "linecolor": "white",
            "ticks": ""
           }
          },
          "scene": {
           "xaxis": {
            "backgroundcolor": "#E5ECF6",
            "gridcolor": "white",
            "gridwidth": 2,
            "linecolor": "white",
            "showbackground": true,
            "ticks": "",
            "zerolinecolor": "white"
           },
           "yaxis": {
            "backgroundcolor": "#E5ECF6",
            "gridcolor": "white",
            "gridwidth": 2,
            "linecolor": "white",
            "showbackground": true,
            "ticks": "",
            "zerolinecolor": "white"
           },
           "zaxis": {
            "backgroundcolor": "#E5ECF6",
            "gridcolor": "white",
            "gridwidth": 2,
            "linecolor": "white",
            "showbackground": true,
            "ticks": "",
            "zerolinecolor": "white"
           }
          },
          "shapedefaults": {
           "line": {
            "color": "#2a3f5f"
           }
          },
          "ternary": {
           "aaxis": {
            "gridcolor": "white",
            "linecolor": "white",
            "ticks": ""
           },
           "baxis": {
            "gridcolor": "white",
            "linecolor": "white",
            "ticks": ""
           },
           "bgcolor": "#E5ECF6",
           "caxis": {
            "gridcolor": "white",
            "linecolor": "white",
            "ticks": ""
           }
          },
          "title": {
           "x": 0.05
          },
          "xaxis": {
           "automargin": true,
           "gridcolor": "white",
           "linecolor": "white",
           "ticks": "",
           "title": {
            "standoff": 15
           },
           "zerolinecolor": "white",
           "zerolinewidth": 2
          },
          "yaxis": {
           "automargin": true,
           "gridcolor": "white",
           "linecolor": "white",
           "ticks": "",
           "title": {
            "standoff": 15
           },
           "zerolinecolor": "white",
           "zerolinewidth": 2
          }
         }
        },
        "title": {
         "text": "Average Net Sentiment (Pos−Neg) by KMeans Cluster"
        },
        "xaxis": {
         "anchor": "y",
         "domain": [
          0,
          1
         ],
         "title": {
          "text": "Cluster"
         }
        },
        "yaxis": {
         "anchor": "x",
         "domain": [
          0,
          1
         ],
         "title": {
          "text": "Net Sentiment"
         }
        }
       }
      }
     },
     "metadata": {},
     "output_type": "display_data"
    }
   ],
   "source": [
    "# 8) Plot average net sentiment by cluster\n",
    "fig1 = px.bar(\n",
    "    agg, x=\"k8_cluster\", y=\"net_sent\",\n",
    "    title=\"Average Net Sentiment (Pos−Neg) by KMeans Cluster\",\n",
    "    labels={\"k8_cluster\":\"Cluster\",\"net_sent\":\"Net Sentiment\"}\n",
    ")\n",
    "fig1.show()"
   ]
  },
  {
   "cell_type": "markdown",
   "metadata": {},
   "source": [
    "I notice that clusters 4 and 6 stand out with distinctly positive net sentiment—cluster 6 is the most upbeat (around +0.18) and cluster 4 follows at about +0.15. Clusters 1 and 3 show only slight positivity (just above zero), suggesting more neutral–optimistic language. In contrast, cluster 5 is the most negative (nearly –0.23), while clusters 2 (around –0.18) and 0 (about –0.11) also lean clearly into caution or concern. Cluster 7 sits just below zero (roughly –0.08), indicating a mild negative tone.\n",
    "\n",
    "In practical terms, I’d infer that meetings in cluster 6 and cluster 4 occurred in periods when the Committee’s discussion was unusually constructive—perhaps early-2000s recoveries or mid-2020s rebounds—whereas cluster 5 meetings likely coincide with deep downturns like the 2008 crisis or the COVID shock. The mixed or near-zero sentiment of clusters 1, 3, and 7 suggests transitional policy regimes where risks and prospects were more evenly balanced. Understanding these tonal differences helps me link each cluster not just to topic content, but to the Fed’s evolving outlook on the economy."
   ]
  },
  {
   "cell_type": "code",
   "execution_count": 16,
   "metadata": {},
   "outputs": [
    {
     "data": {
      "application/vnd.plotly.v1+json": {
       "config": {
        "plotlyServerURL": "https://plot.ly"
       },
       "data": [
        {
         "hovertemplate": "Date=%{x}<br>Rolling Net Sentiment=%{y}<extra></extra>",
         "legendgroup": "",
         "line": {
          "color": "teal",
          "dash": "solid",
          "width": 3
         },
         "marker": {
          "symbol": "circle"
         },
         "mode": "lines",
         "name": "",
         "orientation": "v",
         "showlegend": false,
         "type": "scatter",
         "x": [
          "2000/02",
          "2000/03",
          "2000/05",
          "2000/07",
          "2000/08",
          "2000/10",
          "2000/11",
          "2000/12",
          "2001/01",
          "2001/02",
          "2001/03",
          "2001/04",
          "2001/05",
          "2001/06",
          "2001/08",
          "2001/09",
          "2001/10",
          "2001/11",
          "2001/12",
          "2002/02",
          "2002/03",
          "2002/05",
          "2002/06",
          "2002/08",
          "2002/09",
          "2002/11",
          "2002/12",
          "2003/02",
          "2003/03",
          "2003/04",
          "2003/05",
          "2003/06",
          "2003/08",
          "2003/09",
          "2003/11",
          "2003/12",
          "2004/02",
          "2004/03",
          "2004/05",
          "2004/07",
          "2004/08",
          "2004/09",
          "2004/11",
          "2004/12",
          "2005/02",
          "2005/03",
          "2005/05",
          "2005/07",
          "2005/08",
          "2005/09",
          "2005/11",
          "2005/12",
          "2006/02",
          "2006/04",
          "2006/05",
          "2006/07",
          "2006/08",
          "2006/09",
          "2006/10",
          "2006/12",
          "2007/02",
          "2007/03",
          "2007/05",
          "2007/07",
          "2007/08",
          "2007/09",
          "2007/11",
          "2007/12",
          "2008/01",
          "2008/02",
          "2008/03",
          "2008/05",
          "2008/06",
          "2008/07",
          "2008/08",
          "2008/09",
          "2008/10",
          "2008/11",
          "2008/12",
          "2009/01",
          "2009/02",
          "2009/03",
          "2009/05",
          "2009/06",
          "2009/08",
          "2009/09",
          "2009/11",
          "2009/12",
          "2010/01",
          "2010/03",
          "2010/05",
          "2010/06",
          "2010/08",
          "2010/09",
          "2010/10",
          "2010/11",
          "2010/12",
          "2011/01",
          "2011/03",
          "2011/04",
          "2011/06",
          "2011/08",
          "2011/09",
          "2011/11",
          "2011/12",
          "2012/01",
          "2012/03",
          "2012/04",
          "2012/06",
          "2012/08",
          "2012/09",
          "2012/10",
          "2012/12",
          "2013/02",
          "2013/03",
          "2013/05",
          "2013/06",
          "2013/08",
          "2013/09",
          "2013/10",
          "2013/11",
          "2013/12",
          "2014/02",
          "2014/03",
          "2014/05",
          "2014/06",
          "2014/08",
          "2014/09",
          "2014/11",
          "2014/12",
          "2015/02",
          "2015/03",
          "2015/05",
          "2015/06",
          "2015/08",
          "2015/09",
          "2015/11",
          "2015/12",
          "2016/01",
          "2016/03",
          "2016/04",
          "2016/06",
          "2016/07",
          "2016/09",
          "2016/11",
          "2016/12",
          "2017/02",
          "2017/03",
          "2017/05",
          "2017/06",
          "2017/07",
          "2017/09",
          "2017/11",
          "2017/12",
          "2018/02",
          "2018/03",
          "2018/05",
          "2018/06",
          "2018/08",
          "2018/09",
          "2018/11",
          "2018/12",
          "2019/02",
          "2019/03",
          "2019/05",
          "2019/06",
          "2019/08",
          "2019/09",
          "2019/10",
          "2019/11",
          "2019/12",
          "2020/02",
          "2020/03",
          "2020/05",
          "2020/06",
          "2020/08",
          "2020/09",
          "2020/11",
          "2020/12",
          "2021/01",
          "2021/03",
          "2021/05",
          "2021/06",
          "2021/08",
          "2021/09",
          "2021/11",
          "2021/12",
          "2022/01",
          "2022/03",
          "2022/05",
          "2022/06",
          "2022/07",
          "2022/09",
          "2022/11",
          "2022/12",
          "2023/02",
          "2023/03",
          "2023/05",
          "2023/06",
          "2023/07",
          "2023/09",
          "2023/11",
          "2023/12",
          "2024/02",
          "2024/03",
          "2024/05",
          "2024/06",
          "2024/08",
          "2024/09",
          "2024/11",
          "2024/12",
          "2025/02",
          null,
          null,
          null,
          null,
          null,
          null,
          null,
          null,
          null,
          null,
          null,
          null,
          null,
          null,
          null,
          null,
          null,
          null,
          null,
          null,
          null,
          null,
          null,
          null,
          null,
          null,
          null,
          null,
          null,
          null,
          null,
          null,
          null,
          null,
          null,
          null,
          null,
          null,
          null,
          null,
          null,
          null,
          null,
          null,
          null,
          null,
          null,
          null,
          null,
          null,
          null,
          null,
          null,
          null,
          null,
          null,
          null,
          null,
          null,
          null
         ],
         "xaxis": "x",
         "y": [
          0.04060782073970446,
          -0.013492537129840054,
          -0.05557059325059689,
          -0.058757489426899866,
          -0.08543995498878519,
          -0.10767534295702295,
          -0.1201636143680814,
          -0.15508423646259456,
          -0.15508423646259456,
          -0.1706466205929871,
          -0.18426370670708053,
          -0.21952990200993508,
          -0.2790676120775136,
          -0.28256676344882664,
          -0.31968936381161317,
          -0.3104354166148304,
          -0.29963970813096463,
          -0.31648664259723835,
          -0.31334507753382024,
          -0.3078919059464649,
          -0.29743004550942176,
          -0.28542408298836847,
          -0.25862362142096834,
          -0.27003589251479115,
          -0.26849062356944303,
          -0.2517541439703757,
          -0.25044923487534665,
          -0.2106826590789757,
          -0.21970074945673929,
          -0.216863017211869,
          -0.19990393271645374,
          -0.1627940503500994,
          -0.1360843586513172,
          -0.0709902551275443,
          -0.028073287189508946,
          -0.018480503312594865,
          -0.022293329035242247,
          -0.019111461737302805,
          -0.0016851349671722676,
          0.01480525554305109,
          0.020071090313732474,
          0.03579757118469906,
          0.05647011428967481,
          0.05647011428967481,
          0.11622175397015054,
          0.12738658705984282,
          0.12702047330127864,
          0.139830525861518,
          0.1726910939354646,
          0.21096814681793932,
          0.2375144451106464,
          0.24743683220830823,
          0.24543590036604954,
          0.22025679547551597,
          0.17240704806391782,
          0.17240704806391782,
          0.1745389622930825,
          0.20412599950397048,
          0.18249983369305328,
          0.18106974246144575,
          0.17537210536211287,
          0.18868402932981046,
          0.17811911263737967,
          0.17093737113886556,
          0.14505275514191343,
          0.18392281767517726,
          0.20061848518458725,
          0.20061848518458725,
          0.18716365573551536,
          0.17622057094754023,
          0.16071966612689062,
          0.13316776646161105,
          0.12653268800352838,
          0.10508841280513247,
          0.11696309474458798,
          0.12572408402333796,
          0.0988294048259358,
          0.0748881156452083,
          0.08631571890412407,
          0.08631571890412407,
          0.08351472550079818,
          0.05276412057545107,
          0.02225887924006592,
          0.01800381366944159,
          0.029607703288924973,
          -0.03450786263104587,
          -0.08366854143027602,
          -0.10137803499395845,
          -0.13262455868245493,
          -0.14550235740016887,
          -0.16221114854812804,
          -0.18275039860277723,
          -0.20390633714281445,
          -0.22566649127143582,
          -0.25366293080432045,
          -0.304299213173496,
          -0.33190158841100265,
          -0.3461474632119004,
          -0.361018673416559,
          -0.3522338611690926,
          -0.3795217857283362,
          -0.39961019529355407,
          -0.38664194885790176,
          -0.36909514133052546,
          -0.40142181248774517,
          -0.38413416841599995,
          -0.35067948656113,
          -0.3507650204158561,
          -0.33138556796761454,
          -0.31547179181075546,
          -0.30461818859101286,
          -0.295106922036198,
          -0.2616096781217291,
          -0.24571102488295535,
          -0.20060049388091747,
          -0.15424634528566908,
          -0.12450940043037963,
          -0.08472999073298113,
          -0.07513616961523513,
          -0.06571566864969425,
          -0.034510881360188095,
          -0.02240368531904137,
          -0.016979164909176423,
          -0.01313486144803697,
          -0.006548895959248918,
          -0.00981084443934522,
          -0.026184379516961082,
          -0.047177743806789296,
          -0.0348729068855819,
          -0.05792754223333569,
          -0.08585733257451274,
          -0.08585733257451274,
          -0.10401721517431352,
          -0.11907101192424689,
          -0.12354559126805047,
          -0.14128089462069718,
          -0.11295918753311004,
          -0.10124513453857026,
          -0.10357846148320245,
          -0.1297617389204912,
          -0.13428148503402196,
          -0.16633318682663753,
          -0.16251650438616008,
          -0.13130150465196727,
          -0.1479904373854866,
          -0.1565835599624213,
          -0.1565835599624213,
          -0.1270521091378138,
          -0.12171657363262711,
          -0.10157044328363204,
          -0.05771654550474085,
          -0.03383447659267212,
          -0.019639287832951262,
          0.01767232752474796,
          0.012916196816831305,
          0.008696213266857602,
          -0.014854378488564565,
          -0.013901467538174474,
          -0.013901467538174474,
          0.03280636799980487,
          0.028881216506526256,
          0.050199522260348815,
          0.06821660196396255,
          0.059110791347798196,
          0.059110791347798196,
          0.08589199248456983,
          0.09461976014867998,
          0.09831945609819191,
          0.10727562243860053,
          0.11668948228775487,
          0.11867589613175537,
          0.10304077989684049,
          0.10334790132625986,
          0.09964226333336587,
          0.08496889194819447,
          0.09435444361511466,
          0.10516352180726198,
          0.09208756299291648,
          0.0858117769072436,
          0.07577123867202563,
          0.07006686664743789,
          0.06473234350474431,
          0.03583985087443174,
          0.027288136075062017,
          0.015580015330404455,
          0.004506517442959835,
          -0.011824404864983417,
          -0.016088047434059692,
          -0.015398168312428833,
          -0.03569675973460918,
          -0.02631656141476663,
          -0.03278251167554968,
          -0.04134735582865098,
          -0.021770281062866846,
          0.0020417855876349975,
          0.007733913821255502,
          0.014050884442548525,
          0.014986001755484379,
          0.019622685095700063,
          0.019383217933423447,
          0.02498440432857784,
          0.027261393688489382,
          0.046703128778981653,
          0.04065801377028463,
          0.06572417571303316,
          0.08093886097253603,
          0.08760533863216874,
          0.10832606512552893,
          0.12376755698461135,
          0.12862156283954498,
          0.13675539765409955,
          0.12818039667035994,
          0.12693344308432689,
          0.11229480434486419,
          0.1135288139224176,
          0.10755752810721236,
          0.09677538964768369,
          0.09513314786489203,
          0.07958592932552933,
          0.07441594540375823,
          0.07125023916675981,
          0.06893178488106119,
          0.07139386807692497,
          0.05203086643173167,
          0.024084153266977798,
          0.012992468457827384,
          -0.0067516571104761685,
          -0.012661540319395865,
          -0.03861221717036393,
          -0.03649192324707815,
          -0.04834612877986255,
          -0.034235645321017485,
          -0.02250552444927955,
          -0.009957669301176825,
          -0.012680793189011169,
          -0.017843079320287277,
          -0.008934692807039004,
          -0.00236651933576474,
          0.018470803084094278,
          0.020259393183735937,
          0.02211373980817549,
          0.01513546406382999,
          0.0008175736354388341,
          0.017178675137279952,
          0.02958219230358889,
          0.027252793767248575,
          0.029357515203606376,
          0.019198839025345447,
          0.024023353168179058,
          0.011605231021571563,
          0.01647151943743419,
          0.015548944640872277,
          0.0024077228117554833,
          -0.004546671531590737,
          0.003509797453743789,
          0.019947286919760096,
          0.030859783425636146,
          0.03096903460741156,
          0.02758350489194052,
          0.031768018538088305,
          0.04795660035667306,
          0.06200261809059985,
          0.07361916072050317,
          0.08264998413788861,
          0.09260627254113593,
          0.10037575696009818,
          0.11738999531834735,
          0.13068770775125457,
          0.1477518905815656,
          0.159465490918831,
          0.16558686254226493,
          0.15748216330281728
         ],
         "yaxis": "y"
        }
       ],
       "layout": {
        "height": 400,
        "legend": {
         "tracegroupgap": 0
        },
        "margin": {
         "b": 100
        },
        "template": {
         "data": {
          "bar": [
           {
            "error_x": {
             "color": "#2a3f5f"
            },
            "error_y": {
             "color": "#2a3f5f"
            },
            "marker": {
             "line": {
              "color": "#E5ECF6",
              "width": 0.5
             },
             "pattern": {
              "fillmode": "overlay",
              "size": 10,
              "solidity": 0.2
             }
            },
            "type": "bar"
           }
          ],
          "barpolar": [
           {
            "marker": {
             "line": {
              "color": "#E5ECF6",
              "width": 0.5
             },
             "pattern": {
              "fillmode": "overlay",
              "size": 10,
              "solidity": 0.2
             }
            },
            "type": "barpolar"
           }
          ],
          "carpet": [
           {
            "aaxis": {
             "endlinecolor": "#2a3f5f",
             "gridcolor": "white",
             "linecolor": "white",
             "minorgridcolor": "white",
             "startlinecolor": "#2a3f5f"
            },
            "baxis": {
             "endlinecolor": "#2a3f5f",
             "gridcolor": "white",
             "linecolor": "white",
             "minorgridcolor": "white",
             "startlinecolor": "#2a3f5f"
            },
            "type": "carpet"
           }
          ],
          "choropleth": [
           {
            "colorbar": {
             "outlinewidth": 0,
             "ticks": ""
            },
            "type": "choropleth"
           }
          ],
          "contour": [
           {
            "colorbar": {
             "outlinewidth": 0,
             "ticks": ""
            },
            "colorscale": [
             [
              0,
              "#0d0887"
             ],
             [
              0.1111111111111111,
              "#46039f"
             ],
             [
              0.2222222222222222,
              "#7201a8"
             ],
             [
              0.3333333333333333,
              "#9c179e"
             ],
             [
              0.4444444444444444,
              "#bd3786"
             ],
             [
              0.5555555555555556,
              "#d8576b"
             ],
             [
              0.6666666666666666,
              "#ed7953"
             ],
             [
              0.7777777777777778,
              "#fb9f3a"
             ],
             [
              0.8888888888888888,
              "#fdca26"
             ],
             [
              1,
              "#f0f921"
             ]
            ],
            "type": "contour"
           }
          ],
          "contourcarpet": [
           {
            "colorbar": {
             "outlinewidth": 0,
             "ticks": ""
            },
            "type": "contourcarpet"
           }
          ],
          "heatmap": [
           {
            "colorbar": {
             "outlinewidth": 0,
             "ticks": ""
            },
            "colorscale": [
             [
              0,
              "#0d0887"
             ],
             [
              0.1111111111111111,
              "#46039f"
             ],
             [
              0.2222222222222222,
              "#7201a8"
             ],
             [
              0.3333333333333333,
              "#9c179e"
             ],
             [
              0.4444444444444444,
              "#bd3786"
             ],
             [
              0.5555555555555556,
              "#d8576b"
             ],
             [
              0.6666666666666666,
              "#ed7953"
             ],
             [
              0.7777777777777778,
              "#fb9f3a"
             ],
             [
              0.8888888888888888,
              "#fdca26"
             ],
             [
              1,
              "#f0f921"
             ]
            ],
            "type": "heatmap"
           }
          ],
          "heatmapgl": [
           {
            "colorbar": {
             "outlinewidth": 0,
             "ticks": ""
            },
            "colorscale": [
             [
              0,
              "#0d0887"
             ],
             [
              0.1111111111111111,
              "#46039f"
             ],
             [
              0.2222222222222222,
              "#7201a8"
             ],
             [
              0.3333333333333333,
              "#9c179e"
             ],
             [
              0.4444444444444444,
              "#bd3786"
             ],
             [
              0.5555555555555556,
              "#d8576b"
             ],
             [
              0.6666666666666666,
              "#ed7953"
             ],
             [
              0.7777777777777778,
              "#fb9f3a"
             ],
             [
              0.8888888888888888,
              "#fdca26"
             ],
             [
              1,
              "#f0f921"
             ]
            ],
            "type": "heatmapgl"
           }
          ],
          "histogram": [
           {
            "marker": {
             "pattern": {
              "fillmode": "overlay",
              "size": 10,
              "solidity": 0.2
             }
            },
            "type": "histogram"
           }
          ],
          "histogram2d": [
           {
            "colorbar": {
             "outlinewidth": 0,
             "ticks": ""
            },
            "colorscale": [
             [
              0,
              "#0d0887"
             ],
             [
              0.1111111111111111,
              "#46039f"
             ],
             [
              0.2222222222222222,
              "#7201a8"
             ],
             [
              0.3333333333333333,
              "#9c179e"
             ],
             [
              0.4444444444444444,
              "#bd3786"
             ],
             [
              0.5555555555555556,
              "#d8576b"
             ],
             [
              0.6666666666666666,
              "#ed7953"
             ],
             [
              0.7777777777777778,
              "#fb9f3a"
             ],
             [
              0.8888888888888888,
              "#fdca26"
             ],
             [
              1,
              "#f0f921"
             ]
            ],
            "type": "histogram2d"
           }
          ],
          "histogram2dcontour": [
           {
            "colorbar": {
             "outlinewidth": 0,
             "ticks": ""
            },
            "colorscale": [
             [
              0,
              "#0d0887"
             ],
             [
              0.1111111111111111,
              "#46039f"
             ],
             [
              0.2222222222222222,
              "#7201a8"
             ],
             [
              0.3333333333333333,
              "#9c179e"
             ],
             [
              0.4444444444444444,
              "#bd3786"
             ],
             [
              0.5555555555555556,
              "#d8576b"
             ],
             [
              0.6666666666666666,
              "#ed7953"
             ],
             [
              0.7777777777777778,
              "#fb9f3a"
             ],
             [
              0.8888888888888888,
              "#fdca26"
             ],
             [
              1,
              "#f0f921"
             ]
            ],
            "type": "histogram2dcontour"
           }
          ],
          "mesh3d": [
           {
            "colorbar": {
             "outlinewidth": 0,
             "ticks": ""
            },
            "type": "mesh3d"
           }
          ],
          "parcoords": [
           {
            "line": {
             "colorbar": {
              "outlinewidth": 0,
              "ticks": ""
             }
            },
            "type": "parcoords"
           }
          ],
          "pie": [
           {
            "automargin": true,
            "type": "pie"
           }
          ],
          "scatter": [
           {
            "fillpattern": {
             "fillmode": "overlay",
             "size": 10,
             "solidity": 0.2
            },
            "type": "scatter"
           }
          ],
          "scatter3d": [
           {
            "line": {
             "colorbar": {
              "outlinewidth": 0,
              "ticks": ""
             }
            },
            "marker": {
             "colorbar": {
              "outlinewidth": 0,
              "ticks": ""
             }
            },
            "type": "scatter3d"
           }
          ],
          "scattercarpet": [
           {
            "marker": {
             "colorbar": {
              "outlinewidth": 0,
              "ticks": ""
             }
            },
            "type": "scattercarpet"
           }
          ],
          "scattergeo": [
           {
            "marker": {
             "colorbar": {
              "outlinewidth": 0,
              "ticks": ""
             }
            },
            "type": "scattergeo"
           }
          ],
          "scattergl": [
           {
            "marker": {
             "colorbar": {
              "outlinewidth": 0,
              "ticks": ""
             }
            },
            "type": "scattergl"
           }
          ],
          "scattermapbox": [
           {
            "marker": {
             "colorbar": {
              "outlinewidth": 0,
              "ticks": ""
             }
            },
            "type": "scattermapbox"
           }
          ],
          "scatterpolar": [
           {
            "marker": {
             "colorbar": {
              "outlinewidth": 0,
              "ticks": ""
             }
            },
            "type": "scatterpolar"
           }
          ],
          "scatterpolargl": [
           {
            "marker": {
             "colorbar": {
              "outlinewidth": 0,
              "ticks": ""
             }
            },
            "type": "scatterpolargl"
           }
          ],
          "scatterternary": [
           {
            "marker": {
             "colorbar": {
              "outlinewidth": 0,
              "ticks": ""
             }
            },
            "type": "scatterternary"
           }
          ],
          "surface": [
           {
            "colorbar": {
             "outlinewidth": 0,
             "ticks": ""
            },
            "colorscale": [
             [
              0,
              "#0d0887"
             ],
             [
              0.1111111111111111,
              "#46039f"
             ],
             [
              0.2222222222222222,
              "#7201a8"
             ],
             [
              0.3333333333333333,
              "#9c179e"
             ],
             [
              0.4444444444444444,
              "#bd3786"
             ],
             [
              0.5555555555555556,
              "#d8576b"
             ],
             [
              0.6666666666666666,
              "#ed7953"
             ],
             [
              0.7777777777777778,
              "#fb9f3a"
             ],
             [
              0.8888888888888888,
              "#fdca26"
             ],
             [
              1,
              "#f0f921"
             ]
            ],
            "type": "surface"
           }
          ],
          "table": [
           {
            "cells": {
             "fill": {
              "color": "#EBF0F8"
             },
             "line": {
              "color": "white"
             }
            },
            "header": {
             "fill": {
              "color": "#C8D4E3"
             },
             "line": {
              "color": "white"
             }
            },
            "type": "table"
           }
          ]
         },
         "layout": {
          "annotationdefaults": {
           "arrowcolor": "#2a3f5f",
           "arrowhead": 0,
           "arrowwidth": 1
          },
          "autotypenumbers": "strict",
          "coloraxis": {
           "colorbar": {
            "outlinewidth": 0,
            "ticks": ""
           }
          },
          "colorscale": {
           "diverging": [
            [
             0,
             "#8e0152"
            ],
            [
             0.1,
             "#c51b7d"
            ],
            [
             0.2,
             "#de77ae"
            ],
            [
             0.3,
             "#f1b6da"
            ],
            [
             0.4,
             "#fde0ef"
            ],
            [
             0.5,
             "#f7f7f7"
            ],
            [
             0.6,
             "#e6f5d0"
            ],
            [
             0.7,
             "#b8e186"
            ],
            [
             0.8,
             "#7fbc41"
            ],
            [
             0.9,
             "#4d9221"
            ],
            [
             1,
             "#276419"
            ]
           ],
           "sequential": [
            [
             0,
             "#0d0887"
            ],
            [
             0.1111111111111111,
             "#46039f"
            ],
            [
             0.2222222222222222,
             "#7201a8"
            ],
            [
             0.3333333333333333,
             "#9c179e"
            ],
            [
             0.4444444444444444,
             "#bd3786"
            ],
            [
             0.5555555555555556,
             "#d8576b"
            ],
            [
             0.6666666666666666,
             "#ed7953"
            ],
            [
             0.7777777777777778,
             "#fb9f3a"
            ],
            [
             0.8888888888888888,
             "#fdca26"
            ],
            [
             1,
             "#f0f921"
            ]
           ],
           "sequentialminus": [
            [
             0,
             "#0d0887"
            ],
            [
             0.1111111111111111,
             "#46039f"
            ],
            [
             0.2222222222222222,
             "#7201a8"
            ],
            [
             0.3333333333333333,
             "#9c179e"
            ],
            [
             0.4444444444444444,
             "#bd3786"
            ],
            [
             0.5555555555555556,
             "#d8576b"
            ],
            [
             0.6666666666666666,
             "#ed7953"
            ],
            [
             0.7777777777777778,
             "#fb9f3a"
            ],
            [
             0.8888888888888888,
             "#fdca26"
            ],
            [
             1,
             "#f0f921"
            ]
           ]
          },
          "colorway": [
           "#636efa",
           "#EF553B",
           "#00cc96",
           "#ab63fa",
           "#FFA15A",
           "#19d3f3",
           "#FF6692",
           "#B6E880",
           "#FF97FF",
           "#FECB52"
          ],
          "font": {
           "color": "#2a3f5f"
          },
          "geo": {
           "bgcolor": "white",
           "lakecolor": "white",
           "landcolor": "#E5ECF6",
           "showlakes": true,
           "showland": true,
           "subunitcolor": "white"
          },
          "hoverlabel": {
           "align": "left"
          },
          "hovermode": "closest",
          "mapbox": {
           "style": "light"
          },
          "paper_bgcolor": "white",
          "plot_bgcolor": "#E5ECF6",
          "polar": {
           "angularaxis": {
            "gridcolor": "white",
            "linecolor": "white",
            "ticks": ""
           },
           "bgcolor": "#E5ECF6",
           "radialaxis": {
            "gridcolor": "white",
            "linecolor": "white",
            "ticks": ""
           }
          },
          "scene": {
           "xaxis": {
            "backgroundcolor": "#E5ECF6",
            "gridcolor": "white",
            "gridwidth": 2,
            "linecolor": "white",
            "showbackground": true,
            "ticks": "",
            "zerolinecolor": "white"
           },
           "yaxis": {
            "backgroundcolor": "#E5ECF6",
            "gridcolor": "white",
            "gridwidth": 2,
            "linecolor": "white",
            "showbackground": true,
            "ticks": "",
            "zerolinecolor": "white"
           },
           "zaxis": {
            "backgroundcolor": "#E5ECF6",
            "gridcolor": "white",
            "gridwidth": 2,
            "linecolor": "white",
            "showbackground": true,
            "ticks": "",
            "zerolinecolor": "white"
           }
          },
          "shapedefaults": {
           "line": {
            "color": "#2a3f5f"
           }
          },
          "ternary": {
           "aaxis": {
            "gridcolor": "white",
            "linecolor": "white",
            "ticks": ""
           },
           "baxis": {
            "gridcolor": "white",
            "linecolor": "white",
            "ticks": ""
           },
           "bgcolor": "#E5ECF6",
           "caxis": {
            "gridcolor": "white",
            "linecolor": "white",
            "ticks": ""
           }
          },
          "title": {
           "x": 0.05
          },
          "xaxis": {
           "automargin": true,
           "gridcolor": "white",
           "linecolor": "white",
           "ticks": "",
           "title": {
            "standoff": 15
           },
           "zerolinecolor": "white",
           "zerolinewidth": 2
          },
          "yaxis": {
           "automargin": true,
           "gridcolor": "white",
           "linecolor": "white",
           "ticks": "",
           "title": {
            "standoff": 15
           },
           "zerolinecolor": "white",
           "zerolinewidth": 2
          }
         }
        },
        "title": {
         "text": "Net Sentiment Over Time (20-Meeting Rolling Mean)"
        },
        "width": 800,
        "xaxis": {
         "anchor": "y",
         "domain": [
          0,
          1
         ],
         "tickangle": -45,
         "title": {
          "text": "Date"
         }
        },
        "yaxis": {
         "anchor": "x",
         "domain": [
          0,
          1
         ],
         "title": {
          "text": "Rolling Net Sentiment"
         }
        }
       }
      }
     },
     "metadata": {},
     "output_type": "display_data"
    }
   ],
   "source": [
    "df_sorted = df.sort_values(\"Date\").copy()\n",
    "df_sorted[\"rolling_sent\"] = (\n",
    "    df_sorted[\"net_sent\"]\n",
    "      .rolling(window=20, center=True, min_periods=1)\n",
    "      .mean()\n",
    ")\n",
    "\n",
    "fig = px.line(\n",
    "    df_sorted,\n",
    "    x=\"Date\",\n",
    "    y=\"rolling_sent\",\n",
    "    width=800, height=400,\n",
    "    title=\"Net Sentiment Over Time (20-Meeting Rolling Mean)\",\n",
    "    labels={\"Date\":\"Date\", \"rolling_sent\":\"Rolling Net Sentiment\"}\n",
    ")\n",
    "fig.update_traces(line=dict(width=3, color=\"teal\"))\n",
    "fig.update_layout(xaxis_tickangle=-45, margin=dict(b=100))\n",
    "fig.show()"
   ]
  },
  {
   "cell_type": "code",
   "execution_count": 17,
   "metadata": {},
   "outputs": [
    {
     "data": {
      "application/vnd.plotly.v1+json": {
       "config": {
        "plotlyServerURL": "https://plot.ly"
       },
       "data": [
        {
         "line": {
          "color": "teal",
          "width": 3
         },
         "mode": "lines",
         "name": "Rolling Net Sentiment",
         "type": "scatter",
         "x": [
          "2000/02",
          "2000/03",
          "2000/05",
          "2000/07",
          "2000/08",
          "2000/10",
          "2000/11",
          "2000/12",
          "2001/01",
          "2001/02",
          "2001/03",
          "2001/04",
          "2001/05",
          "2001/06",
          "2001/08",
          "2001/09",
          "2001/10",
          "2001/11",
          "2001/12",
          "2002/02",
          "2002/03",
          "2002/05",
          "2002/06",
          "2002/08",
          "2002/09",
          "2002/11",
          "2002/12",
          "2003/02",
          "2003/03",
          "2003/04",
          "2003/05",
          "2003/06",
          "2003/08",
          "2003/09",
          "2003/11",
          "2003/12",
          "2004/02",
          "2004/03",
          "2004/05",
          "2004/07",
          "2004/08",
          "2004/09",
          "2004/11",
          "2004/12",
          "2005/02",
          "2005/03",
          "2005/05",
          "2005/07",
          "2005/08",
          "2005/09",
          "2005/11",
          "2005/12",
          "2006/02",
          "2006/04",
          "2006/05",
          "2006/07",
          "2006/08",
          "2006/09",
          "2006/10",
          "2006/12",
          "2007/02",
          "2007/03",
          "2007/05",
          "2007/07",
          "2007/08",
          "2007/09",
          "2007/11",
          "2007/12",
          "2008/01",
          "2008/02",
          "2008/03",
          "2008/05",
          "2008/06",
          "2008/07",
          "2008/08",
          "2008/09",
          "2008/10",
          "2008/11",
          "2008/12",
          "2009/01",
          "2009/02",
          "2009/03",
          "2009/05",
          "2009/06",
          "2009/08",
          "2009/09",
          "2009/11",
          "2009/12",
          "2010/01",
          "2010/03",
          "2010/05",
          "2010/06",
          "2010/08",
          "2010/09",
          "2010/10",
          "2010/11",
          "2010/12",
          "2011/01",
          "2011/03",
          "2011/04",
          "2011/06",
          "2011/08",
          "2011/09",
          "2011/11",
          "2011/12",
          "2012/01",
          "2012/03",
          "2012/04",
          "2012/06",
          "2012/08",
          "2012/09",
          "2012/10",
          "2012/12",
          "2013/02",
          "2013/03",
          "2013/05",
          "2013/06",
          "2013/08",
          "2013/09",
          "2013/10",
          "2013/11",
          "2013/12",
          "2014/02",
          "2014/03",
          "2014/05",
          "2014/06",
          "2014/08",
          "2014/09",
          "2014/11",
          "2014/12",
          "2015/02",
          "2015/03",
          "2015/05",
          "2015/06",
          "2015/08",
          "2015/09",
          "2015/11",
          "2015/12",
          "2016/01",
          "2016/03",
          "2016/04",
          "2016/06",
          "2016/07",
          "2016/09",
          "2016/11",
          "2016/12",
          "2017/02",
          "2017/03",
          "2017/05",
          "2017/06",
          "2017/07",
          "2017/09",
          "2017/11",
          "2017/12",
          "2018/02",
          "2018/03",
          "2018/05",
          "2018/06",
          "2018/08",
          "2018/09",
          "2018/11",
          "2018/12",
          "2019/02",
          "2019/03",
          "2019/05",
          "2019/06",
          "2019/08",
          "2019/09",
          "2019/10",
          "2019/11",
          "2019/12",
          "2020/02",
          "2020/03",
          "2020/05",
          "2020/06",
          "2020/08",
          "2020/09",
          "2020/11",
          "2020/12",
          "2021/01",
          "2021/03",
          "2021/05",
          "2021/06",
          "2021/08",
          "2021/09",
          "2021/11",
          "2021/12",
          "2022/01",
          "2022/03",
          "2022/05",
          "2022/06",
          "2022/07",
          "2022/09",
          "2022/11",
          "2022/12",
          "2023/02",
          "2023/03",
          "2023/05",
          "2023/06",
          "2023/07",
          "2023/09",
          "2023/11",
          "2023/12",
          "2024/02",
          "2024/03",
          "2024/05",
          "2024/06",
          "2024/08",
          "2024/09",
          "2024/11",
          "2024/12",
          "2025/02",
          null,
          null,
          null,
          null,
          null,
          null,
          null,
          null,
          null,
          null,
          null,
          null,
          null,
          null,
          null,
          null,
          null,
          null,
          null,
          null,
          null,
          null,
          null,
          null,
          null,
          null,
          null,
          null,
          null,
          null,
          null,
          null,
          null,
          null,
          null,
          null,
          null,
          null,
          null,
          null,
          null,
          null,
          null,
          null,
          null,
          null,
          null,
          null,
          null,
          null,
          null,
          null,
          null,
          null,
          null,
          null,
          null,
          null,
          null,
          null
         ],
         "y": [
          0.04060782073970446,
          -0.013492537129840054,
          -0.05557059325059689,
          -0.058757489426899866,
          -0.08543995498878519,
          -0.10767534295702295,
          -0.1201636143680814,
          -0.15508423646259456,
          -0.15508423646259456,
          -0.1706466205929871,
          -0.18426370670708053,
          -0.21952990200993508,
          -0.2790676120775136,
          -0.28256676344882664,
          -0.31968936381161317,
          -0.3104354166148304,
          -0.29963970813096463,
          -0.31648664259723835,
          -0.31334507753382024,
          -0.3078919059464649,
          -0.29743004550942176,
          -0.28542408298836847,
          -0.25862362142096834,
          -0.27003589251479115,
          -0.26849062356944303,
          -0.2517541439703757,
          -0.25044923487534665,
          -0.2106826590789757,
          -0.21970074945673929,
          -0.216863017211869,
          -0.19990393271645374,
          -0.1627940503500994,
          -0.1360843586513172,
          -0.0709902551275443,
          -0.028073287189508946,
          -0.018480503312594865,
          -0.022293329035242247,
          -0.019111461737302805,
          -0.0016851349671722676,
          0.01480525554305109,
          0.020071090313732474,
          0.03579757118469906,
          0.05647011428967481,
          0.05647011428967481,
          0.11622175397015054,
          0.12738658705984282,
          0.12702047330127864,
          0.139830525861518,
          0.1726910939354646,
          0.21096814681793932,
          0.2375144451106464,
          0.24743683220830823,
          0.24543590036604954,
          0.22025679547551597,
          0.17240704806391782,
          0.17240704806391782,
          0.1745389622930825,
          0.20412599950397048,
          0.18249983369305328,
          0.18106974246144575,
          0.17537210536211287,
          0.18868402932981046,
          0.17811911263737967,
          0.17093737113886556,
          0.14505275514191343,
          0.18392281767517726,
          0.20061848518458725,
          0.20061848518458725,
          0.18716365573551536,
          0.17622057094754023,
          0.16071966612689062,
          0.13316776646161105,
          0.12653268800352838,
          0.10508841280513247,
          0.11696309474458798,
          0.12572408402333796,
          0.0988294048259358,
          0.0748881156452083,
          0.08631571890412407,
          0.08631571890412407,
          0.08351472550079818,
          0.05276412057545107,
          0.02225887924006592,
          0.01800381366944159,
          0.029607703288924973,
          -0.03450786263104587,
          -0.08366854143027602,
          -0.10137803499395845,
          -0.13262455868245493,
          -0.14550235740016887,
          -0.16221114854812804,
          -0.18275039860277723,
          -0.20390633714281445,
          -0.22566649127143582,
          -0.25366293080432045,
          -0.304299213173496,
          -0.33190158841100265,
          -0.3461474632119004,
          -0.361018673416559,
          -0.3522338611690926,
          -0.3795217857283362,
          -0.39961019529355407,
          -0.38664194885790176,
          -0.36909514133052546,
          -0.40142181248774517,
          -0.38413416841599995,
          -0.35067948656113,
          -0.3507650204158561,
          -0.33138556796761454,
          -0.31547179181075546,
          -0.30461818859101286,
          -0.295106922036198,
          -0.2616096781217291,
          -0.24571102488295535,
          -0.20060049388091747,
          -0.15424634528566908,
          -0.12450940043037963,
          -0.08472999073298113,
          -0.07513616961523513,
          -0.06571566864969425,
          -0.034510881360188095,
          -0.02240368531904137,
          -0.016979164909176423,
          -0.01313486144803697,
          -0.006548895959248918,
          -0.00981084443934522,
          -0.026184379516961082,
          -0.047177743806789296,
          -0.0348729068855819,
          -0.05792754223333569,
          -0.08585733257451274,
          -0.08585733257451274,
          -0.10401721517431352,
          -0.11907101192424689,
          -0.12354559126805047,
          -0.14128089462069718,
          -0.11295918753311004,
          -0.10124513453857026,
          -0.10357846148320245,
          -0.1297617389204912,
          -0.13428148503402196,
          -0.16633318682663753,
          -0.16251650438616008,
          -0.13130150465196727,
          -0.1479904373854866,
          -0.1565835599624213,
          -0.1565835599624213,
          -0.1270521091378138,
          -0.12171657363262711,
          -0.10157044328363204,
          -0.05771654550474085,
          -0.03383447659267212,
          -0.019639287832951262,
          0.01767232752474796,
          0.012916196816831305,
          0.008696213266857602,
          -0.014854378488564565,
          -0.013901467538174474,
          -0.013901467538174474,
          0.03280636799980487,
          0.028881216506526256,
          0.050199522260348815,
          0.06821660196396255,
          0.059110791347798196,
          0.059110791347798196,
          0.08589199248456983,
          0.09461976014867998,
          0.09831945609819191,
          0.10727562243860053,
          0.11668948228775487,
          0.11867589613175537,
          0.10304077989684049,
          0.10334790132625986,
          0.09964226333336587,
          0.08496889194819447,
          0.09435444361511466,
          0.10516352180726198,
          0.09208756299291648,
          0.0858117769072436,
          0.07577123867202563,
          0.07006686664743789,
          0.06473234350474431,
          0.03583985087443174,
          0.027288136075062017,
          0.015580015330404455,
          0.004506517442959835,
          -0.011824404864983417,
          -0.016088047434059692,
          -0.015398168312428833,
          -0.03569675973460918,
          -0.02631656141476663,
          -0.03278251167554968,
          -0.04134735582865098,
          -0.021770281062866846,
          0.0020417855876349975,
          0.007733913821255502,
          0.014050884442548525,
          0.014986001755484379,
          0.019622685095700063,
          0.019383217933423447,
          0.02498440432857784,
          0.027261393688489382,
          0.046703128778981653,
          0.04065801377028463,
          0.06572417571303316,
          0.08093886097253603,
          0.08760533863216874,
          0.10832606512552893,
          0.12376755698461135,
          0.12862156283954498,
          0.13675539765409955,
          0.12818039667035994,
          0.12693344308432689,
          0.11229480434486419,
          0.1135288139224176,
          0.10755752810721236,
          0.09677538964768369,
          0.09513314786489203,
          0.07958592932552933,
          0.07441594540375823,
          0.07125023916675981,
          0.06893178488106119,
          0.07139386807692497,
          0.05203086643173167,
          0.024084153266977798,
          0.012992468457827384,
          -0.0067516571104761685,
          -0.012661540319395865,
          -0.03861221717036393,
          -0.03649192324707815,
          -0.04834612877986255,
          -0.034235645321017485,
          -0.02250552444927955,
          -0.009957669301176825,
          -0.012680793189011169,
          -0.017843079320287277,
          -0.008934692807039004,
          -0.00236651933576474,
          0.018470803084094278,
          0.020259393183735937,
          0.02211373980817549,
          0.01513546406382999,
          0.0008175736354388341,
          0.017178675137279952,
          0.02958219230358889,
          0.027252793767248575,
          0.029357515203606376,
          0.019198839025345447,
          0.024023353168179058,
          0.011605231021571563,
          0.01647151943743419,
          0.015548944640872277,
          0.0024077228117554833,
          -0.004546671531590737,
          0.003509797453743789,
          0.019947286919760096,
          0.030859783425636146,
          0.03096903460741156,
          0.02758350489194052,
          0.031768018538088305,
          0.04795660035667306,
          0.06200261809059985,
          0.07361916072050317,
          0.08264998413788861,
          0.09260627254113593,
          0.10037575696009818,
          0.11738999531834735,
          0.13068770775125457,
          0.1477518905815656,
          0.159465490918831,
          0.16558686254226493,
          0.15748216330281728
         ],
         "yaxis": "y"
        },
        {
         "line": {
          "color": "orange",
          "dash": "dash",
          "width": 3
         },
         "mode": "lines",
         "name": "New Manufacturing Orders",
         "type": "scatter",
         "x": [
          "2000/02",
          "2000/03",
          "2000/05",
          "2000/07",
          "2000/08",
          "2000/10",
          "2000/11",
          "2000/12",
          "2001/01",
          "2001/02",
          "2001/03",
          "2001/04",
          "2001/05",
          "2001/06",
          "2001/08",
          "2001/09",
          "2001/10",
          "2001/11",
          "2001/12",
          "2002/02",
          "2002/03",
          "2002/05",
          "2002/06",
          "2002/08",
          "2002/09",
          "2002/11",
          "2002/12",
          "2003/02",
          "2003/03",
          "2003/04",
          "2003/05",
          "2003/06",
          "2003/08",
          "2003/09",
          "2003/11",
          "2003/12",
          "2004/02",
          "2004/03",
          "2004/05",
          "2004/07",
          "2004/08",
          "2004/09",
          "2004/11",
          "2004/12",
          "2005/02",
          "2005/03",
          "2005/05",
          "2005/07",
          "2005/08",
          "2005/09",
          "2005/11",
          "2005/12",
          "2006/02",
          "2006/04",
          "2006/05",
          "2006/07",
          "2006/08",
          "2006/09",
          "2006/10",
          "2006/12",
          "2007/02",
          "2007/03",
          "2007/05",
          "2007/07",
          "2007/08",
          "2007/09",
          "2007/11",
          "2007/12",
          "2008/01",
          "2008/02",
          "2008/03",
          "2008/05",
          "2008/06",
          "2008/07",
          "2008/08",
          "2008/09",
          "2008/10",
          "2008/11",
          "2008/12",
          "2009/01",
          "2009/02",
          "2009/03",
          "2009/05",
          "2009/06",
          "2009/08",
          "2009/09",
          "2009/11",
          "2009/12",
          "2010/01",
          "2010/03",
          "2010/05",
          "2010/06",
          "2010/08",
          "2010/09",
          "2010/10",
          "2010/11",
          "2010/12",
          "2011/01",
          "2011/03",
          "2011/04",
          "2011/06",
          "2011/08",
          "2011/09",
          "2011/11",
          "2011/12",
          "2012/01",
          "2012/03",
          "2012/04",
          "2012/06",
          "2012/08",
          "2012/09",
          "2012/10",
          "2012/12",
          "2013/02",
          "2013/03",
          "2013/05",
          "2013/06",
          "2013/08",
          "2013/09",
          "2013/10",
          "2013/11",
          "2013/12",
          "2014/02",
          "2014/03",
          "2014/05",
          "2014/06",
          "2014/08",
          "2014/09",
          "2014/11",
          "2014/12",
          "2015/02",
          "2015/03",
          "2015/05",
          "2015/06",
          "2015/08",
          "2015/09",
          "2015/11",
          "2015/12",
          "2016/01",
          "2016/03",
          "2016/04",
          "2016/06",
          "2016/07",
          "2016/09",
          "2016/11",
          "2016/12",
          "2017/02",
          "2017/03",
          "2017/05",
          "2017/06",
          "2017/07",
          "2017/09",
          "2017/11",
          "2017/12",
          "2018/02",
          "2018/03",
          "2018/05",
          "2018/06",
          "2018/08",
          "2018/09",
          "2018/11",
          "2018/12",
          "2019/02",
          "2019/03",
          "2019/05",
          "2019/06",
          "2019/08",
          "2019/09",
          "2019/10",
          "2019/11",
          "2019/12",
          "2020/02",
          "2020/03",
          "2020/05",
          "2020/06",
          "2020/08",
          "2020/09",
          "2020/11",
          "2020/12",
          "2021/01",
          "2021/03",
          "2021/05",
          "2021/06",
          "2021/08",
          "2021/09",
          "2021/11",
          "2021/12",
          "2022/01",
          "2022/03",
          "2022/05",
          "2022/06",
          "2022/07",
          "2022/09",
          "2022/11",
          "2022/12",
          "2023/02",
          "2023/03",
          "2023/05",
          "2023/06",
          "2023/07",
          "2023/09",
          "2023/11",
          "2023/12",
          "2024/02",
          "2024/03",
          "2024/05",
          "2024/06",
          "2024/08",
          "2024/09",
          "2024/11",
          "2024/12",
          "2025/02",
          null,
          null,
          null,
          null,
          null,
          null,
          null,
          null,
          null,
          null,
          null,
          null,
          null,
          null,
          null,
          null,
          null,
          null,
          null,
          null,
          null,
          null,
          null,
          null,
          null,
          null,
          null,
          null,
          null,
          null,
          null,
          null,
          null,
          null,
          null,
          null,
          null,
          null,
          null,
          null,
          null,
          null,
          null,
          null,
          null,
          null,
          null,
          null,
          null,
          null,
          null,
          null,
          null,
          null,
          null,
          null,
          null,
          null,
          null,
          null
         ],
         "y": [
          0.12324416708818373,
          0.12295809914271871,
          0.12492946565107409,
          0.12654199129495117,
          0.12254439930312351,
          0.12074359135929538,
          0.12132350436360176,
          0.11267860538235182,
          0.10863842662286087,
          0.10115730394363194,
          0.09381632479777409,
          0.08294199000607515,
          0.0732073885970703,
          0.05998010396939526,
          0.05216633998919283,
          0.04523670575553936,
          0.0380537118203308,
          0.03788895207769985,
          0.03265836963474667,
          0.033774558108302086,
          0.03284063135083321,
          0.037049436797021176,
          0.03641556455777339,
          0.044418660769270854,
          0.05178035193020786,
          0.05331787047750943,
          0.05701838052923299,
          0.05981973589915483,
          0.06531458783010109,
          0.0688701865409835,
          0.07656865031448325,
          0.08357908920704657,
          0.09305912266641209,
          0.10227828892943629,
          0.11032113695438421,
          0.12392586862243364,
          0.1358785002059212,
          0.1482760374408721,
          0.16453714225044608,
          0.17866792777018933,
          0.19469084814387871,
          0.20755600108691463,
          0.22791081788494613,
          0.2398860396356081,
          0.25831820989143195,
          0.27576104139415736,
          0.2997755651691099,
          0.3222789859118979,
          0.339585799238504,
          0.35593800543745263,
          0.3708814065778613,
          0.3861524962268363,
          0.3943202223977401,
          0.41184527510365304,
          0.41702741442289354,
          0.4289327702685381,
          0.43206649235236716,
          0.43875912933271666,
          0.447412997627485,
          0.45850509180744864,
          0.4686191388235275,
          0.4797106541698534,
          0.4956834186099247,
          0.5111962266669672,
          0.5328563730796633,
          0.5450976815220934,
          0.5599855967462107,
          0.5720898317933772,
          0.5853464731795304,
          0.5945947579875059,
          0.5984581753090448,
          0.5998011033684818,
          0.5841661967457927,
          0.5511805478863928,
          0.5112205749267196,
          0.46463332203533636,
          0.41785072545767343,
          0.36602103560552407,
          0.31421545404544743,
          0.266881726926142,
          0.2282455546359711,
          0.19477714814831842,
          0.17656502934041102,
          0.17091854702577186,
          0.1812945584542913,
          0.20247941923592921,
          0.22515412741640417,
          0.2502280751453197,
          0.27560800576809735,
          0.30381014658001765,
          0.3264776236991342,
          0.3508887853788823,
          0.372633730569189,
          0.39920204996905573,
          0.42354421161980715,
          0.4424084145839256,
          0.4600437552318188,
          0.4838517208193469,
          0.5011190435872273,
          0.5181909812197367,
          0.5390358313615357,
          0.5578962876433093,
          0.5751298399700498,
          0.584814440274914,
          0.5845773932641086,
          0.5850492137959289,
          0.5920394725993576,
          0.5952557281674584,
          0.6055740848251887,
          0.6154353198418061,
          0.6143726397685187,
          0.6186439136784905,
          0.6257927419500018,
          0.6294029142834608,
          0.6409101017864394,
          0.6530741113417087,
          0.6624201380894046,
          0.669718159691526,
          0.6724446711321767,
          0.6713804028429988,
          0.6780580099814009,
          0.6796455405814035,
          0.6775497440000364,
          0.6801908233808913,
          0.673199141564208,
          0.6641361870653804,
          0.6470597540393161,
          0.6346169538891289,
          0.6192251541514358,
          0.6077975984328383,
          0.5928511975204301,
          0.5741205232662405,
          0.5567646614022083,
          0.5375165285188667,
          0.5263527356500276,
          0.5166264225565447,
          0.51520822552031,
          0.5038424385921431,
          0.49849432582245357,
          0.48989673977648296,
          0.4852564222844486,
          0.48675408809041654,
          0.48973859779026147,
          0.4952532220467437,
          0.497736085315536,
          0.5073183073258695,
          0.5067620932832748,
          0.517409238007752,
          0.5295163347210615,
          0.5441734626412861,
          0.5584226196284037,
          0.571470775278889,
          0.5841268792410232,
          0.5967809354538975,
          0.6116560555931907,
          0.6223728456140275,
          0.6328771048808222,
          0.639477994247946,
          0.6397005174418108,
          0.6392762717780159,
          0.6342560618457649,
          0.6249123713921907,
          0.6164641321452519,
          0.6059354493778697,
          0.5930598404491907,
          0.5765739836809162,
          0.5674707589569423,
          0.5610854315152138,
          0.541451630320623,
          0.5048145123096851,
          0.48348148627186677,
          0.4760575188981731,
          0.46755957566715267,
          0.46620030224393155,
          0.4688985202222399,
          0.48096327386558846,
          0.49502394303811925,
          0.5086825967414066,
          0.5411583717406244,
          0.5928918012178108,
          0.6330651928984923,
          0.6687732884775326,
          0.7050111714839067,
          0.7401077407447926,
          0.7758435224542157,
          0.8080075218738079,
          0.839065510179773,
          0.8651179802767294,
          0.8866159900433827,
          0.9028483280950906,
          0.9202861042513696,
          0.9298159921270474,
          0.9379490932458413,
          0.9430110803712946,
          0.9465393460696416,
          0.9453430821926924,
          0.9465578495732687,
          0.950629609312611,
          0.9529422082848329,
          0.95350858171016,
          0.9559177418447012,
          0.9584704754535982,
          0.9548424273661205,
          0.9577070924405596,
          0.957738599334886,
          0.9590177582624998,
          0.9547721073393699,
          0.9536252550424568,
          0.9527316006697839,
          0.9537693654305752,
          0.9532070414928219,
          0.9527938918935922,
          0.9642553846232845,
          0.9635220294244341,
          0.9637940051780691,
          0.9672464053439292,
          0.9885314770308676,
          null,
          null,
          null,
          null,
          null,
          null,
          null,
          null,
          null,
          null,
          null,
          null,
          null,
          null,
          null,
          null,
          null,
          null,
          null,
          null,
          null,
          null,
          null,
          null,
          null,
          null,
          null,
          null,
          null,
          null,
          null,
          null,
          null,
          null,
          null,
          null,
          null,
          null,
          null,
          null,
          null,
          null,
          null,
          null,
          null,
          null,
          null,
          null,
          null,
          null,
          null,
          null,
          null,
          null,
          null
         ],
         "yaxis": "y2"
        }
       ],
       "layout": {
        "height": 450,
        "legend": {
         "x": 0.01,
         "y": 0.99
        },
        "template": {
         "data": {
          "bar": [
           {
            "error_x": {
             "color": "#2a3f5f"
            },
            "error_y": {
             "color": "#2a3f5f"
            },
            "marker": {
             "line": {
              "color": "#E5ECF6",
              "width": 0.5
             },
             "pattern": {
              "fillmode": "overlay",
              "size": 10,
              "solidity": 0.2
             }
            },
            "type": "bar"
           }
          ],
          "barpolar": [
           {
            "marker": {
             "line": {
              "color": "#E5ECF6",
              "width": 0.5
             },
             "pattern": {
              "fillmode": "overlay",
              "size": 10,
              "solidity": 0.2
             }
            },
            "type": "barpolar"
           }
          ],
          "carpet": [
           {
            "aaxis": {
             "endlinecolor": "#2a3f5f",
             "gridcolor": "white",
             "linecolor": "white",
             "minorgridcolor": "white",
             "startlinecolor": "#2a3f5f"
            },
            "baxis": {
             "endlinecolor": "#2a3f5f",
             "gridcolor": "white",
             "linecolor": "white",
             "minorgridcolor": "white",
             "startlinecolor": "#2a3f5f"
            },
            "type": "carpet"
           }
          ],
          "choropleth": [
           {
            "colorbar": {
             "outlinewidth": 0,
             "ticks": ""
            },
            "type": "choropleth"
           }
          ],
          "contour": [
           {
            "colorbar": {
             "outlinewidth": 0,
             "ticks": ""
            },
            "colorscale": [
             [
              0,
              "#0d0887"
             ],
             [
              0.1111111111111111,
              "#46039f"
             ],
             [
              0.2222222222222222,
              "#7201a8"
             ],
             [
              0.3333333333333333,
              "#9c179e"
             ],
             [
              0.4444444444444444,
              "#bd3786"
             ],
             [
              0.5555555555555556,
              "#d8576b"
             ],
             [
              0.6666666666666666,
              "#ed7953"
             ],
             [
              0.7777777777777778,
              "#fb9f3a"
             ],
             [
              0.8888888888888888,
              "#fdca26"
             ],
             [
              1,
              "#f0f921"
             ]
            ],
            "type": "contour"
           }
          ],
          "contourcarpet": [
           {
            "colorbar": {
             "outlinewidth": 0,
             "ticks": ""
            },
            "type": "contourcarpet"
           }
          ],
          "heatmap": [
           {
            "colorbar": {
             "outlinewidth": 0,
             "ticks": ""
            },
            "colorscale": [
             [
              0,
              "#0d0887"
             ],
             [
              0.1111111111111111,
              "#46039f"
             ],
             [
              0.2222222222222222,
              "#7201a8"
             ],
             [
              0.3333333333333333,
              "#9c179e"
             ],
             [
              0.4444444444444444,
              "#bd3786"
             ],
             [
              0.5555555555555556,
              "#d8576b"
             ],
             [
              0.6666666666666666,
              "#ed7953"
             ],
             [
              0.7777777777777778,
              "#fb9f3a"
             ],
             [
              0.8888888888888888,
              "#fdca26"
             ],
             [
              1,
              "#f0f921"
             ]
            ],
            "type": "heatmap"
           }
          ],
          "heatmapgl": [
           {
            "colorbar": {
             "outlinewidth": 0,
             "ticks": ""
            },
            "colorscale": [
             [
              0,
              "#0d0887"
             ],
             [
              0.1111111111111111,
              "#46039f"
             ],
             [
              0.2222222222222222,
              "#7201a8"
             ],
             [
              0.3333333333333333,
              "#9c179e"
             ],
             [
              0.4444444444444444,
              "#bd3786"
             ],
             [
              0.5555555555555556,
              "#d8576b"
             ],
             [
              0.6666666666666666,
              "#ed7953"
             ],
             [
              0.7777777777777778,
              "#fb9f3a"
             ],
             [
              0.8888888888888888,
              "#fdca26"
             ],
             [
              1,
              "#f0f921"
             ]
            ],
            "type": "heatmapgl"
           }
          ],
          "histogram": [
           {
            "marker": {
             "pattern": {
              "fillmode": "overlay",
              "size": 10,
              "solidity": 0.2
             }
            },
            "type": "histogram"
           }
          ],
          "histogram2d": [
           {
            "colorbar": {
             "outlinewidth": 0,
             "ticks": ""
            },
            "colorscale": [
             [
              0,
              "#0d0887"
             ],
             [
              0.1111111111111111,
              "#46039f"
             ],
             [
              0.2222222222222222,
              "#7201a8"
             ],
             [
              0.3333333333333333,
              "#9c179e"
             ],
             [
              0.4444444444444444,
              "#bd3786"
             ],
             [
              0.5555555555555556,
              "#d8576b"
             ],
             [
              0.6666666666666666,
              "#ed7953"
             ],
             [
              0.7777777777777778,
              "#fb9f3a"
             ],
             [
              0.8888888888888888,
              "#fdca26"
             ],
             [
              1,
              "#f0f921"
             ]
            ],
            "type": "histogram2d"
           }
          ],
          "histogram2dcontour": [
           {
            "colorbar": {
             "outlinewidth": 0,
             "ticks": ""
            },
            "colorscale": [
             [
              0,
              "#0d0887"
             ],
             [
              0.1111111111111111,
              "#46039f"
             ],
             [
              0.2222222222222222,
              "#7201a8"
             ],
             [
              0.3333333333333333,
              "#9c179e"
             ],
             [
              0.4444444444444444,
              "#bd3786"
             ],
             [
              0.5555555555555556,
              "#d8576b"
             ],
             [
              0.6666666666666666,
              "#ed7953"
             ],
             [
              0.7777777777777778,
              "#fb9f3a"
             ],
             [
              0.8888888888888888,
              "#fdca26"
             ],
             [
              1,
              "#f0f921"
             ]
            ],
            "type": "histogram2dcontour"
           }
          ],
          "mesh3d": [
           {
            "colorbar": {
             "outlinewidth": 0,
             "ticks": ""
            },
            "type": "mesh3d"
           }
          ],
          "parcoords": [
           {
            "line": {
             "colorbar": {
              "outlinewidth": 0,
              "ticks": ""
             }
            },
            "type": "parcoords"
           }
          ],
          "pie": [
           {
            "automargin": true,
            "type": "pie"
           }
          ],
          "scatter": [
           {
            "fillpattern": {
             "fillmode": "overlay",
             "size": 10,
             "solidity": 0.2
            },
            "type": "scatter"
           }
          ],
          "scatter3d": [
           {
            "line": {
             "colorbar": {
              "outlinewidth": 0,
              "ticks": ""
             }
            },
            "marker": {
             "colorbar": {
              "outlinewidth": 0,
              "ticks": ""
             }
            },
            "type": "scatter3d"
           }
          ],
          "scattercarpet": [
           {
            "marker": {
             "colorbar": {
              "outlinewidth": 0,
              "ticks": ""
             }
            },
            "type": "scattercarpet"
           }
          ],
          "scattergeo": [
           {
            "marker": {
             "colorbar": {
              "outlinewidth": 0,
              "ticks": ""
             }
            },
            "type": "scattergeo"
           }
          ],
          "scattergl": [
           {
            "marker": {
             "colorbar": {
              "outlinewidth": 0,
              "ticks": ""
             }
            },
            "type": "scattergl"
           }
          ],
          "scattermapbox": [
           {
            "marker": {
             "colorbar": {
              "outlinewidth": 0,
              "ticks": ""
             }
            },
            "type": "scattermapbox"
           }
          ],
          "scatterpolar": [
           {
            "marker": {
             "colorbar": {
              "outlinewidth": 0,
              "ticks": ""
             }
            },
            "type": "scatterpolar"
           }
          ],
          "scatterpolargl": [
           {
            "marker": {
             "colorbar": {
              "outlinewidth": 0,
              "ticks": ""
             }
            },
            "type": "scatterpolargl"
           }
          ],
          "scatterternary": [
           {
            "marker": {
             "colorbar": {
              "outlinewidth": 0,
              "ticks": ""
             }
            },
            "type": "scatterternary"
           }
          ],
          "surface": [
           {
            "colorbar": {
             "outlinewidth": 0,
             "ticks": ""
            },
            "colorscale": [
             [
              0,
              "#0d0887"
             ],
             [
              0.1111111111111111,
              "#46039f"
             ],
             [
              0.2222222222222222,
              "#7201a8"
             ],
             [
              0.3333333333333333,
              "#9c179e"
             ],
             [
              0.4444444444444444,
              "#bd3786"
             ],
             [
              0.5555555555555556,
              "#d8576b"
             ],
             [
              0.6666666666666666,
              "#ed7953"
             ],
             [
              0.7777777777777778,
              "#fb9f3a"
             ],
             [
              0.8888888888888888,
              "#fdca26"
             ],
             [
              1,
              "#f0f921"
             ]
            ],
            "type": "surface"
           }
          ],
          "table": [
           {
            "cells": {
             "fill": {
              "color": "#EBF0F8"
             },
             "line": {
              "color": "white"
             }
            },
            "header": {
             "fill": {
              "color": "#C8D4E3"
             },
             "line": {
              "color": "white"
             }
            },
            "type": "table"
           }
          ]
         },
         "layout": {
          "annotationdefaults": {
           "arrowcolor": "#2a3f5f",
           "arrowhead": 0,
           "arrowwidth": 1
          },
          "autotypenumbers": "strict",
          "coloraxis": {
           "colorbar": {
            "outlinewidth": 0,
            "ticks": ""
           }
          },
          "colorscale": {
           "diverging": [
            [
             0,
             "#8e0152"
            ],
            [
             0.1,
             "#c51b7d"
            ],
            [
             0.2,
             "#de77ae"
            ],
            [
             0.3,
             "#f1b6da"
            ],
            [
             0.4,
             "#fde0ef"
            ],
            [
             0.5,
             "#f7f7f7"
            ],
            [
             0.6,
             "#e6f5d0"
            ],
            [
             0.7,
             "#b8e186"
            ],
            [
             0.8,
             "#7fbc41"
            ],
            [
             0.9,
             "#4d9221"
            ],
            [
             1,
             "#276419"
            ]
           ],
           "sequential": [
            [
             0,
             "#0d0887"
            ],
            [
             0.1111111111111111,
             "#46039f"
            ],
            [
             0.2222222222222222,
             "#7201a8"
            ],
            [
             0.3333333333333333,
             "#9c179e"
            ],
            [
             0.4444444444444444,
             "#bd3786"
            ],
            [
             0.5555555555555556,
             "#d8576b"
            ],
            [
             0.6666666666666666,
             "#ed7953"
            ],
            [
             0.7777777777777778,
             "#fb9f3a"
            ],
            [
             0.8888888888888888,
             "#fdca26"
            ],
            [
             1,
             "#f0f921"
            ]
           ],
           "sequentialminus": [
            [
             0,
             "#0d0887"
            ],
            [
             0.1111111111111111,
             "#46039f"
            ],
            [
             0.2222222222222222,
             "#7201a8"
            ],
            [
             0.3333333333333333,
             "#9c179e"
            ],
            [
             0.4444444444444444,
             "#bd3786"
            ],
            [
             0.5555555555555556,
             "#d8576b"
            ],
            [
             0.6666666666666666,
             "#ed7953"
            ],
            [
             0.7777777777777778,
             "#fb9f3a"
            ],
            [
             0.8888888888888888,
             "#fdca26"
            ],
            [
             1,
             "#f0f921"
            ]
           ]
          },
          "colorway": [
           "#636efa",
           "#EF553B",
           "#00cc96",
           "#ab63fa",
           "#FFA15A",
           "#19d3f3",
           "#FF6692",
           "#B6E880",
           "#FF97FF",
           "#FECB52"
          ],
          "font": {
           "color": "#2a3f5f"
          },
          "geo": {
           "bgcolor": "white",
           "lakecolor": "white",
           "landcolor": "#E5ECF6",
           "showlakes": true,
           "showland": true,
           "subunitcolor": "white"
          },
          "hoverlabel": {
           "align": "left"
          },
          "hovermode": "closest",
          "mapbox": {
           "style": "light"
          },
          "paper_bgcolor": "white",
          "plot_bgcolor": "#E5ECF6",
          "polar": {
           "angularaxis": {
            "gridcolor": "white",
            "linecolor": "white",
            "ticks": ""
           },
           "bgcolor": "#E5ECF6",
           "radialaxis": {
            "gridcolor": "white",
            "linecolor": "white",
            "ticks": ""
           }
          },
          "scene": {
           "xaxis": {
            "backgroundcolor": "#E5ECF6",
            "gridcolor": "white",
            "gridwidth": 2,
            "linecolor": "white",
            "showbackground": true,
            "ticks": "",
            "zerolinecolor": "white"
           },
           "yaxis": {
            "backgroundcolor": "#E5ECF6",
            "gridcolor": "white",
            "gridwidth": 2,
            "linecolor": "white",
            "showbackground": true,
            "ticks": "",
            "zerolinecolor": "white"
           },
           "zaxis": {
            "backgroundcolor": "#E5ECF6",
            "gridcolor": "white",
            "gridwidth": 2,
            "linecolor": "white",
            "showbackground": true,
            "ticks": "",
            "zerolinecolor": "white"
           }
          },
          "shapedefaults": {
           "line": {
            "color": "#2a3f5f"
           }
          },
          "ternary": {
           "aaxis": {
            "gridcolor": "white",
            "linecolor": "white",
            "ticks": ""
           },
           "baxis": {
            "gridcolor": "white",
            "linecolor": "white",
            "ticks": ""
           },
           "bgcolor": "#E5ECF6",
           "caxis": {
            "gridcolor": "white",
            "linecolor": "white",
            "ticks": ""
           }
          },
          "title": {
           "x": 0.05
          },
          "xaxis": {
           "automargin": true,
           "gridcolor": "white",
           "linecolor": "white",
           "ticks": "",
           "title": {
            "standoff": 15
           },
           "zerolinecolor": "white",
           "zerolinewidth": 2
          },
          "yaxis": {
           "automargin": true,
           "gridcolor": "white",
           "linecolor": "white",
           "ticks": "",
           "title": {
            "standoff": 15
           },
           "zerolinecolor": "white",
           "zerolinewidth": 2
          }
         }
        },
        "title": {
         "text": "Net Sentiment vs. Smoothed New Orders Over Time"
        },
        "width": 900,
        "xaxis": {
         "title": {
          "text": "Date"
         }
        },
        "yaxis": {
         "side": "left",
         "title": {
          "text": "Rolling Net Sentiment"
         }
        },
        "yaxis2": {
         "overlaying": "y",
         "showgrid": false,
         "side": "right",
         "title": {
          "text": "Rolling New Orders"
         }
        }
       }
      }
     },
     "metadata": {},
     "output_type": "display_data"
    }
   ],
   "source": [
    "import pandas as pd\n",
    "import plotly.graph_objects as go\n",
    "\n",
    "# Prepare the data\n",
    "df_sorted = df.sort_values(\"Date\").copy()\n",
    "df_sorted[\"rolling_sent\"] = (\n",
    "    df_sorted[\"net_sent\"]\n",
    "      .rolling(window=20, center=True, min_periods=1)\n",
    "      .mean()\n",
    ")\n",
    "# Smooth the new orders with a rolling mean\n",
    "df_sorted[\"rolling_orders\"] = (\n",
    "    df_sorted[\"new_orders_manufacturing\"]\n",
    "      .rolling(window=10, center=True, min_periods=1)\n",
    "      .mean()\n",
    ")\n",
    "\n",
    "# Build figure with two y-axes\n",
    "fig = go.Figure()\n",
    "\n",
    "# Rolling sentiment on left y-axis\n",
    "fig.add_trace(\n",
    "    go.Scatter(\n",
    "        x=df_sorted[\"Date\"],\n",
    "        y=df_sorted[\"rolling_sent\"],\n",
    "        mode=\"lines\",\n",
    "        name=\"Rolling Net Sentiment\",\n",
    "        line=dict(color=\"teal\", width=3),\n",
    "        yaxis=\"y1\"\n",
    "    )\n",
    ")\n",
    "\n",
    "# Smoothed new orders on right y-axis\n",
    "fig.add_trace(\n",
    "    go.Scatter(\n",
    "        x=df_sorted[\"Date\"],\n",
    "        y=df_sorted[\"rolling_orders\"],\n",
    "        mode=\"lines\",\n",
    "        name=\"New Manufacturing Orders\",\n",
    "        line=dict(color=\"orange\", width=3, dash=\"dash\"),\n",
    "        yaxis=\"y2\"\n",
    "    )\n",
    ")\n",
    "\n",
    "# 3. Update layout for dual axes\n",
    "fig.update_layout(\n",
    "    title=\"Net Sentiment vs. Smoothed New Orders Over Time\",\n",
    "    xaxis=dict(title=\"Date\"),\n",
    "    yaxis=dict(\n",
    "        title=\"Rolling Net Sentiment\",\n",
    "        side=\"left\"\n",
    "    ),\n",
    "    yaxis2=dict(\n",
    "        title=\"Rolling New Orders\",\n",
    "        side=\"right\",\n",
    "        overlaying=\"y\",\n",
    "        showgrid=False\n",
    "    ),\n",
    "    legend=dict(x=0.01, y=0.99),\n",
    "    width=900, height=450\n",
    ")\n",
    "\n",
    "fig.show()"
   ]
  },
  {
   "cell_type": "markdown",
   "metadata": {},
   "source": [
    "The 20-meeting rolling mean of net sentiment in the Fed’s minutes closely tracks major economic cycles. In the early 2000s, sentiment dipped sharply into negative territory as the dot-com bubble burst and growth stalled; I recognize that Fed language then would have grown more cautious and concerned, reflecting uncertainty about financial stability. As the economy recovered into the mid-2000s, net sentiment climbed above zero—consistent with more upbeat commentary on strengthening labor markets and moderate inflation.\n",
    "\n",
    "Around 2008 and 2009, the chart plunges to its lowest point (nearly –0.40), which aligns perfectly with the Global Financial Crisis. I would expect the Committee’s rhetoric at that time to have been heavily weighted toward downside risks, emergency lending facilities, and unprecedented policy measures, driving sentiment deeply negative. When the recovery took hold after 2009, the curve gradually rose again, peaking in the early 2010s, as the Fed shifted from crisis-mode toward a gradual normalization of policy.\n",
    "\n",
    "I also notice a smaller dip around 2015–2016, which corresponds with concerns over China’s slowdown, commodity price collapses, and the Fed’s first rate hikes after zero-lower bound. That fits with slightly more cautious language in the minutes. Heading into 2018–2019, net sentiment edges back up as growth was steady, only to dip briefly in 2020 when the pandemic introduced unprecedented uncertainty—again mirroring the sudden shift to emergency rate cuts and forward guidance in March 2020.\n",
    "\n",
    "Finally, sentiment climbs steadily from late 2021 through early 2025, paralleling the recovery from COVID-19 disruptions, strong job gains, and debates over tapering asset purchases. In other words, when real-world conditions improved, I see the Fed’s prose become more positive; when recessions or shocks hit, I see it become distinctly negative. This alignment confirms that our net sentiment measure is capturing meaningful shifts in the Committee’s view of economic conditions."
   ]
  },
  {
   "cell_type": "markdown",
   "metadata": {},
   "source": [
    "### 14. Cluster Contribution to New Orders\n",
    "\n",
    "To quantify how each K-Means cluster relates to the macroeconomic outcome, we aggregate new_orders_manufacturing by k8_cluster, computing the count of meetings, mean, median, and total sum of new orders. We then calculate the share of overall meetings (freq_pct) and the share of total new orders (pct_of_total) for each cluster. Plotly bar and pie charts visualize average new order values and share of total output, making it clear which clusters drive the most activity."
   ]
  },
  {
   "cell_type": "code",
   "execution_count": 18,
   "metadata": {},
   "outputs": [
    {
     "name": "stdout",
     "output_type": "stream",
     "text": [
      "   k8_cluster  count      mean    median      total   freq_pct  pct_of_total\n",
      "0         0.0     26  0.433490  0.502608  11.270742   9.558824     11.034095\n",
      "1         1.0     26  0.554456  0.565424  14.415865   9.558824     14.113181\n",
      "2         2.0     31  0.075195  0.072239   2.331031  11.397059      2.282087\n",
      "3         3.0     35  0.864080  0.938542  30.242797  12.867647     29.607803\n",
      "4         4.0     24  0.333500  0.355942   8.003999   8.823529      7.835942\n",
      "5         5.0     33  0.460562  0.538219  15.198551  12.132353     14.879434\n",
      "6         6.0     14  0.520146  0.550182   7.282051   5.147059      7.129153\n",
      "7         7.0     23  0.582594  0.569126  13.399651   8.455882     13.118305\n"
     ]
    }
   ],
   "source": [
    "agg = (\n",
    "    df\n",
    "    .groupby(\"k8_cluster\")[\"new_orders_manufacturing\"]\n",
    "    .agg(count=\"count\", mean=\"mean\", median=\"median\", total=\"sum\")\n",
    "    .reset_index()\n",
    ")\n",
    "\n",
    "# add proportions\n",
    "n = len(df)\n",
    "agg[\"freq_pct\"] = agg[\"count\"] / n * 100\n",
    "agg[\"pct_of_total\"] = agg[\"total\"] / agg[\"total\"].sum() * 100\n",
    "\n",
    "print(agg)"
   ]
  },
  {
   "cell_type": "code",
   "execution_count": 19,
   "metadata": {},
   "outputs": [
    {
     "data": {
      "application/vnd.plotly.v1+json": {
       "config": {
        "plotlyServerURL": "https://plot.ly"
       },
       "data": [
        {
         "alignmentgroup": "True",
         "hovertemplate": "Cluster=%{x}<br>Avg new_orders=%{y}<extra></extra>",
         "legendgroup": "",
         "marker": {
          "color": "#636efa",
          "pattern": {
           "shape": ""
          }
         },
         "name": "",
         "offsetgroup": "",
         "orientation": "v",
         "showlegend": false,
         "textposition": "auto",
         "type": "bar",
         "x": [
          0,
          1,
          2,
          3,
          4,
          5,
          6,
          7
         ],
         "xaxis": "x",
         "y": [
          0.43349007728446004,
          0.5544563454145074,
          0.07519453941969176,
          0.8640799181951955,
          0.33349994828731094,
          0.4605621556861802,
          0.520146465033014,
          0.5825935427377406
         ],
         "yaxis": "y"
        }
       ],
       "layout": {
        "barmode": "relative",
        "legend": {
         "tracegroupgap": 0
        },
        "template": {
         "data": {
          "bar": [
           {
            "error_x": {
             "color": "#2a3f5f"
            },
            "error_y": {
             "color": "#2a3f5f"
            },
            "marker": {
             "line": {
              "color": "#E5ECF6",
              "width": 0.5
             },
             "pattern": {
              "fillmode": "overlay",
              "size": 10,
              "solidity": 0.2
             }
            },
            "type": "bar"
           }
          ],
          "barpolar": [
           {
            "marker": {
             "line": {
              "color": "#E5ECF6",
              "width": 0.5
             },
             "pattern": {
              "fillmode": "overlay",
              "size": 10,
              "solidity": 0.2
             }
            },
            "type": "barpolar"
           }
          ],
          "carpet": [
           {
            "aaxis": {
             "endlinecolor": "#2a3f5f",
             "gridcolor": "white",
             "linecolor": "white",
             "minorgridcolor": "white",
             "startlinecolor": "#2a3f5f"
            },
            "baxis": {
             "endlinecolor": "#2a3f5f",
             "gridcolor": "white",
             "linecolor": "white",
             "minorgridcolor": "white",
             "startlinecolor": "#2a3f5f"
            },
            "type": "carpet"
           }
          ],
          "choropleth": [
           {
            "colorbar": {
             "outlinewidth": 0,
             "ticks": ""
            },
            "type": "choropleth"
           }
          ],
          "contour": [
           {
            "colorbar": {
             "outlinewidth": 0,
             "ticks": ""
            },
            "colorscale": [
             [
              0,
              "#0d0887"
             ],
             [
              0.1111111111111111,
              "#46039f"
             ],
             [
              0.2222222222222222,
              "#7201a8"
             ],
             [
              0.3333333333333333,
              "#9c179e"
             ],
             [
              0.4444444444444444,
              "#bd3786"
             ],
             [
              0.5555555555555556,
              "#d8576b"
             ],
             [
              0.6666666666666666,
              "#ed7953"
             ],
             [
              0.7777777777777778,
              "#fb9f3a"
             ],
             [
              0.8888888888888888,
              "#fdca26"
             ],
             [
              1,
              "#f0f921"
             ]
            ],
            "type": "contour"
           }
          ],
          "contourcarpet": [
           {
            "colorbar": {
             "outlinewidth": 0,
             "ticks": ""
            },
            "type": "contourcarpet"
           }
          ],
          "heatmap": [
           {
            "colorbar": {
             "outlinewidth": 0,
             "ticks": ""
            },
            "colorscale": [
             [
              0,
              "#0d0887"
             ],
             [
              0.1111111111111111,
              "#46039f"
             ],
             [
              0.2222222222222222,
              "#7201a8"
             ],
             [
              0.3333333333333333,
              "#9c179e"
             ],
             [
              0.4444444444444444,
              "#bd3786"
             ],
             [
              0.5555555555555556,
              "#d8576b"
             ],
             [
              0.6666666666666666,
              "#ed7953"
             ],
             [
              0.7777777777777778,
              "#fb9f3a"
             ],
             [
              0.8888888888888888,
              "#fdca26"
             ],
             [
              1,
              "#f0f921"
             ]
            ],
            "type": "heatmap"
           }
          ],
          "heatmapgl": [
           {
            "colorbar": {
             "outlinewidth": 0,
             "ticks": ""
            },
            "colorscale": [
             [
              0,
              "#0d0887"
             ],
             [
              0.1111111111111111,
              "#46039f"
             ],
             [
              0.2222222222222222,
              "#7201a8"
             ],
             [
              0.3333333333333333,
              "#9c179e"
             ],
             [
              0.4444444444444444,
              "#bd3786"
             ],
             [
              0.5555555555555556,
              "#d8576b"
             ],
             [
              0.6666666666666666,
              "#ed7953"
             ],
             [
              0.7777777777777778,
              "#fb9f3a"
             ],
             [
              0.8888888888888888,
              "#fdca26"
             ],
             [
              1,
              "#f0f921"
             ]
            ],
            "type": "heatmapgl"
           }
          ],
          "histogram": [
           {
            "marker": {
             "pattern": {
              "fillmode": "overlay",
              "size": 10,
              "solidity": 0.2
             }
            },
            "type": "histogram"
           }
          ],
          "histogram2d": [
           {
            "colorbar": {
             "outlinewidth": 0,
             "ticks": ""
            },
            "colorscale": [
             [
              0,
              "#0d0887"
             ],
             [
              0.1111111111111111,
              "#46039f"
             ],
             [
              0.2222222222222222,
              "#7201a8"
             ],
             [
              0.3333333333333333,
              "#9c179e"
             ],
             [
              0.4444444444444444,
              "#bd3786"
             ],
             [
              0.5555555555555556,
              "#d8576b"
             ],
             [
              0.6666666666666666,
              "#ed7953"
             ],
             [
              0.7777777777777778,
              "#fb9f3a"
             ],
             [
              0.8888888888888888,
              "#fdca26"
             ],
             [
              1,
              "#f0f921"
             ]
            ],
            "type": "histogram2d"
           }
          ],
          "histogram2dcontour": [
           {
            "colorbar": {
             "outlinewidth": 0,
             "ticks": ""
            },
            "colorscale": [
             [
              0,
              "#0d0887"
             ],
             [
              0.1111111111111111,
              "#46039f"
             ],
             [
              0.2222222222222222,
              "#7201a8"
             ],
             [
              0.3333333333333333,
              "#9c179e"
             ],
             [
              0.4444444444444444,
              "#bd3786"
             ],
             [
              0.5555555555555556,
              "#d8576b"
             ],
             [
              0.6666666666666666,
              "#ed7953"
             ],
             [
              0.7777777777777778,
              "#fb9f3a"
             ],
             [
              0.8888888888888888,
              "#fdca26"
             ],
             [
              1,
              "#f0f921"
             ]
            ],
            "type": "histogram2dcontour"
           }
          ],
          "mesh3d": [
           {
            "colorbar": {
             "outlinewidth": 0,
             "ticks": ""
            },
            "type": "mesh3d"
           }
          ],
          "parcoords": [
           {
            "line": {
             "colorbar": {
              "outlinewidth": 0,
              "ticks": ""
             }
            },
            "type": "parcoords"
           }
          ],
          "pie": [
           {
            "automargin": true,
            "type": "pie"
           }
          ],
          "scatter": [
           {
            "fillpattern": {
             "fillmode": "overlay",
             "size": 10,
             "solidity": 0.2
            },
            "type": "scatter"
           }
          ],
          "scatter3d": [
           {
            "line": {
             "colorbar": {
              "outlinewidth": 0,
              "ticks": ""
             }
            },
            "marker": {
             "colorbar": {
              "outlinewidth": 0,
              "ticks": ""
             }
            },
            "type": "scatter3d"
           }
          ],
          "scattercarpet": [
           {
            "marker": {
             "colorbar": {
              "outlinewidth": 0,
              "ticks": ""
             }
            },
            "type": "scattercarpet"
           }
          ],
          "scattergeo": [
           {
            "marker": {
             "colorbar": {
              "outlinewidth": 0,
              "ticks": ""
             }
            },
            "type": "scattergeo"
           }
          ],
          "scattergl": [
           {
            "marker": {
             "colorbar": {
              "outlinewidth": 0,
              "ticks": ""
             }
            },
            "type": "scattergl"
           }
          ],
          "scattermapbox": [
           {
            "marker": {
             "colorbar": {
              "outlinewidth": 0,
              "ticks": ""
             }
            },
            "type": "scattermapbox"
           }
          ],
          "scatterpolar": [
           {
            "marker": {
             "colorbar": {
              "outlinewidth": 0,
              "ticks": ""
             }
            },
            "type": "scatterpolar"
           }
          ],
          "scatterpolargl": [
           {
            "marker": {
             "colorbar": {
              "outlinewidth": 0,
              "ticks": ""
             }
            },
            "type": "scatterpolargl"
           }
          ],
          "scatterternary": [
           {
            "marker": {
             "colorbar": {
              "outlinewidth": 0,
              "ticks": ""
             }
            },
            "type": "scatterternary"
           }
          ],
          "surface": [
           {
            "colorbar": {
             "outlinewidth": 0,
             "ticks": ""
            },
            "colorscale": [
             [
              0,
              "#0d0887"
             ],
             [
              0.1111111111111111,
              "#46039f"
             ],
             [
              0.2222222222222222,
              "#7201a8"
             ],
             [
              0.3333333333333333,
              "#9c179e"
             ],
             [
              0.4444444444444444,
              "#bd3786"
             ],
             [
              0.5555555555555556,
              "#d8576b"
             ],
             [
              0.6666666666666666,
              "#ed7953"
             ],
             [
              0.7777777777777778,
              "#fb9f3a"
             ],
             [
              0.8888888888888888,
              "#fdca26"
             ],
             [
              1,
              "#f0f921"
             ]
            ],
            "type": "surface"
           }
          ],
          "table": [
           {
            "cells": {
             "fill": {
              "color": "#EBF0F8"
             },
             "line": {
              "color": "white"
             }
            },
            "header": {
             "fill": {
              "color": "#C8D4E3"
             },
             "line": {
              "color": "white"
             }
            },
            "type": "table"
           }
          ]
         },
         "layout": {
          "annotationdefaults": {
           "arrowcolor": "#2a3f5f",
           "arrowhead": 0,
           "arrowwidth": 1
          },
          "autotypenumbers": "strict",
          "coloraxis": {
           "colorbar": {
            "outlinewidth": 0,
            "ticks": ""
           }
          },
          "colorscale": {
           "diverging": [
            [
             0,
             "#8e0152"
            ],
            [
             0.1,
             "#c51b7d"
            ],
            [
             0.2,
             "#de77ae"
            ],
            [
             0.3,
             "#f1b6da"
            ],
            [
             0.4,
             "#fde0ef"
            ],
            [
             0.5,
             "#f7f7f7"
            ],
            [
             0.6,
             "#e6f5d0"
            ],
            [
             0.7,
             "#b8e186"
            ],
            [
             0.8,
             "#7fbc41"
            ],
            [
             0.9,
             "#4d9221"
            ],
            [
             1,
             "#276419"
            ]
           ],
           "sequential": [
            [
             0,
             "#0d0887"
            ],
            [
             0.1111111111111111,
             "#46039f"
            ],
            [
             0.2222222222222222,
             "#7201a8"
            ],
            [
             0.3333333333333333,
             "#9c179e"
            ],
            [
             0.4444444444444444,
             "#bd3786"
            ],
            [
             0.5555555555555556,
             "#d8576b"
            ],
            [
             0.6666666666666666,
             "#ed7953"
            ],
            [
             0.7777777777777778,
             "#fb9f3a"
            ],
            [
             0.8888888888888888,
             "#fdca26"
            ],
            [
             1,
             "#f0f921"
            ]
           ],
           "sequentialminus": [
            [
             0,
             "#0d0887"
            ],
            [
             0.1111111111111111,
             "#46039f"
            ],
            [
             0.2222222222222222,
             "#7201a8"
            ],
            [
             0.3333333333333333,
             "#9c179e"
            ],
            [
             0.4444444444444444,
             "#bd3786"
            ],
            [
             0.5555555555555556,
             "#d8576b"
            ],
            [
             0.6666666666666666,
             "#ed7953"
            ],
            [
             0.7777777777777778,
             "#fb9f3a"
            ],
            [
             0.8888888888888888,
             "#fdca26"
            ],
            [
             1,
             "#f0f921"
            ]
           ]
          },
          "colorway": [
           "#636efa",
           "#EF553B",
           "#00cc96",
           "#ab63fa",
           "#FFA15A",
           "#19d3f3",
           "#FF6692",
           "#B6E880",
           "#FF97FF",
           "#FECB52"
          ],
          "font": {
           "color": "#2a3f5f"
          },
          "geo": {
           "bgcolor": "white",
           "lakecolor": "white",
           "landcolor": "#E5ECF6",
           "showlakes": true,
           "showland": true,
           "subunitcolor": "white"
          },
          "hoverlabel": {
           "align": "left"
          },
          "hovermode": "closest",
          "mapbox": {
           "style": "light"
          },
          "paper_bgcolor": "white",
          "plot_bgcolor": "#E5ECF6",
          "polar": {
           "angularaxis": {
            "gridcolor": "white",
            "linecolor": "white",
            "ticks": ""
           },
           "bgcolor": "#E5ECF6",
           "radialaxis": {
            "gridcolor": "white",
            "linecolor": "white",
            "ticks": ""
           }
          },
          "scene": {
           "xaxis": {
            "backgroundcolor": "#E5ECF6",
            "gridcolor": "white",
            "gridwidth": 2,
            "linecolor": "white",
            "showbackground": true,
            "ticks": "",
            "zerolinecolor": "white"
           },
           "yaxis": {
            "backgroundcolor": "#E5ECF6",
            "gridcolor": "white",
            "gridwidth": 2,
            "linecolor": "white",
            "showbackground": true,
            "ticks": "",
            "zerolinecolor": "white"
           },
           "zaxis": {
            "backgroundcolor": "#E5ECF6",
            "gridcolor": "white",
            "gridwidth": 2,
            "linecolor": "white",
            "showbackground": true,
            "ticks": "",
            "zerolinecolor": "white"
           }
          },
          "shapedefaults": {
           "line": {
            "color": "#2a3f5f"
           }
          },
          "ternary": {
           "aaxis": {
            "gridcolor": "white",
            "linecolor": "white",
            "ticks": ""
           },
           "baxis": {
            "gridcolor": "white",
            "linecolor": "white",
            "ticks": ""
           },
           "bgcolor": "#E5ECF6",
           "caxis": {
            "gridcolor": "white",
            "linecolor": "white",
            "ticks": ""
           }
          },
          "title": {
           "x": 0.05
          },
          "xaxis": {
           "automargin": true,
           "gridcolor": "white",
           "linecolor": "white",
           "ticks": "",
           "title": {
            "standoff": 15
           },
           "zerolinecolor": "white",
           "zerolinewidth": 2
          },
          "yaxis": {
           "automargin": true,
           "gridcolor": "white",
           "linecolor": "white",
           "ticks": "",
           "title": {
            "standoff": 15
           },
           "zerolinecolor": "white",
           "zerolinewidth": 2
          }
         }
        },
        "title": {
         "text": "Average new_orders_manufacturing by KMeans Cluster (k=8)"
        },
        "xaxis": {
         "anchor": "y",
         "domain": [
          0,
          1
         ],
         "title": {
          "text": "Cluster"
         }
        },
        "yaxis": {
         "anchor": "x",
         "domain": [
          0,
          1
         ],
         "title": {
          "text": "Avg new_orders"
         }
        }
       }
      }
     },
     "metadata": {},
     "output_type": "display_data"
    }
   ],
   "source": [
    "import plotly.express as px\n",
    "\n",
    "fig = px.bar(\n",
    "    agg,\n",
    "    x=\"k8_cluster\", y=\"mean\",\n",
    "    labels={\"mean\":\"Avg new_orders\", \"k8_cluster\":\"Cluster\"},\n",
    "    title=\"Average new_orders_manufacturing by KMeans Cluster (k=8)\"\n",
    ")\n",
    "fig.show()"
   ]
  },
  {
   "cell_type": "markdown",
   "metadata": {},
   "source": [
    "Cluster 3 stands out with an average of about 0.86 new orders—by far the highest—while Cluster 2 barely registers at roughly 0.07. The remaining clusters occupy a middle ground: Cluster 1 and Cluster 7 both sit above 0.50, Cluster 5 around 0.46, Cluster 6 near 0.52, Cluster 0 at about 0.43, and Cluster 4 just above 0.33. In other words, meetings in Cluster 3 typically coincide with much stronger manufacturing activity, whereas Cluster 2 meetings signal almost no change in new orders."
   ]
  },
  {
   "cell_type": "code",
   "execution_count": 20,
   "metadata": {},
   "outputs": [
    {
     "data": {
      "application/vnd.plotly.v1+json": {
       "config": {
        "plotlyServerURL": "https://plot.ly"
       },
       "data": [
        {
         "domain": {
          "x": [
           0,
           1
          ],
          "y": [
           0,
           1
          ]
         },
         "hovertemplate": "k8_cluster=%{label}<br>pct_of_total=%{value}<extra></extra>",
         "labels": [
          0,
          1,
          2,
          3,
          4,
          5,
          6,
          7
         ],
         "legendgroup": "",
         "name": "",
         "showlegend": true,
         "type": "pie",
         "values": [
          11.03409523218432,
          14.113181449774967,
          2.282087102549967,
          29.607802522428432,
          7.835942342599221,
          14.879433892123522,
          7.129152521726703,
          13.118304936612871
         ]
        }
       ],
       "layout": {
        "legend": {
         "tracegroupgap": 0
        },
        "template": {
         "data": {
          "bar": [
           {
            "error_x": {
             "color": "#2a3f5f"
            },
            "error_y": {
             "color": "#2a3f5f"
            },
            "marker": {
             "line": {
              "color": "#E5ECF6",
              "width": 0.5
             },
             "pattern": {
              "fillmode": "overlay",
              "size": 10,
              "solidity": 0.2
             }
            },
            "type": "bar"
           }
          ],
          "barpolar": [
           {
            "marker": {
             "line": {
              "color": "#E5ECF6",
              "width": 0.5
             },
             "pattern": {
              "fillmode": "overlay",
              "size": 10,
              "solidity": 0.2
             }
            },
            "type": "barpolar"
           }
          ],
          "carpet": [
           {
            "aaxis": {
             "endlinecolor": "#2a3f5f",
             "gridcolor": "white",
             "linecolor": "white",
             "minorgridcolor": "white",
             "startlinecolor": "#2a3f5f"
            },
            "baxis": {
             "endlinecolor": "#2a3f5f",
             "gridcolor": "white",
             "linecolor": "white",
             "minorgridcolor": "white",
             "startlinecolor": "#2a3f5f"
            },
            "type": "carpet"
           }
          ],
          "choropleth": [
           {
            "colorbar": {
             "outlinewidth": 0,
             "ticks": ""
            },
            "type": "choropleth"
           }
          ],
          "contour": [
           {
            "colorbar": {
             "outlinewidth": 0,
             "ticks": ""
            },
            "colorscale": [
             [
              0,
              "#0d0887"
             ],
             [
              0.1111111111111111,
              "#46039f"
             ],
             [
              0.2222222222222222,
              "#7201a8"
             ],
             [
              0.3333333333333333,
              "#9c179e"
             ],
             [
              0.4444444444444444,
              "#bd3786"
             ],
             [
              0.5555555555555556,
              "#d8576b"
             ],
             [
              0.6666666666666666,
              "#ed7953"
             ],
             [
              0.7777777777777778,
              "#fb9f3a"
             ],
             [
              0.8888888888888888,
              "#fdca26"
             ],
             [
              1,
              "#f0f921"
             ]
            ],
            "type": "contour"
           }
          ],
          "contourcarpet": [
           {
            "colorbar": {
             "outlinewidth": 0,
             "ticks": ""
            },
            "type": "contourcarpet"
           }
          ],
          "heatmap": [
           {
            "colorbar": {
             "outlinewidth": 0,
             "ticks": ""
            },
            "colorscale": [
             [
              0,
              "#0d0887"
             ],
             [
              0.1111111111111111,
              "#46039f"
             ],
             [
              0.2222222222222222,
              "#7201a8"
             ],
             [
              0.3333333333333333,
              "#9c179e"
             ],
             [
              0.4444444444444444,
              "#bd3786"
             ],
             [
              0.5555555555555556,
              "#d8576b"
             ],
             [
              0.6666666666666666,
              "#ed7953"
             ],
             [
              0.7777777777777778,
              "#fb9f3a"
             ],
             [
              0.8888888888888888,
              "#fdca26"
             ],
             [
              1,
              "#f0f921"
             ]
            ],
            "type": "heatmap"
           }
          ],
          "heatmapgl": [
           {
            "colorbar": {
             "outlinewidth": 0,
             "ticks": ""
            },
            "colorscale": [
             [
              0,
              "#0d0887"
             ],
             [
              0.1111111111111111,
              "#46039f"
             ],
             [
              0.2222222222222222,
              "#7201a8"
             ],
             [
              0.3333333333333333,
              "#9c179e"
             ],
             [
              0.4444444444444444,
              "#bd3786"
             ],
             [
              0.5555555555555556,
              "#d8576b"
             ],
             [
              0.6666666666666666,
              "#ed7953"
             ],
             [
              0.7777777777777778,
              "#fb9f3a"
             ],
             [
              0.8888888888888888,
              "#fdca26"
             ],
             [
              1,
              "#f0f921"
             ]
            ],
            "type": "heatmapgl"
           }
          ],
          "histogram": [
           {
            "marker": {
             "pattern": {
              "fillmode": "overlay",
              "size": 10,
              "solidity": 0.2
             }
            },
            "type": "histogram"
           }
          ],
          "histogram2d": [
           {
            "colorbar": {
             "outlinewidth": 0,
             "ticks": ""
            },
            "colorscale": [
             [
              0,
              "#0d0887"
             ],
             [
              0.1111111111111111,
              "#46039f"
             ],
             [
              0.2222222222222222,
              "#7201a8"
             ],
             [
              0.3333333333333333,
              "#9c179e"
             ],
             [
              0.4444444444444444,
              "#bd3786"
             ],
             [
              0.5555555555555556,
              "#d8576b"
             ],
             [
              0.6666666666666666,
              "#ed7953"
             ],
             [
              0.7777777777777778,
              "#fb9f3a"
             ],
             [
              0.8888888888888888,
              "#fdca26"
             ],
             [
              1,
              "#f0f921"
             ]
            ],
            "type": "histogram2d"
           }
          ],
          "histogram2dcontour": [
           {
            "colorbar": {
             "outlinewidth": 0,
             "ticks": ""
            },
            "colorscale": [
             [
              0,
              "#0d0887"
             ],
             [
              0.1111111111111111,
              "#46039f"
             ],
             [
              0.2222222222222222,
              "#7201a8"
             ],
             [
              0.3333333333333333,
              "#9c179e"
             ],
             [
              0.4444444444444444,
              "#bd3786"
             ],
             [
              0.5555555555555556,
              "#d8576b"
             ],
             [
              0.6666666666666666,
              "#ed7953"
             ],
             [
              0.7777777777777778,
              "#fb9f3a"
             ],
             [
              0.8888888888888888,
              "#fdca26"
             ],
             [
              1,
              "#f0f921"
             ]
            ],
            "type": "histogram2dcontour"
           }
          ],
          "mesh3d": [
           {
            "colorbar": {
             "outlinewidth": 0,
             "ticks": ""
            },
            "type": "mesh3d"
           }
          ],
          "parcoords": [
           {
            "line": {
             "colorbar": {
              "outlinewidth": 0,
              "ticks": ""
             }
            },
            "type": "parcoords"
           }
          ],
          "pie": [
           {
            "automargin": true,
            "type": "pie"
           }
          ],
          "scatter": [
           {
            "fillpattern": {
             "fillmode": "overlay",
             "size": 10,
             "solidity": 0.2
            },
            "type": "scatter"
           }
          ],
          "scatter3d": [
           {
            "line": {
             "colorbar": {
              "outlinewidth": 0,
              "ticks": ""
             }
            },
            "marker": {
             "colorbar": {
              "outlinewidth": 0,
              "ticks": ""
             }
            },
            "type": "scatter3d"
           }
          ],
          "scattercarpet": [
           {
            "marker": {
             "colorbar": {
              "outlinewidth": 0,
              "ticks": ""
             }
            },
            "type": "scattercarpet"
           }
          ],
          "scattergeo": [
           {
            "marker": {
             "colorbar": {
              "outlinewidth": 0,
              "ticks": ""
             }
            },
            "type": "scattergeo"
           }
          ],
          "scattergl": [
           {
            "marker": {
             "colorbar": {
              "outlinewidth": 0,
              "ticks": ""
             }
            },
            "type": "scattergl"
           }
          ],
          "scattermapbox": [
           {
            "marker": {
             "colorbar": {
              "outlinewidth": 0,
              "ticks": ""
             }
            },
            "type": "scattermapbox"
           }
          ],
          "scatterpolar": [
           {
            "marker": {
             "colorbar": {
              "outlinewidth": 0,
              "ticks": ""
             }
            },
            "type": "scatterpolar"
           }
          ],
          "scatterpolargl": [
           {
            "marker": {
             "colorbar": {
              "outlinewidth": 0,
              "ticks": ""
             }
            },
            "type": "scatterpolargl"
           }
          ],
          "scatterternary": [
           {
            "marker": {
             "colorbar": {
              "outlinewidth": 0,
              "ticks": ""
             }
            },
            "type": "scatterternary"
           }
          ],
          "surface": [
           {
            "colorbar": {
             "outlinewidth": 0,
             "ticks": ""
            },
            "colorscale": [
             [
              0,
              "#0d0887"
             ],
             [
              0.1111111111111111,
              "#46039f"
             ],
             [
              0.2222222222222222,
              "#7201a8"
             ],
             [
              0.3333333333333333,
              "#9c179e"
             ],
             [
              0.4444444444444444,
              "#bd3786"
             ],
             [
              0.5555555555555556,
              "#d8576b"
             ],
             [
              0.6666666666666666,
              "#ed7953"
             ],
             [
              0.7777777777777778,
              "#fb9f3a"
             ],
             [
              0.8888888888888888,
              "#fdca26"
             ],
             [
              1,
              "#f0f921"
             ]
            ],
            "type": "surface"
           }
          ],
          "table": [
           {
            "cells": {
             "fill": {
              "color": "#EBF0F8"
             },
             "line": {
              "color": "white"
             }
            },
            "header": {
             "fill": {
              "color": "#C8D4E3"
             },
             "line": {
              "color": "white"
             }
            },
            "type": "table"
           }
          ]
         },
         "layout": {
          "annotationdefaults": {
           "arrowcolor": "#2a3f5f",
           "arrowhead": 0,
           "arrowwidth": 1
          },
          "autotypenumbers": "strict",
          "coloraxis": {
           "colorbar": {
            "outlinewidth": 0,
            "ticks": ""
           }
          },
          "colorscale": {
           "diverging": [
            [
             0,
             "#8e0152"
            ],
            [
             0.1,
             "#c51b7d"
            ],
            [
             0.2,
             "#de77ae"
            ],
            [
             0.3,
             "#f1b6da"
            ],
            [
             0.4,
             "#fde0ef"
            ],
            [
             0.5,
             "#f7f7f7"
            ],
            [
             0.6,
             "#e6f5d0"
            ],
            [
             0.7,
             "#b8e186"
            ],
            [
             0.8,
             "#7fbc41"
            ],
            [
             0.9,
             "#4d9221"
            ],
            [
             1,
             "#276419"
            ]
           ],
           "sequential": [
            [
             0,
             "#0d0887"
            ],
            [
             0.1111111111111111,
             "#46039f"
            ],
            [
             0.2222222222222222,
             "#7201a8"
            ],
            [
             0.3333333333333333,
             "#9c179e"
            ],
            [
             0.4444444444444444,
             "#bd3786"
            ],
            [
             0.5555555555555556,
             "#d8576b"
            ],
            [
             0.6666666666666666,
             "#ed7953"
            ],
            [
             0.7777777777777778,
             "#fb9f3a"
            ],
            [
             0.8888888888888888,
             "#fdca26"
            ],
            [
             1,
             "#f0f921"
            ]
           ],
           "sequentialminus": [
            [
             0,
             "#0d0887"
            ],
            [
             0.1111111111111111,
             "#46039f"
            ],
            [
             0.2222222222222222,
             "#7201a8"
            ],
            [
             0.3333333333333333,
             "#9c179e"
            ],
            [
             0.4444444444444444,
             "#bd3786"
            ],
            [
             0.5555555555555556,
             "#d8576b"
            ],
            [
             0.6666666666666666,
             "#ed7953"
            ],
            [
             0.7777777777777778,
             "#fb9f3a"
            ],
            [
             0.8888888888888888,
             "#fdca26"
            ],
            [
             1,
             "#f0f921"
            ]
           ]
          },
          "colorway": [
           "#636efa",
           "#EF553B",
           "#00cc96",
           "#ab63fa",
           "#FFA15A",
           "#19d3f3",
           "#FF6692",
           "#B6E880",
           "#FF97FF",
           "#FECB52"
          ],
          "font": {
           "color": "#2a3f5f"
          },
          "geo": {
           "bgcolor": "white",
           "lakecolor": "white",
           "landcolor": "#E5ECF6",
           "showlakes": true,
           "showland": true,
           "subunitcolor": "white"
          },
          "hoverlabel": {
           "align": "left"
          },
          "hovermode": "closest",
          "mapbox": {
           "style": "light"
          },
          "paper_bgcolor": "white",
          "plot_bgcolor": "#E5ECF6",
          "polar": {
           "angularaxis": {
            "gridcolor": "white",
            "linecolor": "white",
            "ticks": ""
           },
           "bgcolor": "#E5ECF6",
           "radialaxis": {
            "gridcolor": "white",
            "linecolor": "white",
            "ticks": ""
           }
          },
          "scene": {
           "xaxis": {
            "backgroundcolor": "#E5ECF6",
            "gridcolor": "white",
            "gridwidth": 2,
            "linecolor": "white",
            "showbackground": true,
            "ticks": "",
            "zerolinecolor": "white"
           },
           "yaxis": {
            "backgroundcolor": "#E5ECF6",
            "gridcolor": "white",
            "gridwidth": 2,
            "linecolor": "white",
            "showbackground": true,
            "ticks": "",
            "zerolinecolor": "white"
           },
           "zaxis": {
            "backgroundcolor": "#E5ECF6",
            "gridcolor": "white",
            "gridwidth": 2,
            "linecolor": "white",
            "showbackground": true,
            "ticks": "",
            "zerolinecolor": "white"
           }
          },
          "shapedefaults": {
           "line": {
            "color": "#2a3f5f"
           }
          },
          "ternary": {
           "aaxis": {
            "gridcolor": "white",
            "linecolor": "white",
            "ticks": ""
           },
           "baxis": {
            "gridcolor": "white",
            "linecolor": "white",
            "ticks": ""
           },
           "bgcolor": "#E5ECF6",
           "caxis": {
            "gridcolor": "white",
            "linecolor": "white",
            "ticks": ""
           }
          },
          "title": {
           "x": 0.05
          },
          "xaxis": {
           "automargin": true,
           "gridcolor": "white",
           "linecolor": "white",
           "ticks": "",
           "title": {
            "standoff": 15
           },
           "zerolinecolor": "white",
           "zerolinewidth": 2
          },
          "yaxis": {
           "automargin": true,
           "gridcolor": "white",
           "linecolor": "white",
           "ticks": "",
           "title": {
            "standoff": 15
           },
           "zerolinecolor": "white",
           "zerolinewidth": 2
          }
         }
        },
        "title": {
         "text": "Share of total new_orders_manufacturing by Cluster"
        }
       }
      }
     },
     "metadata": {},
     "output_type": "display_data"
    }
   ],
   "source": [
    "fig = px.pie(\n",
    "    agg,\n",
    "    names=\"k8_cluster\", values=\"pct_of_total\",\n",
    "    title=\"Share of total new_orders_manufacturing by Cluster\"\n",
    ")\n",
    "fig.show()"
   ]
  },
  {
   "cell_type": "markdown",
   "metadata": {},
   "source": [
    "I see that Cluster 3 alone accounts for nearly 30 percent of all new orders—a reflection of both its high average and its substantial frequency. Clusters 5 and 1 contribute the next largest slices at roughly 14.9 percent and 14.1 percent respectively, followed by Cluster 7 at 13.1 percent and Cluster 0 at 11 percent. Clusters 4 and 6 hover around 7–8 percent each, while Cluster 2 makes up only about 2.3 percent of the total. The pie chart makes it clear that Cluster 3 not only has the strongest per-meeting impact but also drives a disproportionately large share of aggregate manufacturing orders."
   ]
  },
  {
   "cell_type": "markdown",
   "metadata": {},
   "source": [
    "### 15. Statistical Testing and Regression\n",
    "\n",
    "Finally, the script uses statsmodels to perform a one-way ANOVA on new_orders_manufacturing with cluster membership as the categorical factor. Calling sm.stats.anova_lm yields an ANOVA table that tests whether average new orders differ across clusters. We then fit an OLS regression with cluster dummy variables to estimate each cluster’s effect relative to the baseline cluster. The printed summaries provide p-values, F-statistics, and coefficient estimates that quantify cluster influences on new order outcomes."
   ]
  },
  {
   "cell_type": "code",
   "execution_count": 21,
   "metadata": {},
   "outputs": [
    {
     "name": "stderr",
     "output_type": "stream",
     "text": [
      "huggingface/tokenizers: The current process just got forked, after parallelism has already been used. Disabling parallelism to avoid deadlocks...\n",
      "To disable this warning, you can either:\n",
      "\t- Avoid using `tokenizers` before the fork if possible\n",
      "\t- Explicitly set the environment variable TOKENIZERS_PARALLELISM=(true | false)\n"
     ]
    },
    {
     "name": "stdout",
     "output_type": "stream",
     "text": [
      "                  sum_sq     df          F        PR(>F)\n",
      "C(k8_cluster)  11.234894    7.0  77.695672  4.251406e-54\n",
      "Residual        4.214094  204.0        NaN           NaN\n"
     ]
    }
   ],
   "source": [
    "import statsmodels.api as sm\n",
    "import statsmodels.formula.api as smf\n",
    "\n",
    "# Fit one‐way ANOVA\n",
    "model      = smf.ols(\"new_orders_manufacturing ~ C(k8_cluster)\", data=df).fit()\n",
    "anova_table = sm.stats.anova_lm(model, typ=2)\n",
    "print(anova_table)"
   ]
  },
  {
   "cell_type": "markdown",
   "metadata": {},
   "source": [
    "It tells me that the total sum of squares between the eight clusters is 11.23, while the residual (within‐cluster) sum of squares is only 4.21, over 204 degrees of freedom. Dividing each by its degrees of freedom gives a between-cluster mean square of about 1.60 and a within-cluster mean square of about 0.0207. Their ratio yields an F‐statistic of roughly 77.7, with an associated p-value on the order of $10^{-54}$. From this I conclude that the null hypothesis that all clusters have the same mean new orders is overwhelmingly rejected. Cluster identity captures a highly significant share of the variance in manufacturing new orders."
   ]
  },
  {
   "cell_type": "code",
   "execution_count": 22,
   "metadata": {},
   "outputs": [
    {
     "name": "stdout",
     "output_type": "stream",
     "text": [
      "                               OLS Regression Results                               \n",
      "====================================================================================\n",
      "Dep. Variable:     new_orders_manufacturing   R-squared:                       0.727\n",
      "Model:                                  OLS   Adj. R-squared:                  0.718\n",
      "Method:                       Least Squares   F-statistic:                     77.70\n",
      "Date:                      Wed, 21 May 2025   Prob (F-statistic):           4.25e-54\n",
      "Time:                              09:09:10   Log-Likelihood:                 114.51\n",
      "No. Observations:                       212   AIC:                            -213.0\n",
      "Df Residuals:                           204   BIC:                            -186.2\n",
      "Df Model:                                 7                                         \n",
      "Covariance Type:                  nonrobust                                         \n",
      "========================================================================================\n",
      "                           coef    std err          t      P>|t|      [0.025      0.975]\n",
      "----------------------------------------------------------------------------------------\n",
      "Intercept                0.4335      0.028     15.379      0.000       0.378       0.489\n",
      "C(k8_cluster)[T.1.0]     0.1210      0.040      3.035      0.003       0.042       0.200\n",
      "C(k8_cluster)[T.2.0]    -0.3583      0.038     -9.374      0.000      -0.434      -0.283\n",
      "C(k8_cluster)[T.3.0]     0.4306      0.037     11.571      0.000       0.357       0.504\n",
      "C(k8_cluster)[T.4.0]    -0.1000      0.041     -2.458      0.015      -0.180      -0.020\n",
      "C(k8_cluster)[T.5.0]     0.0271      0.038      0.718      0.473      -0.047       0.101\n",
      "C(k8_cluster)[T.6.0]     0.0867      0.048      1.819      0.070      -0.007       0.181\n",
      "C(k8_cluster)[T.7.0]     0.1491      0.041      3.624      0.000       0.068       0.230\n",
      "==============================================================================\n",
      "Omnibus:                       22.063   Durbin-Watson:                   0.596\n",
      "Prob(Omnibus):                  0.000   Jarque-Bera (JB):               25.968\n",
      "Skew:                          -0.770   Prob(JB):                     2.30e-06\n",
      "Kurtosis:                       3.755   Cond. No.                         9.04\n",
      "==============================================================================\n",
      "\n",
      "Notes:\n",
      "[1] Standard Errors assume that the covariance matrix of the errors is correctly specified.\n"
     ]
    }
   ],
   "source": [
    "import statsmodels.formula.api as smf\n",
    "\n",
    "# Choose cluster 0 as baseline\n",
    "reg = smf.ols(\"new_orders_manufacturing ~ C(k8_cluster)\", data=df).fit()\n",
    "print(reg.summary())"
   ]
  },
  {
   "cell_type": "markdown",
   "metadata": {},
   "source": [
    "The model’s R-squared is 0.727 (adjusted R-squared 0.718), so cluster dummies alone explain about 73 percent of the variation. The intercept of 0.4335 is the estimated mean new orders for cluster 0. Relative to that baseline, cluster 1 meetings see an average increase of +0.1210 (p = 0.003), cluster 2 a decrease of –0.3583 (p < 0.001), and cluster 3 a boost of +0.4306 (p < 0.001). Cluster 4 shows a modest drop of –0.1000 (p = 0.015), while cluster 5’s coefficient (+0.0271, p = 0.47) is not statistically different from zero. Cluster 6 (+0.0867, p = 0.07) borders on significance, and cluster 7 (+0.1491, p < 0.001) again registers a clear positive effect. The overall F-statistic of 77.70 (p ≈ 4.25×10⁻⁵⁴) confirms that the set of cluster dummies adds significant predictive power. Taken together, these outputs show not only that clusters matter, but exactly how each cluster shifts expected new orders relative to the baseline regime."
   ]
  },
  {
   "cell_type": "code",
   "execution_count": 23,
   "metadata": {},
   "outputs": [],
   "source": [
    "# save the DataFrame with all columns\n",
    "df.to_csv(\"clustered_data.csv\", index=False)"
   ]
  },
  {
   "cell_type": "code",
   "execution_count": 24,
   "metadata": {},
   "outputs": [
    {
     "data": {
      "text/plain": [
       "Index(['Date', 'minute_text', 'statement_text', 'score_minute',\n",
       "       'score_statement', 'new_orders_manufacturing', 'CPI', 'PPI',\n",
       "       'oil_prices', 'unemployment', 'GSCPI', 'shipment_idx_x',\n",
       "       'shipment_idx_y', 'shipment_idx', 'k8_cluster', 'hdb_cluster',\n",
       "       'bertopic_km_topic', 'bertopic_km_probability', 'pos_score',\n",
       "       'neu_score', 'neg_score', 'net_sent'],\n",
       "      dtype='object')"
      ]
     },
     "execution_count": 24,
     "metadata": {},
     "output_type": "execute_result"
    }
   ],
   "source": [
    "df.columns"
   ]
  },
  {
   "cell_type": "markdown",
   "metadata": {},
   "source": [
    "I create two sentiment-based features over a five-meeting window: `sent_delta_5` captures the change in net sentiment from five meetings ago to today, while `sent_vol_5` measures the standard deviation of net sentiment across those same five meetings, highlighting shifts and volatility in Fed tone. Finally, I introduce autoregressive predictors for my target series: `lag1_orders` and `lag2_orders` bring in the one- and two-meeting-old values of new_orders_manufacturing, and `roll3_orders` computes the average new orders over the prior three meetings (shifted so it only uses past information)."
   ]
  },
  {
   "cell_type": "code",
   "execution_count": 25,
   "metadata": {},
   "outputs": [],
   "source": [
    "df_model = df.copy()\n",
    "\n",
    "# Ensure sorted by Date for all rolling/lag ops\n",
    "df_model = df_model.sort_values(\"Date\").reset_index(drop=True)\n",
    "\n",
    "# Sentiment deltas & volatility (5‐meeting window)\n",
    "df_model[\"sent_delta_5\"] = df_model[\"net_sent\"].diff(5)\n",
    "df_model[\"sent_vol_5\"]   = df_model[\"net_sent\"].rolling(5, min_periods=1).std()\n",
    "\n",
    "# Lagged new_orders_manufacturing and rolling mean\n",
    "df_model[\"lag1_orders\"]  = df_model[\"new_orders_manufacturing\"].shift(1)\n",
    "df_model[\"lag2_orders\"]  = df_model[\"new_orders_manufacturing\"].shift(2)\n",
    "df_model[\"roll3_orders\"] = df_model[\"new_orders_manufacturing\"].rolling(3, min_periods=1).mean().shift(1)"
   ]
  },
  {
   "cell_type": "markdown",
   "metadata": {},
   "source": [
    "Here I’m converting the categorical k8_cluster column into a set of binary indicator (dummy) variables. For each cluster label (0 through 7), I get a new column named clust_0, clust_1, …, clust_7 that takes value 1 when that row belonged to that cluster and 0 otherwise. This lets me feed cluster membership into a model as numeric features rather than a single text label."
   ]
  },
  {
   "cell_type": "code",
   "execution_count": 26,
   "metadata": {},
   "outputs": [],
   "source": [
    "df_model = pd.get_dummies(df_model, columns=[\"k8_cluster\"], prefix=\"clust\")"
   ]
  },
  {
   "cell_type": "markdown",
   "metadata": {},
   "source": [
    "Here I’m assembling the complete list of predictor columns that I’ll feed into my model. First, I grab every BERTopic probability column (all those beginning with topic_prob_) plus the overall topic‐confidence score bertopic_km_probability. Next I include the one‐hot cluster dummy columns (clust_0 through clust_7). I then add my sentiment metrics (net_sent, pos_score, neg_score) along with their dynamic extensions (sent_delta_5, sent_vol_5). To capture autoregressive effects, I include the lagged and rolling‐average versions of the target (lag1_orders, lag2_orders, roll3_orders). I also bring in the top principal components of my text embeddings (any column starting with emb_pc_), and all of the macroeconomic indicators (CPI, PPI, oil_prices, unemployment, GSCPI, shipment_idx). Finally, if I’ve added any satellite‐derived features (columns prefixed with landsat_), those make the cut as well. This list comprehensively gathers every engineered feature into one place for model training."
   ]
  },
  {
   "cell_type": "code",
   "execution_count": 27,
   "metadata": {},
   "outputs": [],
   "source": [
    "# List of candidate features\n",
    "features = [\n",
    "    # BERTopic probs\n",
    "    *[c for c in df_model.columns if c.startswith(\"topic_prob_\")],\n",
    "    \"bertopic_km_probability\",\n",
    "    # **cluster dummies** (now clust_0 ... clust_7)\n",
    "    *[c for c in df_model.columns if c.startswith(\"clust_\")],\n",
    "    # Sentiment\n",
    "    \"net_sent\", \"pos_score\", \"neg_score\", \"sent_delta_5\", \"sent_vol_5\",\n",
    "    # Lags & rolling orders\n",
    "    \"lag1_orders\", \"lag2_orders\", \"roll3_orders\",\n",
    "    # Embedding PCs\n",
    "    *[c for c in df_model.columns if c.startswith(\"emb_pc_\")],\n",
    "    # Macros\n",
    "    \"CPI\",\"PPI\",\"oil_prices\",\"unemployment\",\"GSCPI\",\"shipment_idx\",\n",
    "    # Satellite (if present)\n",
    "    *[c for c in df_model.columns if c.startswith(\"landsat_\")]\n",
    "]"
   ]
  },
  {
   "cell_type": "markdown",
   "metadata": {},
   "source": [
    "First, I build my feature matrix X by selecting only the columns in my features list from df_model and replacing any missing values with zero. Simultaneously I extract the target vector y as the new_orders_manufacturing column (also filling any gaps with zero, though ideally that should already be complete).\n",
    "\n",
    "Next, I perform an unsupervised dimensionality reduction: I import scikit-learn’s PCA and fit a 5-component PCA on X. That projects my potentially hundreds of engineered features down into five orthogonal principal components that capture the dominant patterns in the data. I then add each of those new components back into df_model as columns named pca_1 through pca_5, and append their names to my features list so they’ll be included downstream in the supervised modeling."
   ]
  },
  {
   "cell_type": "code",
   "execution_count": 28,
   "metadata": {},
   "outputs": [],
   "source": [
    "# Filter and fill\n",
    "X = df_model[features].fillna(0)\n",
    "y = df_model[\"new_orders_manufacturing\"].fillna(0)\n",
    "\n",
    "# 2. UNSUPERVISED EXPLORATION / DIM REDUCTION\n",
    "from sklearn.decomposition import PCA\n",
    "pca = PCA(n_components=5, random_state=42)\n",
    "X_pca = pca.fit_transform(X)\n",
    "for i in range(X_pca.shape[1]):\n",
    "    df_model[f\"pca_{i+1}\"] = X_pca[:,i]\n",
    "\n",
    "# add PCA comps to feature list\n",
    "features += [f\"pca_{i+1}\" for i in range(X_pca.shape[1])]"
   ]
  },
  {
   "cell_type": "markdown",
   "metadata": {},
   "source": [
    "I split my dataset into training and test portions: 80 percent of the rows (with all the columns in features) go into X_train/y_train for model fitting, and the remaining 20 percent into X_test/y_test for out‐of‐sample validation. Setting random_state=42 ensures this split is reproducible.\n",
    "\n",
    "I instantiate a Random Forest regressor with 200 trees and a maximum depth of 10, then fit it on the training data (X_train, y_train) to learn the mapping from engineered features to new_orders_manufacturing.\n",
    "\n",
    "I use the trained model to predict on X_test, then computes the root‐mean‐squared error (RMSE) and R^2 score against the held‐out y_test to quantify predictive accuracy and goodness of fit.\n",
    "\n",
    "Finally , I extract the Random Forest’s built‐in feature importances, wrap them in a pandas Series indexed by features, sort in descending order, and print the top 20. This tells me which engineered signals the model relied on most heavily to forecast new manufacturing orders."
   ]
  },
  {
   "cell_type": "code",
   "execution_count": 29,
   "metadata": {},
   "outputs": [
    {
     "name": "stdout",
     "output_type": "stream",
     "text": [
      "RMSE: 0.04219984769260349\n",
      "R^2 : 0.983454576679219\n",
      "MAE : 0.025532378527071114\n",
      "MAPE: inf\n",
      "Top 20 features:\n",
      " pca_1                      0.467490\n",
      "lag1_orders                0.353341\n",
      "PPI                        0.081171\n",
      "lag2_orders                0.040409\n",
      "roll3_orders               0.031626\n",
      "oil_prices                 0.011133\n",
      "bertopic_km_probability    0.002226\n",
      "GSCPI                      0.002026\n",
      "shipment_idx               0.001827\n",
      "CPI                        0.001553\n",
      "pca_2                      0.001409\n",
      "unemployment               0.001386\n",
      "pca_5                      0.000956\n",
      "sent_vol_5                 0.000908\n",
      "pca_4                      0.000530\n",
      "net_sent                   0.000372\n",
      "pos_score                  0.000352\n",
      "pca_3                      0.000351\n",
      "sent_delta_5               0.000350\n",
      "neg_score                  0.000332\n",
      "dtype: float64\n"
     ]
    }
   ],
   "source": [
    "# train-test split\n",
    "from sklearn.model_selection import train_test_split\n",
    "X_train, X_test, y_train, y_test = train_test_split(\n",
    "    df_model[features], y, test_size=0.2, random_state=42\n",
    ")\n",
    "\n",
    "# supervised regression\n",
    "from sklearn.ensemble import RandomForestRegressor\n",
    "from sklearn.metrics import mean_absolute_error, mean_squared_error, r2_score\n",
    "\n",
    "model = RandomForestRegressor(\n",
    "    n_estimators=200, max_depth=10, random_state=42, n_jobs=-1\n",
    ")\n",
    "model.fit(X_train, y_train)\n",
    "\n",
    "# evaluate\n",
    "y_pred = model.predict(X_test)\n",
    "print(\"RMSE:\", np.sqrt(mean_squared_error(y_test, y_pred)))\n",
    "print(\"R^2 :\", r2_score(y_test, y_pred))\n",
    "print(\"MAE :\", mean_absolute_error(y_test, y_pred))\n",
    "print(\"MAPE:\", np.mean(np.abs((y_test - y_pred) / y_test)) * 100)\n",
    "\n",
    "\n",
    "# feature importances\n",
    "importances = pd.Series(\n",
    "    model.feature_importances_, index=features\n",
    ").sort_values(ascending=False).head(20)\n",
    "print(\"Top 20 features:\\n\", importances)"
   ]
  },
  {
   "cell_type": "markdown",
   "metadata": {},
   "source": [
    "The out‐of‐sample RMSE of about 0.042 indicates that, on average, my predictions of new manufacturing orders are only off by around four hundredths of a unit—small in the context of the data’s typical range. An $R^2$ of 0.983 shows the model explains over 98 percent of the variance in held-out meetings, which is exceptionally high.\n",
    "\n",
    "Looking at the top 20 feature importances, the first principal component `pca_1` is by far the single most powerful predictor, accounting for nearly 47 percent of the model’s split decisions. That suggests a strong latent dimension—probably a mix of text embedding structure and macro signals—underpins most of the variation in new orders. The next two most important features are the one-period lag of orders (`lag1_orders`, ~35 percent) and the producer price index (`PPI`, ~8 percent), which tells me there’s both momentum in the series and a link to upstream inflation pressures.\n",
    "\n",
    "Beyond that, the two‐period lag `lag2_orders`, the three-meeting rolling mean `roll3_orders`, and `oil_prices` also make the top six, reinforcing that both autoregressive history and key commodity prices drive manufacturing activity. Text-derived signals—like the overall topic-probability confidence `bertopic_km_probability` and other macro indicators (e.g., `GSCPI`, `CPI`, `unemployment`) appear further down the list but still contribute. Sentiment features (`sent_vol_5`, `net_sent`, `sent_delta_5`) and additional PCs (`pca_2` through `pca_5`) round out the top 20, indicating that the nuanced tone of Fed minutes and higher-order embedding axes each add incremental predictive power."
   ]
  },
  {
   "cell_type": "code",
   "execution_count": 30,
   "metadata": {},
   "outputs": [
    {
     "data": {
      "application/vnd.plotly.v1+json": {
       "config": {
        "plotlyServerURL": "https://plot.ly"
       },
       "data": [
        {
         "customdata": [
          [
           "2003/05"
          ],
          [
           "2013/06"
          ],
          [
           "2009/01"
          ],
          [
           "2014/09"
          ],
          [
           "2023/03"
          ],
          [
           "2015/12"
          ],
          [
           "2024/11"
          ],
          [
           "2005/03"
          ],
          [
           "2018/08"
          ],
          [
           null
          ],
          [
           "2021/08"
          ],
          [
           null
          ],
          [
           null
          ],
          [
           "2009/05"
          ],
          [
           "2019/06"
          ],
          [
           "2022/12"
          ],
          [
           null
          ],
          [
           "2017/02"
          ],
          [
           "2011/12"
          ],
          [
           "2007/02"
          ],
          [
           null
          ],
          [
           null
          ],
          [
           "2005/05"
          ],
          [
           "2004/11"
          ],
          [
           "2021/11"
          ],
          [
           "2001/02"
          ],
          [
           "2002/06"
          ],
          [
           "2023/07"
          ],
          [
           "2012/08"
          ],
          [
           "2002/09"
          ],
          [
           "2013/02"
          ],
          [
           "2008/01"
          ],
          [
           "2016/11"
          ],
          [
           null
          ],
          [
           null
          ],
          [
           "2000/11"
          ],
          [
           "2013/11"
          ],
          [
           "2007/12"
          ],
          [
           "2013/10"
          ],
          [
           "2013/09"
          ],
          [
           "2002/11"
          ],
          [
           "2014/06"
          ],
          [
           null
          ],
          [
           "2002/02"
          ],
          [
           "2008/11"
          ],
          [
           null
          ],
          [
           "2010/05"
          ],
          [
           "2024/09"
          ],
          [
           "2010/09"
          ],
          [
           "2021/03"
          ],
          [
           "2001/09"
          ],
          [
           "2017/11"
          ],
          [
           null
          ],
          [
           null
          ],
          [
           "2013/05"
          ]
         ],
         "hovertemplate": "Actual=%{x}<br>Predicted=%{y}<br>Date=%{customdata[0]}<extra></extra>",
         "legendgroup": "",
         "marker": {
          "color": "#636efa",
          "symbol": "circle"
         },
         "mode": "markers",
         "name": "",
         "orientation": "v",
         "showlegend": false,
         "type": "scatter",
         "x": [
          0.0630563852361296,
          0.695629340482022,
          0.1366849086759858,
          0.6666306768567876,
          0.9317669091199106,
          0.4741493480233707,
          0.9568892048463488,
          0.2536283843162761,
          0.6715244686462722,
          0,
          0.7764423678131034,
          0,
          0,
          0.1223240300731851,
          0.5520184421889867,
          0.933614031649434,
          0,
          0.53095785302648,
          0.6182610565026279,
          0.4540651596588203,
          0,
          0,
          0.3314214307926502,
          0.2482066155986757,
          0.8348597242424525,
          0.1045363198648421,
          0.0306470481934733,
          0.944097615570211,
          0.5418937514517523,
          0.0430770105430267,
          0.6940445311237795,
          0.6192159753029314,
          0.4785431431093494,
          0,
          0,
          0.1367576647012063,
          0.7015816899182945,
          0.6279102744067311,
          0.6635338470044441,
          0.6794993814206398,
          0.0548724659602837,
          0.6873038747020916,
          0,
          0.0352399775283074,
          0.2980537858127317,
          0,
          0.361865427928115,
          0.962706102163529,
          0.4247128046325108,
          0.6656902860228731,
          0.0127844114984041,
          0.5929170870228422,
          0,
          0,
          0.6714285687020656
         ],
         "xaxis": "x",
         "y": [
          0.06674175969771,
          0.6355096988511643,
          0.2543607813771826,
          0.6619004812726577,
          0.9592142763779803,
          0.4963146644370557,
          0.9657449834651586,
          0.3209416289941285,
          0.6549806794956544,
          0,
          0.734953623229417,
          0,
          0,
          0.11849250948060641,
          0.5490465481188719,
          0.9559751499294054,
          0,
          0.5288222139389906,
          0.6113642166277855,
          0.4680057121985762,
          0,
          0,
          0.3005679550855453,
          0.2253666576529857,
          0.836899474695954,
          0.10173591116570231,
          0.041777158109961965,
          0.9595119451454803,
          0.5716422385635709,
          0.07322311177686552,
          0.6340111544924337,
          0.6106832671353734,
          0.5005216038375917,
          0,
          0,
          0.11208643439636617,
          0.6377545907176363,
          0.5355738670289166,
          0.6327353439984787,
          0.6182349789887506,
          0.06001368931653465,
          0.6756454279852943,
          0,
          0.028177869675607824,
          0.4714794248080809,
          0,
          0.36079854164306163,
          0.9628303629100317,
          0.3657006013173998,
          0.6224093027076855,
          0.05168373433901175,
          0.5400334879072688,
          0.002697202250986462,
          0,
          0.5929773225196768
         ],
         "yaxis": "y"
        },
        {
         "hovertemplate": "<b>OLS trendline</b><br>Predicted = 0.965651 * Actual + 0.010095<br>R<sup>2</sup>=0.983888<br><br>Actual=%{x}<br>Predicted=%{y} <b>(trend)</b><extra></extra>",
         "legendgroup": "",
         "marker": {
          "color": "#636efa",
          "symbol": "circle"
         },
         "mode": "lines",
         "name": "",
         "showlegend": false,
         "type": "scatter",
         "x": [
          0,
          0,
          0,
          0,
          0,
          0,
          0,
          0,
          0,
          0,
          0,
          0,
          0.0127844114984041,
          0.0306470481934733,
          0.0352399775283074,
          0.0430770105430267,
          0.0548724659602837,
          0.0630563852361296,
          0.1045363198648421,
          0.1223240300731851,
          0.1366849086759858,
          0.1367576647012063,
          0.2482066155986757,
          0.2536283843162761,
          0.2980537858127317,
          0.3314214307926502,
          0.361865427928115,
          0.4247128046325108,
          0.4540651596588203,
          0.4741493480233707,
          0.4785431431093494,
          0.53095785302648,
          0.5418937514517523,
          0.5520184421889867,
          0.5929170870228422,
          0.6182610565026279,
          0.6192159753029314,
          0.6279102744067311,
          0.6635338470044441,
          0.6656902860228731,
          0.6666306768567876,
          0.6714285687020656,
          0.6715244686462722,
          0.6794993814206398,
          0.6873038747020916,
          0.6940445311237795,
          0.695629340482022,
          0.7015816899182945,
          0.7764423678131034,
          0.8348597242424525,
          0.9317669091199106,
          0.933614031649434,
          0.944097615570211,
          0.9568892048463488,
          0.962706102163529
         ],
         "xaxis": "x",
         "y": [
          0.010095008741321892,
          0.010095008741321892,
          0.010095008741321892,
          0.010095008741321892,
          0.010095008741321892,
          0.010095008741321892,
          0.010095008741321892,
          0.010095008741321892,
          0.010095008741321892,
          0.010095008741321892,
          0.010095008741321892,
          0.010095008741321892,
          0.022440284092382447,
          0.039689350936336534,
          0.04412451616185892,
          0.051692352234261586,
          0.06308264149672582,
          0.07098544851477133,
          0.11104057460324022,
          0.1282172886361292,
          0.14208488048084256,
          0.14215513738433067,
          0.24977588993816074,
          0.25501142445743824,
          0.297910842559212,
          0.330132330825993,
          0.3595305966336235,
          0.4202192071812775,
          0.44856332806999505,
          0.4679576377411045,
          0.4722005088485712,
          0.5228148078684139,
          0.533375065357628,
          0.5431519796106692,
          0.5826457828273605,
          0.6071192035832463,
          0.6080413215492648,
          0.6164369771830251,
          0.6508369034340036,
          0.6529192701869511,
          0.6538273592126944,
          0.6584604466208993,
          0.6585530524649407,
          0.6662540322177082,
          0.6737904462753324,
          0.680299565571361,
          0.6818299377679132,
          0.6875778279062812,
          0.7598670906301722,
          0.8162778491927691,
          0.9098563358487793,
          0.9116400109312782,
          0.9217634906224708,
          0.934115697199309,
          0.9397327879100078
         ],
         "yaxis": "y"
        }
       ],
       "layout": {
        "legend": {
         "tracegroupgap": 0
        },
        "template": {
         "data": {
          "bar": [
           {
            "error_x": {
             "color": "#2a3f5f"
            },
            "error_y": {
             "color": "#2a3f5f"
            },
            "marker": {
             "line": {
              "color": "#E5ECF6",
              "width": 0.5
             },
             "pattern": {
              "fillmode": "overlay",
              "size": 10,
              "solidity": 0.2
             }
            },
            "type": "bar"
           }
          ],
          "barpolar": [
           {
            "marker": {
             "line": {
              "color": "#E5ECF6",
              "width": 0.5
             },
             "pattern": {
              "fillmode": "overlay",
              "size": 10,
              "solidity": 0.2
             }
            },
            "type": "barpolar"
           }
          ],
          "carpet": [
           {
            "aaxis": {
             "endlinecolor": "#2a3f5f",
             "gridcolor": "white",
             "linecolor": "white",
             "minorgridcolor": "white",
             "startlinecolor": "#2a3f5f"
            },
            "baxis": {
             "endlinecolor": "#2a3f5f",
             "gridcolor": "white",
             "linecolor": "white",
             "minorgridcolor": "white",
             "startlinecolor": "#2a3f5f"
            },
            "type": "carpet"
           }
          ],
          "choropleth": [
           {
            "colorbar": {
             "outlinewidth": 0,
             "ticks": ""
            },
            "type": "choropleth"
           }
          ],
          "contour": [
           {
            "colorbar": {
             "outlinewidth": 0,
             "ticks": ""
            },
            "colorscale": [
             [
              0,
              "#0d0887"
             ],
             [
              0.1111111111111111,
              "#46039f"
             ],
             [
              0.2222222222222222,
              "#7201a8"
             ],
             [
              0.3333333333333333,
              "#9c179e"
             ],
             [
              0.4444444444444444,
              "#bd3786"
             ],
             [
              0.5555555555555556,
              "#d8576b"
             ],
             [
              0.6666666666666666,
              "#ed7953"
             ],
             [
              0.7777777777777778,
              "#fb9f3a"
             ],
             [
              0.8888888888888888,
              "#fdca26"
             ],
             [
              1,
              "#f0f921"
             ]
            ],
            "type": "contour"
           }
          ],
          "contourcarpet": [
           {
            "colorbar": {
             "outlinewidth": 0,
             "ticks": ""
            },
            "type": "contourcarpet"
           }
          ],
          "heatmap": [
           {
            "colorbar": {
             "outlinewidth": 0,
             "ticks": ""
            },
            "colorscale": [
             [
              0,
              "#0d0887"
             ],
             [
              0.1111111111111111,
              "#46039f"
             ],
             [
              0.2222222222222222,
              "#7201a8"
             ],
             [
              0.3333333333333333,
              "#9c179e"
             ],
             [
              0.4444444444444444,
              "#bd3786"
             ],
             [
              0.5555555555555556,
              "#d8576b"
             ],
             [
              0.6666666666666666,
              "#ed7953"
             ],
             [
              0.7777777777777778,
              "#fb9f3a"
             ],
             [
              0.8888888888888888,
              "#fdca26"
             ],
             [
              1,
              "#f0f921"
             ]
            ],
            "type": "heatmap"
           }
          ],
          "heatmapgl": [
           {
            "colorbar": {
             "outlinewidth": 0,
             "ticks": ""
            },
            "colorscale": [
             [
              0,
              "#0d0887"
             ],
             [
              0.1111111111111111,
              "#46039f"
             ],
             [
              0.2222222222222222,
              "#7201a8"
             ],
             [
              0.3333333333333333,
              "#9c179e"
             ],
             [
              0.4444444444444444,
              "#bd3786"
             ],
             [
              0.5555555555555556,
              "#d8576b"
             ],
             [
              0.6666666666666666,
              "#ed7953"
             ],
             [
              0.7777777777777778,
              "#fb9f3a"
             ],
             [
              0.8888888888888888,
              "#fdca26"
             ],
             [
              1,
              "#f0f921"
             ]
            ],
            "type": "heatmapgl"
           }
          ],
          "histogram": [
           {
            "marker": {
             "pattern": {
              "fillmode": "overlay",
              "size": 10,
              "solidity": 0.2
             }
            },
            "type": "histogram"
           }
          ],
          "histogram2d": [
           {
            "colorbar": {
             "outlinewidth": 0,
             "ticks": ""
            },
            "colorscale": [
             [
              0,
              "#0d0887"
             ],
             [
              0.1111111111111111,
              "#46039f"
             ],
             [
              0.2222222222222222,
              "#7201a8"
             ],
             [
              0.3333333333333333,
              "#9c179e"
             ],
             [
              0.4444444444444444,
              "#bd3786"
             ],
             [
              0.5555555555555556,
              "#d8576b"
             ],
             [
              0.6666666666666666,
              "#ed7953"
             ],
             [
              0.7777777777777778,
              "#fb9f3a"
             ],
             [
              0.8888888888888888,
              "#fdca26"
             ],
             [
              1,
              "#f0f921"
             ]
            ],
            "type": "histogram2d"
           }
          ],
          "histogram2dcontour": [
           {
            "colorbar": {
             "outlinewidth": 0,
             "ticks": ""
            },
            "colorscale": [
             [
              0,
              "#0d0887"
             ],
             [
              0.1111111111111111,
              "#46039f"
             ],
             [
              0.2222222222222222,
              "#7201a8"
             ],
             [
              0.3333333333333333,
              "#9c179e"
             ],
             [
              0.4444444444444444,
              "#bd3786"
             ],
             [
              0.5555555555555556,
              "#d8576b"
             ],
             [
              0.6666666666666666,
              "#ed7953"
             ],
             [
              0.7777777777777778,
              "#fb9f3a"
             ],
             [
              0.8888888888888888,
              "#fdca26"
             ],
             [
              1,
              "#f0f921"
             ]
            ],
            "type": "histogram2dcontour"
           }
          ],
          "mesh3d": [
           {
            "colorbar": {
             "outlinewidth": 0,
             "ticks": ""
            },
            "type": "mesh3d"
           }
          ],
          "parcoords": [
           {
            "line": {
             "colorbar": {
              "outlinewidth": 0,
              "ticks": ""
             }
            },
            "type": "parcoords"
           }
          ],
          "pie": [
           {
            "automargin": true,
            "type": "pie"
           }
          ],
          "scatter": [
           {
            "fillpattern": {
             "fillmode": "overlay",
             "size": 10,
             "solidity": 0.2
            },
            "type": "scatter"
           }
          ],
          "scatter3d": [
           {
            "line": {
             "colorbar": {
              "outlinewidth": 0,
              "ticks": ""
             }
            },
            "marker": {
             "colorbar": {
              "outlinewidth": 0,
              "ticks": ""
             }
            },
            "type": "scatter3d"
           }
          ],
          "scattercarpet": [
           {
            "marker": {
             "colorbar": {
              "outlinewidth": 0,
              "ticks": ""
             }
            },
            "type": "scattercarpet"
           }
          ],
          "scattergeo": [
           {
            "marker": {
             "colorbar": {
              "outlinewidth": 0,
              "ticks": ""
             }
            },
            "type": "scattergeo"
           }
          ],
          "scattergl": [
           {
            "marker": {
             "colorbar": {
              "outlinewidth": 0,
              "ticks": ""
             }
            },
            "type": "scattergl"
           }
          ],
          "scattermapbox": [
           {
            "marker": {
             "colorbar": {
              "outlinewidth": 0,
              "ticks": ""
             }
            },
            "type": "scattermapbox"
           }
          ],
          "scatterpolar": [
           {
            "marker": {
             "colorbar": {
              "outlinewidth": 0,
              "ticks": ""
             }
            },
            "type": "scatterpolar"
           }
          ],
          "scatterpolargl": [
           {
            "marker": {
             "colorbar": {
              "outlinewidth": 0,
              "ticks": ""
             }
            },
            "type": "scatterpolargl"
           }
          ],
          "scatterternary": [
           {
            "marker": {
             "colorbar": {
              "outlinewidth": 0,
              "ticks": ""
             }
            },
            "type": "scatterternary"
           }
          ],
          "surface": [
           {
            "colorbar": {
             "outlinewidth": 0,
             "ticks": ""
            },
            "colorscale": [
             [
              0,
              "#0d0887"
             ],
             [
              0.1111111111111111,
              "#46039f"
             ],
             [
              0.2222222222222222,
              "#7201a8"
             ],
             [
              0.3333333333333333,
              "#9c179e"
             ],
             [
              0.4444444444444444,
              "#bd3786"
             ],
             [
              0.5555555555555556,
              "#d8576b"
             ],
             [
              0.6666666666666666,
              "#ed7953"
             ],
             [
              0.7777777777777778,
              "#fb9f3a"
             ],
             [
              0.8888888888888888,
              "#fdca26"
             ],
             [
              1,
              "#f0f921"
             ]
            ],
            "type": "surface"
           }
          ],
          "table": [
           {
            "cells": {
             "fill": {
              "color": "#EBF0F8"
             },
             "line": {
              "color": "white"
             }
            },
            "header": {
             "fill": {
              "color": "#C8D4E3"
             },
             "line": {
              "color": "white"
             }
            },
            "type": "table"
           }
          ]
         },
         "layout": {
          "annotationdefaults": {
           "arrowcolor": "#2a3f5f",
           "arrowhead": 0,
           "arrowwidth": 1
          },
          "autotypenumbers": "strict",
          "coloraxis": {
           "colorbar": {
            "outlinewidth": 0,
            "ticks": ""
           }
          },
          "colorscale": {
           "diverging": [
            [
             0,
             "#8e0152"
            ],
            [
             0.1,
             "#c51b7d"
            ],
            [
             0.2,
             "#de77ae"
            ],
            [
             0.3,
             "#f1b6da"
            ],
            [
             0.4,
             "#fde0ef"
            ],
            [
             0.5,
             "#f7f7f7"
            ],
            [
             0.6,
             "#e6f5d0"
            ],
            [
             0.7,
             "#b8e186"
            ],
            [
             0.8,
             "#7fbc41"
            ],
            [
             0.9,
             "#4d9221"
            ],
            [
             1,
             "#276419"
            ]
           ],
           "sequential": [
            [
             0,
             "#0d0887"
            ],
            [
             0.1111111111111111,
             "#46039f"
            ],
            [
             0.2222222222222222,
             "#7201a8"
            ],
            [
             0.3333333333333333,
             "#9c179e"
            ],
            [
             0.4444444444444444,
             "#bd3786"
            ],
            [
             0.5555555555555556,
             "#d8576b"
            ],
            [
             0.6666666666666666,
             "#ed7953"
            ],
            [
             0.7777777777777778,
             "#fb9f3a"
            ],
            [
             0.8888888888888888,
             "#fdca26"
            ],
            [
             1,
             "#f0f921"
            ]
           ],
           "sequentialminus": [
            [
             0,
             "#0d0887"
            ],
            [
             0.1111111111111111,
             "#46039f"
            ],
            [
             0.2222222222222222,
             "#7201a8"
            ],
            [
             0.3333333333333333,
             "#9c179e"
            ],
            [
             0.4444444444444444,
             "#bd3786"
            ],
            [
             0.5555555555555556,
             "#d8576b"
            ],
            [
             0.6666666666666666,
             "#ed7953"
            ],
            [
             0.7777777777777778,
             "#fb9f3a"
            ],
            [
             0.8888888888888888,
             "#fdca26"
            ],
            [
             1,
             "#f0f921"
            ]
           ]
          },
          "colorway": [
           "#636efa",
           "#EF553B",
           "#00cc96",
           "#ab63fa",
           "#FFA15A",
           "#19d3f3",
           "#FF6692",
           "#B6E880",
           "#FF97FF",
           "#FECB52"
          ],
          "font": {
           "color": "#2a3f5f"
          },
          "geo": {
           "bgcolor": "white",
           "lakecolor": "white",
           "landcolor": "#E5ECF6",
           "showlakes": true,
           "showland": true,
           "subunitcolor": "white"
          },
          "hoverlabel": {
           "align": "left"
          },
          "hovermode": "closest",
          "mapbox": {
           "style": "light"
          },
          "paper_bgcolor": "white",
          "plot_bgcolor": "#E5ECF6",
          "polar": {
           "angularaxis": {
            "gridcolor": "white",
            "linecolor": "white",
            "ticks": ""
           },
           "bgcolor": "#E5ECF6",
           "radialaxis": {
            "gridcolor": "white",
            "linecolor": "white",
            "ticks": ""
           }
          },
          "scene": {
           "xaxis": {
            "backgroundcolor": "#E5ECF6",
            "gridcolor": "white",
            "gridwidth": 2,
            "linecolor": "white",
            "showbackground": true,
            "ticks": "",
            "zerolinecolor": "white"
           },
           "yaxis": {
            "backgroundcolor": "#E5ECF6",
            "gridcolor": "white",
            "gridwidth": 2,
            "linecolor": "white",
            "showbackground": true,
            "ticks": "",
            "zerolinecolor": "white"
           },
           "zaxis": {
            "backgroundcolor": "#E5ECF6",
            "gridcolor": "white",
            "gridwidth": 2,
            "linecolor": "white",
            "showbackground": true,
            "ticks": "",
            "zerolinecolor": "white"
           }
          },
          "shapedefaults": {
           "line": {
            "color": "#2a3f5f"
           }
          },
          "ternary": {
           "aaxis": {
            "gridcolor": "white",
            "linecolor": "white",
            "ticks": ""
           },
           "baxis": {
            "gridcolor": "white",
            "linecolor": "white",
            "ticks": ""
           },
           "bgcolor": "#E5ECF6",
           "caxis": {
            "gridcolor": "white",
            "linecolor": "white",
            "ticks": ""
           }
          },
          "title": {
           "x": 0.05
          },
          "xaxis": {
           "automargin": true,
           "gridcolor": "white",
           "linecolor": "white",
           "ticks": "",
           "title": {
            "standoff": 15
           },
           "zerolinecolor": "white",
           "zerolinewidth": 2
          },
          "yaxis": {
           "automargin": true,
           "gridcolor": "white",
           "linecolor": "white",
           "ticks": "",
           "title": {
            "standoff": 15
           },
           "zerolinecolor": "white",
           "zerolinewidth": 2
          }
         }
        },
        "title": {
         "text": "Predicted vs. Actual New Orders"
        },
        "xaxis": {
         "anchor": "y",
         "domain": [
          0,
          1
         ],
         "title": {
          "text": "Actual"
         }
        },
        "yaxis": {
         "anchor": "x",
         "domain": [
          0,
          1
         ],
         "title": {
          "text": "Predicted"
         }
        }
       }
      }
     },
     "metadata": {},
     "output_type": "display_data"
    }
   ],
   "source": [
    "# visualize\n",
    "import plotly.express as px\n",
    "df_eval = pd.DataFrame({\n",
    "    \"Actual\": y_test,\n",
    "    \"Predicted\": y_pred,\n",
    "    \"Date\": df_model.loc[y_test.index, \"Date\"]\n",
    "})\n",
    "fig = px.scatter(\n",
    "    df_eval, x=\"Actual\", y=\"Predicted\",\n",
    "    trendline=\"ols\", hover_data=[\"Date\"],\n",
    "    title=\"Predicted vs. Actual New Orders\"\n",
    ")\n",
    "fig.show()"
   ]
  },
  {
   "cell_type": "markdown",
   "metadata": {},
   "source": [
    "## Conclusion\n",
    "In this project, I demonstrated how unsupervised methods can turn raw FOMC meeting texts into economically meaningful features. By combining TF–IDF, SVD, UMAP, and both K-Means and HDBSCAN clustering, I uncovered eight distinct rhetorical regimes whose term-weight profiles and stability I validated via silhouette scores, ARI bootstrapping, and ANOVA. I enriched each document with FinBERT sentiment scores and BERTopic-driven topic probabilities (with custom stopwords enforced), then showed that simple cluster-dummy regressions explain over 70 % of the variance in new manufacturing orders. Clusters aligned closely with real-world events—peaking sentiment during recoveries and plunging during crises—and Cluster 3 in particular both had the highest per-meeting impact and drove nearly 30 % of all new orders. Altogether, this pipeline illustrates a replicable framework for translating central bank communications into quantitative predictors of macroeconomic outcomes."
   ]
  },
  {
   "cell_type": "code",
   "execution_count": 31,
   "metadata": {},
   "outputs": [
    {
     "name": "stdout",
     "output_type": "stream",
     "text": [
      "Baseline R² = 0.9835\n"
     ]
    }
   ],
   "source": [
    "from sklearn.metrics import r2_score\n",
    "\n",
    "# predict on the hold-out set\n",
    "y_pred = model.predict(X_test)\n",
    "baseline_r2 = r2_score(y_test, y_pred)\n",
    "print(f\"Baseline R² = {baseline_r2:.4f}\")"
   ]
  },
  {
   "cell_type": "code",
   "execution_count": 33,
   "metadata": {},
   "outputs": [],
   "source": [
    "from sklearn.inspection import permutation_importance\n",
    "\n",
    "perm_imp = permutation_importance(\n",
    "    model,                # your trained RandomForest\n",
    "    X_test,               # feature matrix\n",
    "    y_test,               # true labels\n",
    "    n_repeats=50,         # more repeats → more stable estimates\n",
    "    random_state=42,\n",
    "    scoring='r2'          # or use 'neg_mean_squared_error'\n",
    ")"
   ]
  },
  {
   "cell_type": "code",
   "execution_count": 34,
   "metadata": {},
   "outputs": [
    {
     "name": "stdout",
     "output_type": "stream",
     "text": [
      "         feature  mean_drop  std_drop\n",
      "12  sent_delta_5   0.000092  0.000107\n",
      "11     neg_score   0.000077  0.000073\n",
      "13    sent_vol_5   0.000041  0.000223\n",
      "9       net_sent   0.000036  0.000064\n",
      "10     pos_score   0.000004  0.000131\n"
     ]
    }
   ],
   "source": [
    "import pandas as pd\n",
    "imps = pd.DataFrame({\n",
    "    'feature': X_test.columns,\n",
    "    'mean_drop': perm_imp.importances_mean,\n",
    "    'std_drop':  perm_imp.importances_std\n",
    "}).sort_values('mean_drop', ascending=False)\n",
    "\n",
    "# look at just the sentiment features\n",
    "sentiment_feats = ['net_sent','pos_score','neg_score','sent_delta_5','sent_vol_5']\n",
    "print(imps[imps['feature'].isin(sentiment_feats)])"
   ]
  },
  {
   "cell_type": "code",
   "execution_count": 43,
   "metadata": {},
   "outputs": [
    {
     "name": "stdout",
     "output_type": "stream",
     "text": [
      "Full model RMSE   = 0.0390\n",
      "Reduced model RMSE= 0.0377\n",
      "95% CI for ΔRMSE (reduced − full): [-0.0023, -0.0001]\n",
      "Removing sentiment raises RMSE\n"
     ]
    }
   ],
   "source": [
    "import numpy as np\n",
    "import pandas as pd\n",
    "from sklearn.model_selection import train_test_split\n",
    "from sklearn.ensemble    import RandomForestRegressor\n",
    "from sklearn.metrics     import root_mean_squared_error\n",
    "\n",
    "# 0) Define your full and reduced feature lists\n",
    "sentiment_feats  = [\"net_sent\", \"pos_score\", \"neg_score\", \"sent_delta_5\", \"sent_vol_5\"]\n",
    "full_features    = features.copy()\n",
    "reduced_features = [f for f in full_features if f not in sentiment_feats]\n",
    "\n",
    "# 1) Drop any rows with NaN in target or features\n",
    "df_nest = df_model.dropna(\n",
    "    subset=full_features + [\"new_orders_manufacturing\"]\n",
    ").copy()\n",
    "\n",
    "X_full = df_nest[full_features].fillna(0)\n",
    "X_red  = df_nest[reduced_features].fillna(0)\n",
    "y      = df_nest[\"new_orders_manufacturing\"].astype(float)\n",
    "\n",
    "# 2) Train/test split (same random_state so splits align)\n",
    "Xf_tr, Xf_te, y_tr, y_te = train_test_split(\n",
    "    X_full, y, test_size=0.2, random_state=42\n",
    ")\n",
    "Xr_tr, Xr_te, _, _       = train_test_split(\n",
    "    X_red, y, test_size=0.2, random_state=42\n",
    ")\n",
    "\n",
    "# 3) Fit both Random Forests\n",
    "rf_full = RandomForestRegressor(n_estimators=200, max_depth=10,\n",
    "                                random_state=42, n_jobs=-1)\n",
    "rf_full.fit(Xf_tr, y_tr)\n",
    "\n",
    "rf_red  = RandomForestRegressor(n_estimators=200, max_depth=10,\n",
    "                                random_state=42, n_jobs=-1)\n",
    "rf_red.fit(Xr_tr, y_tr)\n",
    "\n",
    "# 4) Predict & compute RMSE\n",
    "y_pred_full = rf_full.predict(Xf_te)\n",
    "y_pred_red  = rf_red.predict(Xr_te)\n",
    "\n",
    "rmse_full = root_mean_squared_error(y_te, y_pred_full)\n",
    "rmse_red  = root_mean_squared_error(y_te, y_pred_red)\n",
    "\n",
    "print(f\"Full model RMSE   = {rmse_full:.4f}\")\n",
    "print(f\"Reduced model RMSE= {rmse_red:.4f}\")\n",
    "\n",
    "# 5) Paired bootstrap on ΔRMSE\n",
    "n_boot = 1000\n",
    "rng    = np.random.RandomState(42)\n",
    "deltas = np.empty(n_boot)\n",
    "\n",
    "for i in range(n_boot):\n",
    "    idx = rng.randint(0, len(y_te), len(y_te))\n",
    "    rmse_f = root_mean_squared_error(\n",
    "        y_te.values[idx],\n",
    "        y_pred_full[idx]\n",
    "    )\n",
    "    rmse_r = root_mean_squared_error(\n",
    "        y_te.values[idx],\n",
    "        y_pred_red[idx]\n",
    "    )\n",
    "    deltas[i] = rmse_r - rmse_f\n",
    "\n",
    "ci_low, ci_high = np.percentile(deltas, [2.5, 97.5])\n",
    "print(f\"95% CI for ΔRMSE (reduced − full): [{ci_low:.4f}, {ci_high:.4f}]\")\n",
    "\n",
    "if ci_high < 0:\n",
    "    print(\"Removing sentiment raises RMSE\")\n",
    "elif ci_low > 0:\n",
    "    print(\"Removing sentiment lowers RMSE\")\n",
    "else:\n",
    "    print(\"95% CI overlaps zero\")"
   ]
  },
  {
   "cell_type": "code",
   "execution_count": 46,
   "metadata": {},
   "outputs": [
    {
     "data": {
      "image/png": "[encoded data removed]",
      "text/plain": [
       "<Figure size 800x600 with 1 Axes>"
      ]
     },
     "metadata": {},
     "output_type": "display_data"
    }
   ],
   "source": [
    "fig, ax = plt.subplots(figsize=(8, 6))\n",
    "\n",
    "# Plot predictions\n",
    "ax.scatter(y_te, y_pred_full, alpha=0.6, marker='o', label='Full Model')\n",
    "ax.scatter(y_te, y_pred_red,  alpha=0.6, marker='x', label='Reduced Model')\n",
    "\n",
    "# 45° reference line\n",
    "lims = [min(y_te.min(), y_pred_full.min(), y_pred_red.min()),\n",
    "        max(y_te.max(), y_pred_full.max(), y_pred_red.max())]\n",
    "ax.plot(lims, lims, linestyle='--')\n",
    "\n",
    "# Annotate model RMSEs\n",
    "annotation = (\n",
    "    f'Full RMSE:    {rmse_full:.3f}\\n'\n",
    "    f'Reduced RMSE: {rmse_red:.3f}'\n",
    ")\n",
    "ax.text(0.05, 0.95, annotation,\n",
    "        transform=ax.transAxes,\n",
    "        verticalalignment='top')\n",
    "\n",
    "ax.set_xlabel('Actual new_orders_manufacturing')\n",
    "ax.set_ylabel('Predicted new_orders_manufacturing')\n",
    "ax.set_title('Actual vs. Predicted: Full vs. Reduced Models')\n",
    "ax.legend(loc='lower right')\n",
    "\n",
    "plt.tight_layout()\n",
    "plt.show()"
   ]
  },
  {
   "cell_type": "code",
   "execution_count": 47,
   "metadata": {},
   "outputs": [
    {
     "data": {
      "image/png": "[encoded data removed]",
      "text/plain": [
       "<Figure size 800x500 with 1 Axes>"
      ]
     },
     "metadata": {},
     "output_type": "display_data"
    }
   ],
   "source": [
    "import matplotlib.pyplot as plt\n",
    "import numpy as np\n",
    "import pandas as pd\n",
    "\n",
    "# Reconstruct residuals and dates\n",
    "resid_full = y_te - y_pred_full\n",
    "dates = pd.to_datetime(df_nest.loc[y_te.index, 'Date'], format='%Y/%m')\n",
    "\n",
    "# 1) Violin + Boxplot of residuals\n",
    "fig, ax = plt.subplots(figsize=(8, 5))\n",
    "ax.violinplot(resid_full, showmeans=True, showextrema=False, widths=0.7)\n",
    "ax.boxplot(resid_full, positions=[1], widths=0.1, showfliers=False)\n",
    "ax.set_xticks([1])\n",
    "ax.set_xticklabels(['Residuals'])\n",
    "ax.set_ylabel('Forecast Error (Actual − Predicted)')\n",
    "ax.set_title('Residual Distribution for Full Model')\n",
    "plt.tight_layout()\n",
    "plt.show()"
   ]
  },
  {
   "cell_type": "code",
   "execution_count": 54,
   "metadata": {},
   "outputs": [
    {
     "data": {
      "image/png": "[encoded data removed]",
      "text/plain": [
       "<Figure size 1000x400 with 1 Axes>"
      ]
     },
     "metadata": {},
     "output_type": "display_data"
    }
   ],
   "source": [
    "import matplotlib.pyplot as plt\n",
    "import pandas as pd\n",
    "\n",
    "# 1) Build a DataFrame of residuals + dates, then sort chronologically\n",
    "df_err = pd.DataFrame({\n",
    "    'Date': pd.to_datetime(df_nest.loc[y_te.index, 'Date'], format='%Y/%m'),\n",
    "    'Residual': (y_te - y_pred_full).values\n",
    "}).sort_values('Date')\n",
    "\n",
    "dates_sorted = df_err['Date']\n",
    "resid_sorted = df_err['Residual']\n",
    "\n",
    "# 2) Compute a centered rolling mean (5‐meeting window)\n",
    "rolling = resid_sorted.rolling(window=5, center=True, min_periods=1).mean()\n",
    "\n",
    "# 3) Plot raw residuals, rolling mean, and shade shock periods\n",
    "fig, ax = plt.subplots(figsize=(10, 4))\n",
    "\n",
    "# Raw + smoothed residuals\n",
    "ax.plot(dates_sorted, resid_sorted, alpha=0.3, label='Raw residuals')\n",
    "ax.plot(dates_sorted, rolling,   color='orange', linewidth=2, label='5-meeting rolling mean')\n",
    "\n",
    "# Shade Global Financial Crisis: Sep 2008 – Jun 2009\n",
    "ax.axvspan(pd.Timestamp('2008-03-01'), pd.Timestamp('2009-01-01'),\n",
    "           color='gray', alpha=0.2, label='GFC (2008–09)')\n",
    "\n",
    "# Shade COVID-19 shock: Feb 2020 – Jun 2020\n",
    "ax.axvspan(pd.Timestamp('2020-02-01'), pd.Timestamp('2020-06-01'),\n",
    "           color='red', alpha=0.1, label='COVID-19 (2020)')\n",
    "\n",
    "# Zero line and labels\n",
    "ax.axhline(0, color='black', linestyle='--', linewidth=1)\n",
    "ax.set_xlabel('Date')\n",
    "ax.set_ylabel('Residual (Actual − Predicted)')\n",
    "ax.set_title('Residuals Over Time with Shock Period Highlighting')\n",
    "ax.legend(loc='upper left')\n",
    "\n",
    "plt.xticks(rotation=45)\n",
    "plt.tight_layout()\n",
    "plt.show()"
   ]
  },
  {
   "cell_type": "code",
   "execution_count": 57,
   "metadata": {},
   "outputs": [
    {
     "name": "stdout",
     "output_type": "stream",
     "text": [
      "Top 10 Largest Errors:\n",
      "        Date    Actual  Predicted  Residual  AbsError\n",
      "95   2010/11  0.440111   0.319138  0.120973  0.120973\n",
      "104  2011/12  0.618261   0.559392  0.058869  0.058869\n",
      "90   2010/05  0.361865   0.312095  0.049770  0.049770\n",
      "171  2020/02  0.562171   0.516097  0.046074  0.046074\n",
      "70   2008/03  0.602944   0.562331  0.040614  0.040614\n",
      "11   2001/04  0.052621   0.091009 -0.038388  0.038388\n",
      "186  2021/12  0.850436   0.885930 -0.035494  0.035494\n",
      "151  2017/09  0.560016   0.528485  0.031531  0.031531\n",
      "146  2017/02  0.530958   0.500301  0.030657  0.030657\n",
      "191  2022/07  0.959282   0.929598  0.029685  0.029685\n"
     ]
    }
   ],
   "source": [
    "import pandas as pd\n",
    "import numpy as np\n",
    "\n",
    "# 1) Compute residuals on the test set\n",
    "residuals = y_te - y_pred_full\n",
    "\n",
    "# 2) Build a DataFrame that ties together Date, cluster, actual, predicted, and error\n",
    "error_df = pd.DataFrame({\n",
    "    'Date':        df_nest.loc[y_te.index, 'Date'],        # e.g. \"YYYY/MM\"\n",
    "    'Actual':      y_te.values,\n",
    "    'Predicted':   y_pred_full,\n",
    "    'Residual':    residuals.values\n",
    "}, index=y_te.index)\n",
    "\n",
    "# 3) Compute absolute error and sort\n",
    "error_df['AbsError'] = np.abs(error_df['Residual'])\n",
    "top10 = error_df.sort_values('AbsError', ascending=False).head(10)\n",
    "\n",
    "print(\"Top 10 Largest Errors:\")\n",
    "print(top10[['Date','Actual','Predicted','Residual','AbsError']])"
   ]
  },
  {
   "cell_type": "code",
   "execution_count": 58,
   "metadata": {},
   "outputs": [
    {
     "data": {
      "image/png": "[encoded data removed]",
      "text/plain": [
       "<Figure size 1500x800 with 6 Axes>"
      ]
     },
     "metadata": {},
     "output_type": "display_data"
    },
    {
     "name": "stdout",
     "output_type": "stream",
     "text": [
      "Pearson correlations:\n",
      "  net_sent    : r = -0.202, p = 0.379\n",
      "  sent_delta_5: r = -0.162, p = 0.483\n",
      "  sent_vol_5  : r = 0.161, p = 0.486\n",
      "  neg_score   : r = 0.188, p = 0.415\n",
      "  pos_score   : r = -0.188, p = 0.414\n"
     ]
    }
   ],
   "source": [
    "import matplotlib.pyplot as plt\n",
    "import seaborn as sns\n",
    "import numpy as np\n",
    "from scipy.stats import pearsonr\n",
    "\n",
    "# 1) Reconstruct residuals\n",
    "residuals = y_te - y_pred_full\n",
    "\n",
    "# 2) Put residuals and sentiment into a DataFrame\n",
    "err_sent = pd.DataFrame({\n",
    "    'residual':   residuals.values,\n",
    "    'net_sent':   df_nest.loc[y_te.index, 'net_sent'].values,\n",
    "    'sent_delta_5': df_nest.loc[y_te.index, 'sent_delta_5'].values,\n",
    "    'sent_vol_5':  df_nest.loc[y_te.index, 'sent_vol_5'].values,\n",
    "    'neg_score':   df_nest.loc[y_te.index, 'neg_score'].values,\n",
    "    'pos_score':   df_nest.loc[y_te.index, 'pos_score'].values,\n",
    "})\n",
    "\n",
    "# 3) Pairwise scatter + regression line\n",
    "fig, axes = plt.subplots(2, 3, figsize=(15, 8))\n",
    "for ax, feat in zip(axes.flat, ['net_sent','sent_delta_5','sent_vol_5','neg_score','pos_score']):\n",
    "    sns.regplot(x=feat, y='residual', data=err_sent, ax=ax, scatter_kws={'alpha':0.6})\n",
    "    ax.set_title(f'Residual vs. {feat}')\n",
    "plt.tight_layout()\n",
    "plt.show()\n",
    "\n",
    "# 4) Compute correlations\n",
    "print(\"Pearson correlations:\")\n",
    "for feat in ['net_sent','sent_delta_5','sent_vol_5','neg_score','pos_score']:\n",
    "    r, p = pearsonr(err_sent['residual'], err_sent[feat])\n",
    "    print(f\"  {feat:12s}: r = {r:.3f}, p = {p:.3f}\")"
   ]
  }
 ],
 "metadata": {
  "kernelspec": {
   "display_name": "base",
   "language": "python",
   "name": "python3"
  },
  "language_info": {
   "codemirror_mode": {
    "name": "ipython",
    "version": 3
   },
   "file_extension": ".py",
   "mimetype": "text/x-python",
   "name": "python",
   "nbconvert_exporter": "python",
   "pygments_lexer": "ipython3",
   "version": "3.12.2"
  }
 },
 "nbformat": 4,
 "nbformat_minor": 2
}
